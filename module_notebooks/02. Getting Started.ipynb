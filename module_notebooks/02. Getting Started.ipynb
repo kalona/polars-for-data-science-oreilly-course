{
 "cells": [
  {
   "cell_type": "markdown",
   "id": "1653908d",
   "metadata": {},
   "source": [
    "# 02. Getting Started"
   ]
  },
  {
   "cell_type": "markdown",
   "id": "97a37bab",
   "metadata": {},
   "source": [
    "The goal of this module is to create `polars` dataframes in memory and by loading data; become familiar with `polars`'s lazy-mode versus in-memory mode; understand how to leverage `polars`'s query optimization; and become familiar with how to generate some basic summary statistics about a dataframe.\n",
    "\n",
    "If you had any issues installing the environment, please write me directly: benfeifke@gmail.com."
   ]
  },
  {
   "cell_type": "markdown",
   "id": "cb12106c-7b18-4b87-a22e-02545d9346c3",
   "metadata": {},
   "source": [
    "Note: to set up your environment, head over to the Github page for this course: https://github.com/bfeif/polars-for-data-science-oreilly-course."
   ]
  },
  {
   "cell_type": "markdown",
   "id": "1109c3fe",
   "metadata": {},
   "source": [
    "## 2.0. Imports"
   ]
  },
  {
   "cell_type": "markdown",
   "id": "112f93cb",
   "metadata": {},
   "source": [
    "Import `polars`."
   ]
  },
  {
   "cell_type": "code",
   "execution_count": 1,
   "id": "3db2bd08",
   "metadata": {},
   "outputs": [],
   "source": [
    "import polars as pl"
   ]
  },
  {
   "cell_type": "markdown",
   "id": "dff3475d",
   "metadata": {},
   "source": [
    "## 2.1. Creating a `pl.DataFrame`"
   ]
  },
  {
   "cell_type": "markdown",
   "id": "7c8396d2",
   "metadata": {},
   "source": [
    "The main entrypoint to any work we'll do in `polars` is the dataframe. If you're familiar with creating a dataframe in `pandas`, creating a dataframe in `polars` is very similar:"
   ]
  },
  {
   "cell_type": "code",
   "execution_count": 2,
   "id": "6de06f5a",
   "metadata": {},
   "outputs": [],
   "source": [
    "scratch_df = pl.DataFrame(\n",
    "    {\n",
    "        \"customer_id\": [\n",
    "            1,\n",
    "            2,\n",
    "            3,\n",
    "        ],\n",
    "        \"first_name\": [\n",
    "            \"dan\",\n",
    "            \"stan\",\n",
    "            \"jan\",\n",
    "        ],\n",
    "        \"last_name\": [\n",
    "            \"hanson\",\n",
    "            \"flanson\",\n",
    "            \"ransom\",\n",
    "        ],\n",
    "    }\n",
    ")"
   ]
  },
  {
   "cell_type": "markdown",
   "id": "2d8dae31",
   "metadata": {},
   "source": [
    "In a Jupyter Notebook, we can easily display the dataframe:"
   ]
  },
  {
   "cell_type": "code",
   "execution_count": null,
   "id": "c69cf1d8",
   "metadata": {},
   "outputs": [
    {
     "data": {
      "text/html": [
       "<div><style>\n",
       ".dataframe > thead > tr,\n",
       ".dataframe > tbody > tr {\n",
       "  text-align: right;\n",
       "  white-space: pre-wrap;\n",
       "}\n",
       "</style>\n",
       "<small>shape: (3, 3)</small><table border=\"1\" class=\"dataframe\"><thead><tr><th>customer_id</th><th>first_name</th><th>last_name</th></tr><tr><td>i64</td><td>str</td><td>str</td></tr></thead><tbody><tr><td>1</td><td>&quot;dan&quot;</td><td>&quot;hanson&quot;</td></tr><tr><td>2</td><td>&quot;stan&quot;</td><td>&quot;flanson&quot;</td></tr><tr><td>3</td><td>&quot;jan&quot;</td><td>&quot;ransom&quot;</td></tr></tbody></table></div>"
      ],
      "text/plain": [
       "shape: (3, 3)\n",
       "┌─────────────┬────────────┬───────────┐\n",
       "│ customer_id ┆ first_name ┆ last_name │\n",
       "│ ---         ┆ ---        ┆ ---       │\n",
       "│ i64         ┆ str        ┆ str       │\n",
       "╞═════════════╪════════════╪═══════════╡\n",
       "│ 1           ┆ dan        ┆ hanson    │\n",
       "│ 2           ┆ stan       ┆ flanson   │\n",
       "│ 3           ┆ jan        ┆ ransom    │\n",
       "└─────────────┴────────────┴───────────┘"
      ]
     },
     "metadata": {},
     "output_type": "display_data"
    }
   ],
   "source": [
    "display(scratch_df)"
   ]
  },
  {
   "cell_type": "markdown",
   "id": "2353a618",
   "metadata": {},
   "source": [
    "Or `polars` offers a great output style if we're printing it as if we're in the console:"
   ]
  },
  {
   "cell_type": "code",
   "execution_count": 4,
   "id": "59235361",
   "metadata": {},
   "outputs": [
    {
     "name": "stdout",
     "output_type": "stream",
     "text": [
      "shape: (3, 3)\n",
      "┌─────────────┬────────────┬───────────┐\n",
      "│ customer_id ┆ first_name ┆ last_name │\n",
      "│ ---         ┆ ---        ┆ ---       │\n",
      "│ i64         ┆ str        ┆ str       │\n",
      "╞═════════════╪════════════╪═══════════╡\n",
      "│ 1           ┆ dan        ┆ hanson    │\n",
      "│ 2           ┆ stan       ┆ flanson   │\n",
      "│ 3           ┆ jan        ┆ ransom    │\n",
      "└─────────────┴────────────┴───────────┘\n"
     ]
    }
   ],
   "source": [
    "print(scratch_df)"
   ]
  },
  {
   "cell_type": "markdown",
   "id": "581aa162",
   "metadata": {},
   "source": [
    "We already see some cool things, like the way that `polars` explicitly tells us the shape and dtypes of the dataframe when we print it. But you didn't come here for fake data, did you? Let's load some real data!"
   ]
  },
  {
   "cell_type": "markdown",
   "id": "368150ba",
   "metadata": {},
   "source": [
    "## 2.2. Reading Data From `csv`"
   ]
  },
  {
   "cell_type": "markdown",
   "id": "367c31a1",
   "metadata": {},
   "source": [
    "The data used throughout this course will be data from taxi rides in New York City, offered publicly by the city: https://www.nyc.gov/site/tlc/about/tlc-trip-record-data.page (see a detailed description of the schema of this dataset [here](https://www.nyc.gov/assets/tlc/downloads/pdf/data_dictionary_trip_records_yellow.pdf)).\n",
    "\n",
    "There are many ways to load data in `polars`: from `csv` files, `parquet` files, `xlsx` files, or even directly from databases. We'll start with a `csv`, with the function `polars.read_csv()`."
   ]
  },
  {
   "cell_type": "code",
   "execution_count": 2,
   "id": "0214b00a",
   "metadata": {},
   "outputs": [
    {
     "name": "stdout",
     "output_type": "stream",
     "text": [
      "File /data/datasets/data/yellow_tripdata_2024-03.parquet already exists, skipping download.\n"
     ]
    }
   ],
   "source": [
    "import requests\n",
    "import os\n",
    "\n",
    "url = \"https://d37ci6vzurychx.cloudfront.net/trip-data/yellow_tripdata_2024-03.parquet\"\n",
    "local_parquet = \"/data/datasets/data/yellow_tripdata_2024-03.parquet\"\n",
    "local_csv = \"/data/datasets/data/yellow_tripdata_2024-03.csv\"\n",
    "\n",
    "if not os.path.exists(local_parquet):\n",
    "    response = requests.get(url)\n",
    "    response.raise_for_status()  # Raise an exception for bad status codes (4xx or 5xx)\n",
    "\n",
    "    with open(local_parquet, \"wb\") as file:\n",
    "        file.write(response.content)\n",
    "    print(f\"Downloaded {local_parquet}\")\n",
    "else:\n",
    "    print(f\"File {local_parquet} already exists, skipping download.\")\n"
   ]
  },
  {
   "cell_type": "code",
   "execution_count": 3,
   "id": "0924acac",
   "metadata": {},
   "outputs": [],
   "source": [
    "df_parquet = pl.read_parquet(local_parquet)"
   ]
  },
  {
   "cell_type": "code",
   "execution_count": 14,
   "id": "e39ceea6",
   "metadata": {},
   "outputs": [
    {
     "data": {
      "text/html": [
       "<div><style>\n",
       ".dataframe > thead > tr,\n",
       ".dataframe > tbody > tr {\n",
       "  text-align: right;\n",
       "  white-space: pre-wrap;\n",
       "}\n",
       "</style>\n",
       "<small>shape: (5, 19)</small><table border=\"1\" class=\"dataframe\"><thead><tr><th>VendorID</th><th>tpep_pickup_datetime</th><th>tpep_dropoff_datetime</th><th>passenger_count</th><th>trip_distance</th><th>RatecodeID</th><th>store_and_fwd_flag</th><th>PULocationID</th><th>DOLocationID</th><th>payment_type</th><th>fare_amount</th><th>extra</th><th>mta_tax</th><th>tip_amount</th><th>tolls_amount</th><th>improvement_surcharge</th><th>total_amount</th><th>congestion_surcharge</th><th>Airport_fee</th></tr><tr><td>i32</td><td>datetime[ns]</td><td>datetime[ns]</td><td>i64</td><td>f64</td><td>i64</td><td>str</td><td>i32</td><td>i32</td><td>i64</td><td>f64</td><td>f64</td><td>f64</td><td>f64</td><td>f64</td><td>f64</td><td>f64</td><td>f64</td><td>f64</td></tr></thead><tbody><tr><td>1</td><td>2024-03-01 00:18:51</td><td>2024-03-01 00:23:45</td><td>0</td><td>1.3</td><td>1</td><td>&quot;N&quot;</td><td>142</td><td>239</td><td>1</td><td>8.6</td><td>3.5</td><td>0.5</td><td>2.7</td><td>0.0</td><td>1.0</td><td>16.3</td><td>2.5</td><td>0.0</td></tr><tr><td>1</td><td>2024-03-01 00:26:00</td><td>2024-03-01 00:29:06</td><td>0</td><td>1.1</td><td>1</td><td>&quot;N&quot;</td><td>238</td><td>24</td><td>1</td><td>7.2</td><td>3.5</td><td>0.5</td><td>3.0</td><td>0.0</td><td>1.0</td><td>15.2</td><td>2.5</td><td>0.0</td></tr><tr><td>2</td><td>2024-03-01 00:09:22</td><td>2024-03-01 00:15:24</td><td>1</td><td>0.86</td><td>1</td><td>&quot;N&quot;</td><td>263</td><td>75</td><td>2</td><td>7.9</td><td>1.0</td><td>0.5</td><td>0.0</td><td>0.0</td><td>1.0</td><td>10.4</td><td>0.0</td><td>0.0</td></tr><tr><td>2</td><td>2024-03-01 00:33:45</td><td>2024-03-01 00:39:34</td><td>1</td><td>0.82</td><td>1</td><td>&quot;N&quot;</td><td>164</td><td>162</td><td>1</td><td>7.9</td><td>1.0</td><td>0.5</td><td>1.29</td><td>0.0</td><td>1.0</td><td>14.19</td><td>2.5</td><td>0.0</td></tr><tr><td>1</td><td>2024-03-01 00:05:43</td><td>2024-03-01 00:26:22</td><td>0</td><td>4.9</td><td>1</td><td>&quot;N&quot;</td><td>263</td><td>7</td><td>2</td><td>25.4</td><td>3.5</td><td>0.5</td><td>0.0</td><td>0.0</td><td>1.0</td><td>30.4</td><td>2.5</td><td>0.0</td></tr></tbody></table></div>"
      ],
      "text/plain": [
       "shape: (5, 19)\n",
       "┌──────────┬───────────┬───────────┬───────────┬───┬───────────┬───────────┬───────────┬───────────┐\n",
       "│ VendorID ┆ tpep_pick ┆ tpep_drop ┆ passenger ┆ … ┆ improveme ┆ total_amo ┆ congestio ┆ Airport_f │\n",
       "│ ---      ┆ up_dateti ┆ off_datet ┆ _count    ┆   ┆ nt_surcha ┆ unt       ┆ n_surchar ┆ ee        │\n",
       "│ i32      ┆ me        ┆ ime       ┆ ---       ┆   ┆ rge       ┆ ---       ┆ ge        ┆ ---       │\n",
       "│          ┆ ---       ┆ ---       ┆ i64       ┆   ┆ ---       ┆ f64       ┆ ---       ┆ f64       │\n",
       "│          ┆ datetime[ ┆ datetime[ ┆           ┆   ┆ f64       ┆           ┆ f64       ┆           │\n",
       "│          ┆ ns]       ┆ ns]       ┆           ┆   ┆           ┆           ┆           ┆           │\n",
       "╞══════════╪═══════════╪═══════════╪═══════════╪═══╪═══════════╪═══════════╪═══════════╪═══════════╡\n",
       "│ 1        ┆ 2024-03-0 ┆ 2024-03-0 ┆ 0         ┆ … ┆ 1.0       ┆ 16.3      ┆ 2.5       ┆ 0.0       │\n",
       "│          ┆ 1         ┆ 1         ┆           ┆   ┆           ┆           ┆           ┆           │\n",
       "│          ┆ 00:18:51  ┆ 00:23:45  ┆           ┆   ┆           ┆           ┆           ┆           │\n",
       "│ 1        ┆ 2024-03-0 ┆ 2024-03-0 ┆ 0         ┆ … ┆ 1.0       ┆ 15.2      ┆ 2.5       ┆ 0.0       │\n",
       "│          ┆ 1         ┆ 1         ┆           ┆   ┆           ┆           ┆           ┆           │\n",
       "│          ┆ 00:26:00  ┆ 00:29:06  ┆           ┆   ┆           ┆           ┆           ┆           │\n",
       "│ 2        ┆ 2024-03-0 ┆ 2024-03-0 ┆ 1         ┆ … ┆ 1.0       ┆ 10.4      ┆ 0.0       ┆ 0.0       │\n",
       "│          ┆ 1         ┆ 1         ┆           ┆   ┆           ┆           ┆           ┆           │\n",
       "│          ┆ 00:09:22  ┆ 00:15:24  ┆           ┆   ┆           ┆           ┆           ┆           │\n",
       "│ 2        ┆ 2024-03-0 ┆ 2024-03-0 ┆ 1         ┆ … ┆ 1.0       ┆ 14.19     ┆ 2.5       ┆ 0.0       │\n",
       "│          ┆ 1         ┆ 1         ┆           ┆   ┆           ┆           ┆           ┆           │\n",
       "│          ┆ 00:33:45  ┆ 00:39:34  ┆           ┆   ┆           ┆           ┆           ┆           │\n",
       "│ 1        ┆ 2024-03-0 ┆ 2024-03-0 ┆ 0         ┆ … ┆ 1.0       ┆ 30.4      ┆ 2.5       ┆ 0.0       │\n",
       "│          ┆ 1         ┆ 1         ┆           ┆   ┆           ┆           ┆           ┆           │\n",
       "│          ┆ 00:05:43  ┆ 00:26:22  ┆           ┆   ┆           ┆           ┆           ┆           │\n",
       "└──────────┴───────────┴───────────┴───────────┴───┴───────────┴───────────┴───────────┴───────────┘"
      ]
     },
     "execution_count": 14,
     "metadata": {},
     "output_type": "execute_result"
    }
   ],
   "source": [
    "df_parquet.head()"
   ]
  },
  {
   "cell_type": "code",
   "execution_count": 22,
   "id": "732d0946",
   "metadata": {},
   "outputs": [
    {
     "name": "stdout",
     "output_type": "stream",
     "text": [
      "-rw-rw-r-- 1 ubuntu ubuntu 412M Dec 29 00:25 /data/datasets/data/yellow_tripdata_2024-03.csv\n",
      "-rw-rw-r-- 1 ubuntu ubuntu  58M Nov 21 14:08 /data/datasets/data/yellow_tripdata_2024-03.parquet\n"
     ]
    }
   ],
   "source": [
    "!ls -lh /data/datasets/data/yellow_tripdata_2024-03.*"
   ]
  },
  {
   "cell_type": "markdown",
   "id": "d0712e0c",
   "metadata": {},
   "source": [
    "Convert downloaded parquet file to csv in order to follow the lesson"
   ]
  },
  {
   "cell_type": "code",
   "execution_count": 21,
   "id": "a2b1b4ac",
   "metadata": {},
   "outputs": [],
   "source": [
    "df_parquet.write_csv(local_csv, datetime_format=\"%Y-%m-%d %H:%M:%S.%9f\")"
   ]
  },
  {
   "cell_type": "code",
   "execution_count": 26,
   "id": "2d24f437",
   "metadata": {},
   "outputs": [
    {
     "name": "stdout",
     "output_type": "stream",
     "text": [
      "2,2024-03-31 23:09:55.000000000,2024-03-31 23:32:17.000000000,,6.26,,,4,151,0,30.44,0.0,0.5,6.89,0.0,1.0,41.33,,\n",
      "1,2024-03-31 23:05:17.000000000,2024-03-31 23:32:40.000000000,,4.4,,,186,261,0,22.14,0.0,0.5,0.0,0.0,1.0,26.14,,\n",
      "2,2024-03-31 23:11:43.000000000,2024-03-31 23:21:35.000000000,,1.54,,,234,233,0,11.3,0.0,0.5,0.0,0.0,1.0,15.3,,\n",
      "2,2024-03-31 23:07:00.000000000,2024-03-31 23:12:00.000000000,,0.81,,,17,217,0,8.33,0.0,0.5,0.0,0.0,1.0,9.83,,\n",
      "1,2024-03-31 23:16:13.000000000,2024-03-31 23:26:53.000000000,,2.7,,,166,142,0,13.42,0.0,0.5,0.0,0.0,1.0,17.42,,\n",
      "2,2024-03-31 23:16:45.000000000,2024-03-31 23:29:20.000000000,,4.27,,,130,218,0,14.27,0.0,0.5,0.0,0.0,1.0,15.77,,\n",
      "1,2024-03-31 23:29:28.000000000,2024-03-31 23:43:47.000000000,,0.0,,,79,100,0,14.0,1.0,0.5,3.8,0.0,1.0,24.8,,\n",
      "2,2024-03-31 23:15:00.000000000,2024-03-31 23:47:29.000000000,,6.44,,,63,181,0,30.0,0.0,0.5,0.0,0.0,1.0,31.5,,\n",
      "2,2024-03-31 23:27:53.000000000,2024-03-31 23:45:44.000000000,,3.88,,,161,148,0,22.32,0.0,0.5,5.26,0.0,1.0,31.58,,\n",
      "2,2024-03-31 23:10:50.000000000,2024-03-31 23:31:59.000000000,,7.39,,,95,7,0,31.47,0.0,0.5,0.0,0.0,1.0,32.97,,\n"
     ]
    }
   ],
   "source": [
    "!tail {local_csv}"
   ]
  },
  {
   "cell_type": "code",
   "execution_count": 32,
   "id": "5c29ce91",
   "metadata": {
    "scrolled": true
   },
   "outputs": [],
   "source": [
    "df_csv = pl.read_csv(\n",
    "    local_csv,\n",
    "    use_pyarrow=True,\n",
    "    try_parse_dates=True,\n",
    ")"
   ]
  },
  {
   "cell_type": "markdown",
   "id": "db80743b",
   "metadata": {},
   "source": [
    "We can take a quick look at the data with a call to `.head()`:"
   ]
  },
  {
   "cell_type": "code",
   "execution_count": 33,
   "id": "364c50e5",
   "metadata": {},
   "outputs": [
    {
     "data": {
      "text/plain": [
       "Schema([('VendorID', Int32),\n",
       "        ('tpep_pickup_datetime', Datetime(time_unit='ns', time_zone=None)),\n",
       "        ('tpep_dropoff_datetime', Datetime(time_unit='ns', time_zone=None)),\n",
       "        ('passenger_count', Int64),\n",
       "        ('trip_distance', Float64),\n",
       "        ('RatecodeID', Int64),\n",
       "        ('store_and_fwd_flag', String),\n",
       "        ('PULocationID', Int32),\n",
       "        ('DOLocationID', Int32),\n",
       "        ('payment_type', Int64),\n",
       "        ('fare_amount', Float64),\n",
       "        ('extra', Float64),\n",
       "        ('mta_tax', Float64),\n",
       "        ('tip_amount', Float64),\n",
       "        ('tolls_amount', Float64),\n",
       "        ('improvement_surcharge', Float64),\n",
       "        ('total_amount', Float64),\n",
       "        ('congestion_surcharge', Float64),\n",
       "        ('Airport_fee', Float64)])"
      ]
     },
     "execution_count": 33,
     "metadata": {},
     "output_type": "execute_result"
    }
   ],
   "source": [
    "df_parquet.schema"
   ]
  },
  {
   "cell_type": "markdown",
   "id": "f8460303",
   "metadata": {},
   "source": [
    "When using \"try_parse_dates=True\" we get `us` for Datetime columns, while \"use_pyarrow=True\" give us `ns`.\n",
    "\n",
    "With both of these set to False we get String!!!"
   ]
  },
  {
   "cell_type": "code",
   "execution_count": 34,
   "id": "6464ebfc",
   "metadata": {},
   "outputs": [
    {
     "data": {
      "text/plain": [
       "Schema([('VendorID', Int64),\n",
       "        ('tpep_pickup_datetime', Datetime(time_unit='ns', time_zone=None)),\n",
       "        ('tpep_dropoff_datetime', Datetime(time_unit='ns', time_zone=None)),\n",
       "        ('passenger_count', Int64),\n",
       "        ('trip_distance', Float64),\n",
       "        ('RatecodeID', Int64),\n",
       "        ('store_and_fwd_flag', String),\n",
       "        ('PULocationID', Int64),\n",
       "        ('DOLocationID', Int64),\n",
       "        ('payment_type', Int64),\n",
       "        ('fare_amount', Float64),\n",
       "        ('extra', Float64),\n",
       "        ('mta_tax', Float64),\n",
       "        ('tip_amount', Float64),\n",
       "        ('tolls_amount', Float64),\n",
       "        ('improvement_surcharge', Float64),\n",
       "        ('total_amount', Float64),\n",
       "        ('congestion_surcharge', Float64),\n",
       "        ('Airport_fee', Float64)])"
      ]
     },
     "execution_count": 34,
     "metadata": {},
     "output_type": "execute_result"
    }
   ],
   "source": [
    "df_csv.schema"
   ]
  },
  {
   "cell_type": "code",
   "execution_count": 14,
   "id": "61a2345e",
   "metadata": {},
   "outputs": [
    {
     "data": {
      "text/html": [
       "<div><style>\n",
       ".dataframe > thead > tr,\n",
       ".dataframe > tbody > tr {\n",
       "  text-align: right;\n",
       "  white-space: pre-wrap;\n",
       "}\n",
       "</style>\n",
       "<small>shape: (5, 19)</small><table border=\"1\" class=\"dataframe\"><thead><tr><th>VendorID</th><th>tpep_pickup_datetime</th><th>tpep_dropoff_datetime</th><th>passenger_count</th><th>trip_distance</th><th>RatecodeID</th><th>store_and_fwd_flag</th><th>PULocationID</th><th>DOLocationID</th><th>payment_type</th><th>fare_amount</th><th>extra</th><th>mta_tax</th><th>tip_amount</th><th>tolls_amount</th><th>improvement_surcharge</th><th>total_amount</th><th>congestion_surcharge</th><th>Airport_fee</th></tr><tr><td>i32</td><td>datetime[ns]</td><td>datetime[ns]</td><td>i64</td><td>f64</td><td>i64</td><td>str</td><td>i32</td><td>i32</td><td>i64</td><td>f64</td><td>f64</td><td>f64</td><td>f64</td><td>f64</td><td>f64</td><td>f64</td><td>f64</td><td>f64</td></tr></thead><tbody><tr><td>1</td><td>2024-03-01 00:18:51</td><td>2024-03-01 00:23:45</td><td>0</td><td>1.3</td><td>1</td><td>&quot;N&quot;</td><td>142</td><td>239</td><td>1</td><td>8.6</td><td>3.5</td><td>0.5</td><td>2.7</td><td>0.0</td><td>1.0</td><td>16.3</td><td>2.5</td><td>0.0</td></tr><tr><td>1</td><td>2024-03-01 00:26:00</td><td>2024-03-01 00:29:06</td><td>0</td><td>1.1</td><td>1</td><td>&quot;N&quot;</td><td>238</td><td>24</td><td>1</td><td>7.2</td><td>3.5</td><td>0.5</td><td>3.0</td><td>0.0</td><td>1.0</td><td>15.2</td><td>2.5</td><td>0.0</td></tr><tr><td>2</td><td>2024-03-01 00:09:22</td><td>2024-03-01 00:15:24</td><td>1</td><td>0.86</td><td>1</td><td>&quot;N&quot;</td><td>263</td><td>75</td><td>2</td><td>7.9</td><td>1.0</td><td>0.5</td><td>0.0</td><td>0.0</td><td>1.0</td><td>10.4</td><td>0.0</td><td>0.0</td></tr><tr><td>2</td><td>2024-03-01 00:33:45</td><td>2024-03-01 00:39:34</td><td>1</td><td>0.82</td><td>1</td><td>&quot;N&quot;</td><td>164</td><td>162</td><td>1</td><td>7.9</td><td>1.0</td><td>0.5</td><td>1.29</td><td>0.0</td><td>1.0</td><td>14.19</td><td>2.5</td><td>0.0</td></tr><tr><td>1</td><td>2024-03-01 00:05:43</td><td>2024-03-01 00:26:22</td><td>0</td><td>4.9</td><td>1</td><td>&quot;N&quot;</td><td>263</td><td>7</td><td>2</td><td>25.4</td><td>3.5</td><td>0.5</td><td>0.0</td><td>0.0</td><td>1.0</td><td>30.4</td><td>2.5</td><td>0.0</td></tr></tbody></table></div>"
      ],
      "text/plain": [
       "shape: (5, 19)\n",
       "┌──────────┬───────────┬───────────┬───────────┬───┬───────────┬───────────┬───────────┬───────────┐\n",
       "│ VendorID ┆ tpep_pick ┆ tpep_drop ┆ passenger ┆ … ┆ improveme ┆ total_amo ┆ congestio ┆ Airport_f │\n",
       "│ ---      ┆ up_dateti ┆ off_datet ┆ _count    ┆   ┆ nt_surcha ┆ unt       ┆ n_surchar ┆ ee        │\n",
       "│ i32      ┆ me        ┆ ime       ┆ ---       ┆   ┆ rge       ┆ ---       ┆ ge        ┆ ---       │\n",
       "│          ┆ ---       ┆ ---       ┆ i64       ┆   ┆ ---       ┆ f64       ┆ ---       ┆ f64       │\n",
       "│          ┆ datetime[ ┆ datetime[ ┆           ┆   ┆ f64       ┆           ┆ f64       ┆           │\n",
       "│          ┆ ns]       ┆ ns]       ┆           ┆   ┆           ┆           ┆           ┆           │\n",
       "╞══════════╪═══════════╪═══════════╪═══════════╪═══╪═══════════╪═══════════╪═══════════╪═══════════╡\n",
       "│ 1        ┆ 2024-03-0 ┆ 2024-03-0 ┆ 0         ┆ … ┆ 1.0       ┆ 16.3      ┆ 2.5       ┆ 0.0       │\n",
       "│          ┆ 1         ┆ 1         ┆           ┆   ┆           ┆           ┆           ┆           │\n",
       "│          ┆ 00:18:51  ┆ 00:23:45  ┆           ┆   ┆           ┆           ┆           ┆           │\n",
       "│ 1        ┆ 2024-03-0 ┆ 2024-03-0 ┆ 0         ┆ … ┆ 1.0       ┆ 15.2      ┆ 2.5       ┆ 0.0       │\n",
       "│          ┆ 1         ┆ 1         ┆           ┆   ┆           ┆           ┆           ┆           │\n",
       "│          ┆ 00:26:00  ┆ 00:29:06  ┆           ┆   ┆           ┆           ┆           ┆           │\n",
       "│ 2        ┆ 2024-03-0 ┆ 2024-03-0 ┆ 1         ┆ … ┆ 1.0       ┆ 10.4      ┆ 0.0       ┆ 0.0       │\n",
       "│          ┆ 1         ┆ 1         ┆           ┆   ┆           ┆           ┆           ┆           │\n",
       "│          ┆ 00:09:22  ┆ 00:15:24  ┆           ┆   ┆           ┆           ┆           ┆           │\n",
       "│ 2        ┆ 2024-03-0 ┆ 2024-03-0 ┆ 1         ┆ … ┆ 1.0       ┆ 14.19     ┆ 2.5       ┆ 0.0       │\n",
       "│          ┆ 1         ┆ 1         ┆           ┆   ┆           ┆           ┆           ┆           │\n",
       "│          ┆ 00:33:45  ┆ 00:39:34  ┆           ┆   ┆           ┆           ┆           ┆           │\n",
       "│ 1        ┆ 2024-03-0 ┆ 2024-03-0 ┆ 0         ┆ … ┆ 1.0       ┆ 30.4      ┆ 2.5       ┆ 0.0       │\n",
       "│          ┆ 1         ┆ 1         ┆           ┆   ┆           ┆           ┆           ┆           │\n",
       "│          ┆ 00:05:43  ┆ 00:26:22  ┆           ┆   ┆           ┆           ┆           ┆           │\n",
       "└──────────┴───────────┴───────────┴───────────┴───┴───────────┴───────────┴───────────┴───────────┘"
      ]
     },
     "execution_count": 14,
     "metadata": {},
     "output_type": "execute_result"
    }
   ],
   "source": [
    "df_parquet.head()"
   ]
  },
  {
   "cell_type": "code",
   "execution_count": 15,
   "id": "70ebf1a9",
   "metadata": {},
   "outputs": [
    {
     "data": {
      "text/html": [
       "<div><style>\n",
       ".dataframe > thead > tr,\n",
       ".dataframe > tbody > tr {\n",
       "  text-align: right;\n",
       "  white-space: pre-wrap;\n",
       "}\n",
       "</style>\n",
       "<small>shape: (5, 19)</small><table border=\"1\" class=\"dataframe\"><thead><tr><th>VendorID</th><th>tpep_pickup_datetime</th><th>tpep_dropoff_datetime</th><th>passenger_count</th><th>trip_distance</th><th>RatecodeID</th><th>store_and_fwd_flag</th><th>PULocationID</th><th>DOLocationID</th><th>payment_type</th><th>fare_amount</th><th>extra</th><th>mta_tax</th><th>tip_amount</th><th>tolls_amount</th><th>improvement_surcharge</th><th>total_amount</th><th>congestion_surcharge</th><th>Airport_fee</th></tr><tr><td>i64</td><td>datetime[μs]</td><td>datetime[μs]</td><td>i64</td><td>f64</td><td>i64</td><td>str</td><td>i64</td><td>i64</td><td>i64</td><td>f64</td><td>f64</td><td>f64</td><td>f64</td><td>f64</td><td>f64</td><td>f64</td><td>f64</td><td>f64</td></tr></thead><tbody><tr><td>1</td><td>2024-03-01 00:18:51</td><td>2024-03-01 00:23:45</td><td>0</td><td>1.3</td><td>1</td><td>&quot;N&quot;</td><td>142</td><td>239</td><td>1</td><td>8.6</td><td>3.5</td><td>0.5</td><td>2.7</td><td>0.0</td><td>1.0</td><td>16.3</td><td>2.5</td><td>0.0</td></tr><tr><td>1</td><td>2024-03-01 00:26:00</td><td>2024-03-01 00:29:06</td><td>0</td><td>1.1</td><td>1</td><td>&quot;N&quot;</td><td>238</td><td>24</td><td>1</td><td>7.2</td><td>3.5</td><td>0.5</td><td>3.0</td><td>0.0</td><td>1.0</td><td>15.2</td><td>2.5</td><td>0.0</td></tr><tr><td>2</td><td>2024-03-01 00:09:22</td><td>2024-03-01 00:15:24</td><td>1</td><td>0.86</td><td>1</td><td>&quot;N&quot;</td><td>263</td><td>75</td><td>2</td><td>7.9</td><td>1.0</td><td>0.5</td><td>0.0</td><td>0.0</td><td>1.0</td><td>10.4</td><td>0.0</td><td>0.0</td></tr><tr><td>2</td><td>2024-03-01 00:33:45</td><td>2024-03-01 00:39:34</td><td>1</td><td>0.82</td><td>1</td><td>&quot;N&quot;</td><td>164</td><td>162</td><td>1</td><td>7.9</td><td>1.0</td><td>0.5</td><td>1.29</td><td>0.0</td><td>1.0</td><td>14.19</td><td>2.5</td><td>0.0</td></tr><tr><td>1</td><td>2024-03-01 00:05:43</td><td>2024-03-01 00:26:22</td><td>0</td><td>4.9</td><td>1</td><td>&quot;N&quot;</td><td>263</td><td>7</td><td>2</td><td>25.4</td><td>3.5</td><td>0.5</td><td>0.0</td><td>0.0</td><td>1.0</td><td>30.4</td><td>2.5</td><td>0.0</td></tr></tbody></table></div>"
      ],
      "text/plain": [
       "shape: (5, 19)\n",
       "┌──────────┬───────────┬───────────┬───────────┬───┬───────────┬───────────┬───────────┬───────────┐\n",
       "│ VendorID ┆ tpep_pick ┆ tpep_drop ┆ passenger ┆ … ┆ improveme ┆ total_amo ┆ congestio ┆ Airport_f │\n",
       "│ ---      ┆ up_dateti ┆ off_datet ┆ _count    ┆   ┆ nt_surcha ┆ unt       ┆ n_surchar ┆ ee        │\n",
       "│ i64      ┆ me        ┆ ime       ┆ ---       ┆   ┆ rge       ┆ ---       ┆ ge        ┆ ---       │\n",
       "│          ┆ ---       ┆ ---       ┆ i64       ┆   ┆ ---       ┆ f64       ┆ ---       ┆ f64       │\n",
       "│          ┆ datetime[ ┆ datetime[ ┆           ┆   ┆ f64       ┆           ┆ f64       ┆           │\n",
       "│          ┆ μs]       ┆ μs]       ┆           ┆   ┆           ┆           ┆           ┆           │\n",
       "╞══════════╪═══════════╪═══════════╪═══════════╪═══╪═══════════╪═══════════╪═══════════╪═══════════╡\n",
       "│ 1        ┆ 2024-03-0 ┆ 2024-03-0 ┆ 0         ┆ … ┆ 1.0       ┆ 16.3      ┆ 2.5       ┆ 0.0       │\n",
       "│          ┆ 1         ┆ 1         ┆           ┆   ┆           ┆           ┆           ┆           │\n",
       "│          ┆ 00:18:51  ┆ 00:23:45  ┆           ┆   ┆           ┆           ┆           ┆           │\n",
       "│ 1        ┆ 2024-03-0 ┆ 2024-03-0 ┆ 0         ┆ … ┆ 1.0       ┆ 15.2      ┆ 2.5       ┆ 0.0       │\n",
       "│          ┆ 1         ┆ 1         ┆           ┆   ┆           ┆           ┆           ┆           │\n",
       "│          ┆ 00:26:00  ┆ 00:29:06  ┆           ┆   ┆           ┆           ┆           ┆           │\n",
       "│ 2        ┆ 2024-03-0 ┆ 2024-03-0 ┆ 1         ┆ … ┆ 1.0       ┆ 10.4      ┆ 0.0       ┆ 0.0       │\n",
       "│          ┆ 1         ┆ 1         ┆           ┆   ┆           ┆           ┆           ┆           │\n",
       "│          ┆ 00:09:22  ┆ 00:15:24  ┆           ┆   ┆           ┆           ┆           ┆           │\n",
       "│ 2        ┆ 2024-03-0 ┆ 2024-03-0 ┆ 1         ┆ … ┆ 1.0       ┆ 14.19     ┆ 2.5       ┆ 0.0       │\n",
       "│          ┆ 1         ┆ 1         ┆           ┆   ┆           ┆           ┆           ┆           │\n",
       "│          ┆ 00:33:45  ┆ 00:39:34  ┆           ┆   ┆           ┆           ┆           ┆           │\n",
       "│ 1        ┆ 2024-03-0 ┆ 2024-03-0 ┆ 0         ┆ … ┆ 1.0       ┆ 30.4      ┆ 2.5       ┆ 0.0       │\n",
       "│          ┆ 1         ┆ 1         ┆           ┆   ┆           ┆           ┆           ┆           │\n",
       "│          ┆ 00:05:43  ┆ 00:26:22  ┆           ┆   ┆           ┆           ┆           ┆           │\n",
       "└──────────┴───────────┴───────────┴───────────┴───┴───────────┴───────────┴───────────┴───────────┘"
      ]
     },
     "execution_count": 15,
     "metadata": {},
     "output_type": "execute_result"
    }
   ],
   "source": [
    "df_csv.head()"
   ]
  },
  {
   "cell_type": "markdown",
   "id": "54622dd0",
   "metadata": {},
   "source": [
    "One thing that's nice about the `polars.DataFrame.head()` operation is the way that it shows the datatype of every column, making the schema explicitly clear. In this case, we have 19 columns:\n",
    "1. `'VendorID'`: `Int64`\n",
    "2. `'tpep_pickup_datetime'`: `String`\n",
    "3. `'tpep_dropoff_datetime'`: `String`\n",
    "4. `'passenger_count'`: `Int64`\n",
    "5. `'trip_distance'`: `Float64`\n",
    "6. `'RatecodeID'`: `Int64`\n",
    "7. `'store_and_fwd_flag'`: `String`\n",
    "8. `'PULocationID'`: `Int64`\n",
    "9. `'DOLocationID'`: `Int64`\n",
    "10. `'payment_type'`: `Int64`\n",
    "11. `'fare_amount'`: `Float64`\n",
    "12. `'extra'`: `Float64`\n",
    "13. `'mta_tax'`: `Float64`\n",
    "14. `'tip_amount'`: `Float64`\n",
    "15. `'tolls_amount'`: `Float64`\n",
    "16. `'improvement_surcharge'`: `Float64`\n",
    "17. `'total_amount'`: `Float64`\n",
    "18. `'congestion_surcharge'`: `Float64`\n",
    "19. `'Airport_fee'`: `Float64`\n",
    "\n",
    "You might have noticed something strange--why are `tpep_pickup_datetime` and `tpep_dropoff_datetime` recognized as a `string` datatype? After all, they look a lot like datetimes...\n",
    "\n",
    "Well, `polars.read_csv()` doesn't do much to detect datatypes beyond strings and numbers upon reading in data... unless of course you ask it to! This can be done with a simple inclusion of the `schema_overrides` argument to the `polars.read_csv()` call:"
   ]
  },
  {
   "cell_type": "code",
   "execution_count": 35,
   "id": "09e8356f",
   "metadata": {},
   "outputs": [
    {
     "data": {
      "text/html": [
       "<div><style>\n",
       ".dataframe > thead > tr,\n",
       ".dataframe > tbody > tr {\n",
       "  text-align: right;\n",
       "  white-space: pre-wrap;\n",
       "}\n",
       "</style>\n",
       "<small>shape: (5, 19)</small><table border=\"1\" class=\"dataframe\"><thead><tr><th>VendorID</th><th>tpep_pickup_datetime</th><th>tpep_dropoff_datetime</th><th>passenger_count</th><th>trip_distance</th><th>RatecodeID</th><th>store_and_fwd_flag</th><th>PULocationID</th><th>DOLocationID</th><th>payment_type</th><th>fare_amount</th><th>extra</th><th>mta_tax</th><th>tip_amount</th><th>tolls_amount</th><th>improvement_surcharge</th><th>total_amount</th><th>congestion_surcharge</th><th>Airport_fee</th></tr><tr><td>i64</td><td>datetime[ns]</td><td>datetime[ns]</td><td>i64</td><td>f64</td><td>i64</td><td>str</td><td>i64</td><td>i64</td><td>i64</td><td>f64</td><td>f64</td><td>f64</td><td>f64</td><td>f64</td><td>f64</td><td>f64</td><td>f64</td><td>f64</td></tr></thead><tbody><tr><td>1</td><td>2024-03-01 00:18:51</td><td>2024-03-01 00:23:45</td><td>0</td><td>1.3</td><td>1</td><td>&quot;N&quot;</td><td>142</td><td>239</td><td>1</td><td>8.6</td><td>3.5</td><td>0.5</td><td>2.7</td><td>0.0</td><td>1.0</td><td>16.3</td><td>2.5</td><td>0.0</td></tr><tr><td>1</td><td>2024-03-01 00:26:00</td><td>2024-03-01 00:29:06</td><td>0</td><td>1.1</td><td>1</td><td>&quot;N&quot;</td><td>238</td><td>24</td><td>1</td><td>7.2</td><td>3.5</td><td>0.5</td><td>3.0</td><td>0.0</td><td>1.0</td><td>15.2</td><td>2.5</td><td>0.0</td></tr><tr><td>2</td><td>2024-03-01 00:09:22</td><td>2024-03-01 00:15:24</td><td>1</td><td>0.86</td><td>1</td><td>&quot;N&quot;</td><td>263</td><td>75</td><td>2</td><td>7.9</td><td>1.0</td><td>0.5</td><td>0.0</td><td>0.0</td><td>1.0</td><td>10.4</td><td>0.0</td><td>0.0</td></tr><tr><td>2</td><td>2024-03-01 00:33:45</td><td>2024-03-01 00:39:34</td><td>1</td><td>0.82</td><td>1</td><td>&quot;N&quot;</td><td>164</td><td>162</td><td>1</td><td>7.9</td><td>1.0</td><td>0.5</td><td>1.29</td><td>0.0</td><td>1.0</td><td>14.19</td><td>2.5</td><td>0.0</td></tr><tr><td>1</td><td>2024-03-01 00:05:43</td><td>2024-03-01 00:26:22</td><td>0</td><td>4.9</td><td>1</td><td>&quot;N&quot;</td><td>263</td><td>7</td><td>2</td><td>25.4</td><td>3.5</td><td>0.5</td><td>0.0</td><td>0.0</td><td>1.0</td><td>30.4</td><td>2.5</td><td>0.0</td></tr></tbody></table></div>"
      ],
      "text/plain": [
       "shape: (5, 19)\n",
       "┌──────────┬───────────┬───────────┬───────────┬───┬───────────┬───────────┬───────────┬───────────┐\n",
       "│ VendorID ┆ tpep_pick ┆ tpep_drop ┆ passenger ┆ … ┆ improveme ┆ total_amo ┆ congestio ┆ Airport_f │\n",
       "│ ---      ┆ up_dateti ┆ off_datet ┆ _count    ┆   ┆ nt_surcha ┆ unt       ┆ n_surchar ┆ ee        │\n",
       "│ i64      ┆ me        ┆ ime       ┆ ---       ┆   ┆ rge       ┆ ---       ┆ ge        ┆ ---       │\n",
       "│          ┆ ---       ┆ ---       ┆ i64       ┆   ┆ ---       ┆ f64       ┆ ---       ┆ f64       │\n",
       "│          ┆ datetime[ ┆ datetime[ ┆           ┆   ┆ f64       ┆           ┆ f64       ┆           │\n",
       "│          ┆ ns]       ┆ ns]       ┆           ┆   ┆           ┆           ┆           ┆           │\n",
       "╞══════════╪═══════════╪═══════════╪═══════════╪═══╪═══════════╪═══════════╪═══════════╪═══════════╡\n",
       "│ 1        ┆ 2024-03-0 ┆ 2024-03-0 ┆ 0         ┆ … ┆ 1.0       ┆ 16.3      ┆ 2.5       ┆ 0.0       │\n",
       "│          ┆ 1         ┆ 1         ┆           ┆   ┆           ┆           ┆           ┆           │\n",
       "│          ┆ 00:18:51  ┆ 00:23:45  ┆           ┆   ┆           ┆           ┆           ┆           │\n",
       "│ 1        ┆ 2024-03-0 ┆ 2024-03-0 ┆ 0         ┆ … ┆ 1.0       ┆ 15.2      ┆ 2.5       ┆ 0.0       │\n",
       "│          ┆ 1         ┆ 1         ┆           ┆   ┆           ┆           ┆           ┆           │\n",
       "│          ┆ 00:26:00  ┆ 00:29:06  ┆           ┆   ┆           ┆           ┆           ┆           │\n",
       "│ 2        ┆ 2024-03-0 ┆ 2024-03-0 ┆ 1         ┆ … ┆ 1.0       ┆ 10.4      ┆ 0.0       ┆ 0.0       │\n",
       "│          ┆ 1         ┆ 1         ┆           ┆   ┆           ┆           ┆           ┆           │\n",
       "│          ┆ 00:09:22  ┆ 00:15:24  ┆           ┆   ┆           ┆           ┆           ┆           │\n",
       "│ 2        ┆ 2024-03-0 ┆ 2024-03-0 ┆ 1         ┆ … ┆ 1.0       ┆ 14.19     ┆ 2.5       ┆ 0.0       │\n",
       "│          ┆ 1         ┆ 1         ┆           ┆   ┆           ┆           ┆           ┆           │\n",
       "│          ┆ 00:33:45  ┆ 00:39:34  ┆           ┆   ┆           ┆           ┆           ┆           │\n",
       "│ 1        ┆ 2024-03-0 ┆ 2024-03-0 ┆ 0         ┆ … ┆ 1.0       ┆ 30.4      ┆ 2.5       ┆ 0.0       │\n",
       "│          ┆ 1         ┆ 1         ┆           ┆   ┆           ┆           ┆           ┆           │\n",
       "│          ┆ 00:05:43  ┆ 00:26:22  ┆           ┆   ┆           ┆           ┆           ┆           │\n",
       "└──────────┴───────────┴───────────┴───────────┴───┴───────────┴───────────┴───────────┴───────────┘"
      ]
     },
     "execution_count": 35,
     "metadata": {},
     "output_type": "execute_result"
    }
   ],
   "source": [
    "df = pl.read_csv(\n",
    "    local_csv,\n",
    "    schema_overrides={\n",
    "        \"tpep_pickup_datetime\": pl.Datetime(\"ns\"),\n",
    "        \"tpep_dropoff_datetime\": pl.Datetime(\"ns\"),\n",
    "    },  # , \"passenger_count\": pl.Datetime}\n",
    ")\n",
    "df.head()"
   ]
  },
  {
   "cell_type": "markdown",
   "id": "024880c9",
   "metadata": {},
   "source": [
    "Now `\"tpep_pickup_datetime\"` and `\"tpep_dropoff_datetime\"` are parsed as datetimes, just as we wanted.\n",
    "\n",
    "This is one of the greatest strenghts of `polars`: easily managing data types and making them organized and transparent for users. This might not seem like a big deal right now, but when it comes time to do complex operations on columns, you'll very much appreciate this! But more on that in a few modules. For now, what else can we learn about this data?"
   ]
  },
  {
   "cell_type": "markdown",
   "id": "df1c1f27",
   "metadata": {},
   "source": [
    "We can see the shape of the whole dataframe with `pl.DataFrame.shape`:"
   ]
  },
  {
   "cell_type": "code",
   "execution_count": 17,
   "id": "ba12a9e1",
   "metadata": {},
   "outputs": [
    {
     "data": {
      "text/plain": [
       "(3582628, 19)"
      ]
     },
     "execution_count": 17,
     "metadata": {},
     "output_type": "execute_result"
    }
   ],
   "source": [
    "df.shape"
   ]
  },
  {
   "cell_type": "markdown",
   "id": "3b5c0e94",
   "metadata": {},
   "source": [
    "That's a lot of data! We can also see a brief set of summary statistics about the dataframe with `pl.DataFrame.describe()`:"
   ]
  },
  {
   "cell_type": "code",
   "execution_count": 38,
   "id": "e8dd2b11",
   "metadata": {},
   "outputs": [
    {
     "data": {
      "text/html": [
       "<div><style>\n",
       ".dataframe > thead > tr,\n",
       ".dataframe > tbody > tr {\n",
       "  text-align: right;\n",
       "  white-space: pre-wrap;\n",
       "}\n",
       "</style>\n",
       "<small>shape: (9, 20)</small><table border=\"1\" class=\"dataframe\"><thead><tr><th>statistic</th><th>VendorID</th><th>tpep_pickup_datetime</th><th>tpep_dropoff_datetime</th><th>passenger_count</th><th>trip_distance</th><th>RatecodeID</th><th>store_and_fwd_flag</th><th>PULocationID</th><th>DOLocationID</th><th>payment_type</th><th>fare_amount</th><th>extra</th><th>mta_tax</th><th>tip_amount</th><th>tolls_amount</th><th>improvement_surcharge</th><th>total_amount</th><th>congestion_surcharge</th><th>Airport_fee</th></tr><tr><td>str</td><td>f64</td><td>str</td><td>str</td><td>f64</td><td>f64</td><td>f64</td><td>str</td><td>f64</td><td>f64</td><td>f64</td><td>f64</td><td>f64</td><td>f64</td><td>f64</td><td>f64</td><td>f64</td><td>f64</td><td>f64</td><td>f64</td></tr></thead><tbody><tr><td>&quot;count&quot;</td><td>3.582628e6</td><td>&quot;3582628&quot;</td><td>&quot;3582628&quot;</td><td>3.156438e6</td><td>3.582628e6</td><td>3.156438e6</td><td>&quot;3582628&quot;</td><td>3.582628e6</td><td>3.582628e6</td><td>3.582628e6</td><td>3.582628e6</td><td>3.582628e6</td><td>3.582628e6</td><td>3.582628e6</td><td>3.582628e6</td><td>3.582628e6</td><td>3.582628e6</td><td>3.156438e6</td><td>3.156438e6</td></tr><tr><td>&quot;null_count&quot;</td><td>0.0</td><td>&quot;0&quot;</td><td>&quot;0&quot;</td><td>426190.0</td><td>0.0</td><td>426190.0</td><td>&quot;0&quot;</td><td>0.0</td><td>0.0</td><td>0.0</td><td>0.0</td><td>0.0</td><td>0.0</td><td>0.0</td><td>0.0</td><td>0.0</td><td>0.0</td><td>426190.0</td><td>426190.0</td></tr><tr><td>&quot;mean&quot;</td><td>1.758135</td><td>&quot;2024-03-16 13:36:21.144779&quot;</td><td>&quot;2024-03-16 13:53:01.505051&quot;</td><td>1.337625</td><td>4.517412</td><td>2.255811</td><td>null</td><td>164.210534</td><td>163.156381</td><td>1.076212</td><td>18.682512</td><td>1.363928</td><td>0.482816</td><td>3.190803</td><td>0.541547</td><td>0.974287</td><td>27.12057</td><td>2.25238</td><td>0.142545</td></tr><tr><td>&quot;std&quot;</td><td>0.431201</td><td>null</td><td>null</td><td>0.84003</td><td>302.411739</td><td>10.67769</td><td>null</td><td>64.470651</td><td>69.569802</td><td>0.64724</td><td>18.120599</td><td>1.808785</td><td>0.121177</td><td>4.032913</td><td>2.157286</td><td>0.223011</td><td>22.832365</td><td>0.837835</td><td>0.491772</td></tr><tr><td>&quot;min&quot;</td><td>1.0</td><td>&quot;2002-12-31 22:17:10&quot;</td><td>&quot;2002-12-31 22:42:24&quot;</td><td>0.0</td><td>0.0</td><td>1.0</td><td>&quot;&quot;</td><td>1.0</td><td>1.0</td><td>0.0</td><td>-800.0</td><td>-7.5</td><td>-0.5</td><td>-300.0</td><td>-84.3</td><td>-1.0</td><td>-800.99</td><td>-2.5</td><td>-1.75</td></tr><tr><td>&quot;25%&quot;</td><td>2.0</td><td>&quot;2024-03-08 20:50:42&quot;</td><td>&quot;2024-03-08 21:05:46&quot;</td><td>1.0</td><td>1.01</td><td>1.0</td><td>null</td><td>132.0</td><td>113.0</td><td>1.0</td><td>9.3</td><td>0.0</td><td>0.5</td><td>0.0</td><td>0.0</td><td>1.0</td><td>15.48</td><td>2.5</td><td>0.0</td></tr><tr><td>&quot;50%&quot;</td><td>2.0</td><td>&quot;2024-03-16 10:54:00&quot;</td><td>&quot;2024-03-16 11:08:28&quot;</td><td>1.0</td><td>1.75</td><td>1.0</td><td>null</td><td>161.0</td><td>162.0</td><td>1.0</td><td>13.5</td><td>1.0</td><td>0.5</td><td>2.52</td><td>0.0</td><td>1.0</td><td>20.52</td><td>2.5</td><td>0.0</td></tr><tr><td>&quot;75%&quot;</td><td>2.0</td><td>&quot;2024-03-23 23:37:26&quot;</td><td>&quot;2024-03-23 23:52:31&quot;</td><td>1.0</td><td>3.3</td><td>1.0</td><td>null</td><td>233.0</td><td>234.0</td><td>1.0</td><td>21.55</td><td>2.5</td><td>0.5</td><td>4.1</td><td>0.0</td><td>1.0</td><td>29.4</td><td>2.5</td><td>0.0</td></tr><tr><td>&quot;max&quot;</td><td>6.0</td><td>&quot;2024-04-01 00:34:55&quot;</td><td>&quot;2024-04-02 18:08:46&quot;</td><td>9.0</td><td>176836.3</td><td>99.0</td><td>&quot;Y&quot;</td><td>265.0</td><td>265.0</td><td>4.0</td><td>900.0</td><td>14.25</td><td>35.84</td><td>999.99</td><td>163.0</td><td>1.0</td><td>1021.99</td><td>2.5</td><td>1.75</td></tr></tbody></table></div>"
      ],
      "text/plain": [
       "shape: (9, 20)\n",
       "┌───────────┬───────────┬───────────┬───────────┬───┬───────────┬───────────┬───────────┬──────────┐\n",
       "│ statistic ┆ VendorID  ┆ tpep_pick ┆ tpep_drop ┆ … ┆ improveme ┆ total_amo ┆ congestio ┆ Airport_ │\n",
       "│ ---       ┆ ---       ┆ up_dateti ┆ off_datet ┆   ┆ nt_surcha ┆ unt       ┆ n_surchar ┆ fee      │\n",
       "│ str       ┆ f64       ┆ me        ┆ ime       ┆   ┆ rge       ┆ ---       ┆ ge        ┆ ---      │\n",
       "│           ┆           ┆ ---       ┆ ---       ┆   ┆ ---       ┆ f64       ┆ ---       ┆ f64      │\n",
       "│           ┆           ┆ str       ┆ str       ┆   ┆ f64       ┆           ┆ f64       ┆          │\n",
       "╞═══════════╪═══════════╪═══════════╪═══════════╪═══╪═══════════╪═══════════╪═══════════╪══════════╡\n",
       "│ count     ┆ 3.582628e ┆ 3582628   ┆ 3582628   ┆ … ┆ 3.582628e ┆ 3.582628e ┆ 3.156438e ┆ 3.156438 │\n",
       "│           ┆ 6         ┆           ┆           ┆   ┆ 6         ┆ 6         ┆ 6         ┆ e6       │\n",
       "│ null_coun ┆ 0.0       ┆ 0         ┆ 0         ┆ … ┆ 0.0       ┆ 0.0       ┆ 426190.0  ┆ 426190.0 │\n",
       "│ t         ┆           ┆           ┆           ┆   ┆           ┆           ┆           ┆          │\n",
       "│ mean      ┆ 1.758135  ┆ 2024-03-1 ┆ 2024-03-1 ┆ … ┆ 0.974287  ┆ 27.12057  ┆ 2.25238   ┆ 0.142545 │\n",
       "│           ┆           ┆ 6 13:36:2 ┆ 6 13:53:0 ┆   ┆           ┆           ┆           ┆          │\n",
       "│           ┆           ┆ 1.144779  ┆ 1.505051  ┆   ┆           ┆           ┆           ┆          │\n",
       "│ std       ┆ 0.431201  ┆ null      ┆ null      ┆ … ┆ 0.223011  ┆ 22.832365 ┆ 0.837835  ┆ 0.491772 │\n",
       "│ min       ┆ 1.0       ┆ 2002-12-3 ┆ 2002-12-3 ┆ … ┆ -1.0      ┆ -800.99   ┆ -2.5      ┆ -1.75    │\n",
       "│           ┆           ┆ 1         ┆ 1         ┆   ┆           ┆           ┆           ┆          │\n",
       "│           ┆           ┆ 22:17:10  ┆ 22:42:24  ┆   ┆           ┆           ┆           ┆          │\n",
       "│ 25%       ┆ 2.0       ┆ 2024-03-0 ┆ 2024-03-0 ┆ … ┆ 1.0       ┆ 15.48     ┆ 2.5       ┆ 0.0      │\n",
       "│           ┆           ┆ 8         ┆ 8         ┆   ┆           ┆           ┆           ┆          │\n",
       "│           ┆           ┆ 20:50:42  ┆ 21:05:46  ┆   ┆           ┆           ┆           ┆          │\n",
       "│ 50%       ┆ 2.0       ┆ 2024-03-1 ┆ 2024-03-1 ┆ … ┆ 1.0       ┆ 20.52     ┆ 2.5       ┆ 0.0      │\n",
       "│           ┆           ┆ 6         ┆ 6         ┆   ┆           ┆           ┆           ┆          │\n",
       "│           ┆           ┆ 10:54:00  ┆ 11:08:28  ┆   ┆           ┆           ┆           ┆          │\n",
       "│ 75%       ┆ 2.0       ┆ 2024-03-2 ┆ 2024-03-2 ┆ … ┆ 1.0       ┆ 29.4      ┆ 2.5       ┆ 0.0      │\n",
       "│           ┆           ┆ 3         ┆ 3         ┆   ┆           ┆           ┆           ┆          │\n",
       "│           ┆           ┆ 23:37:26  ┆ 23:52:31  ┆   ┆           ┆           ┆           ┆          │\n",
       "│ max       ┆ 6.0       ┆ 2024-04-0 ┆ 2024-04-0 ┆ … ┆ 1.0       ┆ 1021.99   ┆ 2.5       ┆ 1.75     │\n",
       "│           ┆           ┆ 1         ┆ 2         ┆   ┆           ┆           ┆           ┆          │\n",
       "│           ┆           ┆ 00:34:55  ┆ 18:08:46  ┆   ┆           ┆           ┆           ┆          │\n",
       "└───────────┴───────────┴───────────┴───────────┴───┴───────────┴───────────┴───────────┴──────────┘"
      ]
     },
     "execution_count": 38,
     "metadata": {},
     "output_type": "execute_result"
    }
   ],
   "source": [
    "df_csv.describe()"
   ]
  },
  {
   "cell_type": "code",
   "execution_count": 36,
   "id": "8a5bad08",
   "metadata": {},
   "outputs": [
    {
     "data": {
      "text/html": [
       "<div><style>\n",
       ".dataframe > thead > tr,\n",
       ".dataframe > tbody > tr {\n",
       "  text-align: right;\n",
       "  white-space: pre-wrap;\n",
       "}\n",
       "</style>\n",
       "<small>shape: (9, 20)</small><table border=\"1\" class=\"dataframe\"><thead><tr><th>statistic</th><th>VendorID</th><th>tpep_pickup_datetime</th><th>tpep_dropoff_datetime</th><th>passenger_count</th><th>trip_distance</th><th>RatecodeID</th><th>store_and_fwd_flag</th><th>PULocationID</th><th>DOLocationID</th><th>payment_type</th><th>fare_amount</th><th>extra</th><th>mta_tax</th><th>tip_amount</th><th>tolls_amount</th><th>improvement_surcharge</th><th>total_amount</th><th>congestion_surcharge</th><th>Airport_fee</th></tr><tr><td>str</td><td>f64</td><td>str</td><td>str</td><td>f64</td><td>f64</td><td>f64</td><td>str</td><td>f64</td><td>f64</td><td>f64</td><td>f64</td><td>f64</td><td>f64</td><td>f64</td><td>f64</td><td>f64</td><td>f64</td><td>f64</td><td>f64</td></tr></thead><tbody><tr><td>&quot;count&quot;</td><td>3.582628e6</td><td>&quot;3582628&quot;</td><td>&quot;3582628&quot;</td><td>3.156438e6</td><td>3.582628e6</td><td>3.156438e6</td><td>&quot;3156438&quot;</td><td>3.582628e6</td><td>3.582628e6</td><td>3.582628e6</td><td>3.582628e6</td><td>3.582628e6</td><td>3.582628e6</td><td>3.582628e6</td><td>3.582628e6</td><td>3.582628e6</td><td>3.582628e6</td><td>3.156438e6</td><td>3.156438e6</td></tr><tr><td>&quot;null_count&quot;</td><td>0.0</td><td>&quot;0&quot;</td><td>&quot;0&quot;</td><td>426190.0</td><td>0.0</td><td>426190.0</td><td>&quot;426190&quot;</td><td>0.0</td><td>0.0</td><td>0.0</td><td>0.0</td><td>0.0</td><td>0.0</td><td>0.0</td><td>0.0</td><td>0.0</td><td>0.0</td><td>426190.0</td><td>426190.0</td></tr><tr><td>&quot;mean&quot;</td><td>1.758135</td><td>&quot;2024-03-16 13:36:21.144779&quot;</td><td>&quot;2024-03-16 13:53:01.505051&quot;</td><td>1.337625</td><td>4.517412</td><td>2.255811</td><td>null</td><td>164.210534</td><td>163.156381</td><td>1.076212</td><td>18.682512</td><td>1.363928</td><td>0.482816</td><td>3.190803</td><td>0.541547</td><td>0.974287</td><td>27.12057</td><td>2.25238</td><td>0.142545</td></tr><tr><td>&quot;std&quot;</td><td>0.431201</td><td>null</td><td>null</td><td>0.84003</td><td>302.411739</td><td>10.67769</td><td>null</td><td>64.470651</td><td>69.569802</td><td>0.64724</td><td>18.120599</td><td>1.808785</td><td>0.121177</td><td>4.032913</td><td>2.157286</td><td>0.223011</td><td>22.832365</td><td>0.837835</td><td>0.491772</td></tr><tr><td>&quot;min&quot;</td><td>1.0</td><td>&quot;2002-12-31 22:17:10&quot;</td><td>&quot;2002-12-31 22:42:24&quot;</td><td>0.0</td><td>0.0</td><td>1.0</td><td>&quot;N&quot;</td><td>1.0</td><td>1.0</td><td>0.0</td><td>-800.0</td><td>-7.5</td><td>-0.5</td><td>-300.0</td><td>-84.3</td><td>-1.0</td><td>-800.99</td><td>-2.5</td><td>-1.75</td></tr><tr><td>&quot;25%&quot;</td><td>2.0</td><td>&quot;2024-03-08 20:50:42&quot;</td><td>&quot;2024-03-08 21:05:46&quot;</td><td>1.0</td><td>1.01</td><td>1.0</td><td>null</td><td>132.0</td><td>113.0</td><td>1.0</td><td>9.3</td><td>0.0</td><td>0.5</td><td>0.0</td><td>0.0</td><td>1.0</td><td>15.48</td><td>2.5</td><td>0.0</td></tr><tr><td>&quot;50%&quot;</td><td>2.0</td><td>&quot;2024-03-16 10:54:00&quot;</td><td>&quot;2024-03-16 11:08:28&quot;</td><td>1.0</td><td>1.75</td><td>1.0</td><td>null</td><td>161.0</td><td>162.0</td><td>1.0</td><td>13.5</td><td>1.0</td><td>0.5</td><td>2.52</td><td>0.0</td><td>1.0</td><td>20.52</td><td>2.5</td><td>0.0</td></tr><tr><td>&quot;75%&quot;</td><td>2.0</td><td>&quot;2024-03-23 23:37:26&quot;</td><td>&quot;2024-03-23 23:52:31&quot;</td><td>1.0</td><td>3.3</td><td>1.0</td><td>null</td><td>233.0</td><td>234.0</td><td>1.0</td><td>21.55</td><td>2.5</td><td>0.5</td><td>4.1</td><td>0.0</td><td>1.0</td><td>29.4</td><td>2.5</td><td>0.0</td></tr><tr><td>&quot;max&quot;</td><td>6.0</td><td>&quot;2024-04-01 00:34:55&quot;</td><td>&quot;2024-04-02 18:08:46&quot;</td><td>9.0</td><td>176836.3</td><td>99.0</td><td>&quot;Y&quot;</td><td>265.0</td><td>265.0</td><td>4.0</td><td>900.0</td><td>14.25</td><td>35.84</td><td>999.99</td><td>163.0</td><td>1.0</td><td>1021.99</td><td>2.5</td><td>1.75</td></tr></tbody></table></div>"
      ],
      "text/plain": [
       "shape: (9, 20)\n",
       "┌───────────┬───────────┬───────────┬───────────┬───┬───────────┬───────────┬───────────┬──────────┐\n",
       "│ statistic ┆ VendorID  ┆ tpep_pick ┆ tpep_drop ┆ … ┆ improveme ┆ total_amo ┆ congestio ┆ Airport_ │\n",
       "│ ---       ┆ ---       ┆ up_dateti ┆ off_datet ┆   ┆ nt_surcha ┆ unt       ┆ n_surchar ┆ fee      │\n",
       "│ str       ┆ f64       ┆ me        ┆ ime       ┆   ┆ rge       ┆ ---       ┆ ge        ┆ ---      │\n",
       "│           ┆           ┆ ---       ┆ ---       ┆   ┆ ---       ┆ f64       ┆ ---       ┆ f64      │\n",
       "│           ┆           ┆ str       ┆ str       ┆   ┆ f64       ┆           ┆ f64       ┆          │\n",
       "╞═══════════╪═══════════╪═══════════╪═══════════╪═══╪═══════════╪═══════════╪═══════════╪══════════╡\n",
       "│ count     ┆ 3.582628e ┆ 3582628   ┆ 3582628   ┆ … ┆ 3.582628e ┆ 3.582628e ┆ 3.156438e ┆ 3.156438 │\n",
       "│           ┆ 6         ┆           ┆           ┆   ┆ 6         ┆ 6         ┆ 6         ┆ e6       │\n",
       "│ null_coun ┆ 0.0       ┆ 0         ┆ 0         ┆ … ┆ 0.0       ┆ 0.0       ┆ 426190.0  ┆ 426190.0 │\n",
       "│ t         ┆           ┆           ┆           ┆   ┆           ┆           ┆           ┆          │\n",
       "│ mean      ┆ 1.758135  ┆ 2024-03-1 ┆ 2024-03-1 ┆ … ┆ 0.974287  ┆ 27.12057  ┆ 2.25238   ┆ 0.142545 │\n",
       "│           ┆           ┆ 6 13:36:2 ┆ 6 13:53:0 ┆   ┆           ┆           ┆           ┆          │\n",
       "│           ┆           ┆ 1.144779  ┆ 1.505051  ┆   ┆           ┆           ┆           ┆          │\n",
       "│ std       ┆ 0.431201  ┆ null      ┆ null      ┆ … ┆ 0.223011  ┆ 22.832365 ┆ 0.837835  ┆ 0.491772 │\n",
       "│ min       ┆ 1.0       ┆ 2002-12-3 ┆ 2002-12-3 ┆ … ┆ -1.0      ┆ -800.99   ┆ -2.5      ┆ -1.75    │\n",
       "│           ┆           ┆ 1         ┆ 1         ┆   ┆           ┆           ┆           ┆          │\n",
       "│           ┆           ┆ 22:17:10  ┆ 22:42:24  ┆   ┆           ┆           ┆           ┆          │\n",
       "│ 25%       ┆ 2.0       ┆ 2024-03-0 ┆ 2024-03-0 ┆ … ┆ 1.0       ┆ 15.48     ┆ 2.5       ┆ 0.0      │\n",
       "│           ┆           ┆ 8         ┆ 8         ┆   ┆           ┆           ┆           ┆          │\n",
       "│           ┆           ┆ 20:50:42  ┆ 21:05:46  ┆   ┆           ┆           ┆           ┆          │\n",
       "│ 50%       ┆ 2.0       ┆ 2024-03-1 ┆ 2024-03-1 ┆ … ┆ 1.0       ┆ 20.52     ┆ 2.5       ┆ 0.0      │\n",
       "│           ┆           ┆ 6         ┆ 6         ┆   ┆           ┆           ┆           ┆          │\n",
       "│           ┆           ┆ 10:54:00  ┆ 11:08:28  ┆   ┆           ┆           ┆           ┆          │\n",
       "│ 75%       ┆ 2.0       ┆ 2024-03-2 ┆ 2024-03-2 ┆ … ┆ 1.0       ┆ 29.4      ┆ 2.5       ┆ 0.0      │\n",
       "│           ┆           ┆ 3         ┆ 3         ┆   ┆           ┆           ┆           ┆          │\n",
       "│           ┆           ┆ 23:37:26  ┆ 23:52:31  ┆   ┆           ┆           ┆           ┆          │\n",
       "│ max       ┆ 6.0       ┆ 2024-04-0 ┆ 2024-04-0 ┆ … ┆ 1.0       ┆ 1021.99   ┆ 2.5       ┆ 1.75     │\n",
       "│           ┆           ┆ 1         ┆ 2         ┆   ┆           ┆           ┆           ┆          │\n",
       "│           ┆           ┆ 00:34:55  ┆ 18:08:46  ┆   ┆           ┆           ┆           ┆          │\n",
       "└───────────┴───────────┴───────────┴───────────┴───┴───────────┴───────────┴───────────┴──────────┘"
      ]
     },
     "execution_count": 36,
     "metadata": {},
     "output_type": "execute_result"
    }
   ],
   "source": [
    "df.describe()"
   ]
  },
  {
   "cell_type": "code",
   "execution_count": 37,
   "id": "71f62840",
   "metadata": {},
   "outputs": [
    {
     "data": {
      "text/html": [
       "<div><style>\n",
       ".dataframe > thead > tr,\n",
       ".dataframe > tbody > tr {\n",
       "  text-align: right;\n",
       "  white-space: pre-wrap;\n",
       "}\n",
       "</style>\n",
       "<small>shape: (9, 20)</small><table border=\"1\" class=\"dataframe\"><thead><tr><th>statistic</th><th>VendorID</th><th>tpep_pickup_datetime</th><th>tpep_dropoff_datetime</th><th>passenger_count</th><th>trip_distance</th><th>RatecodeID</th><th>store_and_fwd_flag</th><th>PULocationID</th><th>DOLocationID</th><th>payment_type</th><th>fare_amount</th><th>extra</th><th>mta_tax</th><th>tip_amount</th><th>tolls_amount</th><th>improvement_surcharge</th><th>total_amount</th><th>congestion_surcharge</th><th>Airport_fee</th></tr><tr><td>str</td><td>f64</td><td>str</td><td>str</td><td>f64</td><td>f64</td><td>f64</td><td>str</td><td>f64</td><td>f64</td><td>f64</td><td>f64</td><td>f64</td><td>f64</td><td>f64</td><td>f64</td><td>f64</td><td>f64</td><td>f64</td><td>f64</td></tr></thead><tbody><tr><td>&quot;count&quot;</td><td>3.582628e6</td><td>&quot;3582628&quot;</td><td>&quot;3582628&quot;</td><td>3.156438e6</td><td>3.582628e6</td><td>3.156438e6</td><td>&quot;3156438&quot;</td><td>3.582628e6</td><td>3.582628e6</td><td>3.582628e6</td><td>3.582628e6</td><td>3.582628e6</td><td>3.582628e6</td><td>3.582628e6</td><td>3.582628e6</td><td>3.582628e6</td><td>3.582628e6</td><td>3.156438e6</td><td>3.156438e6</td></tr><tr><td>&quot;null_count&quot;</td><td>0.0</td><td>&quot;0&quot;</td><td>&quot;0&quot;</td><td>426190.0</td><td>0.0</td><td>426190.0</td><td>&quot;426190&quot;</td><td>0.0</td><td>0.0</td><td>0.0</td><td>0.0</td><td>0.0</td><td>0.0</td><td>0.0</td><td>0.0</td><td>0.0</td><td>0.0</td><td>426190.0</td><td>426190.0</td></tr><tr><td>&quot;mean&quot;</td><td>1.758135</td><td>&quot;2024-03-16 13:36:21.144779&quot;</td><td>&quot;2024-03-16 13:53:01.505051&quot;</td><td>1.337625</td><td>4.517412</td><td>2.255811</td><td>null</td><td>164.210534</td><td>163.156381</td><td>1.076212</td><td>18.682512</td><td>1.363928</td><td>0.482816</td><td>3.190803</td><td>0.541547</td><td>0.974287</td><td>27.12057</td><td>2.25238</td><td>0.142545</td></tr><tr><td>&quot;std&quot;</td><td>0.431201</td><td>null</td><td>null</td><td>0.84003</td><td>302.411739</td><td>10.67769</td><td>null</td><td>64.470651</td><td>69.569802</td><td>0.64724</td><td>18.120599</td><td>1.808785</td><td>0.121177</td><td>4.032913</td><td>2.157286</td><td>0.223011</td><td>22.832365</td><td>0.837835</td><td>0.491772</td></tr><tr><td>&quot;min&quot;</td><td>1.0</td><td>&quot;2002-12-31 22:17:10&quot;</td><td>&quot;2002-12-31 22:42:24&quot;</td><td>0.0</td><td>0.0</td><td>1.0</td><td>&quot;N&quot;</td><td>1.0</td><td>1.0</td><td>0.0</td><td>-800.0</td><td>-7.5</td><td>-0.5</td><td>-300.0</td><td>-84.3</td><td>-1.0</td><td>-800.99</td><td>-2.5</td><td>-1.75</td></tr><tr><td>&quot;25%&quot;</td><td>2.0</td><td>&quot;2024-03-08 20:50:42&quot;</td><td>&quot;2024-03-08 21:05:46&quot;</td><td>1.0</td><td>1.01</td><td>1.0</td><td>null</td><td>132.0</td><td>113.0</td><td>1.0</td><td>9.3</td><td>0.0</td><td>0.5</td><td>0.0</td><td>0.0</td><td>1.0</td><td>15.48</td><td>2.5</td><td>0.0</td></tr><tr><td>&quot;50%&quot;</td><td>2.0</td><td>&quot;2024-03-16 10:54:00&quot;</td><td>&quot;2024-03-16 11:08:28&quot;</td><td>1.0</td><td>1.75</td><td>1.0</td><td>null</td><td>161.0</td><td>162.0</td><td>1.0</td><td>13.5</td><td>1.0</td><td>0.5</td><td>2.52</td><td>0.0</td><td>1.0</td><td>20.52</td><td>2.5</td><td>0.0</td></tr><tr><td>&quot;75%&quot;</td><td>2.0</td><td>&quot;2024-03-23 23:37:26&quot;</td><td>&quot;2024-03-23 23:52:31&quot;</td><td>1.0</td><td>3.3</td><td>1.0</td><td>null</td><td>233.0</td><td>234.0</td><td>1.0</td><td>21.55</td><td>2.5</td><td>0.5</td><td>4.1</td><td>0.0</td><td>1.0</td><td>29.4</td><td>2.5</td><td>0.0</td></tr><tr><td>&quot;max&quot;</td><td>6.0</td><td>&quot;2024-04-01 00:34:55&quot;</td><td>&quot;2024-04-02 18:08:46&quot;</td><td>9.0</td><td>176836.3</td><td>99.0</td><td>&quot;Y&quot;</td><td>265.0</td><td>265.0</td><td>4.0</td><td>900.0</td><td>14.25</td><td>35.84</td><td>999.99</td><td>163.0</td><td>1.0</td><td>1021.99</td><td>2.5</td><td>1.75</td></tr></tbody></table></div>"
      ],
      "text/plain": [
       "shape: (9, 20)\n",
       "┌───────────┬───────────┬───────────┬───────────┬───┬───────────┬───────────┬───────────┬──────────┐\n",
       "│ statistic ┆ VendorID  ┆ tpep_pick ┆ tpep_drop ┆ … ┆ improveme ┆ total_amo ┆ congestio ┆ Airport_ │\n",
       "│ ---       ┆ ---       ┆ up_dateti ┆ off_datet ┆   ┆ nt_surcha ┆ unt       ┆ n_surchar ┆ fee      │\n",
       "│ str       ┆ f64       ┆ me        ┆ ime       ┆   ┆ rge       ┆ ---       ┆ ge        ┆ ---      │\n",
       "│           ┆           ┆ ---       ┆ ---       ┆   ┆ ---       ┆ f64       ┆ ---       ┆ f64      │\n",
       "│           ┆           ┆ str       ┆ str       ┆   ┆ f64       ┆           ┆ f64       ┆          │\n",
       "╞═══════════╪═══════════╪═══════════╪═══════════╪═══╪═══════════╪═══════════╪═══════════╪══════════╡\n",
       "│ count     ┆ 3.582628e ┆ 3582628   ┆ 3582628   ┆ … ┆ 3.582628e ┆ 3.582628e ┆ 3.156438e ┆ 3.156438 │\n",
       "│           ┆ 6         ┆           ┆           ┆   ┆ 6         ┆ 6         ┆ 6         ┆ e6       │\n",
       "│ null_coun ┆ 0.0       ┆ 0         ┆ 0         ┆ … ┆ 0.0       ┆ 0.0       ┆ 426190.0  ┆ 426190.0 │\n",
       "│ t         ┆           ┆           ┆           ┆   ┆           ┆           ┆           ┆          │\n",
       "│ mean      ┆ 1.758135  ┆ 2024-03-1 ┆ 2024-03-1 ┆ … ┆ 0.974287  ┆ 27.12057  ┆ 2.25238   ┆ 0.142545 │\n",
       "│           ┆           ┆ 6 13:36:2 ┆ 6 13:53:0 ┆   ┆           ┆           ┆           ┆          │\n",
       "│           ┆           ┆ 1.144779  ┆ 1.505051  ┆   ┆           ┆           ┆           ┆          │\n",
       "│ std       ┆ 0.431201  ┆ null      ┆ null      ┆ … ┆ 0.223011  ┆ 22.832365 ┆ 0.837835  ┆ 0.491772 │\n",
       "│ min       ┆ 1.0       ┆ 2002-12-3 ┆ 2002-12-3 ┆ … ┆ -1.0      ┆ -800.99   ┆ -2.5      ┆ -1.75    │\n",
       "│           ┆           ┆ 1         ┆ 1         ┆   ┆           ┆           ┆           ┆          │\n",
       "│           ┆           ┆ 22:17:10  ┆ 22:42:24  ┆   ┆           ┆           ┆           ┆          │\n",
       "│ 25%       ┆ 2.0       ┆ 2024-03-0 ┆ 2024-03-0 ┆ … ┆ 1.0       ┆ 15.48     ┆ 2.5       ┆ 0.0      │\n",
       "│           ┆           ┆ 8         ┆ 8         ┆   ┆           ┆           ┆           ┆          │\n",
       "│           ┆           ┆ 20:50:42  ┆ 21:05:46  ┆   ┆           ┆           ┆           ┆          │\n",
       "│ 50%       ┆ 2.0       ┆ 2024-03-1 ┆ 2024-03-1 ┆ … ┆ 1.0       ┆ 20.52     ┆ 2.5       ┆ 0.0      │\n",
       "│           ┆           ┆ 6         ┆ 6         ┆   ┆           ┆           ┆           ┆          │\n",
       "│           ┆           ┆ 10:54:00  ┆ 11:08:28  ┆   ┆           ┆           ┆           ┆          │\n",
       "│ 75%       ┆ 2.0       ┆ 2024-03-2 ┆ 2024-03-2 ┆ … ┆ 1.0       ┆ 29.4      ┆ 2.5       ┆ 0.0      │\n",
       "│           ┆           ┆ 3         ┆ 3         ┆   ┆           ┆           ┆           ┆          │\n",
       "│           ┆           ┆ 23:37:26  ┆ 23:52:31  ┆   ┆           ┆           ┆           ┆          │\n",
       "│ max       ┆ 6.0       ┆ 2024-04-0 ┆ 2024-04-0 ┆ … ┆ 1.0       ┆ 1021.99   ┆ 2.5       ┆ 1.75     │\n",
       "│           ┆           ┆ 1         ┆ 2         ┆   ┆           ┆           ┆           ┆          │\n",
       "│           ┆           ┆ 00:34:55  ┆ 18:08:46  ┆   ┆           ┆           ┆           ┆          │\n",
       "└───────────┴───────────┴───────────┴───────────┴───┴───────────┴───────────┴───────────┴──────────┘"
      ]
     },
     "execution_count": 37,
     "metadata": {},
     "output_type": "execute_result"
    }
   ],
   "source": [
    "df_parquet.describe()"
   ]
  },
  {
   "cell_type": "markdown",
   "id": "c32cda89",
   "metadata": {},
   "source": [
    "### Needs to be double-checked if working with highly time-sensitive data!!!"
   ]
  },
  {
   "cell_type": "code",
   "execution_count": 39,
   "id": "96073ec2",
   "metadata": {},
   "outputs": [
    {
     "data": {
      "text/html": [
       "<div><style>\n",
       ".dataframe > thead > tr,\n",
       ".dataframe > tbody > tr {\n",
       "  text-align: right;\n",
       "  white-space: pre-wrap;\n",
       "}\n",
       "</style>\n",
       "<small>shape: (1, 1)</small><table border=\"1\" class=\"dataframe\"><thead><tr><th>tpep_pickup_datetime</th></tr><tr><td>datetime[ns]</td></tr></thead><tbody><tr><td>2024-03-16 13:36:21.144780544</td></tr></tbody></table></div>"
      ],
      "text/plain": [
       "shape: (1, 1)\n",
       "┌───────────────────────────────┐\n",
       "│ tpep_pickup_datetime          │\n",
       "│ ---                           │\n",
       "│ datetime[ns]                  │\n",
       "╞═══════════════════════════════╡\n",
       "│ 2024-03-16 13:36:21.144780544 │\n",
       "└───────────────────────────────┘"
      ]
     },
     "execution_count": 39,
     "metadata": {},
     "output_type": "execute_result"
    }
   ],
   "source": [
    "df_csv.select(\"tpep_pickup_datetime\").mean()"
   ]
  },
  {
   "cell_type": "code",
   "execution_count": 40,
   "id": "0a7a7bef",
   "metadata": {},
   "outputs": [
    {
     "data": {
      "text/html": [
       "<div><style>\n",
       ".dataframe > thead > tr,\n",
       ".dataframe > tbody > tr {\n",
       "  text-align: right;\n",
       "  white-space: pre-wrap;\n",
       "}\n",
       "</style>\n",
       "<small>shape: (1, 1)</small><table border=\"1\" class=\"dataframe\"><thead><tr><th>tpep_pickup_datetime</th></tr><tr><td>datetime[ns]</td></tr></thead><tbody><tr><td>2024-03-16 13:36:21.144779520</td></tr></tbody></table></div>"
      ],
      "text/plain": [
       "shape: (1, 1)\n",
       "┌───────────────────────────────┐\n",
       "│ tpep_pickup_datetime          │\n",
       "│ ---                           │\n",
       "│ datetime[ns]                  │\n",
       "╞═══════════════════════════════╡\n",
       "│ 2024-03-16 13:36:21.144779520 │\n",
       "└───────────────────────────────┘"
      ]
     },
     "execution_count": 40,
     "metadata": {},
     "output_type": "execute_result"
    }
   ],
   "source": [
    "df.select(\"tpep_pickup_datetime\").mean()"
   ]
  },
  {
   "cell_type": "code",
   "execution_count": 41,
   "id": "3a10bb14",
   "metadata": {},
   "outputs": [
    {
     "data": {
      "text/html": [
       "<div><style>\n",
       ".dataframe > thead > tr,\n",
       ".dataframe > tbody > tr {\n",
       "  text-align: right;\n",
       "  white-space: pre-wrap;\n",
       "}\n",
       "</style>\n",
       "<small>shape: (1, 1)</small><table border=\"1\" class=\"dataframe\"><thead><tr><th>tpep_pickup_datetime</th></tr><tr><td>datetime[ns]</td></tr></thead><tbody><tr><td>2024-03-16 13:36:21.144779776</td></tr></tbody></table></div>"
      ],
      "text/plain": [
       "shape: (1, 1)\n",
       "┌───────────────────────────────┐\n",
       "│ tpep_pickup_datetime          │\n",
       "│ ---                           │\n",
       "│ datetime[ns]                  │\n",
       "╞═══════════════════════════════╡\n",
       "│ 2024-03-16 13:36:21.144779776 │\n",
       "└───────────────────────────────┘"
      ]
     },
     "execution_count": 41,
     "metadata": {},
     "output_type": "execute_result"
    }
   ],
   "source": [
    "df_parquet.select(\"tpep_pickup_datetime\").mean()"
   ]
  },
  {
   "cell_type": "markdown",
   "id": "d4f2beb1",
   "metadata": {},
   "source": [
    "Here we can see how many null and non-null values are in each column, the average and standard deviation of each column, and the key quantiles of each column."
   ]
  },
  {
   "cell_type": "markdown",
   "id": "84fddd02",
   "metadata": {},
   "source": [
    "Now, it's time to get lazy... let's try loading data with `polars` in lazy mode!"
   ]
  },
  {
   "cell_type": "markdown",
   "id": "b3c44cc5",
   "metadata": {},
   "source": [
    "## 2.3. Scanning Data From `csv`"
   ]
  },
  {
   "cell_type": "markdown",
   "id": "f5f49cd3",
   "metadata": {},
   "source": [
    "As we mentioned in the previous module, `polars` supports two ways of loading and processing data: the in-memory mode with `DataFrame`, and the lazy mode with `LazyFrame`. With `DataFrame`, all operations are executed as they are written; with `LazyFrame`, however, operations are optimized before they are executed.\n",
    "\n",
    "The most common way to enter lazy mode is by starting with `polars.scan_csv()` instead of `polars.read_csv()`:"
   ]
  },
  {
   "cell_type": "code",
   "execution_count": 2,
   "id": "38c394b2",
   "metadata": {},
   "outputs": [
    {
     "name": "stdout",
     "output_type": "stream",
     "text": [
      "File /data/datasets/data/yellow_tripdata_2024-03.parquet already exists, skipping download.\n"
     ]
    }
   ],
   "source": [
    "%run setup.py"
   ]
  },
  {
   "cell_type": "code",
   "execution_count": 8,
   "id": "b2840091",
   "metadata": {},
   "outputs": [],
   "source": [
    "import polars as pl\n",
    "\n",
    "lf = pl.scan_csv(\n",
    "    local_csv,\n",
    "    schema_overrides={\n",
    "        \"tpep_pickup_datetime\": pl.Datetime(\"ns\"),\n",
    "        \"tpep_dropoff_datetime\": pl.Datetime(\"ns\"),\n",
    "    },\n",
    ")"
   ]
  },
  {
   "cell_type": "markdown",
   "id": "d37e8bae",
   "metadata": {},
   "source": [
    "That's right--we can use the `schema_overrides` argument with `polars.scan_csv()` as well! `polars.scan_csv()` supports (almost) all the same input arguments as `polars.read_csv()`, making it easy to work with.\n",
    "\n",
    "As in the last section, let's do `head()` to take a look at the data."
   ]
  },
  {
   "cell_type": "code",
   "execution_count": 9,
   "id": "cdf23d81",
   "metadata": {},
   "outputs": [
    {
     "data": {
      "text/html": [
       "<h4>NAIVE QUERY PLAN</h4><p>run <b>LazyFrame.show_graph()</b> to see the optimized version</p><?xml version=\"1.0\" encoding=\"UTF-8\" standalone=\"no\"?>\n",
       "<!DOCTYPE svg PUBLIC \"-//W3C//DTD SVG 1.1//EN\"\n",
       " \"http://www.w3.org/Graphics/SVG/1.1/DTD/svg11.dtd\">\n",
       "<!-- Generated by graphviz version 2.43.0 (0)\n",
       " -->\n",
       "<!-- Title: polars_query Pages: 1 -->\n",
       "<svg width=\"457pt\" height=\"118pt\"\n",
       " viewBox=\"0.00 0.00 457.00 118.00\" xmlns=\"http://www.w3.org/2000/svg\" xmlns:xlink=\"http://www.w3.org/1999/xlink\">\n",
       "<g id=\"graph0\" class=\"graph\" transform=\"scale(1 1) rotate(0) translate(4 114)\">\n",
       "<title>polars_query</title>\n",
       "<polygon fill=\"white\" stroke=\"transparent\" points=\"-4,4 -4,-114 453,-114 453,4 -4,4\"/>\n",
       "<!-- p1 -->\n",
       "<g id=\"node1\" class=\"node\">\n",
       "<title>p1</title>\n",
       "<polygon fill=\"none\" stroke=\"black\" points=\"311,-110 138,-110 138,-74 311,-74 311,-110\"/>\n",
       "<text text-anchor=\"middle\" x=\"224.5\" y=\"-88.3\" font-family=\"Times,serif\" font-size=\"14.00\">SLICE offset: 0; len: 5</text>\n",
       "</g>\n",
       "<!-- p2 -->\n",
       "<g id=\"node2\" class=\"node\">\n",
       "<title>p2</title>\n",
       "<polygon fill=\"none\" stroke=\"black\" points=\"449,-38 0,-38 0,0 449,0 449,-38\"/>\n",
       "<text text-anchor=\"middle\" x=\"224.5\" y=\"-22.8\" font-family=\"Times,serif\" font-size=\"14.00\">Csv SCAN [/data/datasets/data/yellow_tripdata_2024&#45;03.csv]</text>\n",
       "<text text-anchor=\"middle\" x=\"224.5\" y=\"-7.8\" font-family=\"Times,serif\" font-size=\"14.00\">π */19;</text>\n",
       "</g>\n",
       "<!-- p1&#45;&#45;p2 -->\n",
       "<g id=\"edge1\" class=\"edge\">\n",
       "<title>p1&#45;&#45;p2</title>\n",
       "<path fill=\"none\" stroke=\"black\" d=\"M224.5,-73.81C224.5,-62.98 224.5,-49.01 224.5,-38.02\"/>\n",
       "</g>\n",
       "</g>\n",
       "</svg>\n"
      ],
      "text/plain": [
       "<LazyFrame at 0xE9C781F01F60>"
      ]
     },
     "execution_count": 9,
     "metadata": {},
     "output_type": "execute_result"
    }
   ],
   "source": [
    "lf.head()"
   ]
  },
  {
   "cell_type": "markdown",
   "id": "90b88a74",
   "metadata": {},
   "source": [
    "Hey, that's not a dataframe!\n",
    "\n",
    "When working with a `LazyFrame`, it's better to think of it as a \"query\" rather than as a \"dataframe\". To this end, displaying a `LazyFrame` object doesn't show the data result; rather, **it shows you what the computer is going to do to get you the data result**.\n",
    "\n",
    "In this case (reading the graph in the image from bottom to top), polars will:\n",
    "- `pl.scan_csv(...)`: scan the csv, selecting all columns (\"π \\*/19\") and filtering None (\"σ None\").\n",
    "- `.head()`: Take the first five rows (\"SLICE offset: 0; len: 5\").\n",
    "\n",
    "_Note: If this didn't work for you, you need to install `graphviz`. You can read more about how to do that on the [`graphviz` website](https://graphviz.org/download/)._\n",
    "\n",
    "_Another note: If the syntax here with π and σ looks weird to you, that's relational algebra, the formal algebra and notation underlying relational data (i.e. columnar data). For a deeper look into that, check out [the Wikipedia page about it](https://en.wikipedia.org/wiki/Relational_algebra)._"
   ]
  },
  {
   "cell_type": "markdown",
   "id": "b00feec4",
   "metadata": {},
   "source": [
    "You might also notice that, the graph instructs us to *\"run **LazyFrame.show_graph()** to see the optimized version\"*. Let's do that!"
   ]
  },
  {
   "cell_type": "code",
   "execution_count": 10,
   "id": "0ef18eba",
   "metadata": {},
   "outputs": [
    {
     "data": {
      "image/svg+xml": [
       "<svg xmlns=\"http://www.w3.org/2000/svg\" xmlns:xlink=\"http://www.w3.org/1999/xlink\" width=\"457pt\" height=\"118pt\" viewBox=\"0.00 0.00 457.00 118.00\">\n",
       "<g id=\"graph0\" class=\"graph\" transform=\"scale(1 1) rotate(0) translate(4 114)\">\n",
       "<title>polars_query</title>\n",
       "<polygon fill=\"white\" stroke=\"transparent\" points=\"-4,4 -4,-114 453,-114 453,4 -4,4\"/>\n",
       "<!-- p1 -->\n",
       "<g id=\"node1\" class=\"node\">\n",
       "<title>p1</title>\n",
       "<polygon fill=\"none\" stroke=\"black\" points=\"311,-110 138,-110 138,-74 311,-74 311,-110\"/>\n",
       "<text text-anchor=\"middle\" x=\"224.5\" y=\"-88.3\" font-family=\"Times,serif\" font-size=\"14.00\">SLICE offset: 0; len: 5</text>\n",
       "</g>\n",
       "<!-- p2 -->\n",
       "<g id=\"node2\" class=\"node\">\n",
       "<title>p2</title>\n",
       "<polygon fill=\"none\" stroke=\"black\" points=\"449,-38 0,-38 0,0 449,0 449,-38\"/>\n",
       "<text text-anchor=\"middle\" x=\"224.5\" y=\"-22.8\" font-family=\"Times,serif\" font-size=\"14.00\">Csv SCAN [/data/datasets/data/yellow_tripdata_2024-03.csv]</text>\n",
       "<text text-anchor=\"middle\" x=\"224.5\" y=\"-7.8\" font-family=\"Times,serif\" font-size=\"14.00\">π */19;</text>\n",
       "</g>\n",
       "<!-- p1&#45;&#45;p2 -->\n",
       "<g id=\"edge1\" class=\"edge\">\n",
       "<title>p1--p2</title>\n",
       "<path fill=\"none\" stroke=\"black\" d=\"M224.5,-73.81C224.5,-62.98 224.5,-49.01 224.5,-38.02\"/>\n",
       "</g>\n",
       "</g>\n",
       "</svg>"
      ],
      "text/plain": [
       "<IPython.core.display.SVG object>"
      ]
     },
     "metadata": {},
     "output_type": "display_data"
    }
   ],
   "source": [
    "lf.head().show_graph()"
   ]
  },
  {
   "cell_type": "markdown",
   "id": "2564b9ca",
   "metadata": {},
   "source": [
    "Looks the same as the naive query plan--nothing to optimize here! Either way, we can see the result of the data with a call to `.collect()`:"
   ]
  },
  {
   "cell_type": "code",
   "execution_count": 11,
   "id": "21b22d2d",
   "metadata": {},
   "outputs": [
    {
     "data": {
      "text/html": [
       "<div><style>\n",
       ".dataframe > thead > tr,\n",
       ".dataframe > tbody > tr {\n",
       "  text-align: right;\n",
       "  white-space: pre-wrap;\n",
       "}\n",
       "</style>\n",
       "<small>shape: (5, 19)</small><table border=\"1\" class=\"dataframe\"><thead><tr><th>VendorID</th><th>tpep_pickup_datetime</th><th>tpep_dropoff_datetime</th><th>passenger_count</th><th>trip_distance</th><th>RatecodeID</th><th>store_and_fwd_flag</th><th>PULocationID</th><th>DOLocationID</th><th>payment_type</th><th>fare_amount</th><th>extra</th><th>mta_tax</th><th>tip_amount</th><th>tolls_amount</th><th>improvement_surcharge</th><th>total_amount</th><th>congestion_surcharge</th><th>Airport_fee</th></tr><tr><td>i64</td><td>datetime[ns]</td><td>datetime[ns]</td><td>i64</td><td>f64</td><td>i64</td><td>str</td><td>i64</td><td>i64</td><td>i64</td><td>f64</td><td>f64</td><td>f64</td><td>f64</td><td>f64</td><td>f64</td><td>f64</td><td>f64</td><td>f64</td></tr></thead><tbody><tr><td>1</td><td>2024-03-01 00:18:51</td><td>2024-03-01 00:23:45</td><td>0</td><td>1.3</td><td>1</td><td>&quot;N&quot;</td><td>142</td><td>239</td><td>1</td><td>8.6</td><td>3.5</td><td>0.5</td><td>2.7</td><td>0.0</td><td>1.0</td><td>16.3</td><td>2.5</td><td>0.0</td></tr><tr><td>1</td><td>2024-03-01 00:26:00</td><td>2024-03-01 00:29:06</td><td>0</td><td>1.1</td><td>1</td><td>&quot;N&quot;</td><td>238</td><td>24</td><td>1</td><td>7.2</td><td>3.5</td><td>0.5</td><td>3.0</td><td>0.0</td><td>1.0</td><td>15.2</td><td>2.5</td><td>0.0</td></tr><tr><td>2</td><td>2024-03-01 00:09:22</td><td>2024-03-01 00:15:24</td><td>1</td><td>0.86</td><td>1</td><td>&quot;N&quot;</td><td>263</td><td>75</td><td>2</td><td>7.9</td><td>1.0</td><td>0.5</td><td>0.0</td><td>0.0</td><td>1.0</td><td>10.4</td><td>0.0</td><td>0.0</td></tr><tr><td>2</td><td>2024-03-01 00:33:45</td><td>2024-03-01 00:39:34</td><td>1</td><td>0.82</td><td>1</td><td>&quot;N&quot;</td><td>164</td><td>162</td><td>1</td><td>7.9</td><td>1.0</td><td>0.5</td><td>1.29</td><td>0.0</td><td>1.0</td><td>14.19</td><td>2.5</td><td>0.0</td></tr><tr><td>1</td><td>2024-03-01 00:05:43</td><td>2024-03-01 00:26:22</td><td>0</td><td>4.9</td><td>1</td><td>&quot;N&quot;</td><td>263</td><td>7</td><td>2</td><td>25.4</td><td>3.5</td><td>0.5</td><td>0.0</td><td>0.0</td><td>1.0</td><td>30.4</td><td>2.5</td><td>0.0</td></tr></tbody></table></div>"
      ],
      "text/plain": [
       "shape: (5, 19)\n",
       "┌──────────┬───────────┬───────────┬───────────┬───┬───────────┬───────────┬───────────┬───────────┐\n",
       "│ VendorID ┆ tpep_pick ┆ tpep_drop ┆ passenger ┆ … ┆ improveme ┆ total_amo ┆ congestio ┆ Airport_f │\n",
       "│ ---      ┆ up_dateti ┆ off_datet ┆ _count    ┆   ┆ nt_surcha ┆ unt       ┆ n_surchar ┆ ee        │\n",
       "│ i64      ┆ me        ┆ ime       ┆ ---       ┆   ┆ rge       ┆ ---       ┆ ge        ┆ ---       │\n",
       "│          ┆ ---       ┆ ---       ┆ i64       ┆   ┆ ---       ┆ f64       ┆ ---       ┆ f64       │\n",
       "│          ┆ datetime[ ┆ datetime[ ┆           ┆   ┆ f64       ┆           ┆ f64       ┆           │\n",
       "│          ┆ ns]       ┆ ns]       ┆           ┆   ┆           ┆           ┆           ┆           │\n",
       "╞══════════╪═══════════╪═══════════╪═══════════╪═══╪═══════════╪═══════════╪═══════════╪═══════════╡\n",
       "│ 1        ┆ 2024-03-0 ┆ 2024-03-0 ┆ 0         ┆ … ┆ 1.0       ┆ 16.3      ┆ 2.5       ┆ 0.0       │\n",
       "│          ┆ 1         ┆ 1         ┆           ┆   ┆           ┆           ┆           ┆           │\n",
       "│          ┆ 00:18:51  ┆ 00:23:45  ┆           ┆   ┆           ┆           ┆           ┆           │\n",
       "│ 1        ┆ 2024-03-0 ┆ 2024-03-0 ┆ 0         ┆ … ┆ 1.0       ┆ 15.2      ┆ 2.5       ┆ 0.0       │\n",
       "│          ┆ 1         ┆ 1         ┆           ┆   ┆           ┆           ┆           ┆           │\n",
       "│          ┆ 00:26:00  ┆ 00:29:06  ┆           ┆   ┆           ┆           ┆           ┆           │\n",
       "│ 2        ┆ 2024-03-0 ┆ 2024-03-0 ┆ 1         ┆ … ┆ 1.0       ┆ 10.4      ┆ 0.0       ┆ 0.0       │\n",
       "│          ┆ 1         ┆ 1         ┆           ┆   ┆           ┆           ┆           ┆           │\n",
       "│          ┆ 00:09:22  ┆ 00:15:24  ┆           ┆   ┆           ┆           ┆           ┆           │\n",
       "│ 2        ┆ 2024-03-0 ┆ 2024-03-0 ┆ 1         ┆ … ┆ 1.0       ┆ 14.19     ┆ 2.5       ┆ 0.0       │\n",
       "│          ┆ 1         ┆ 1         ┆           ┆   ┆           ┆           ┆           ┆           │\n",
       "│          ┆ 00:33:45  ┆ 00:39:34  ┆           ┆   ┆           ┆           ┆           ┆           │\n",
       "│ 1        ┆ 2024-03-0 ┆ 2024-03-0 ┆ 0         ┆ … ┆ 1.0       ┆ 30.4      ┆ 2.5       ┆ 0.0       │\n",
       "│          ┆ 1         ┆ 1         ┆           ┆   ┆           ┆           ┆           ┆           │\n",
       "│          ┆ 00:05:43  ┆ 00:26:22  ┆           ┆   ┆           ┆           ┆           ┆           │\n",
       "└──────────┴───────────┴───────────┴───────────┴───┴───────────┴───────────┴───────────┴───────────┘"
      ]
     },
     "execution_count": 11,
     "metadata": {},
     "output_type": "execute_result"
    }
   ],
   "source": [
    "lf.head().collect()"
   ]
  },
  {
   "cell_type": "markdown",
   "id": "cc9f0355",
   "metadata": {},
   "source": [
    "Now you can load `csv`'s the in-memory way, and the lazy way--great! Now, let's actually do something beyond just loading... something that will trigger the query optimization engine..."
   ]
  },
  {
   "cell_type": "markdown",
   "id": "401e78db",
   "metadata": {},
   "source": [
    "## 2.4. Selecting Data"
   ]
  },
  {
   "cell_type": "markdown",
   "id": "ee9c2c20",
   "metadata": {},
   "source": [
    "Now that we have the data loaded--both as a `polars.DataFrame` and as a `polars.LazyFrame`--it's time to start querying it! Let's start with the most straightforward: selecting.\n",
    "\n",
    "If you're coming from `pandas`, the notation for selecting columns is with brackets, like `pandas.Dataframe[]`; if you're coming from `SQL`, the notation is `SELECT`. `Polars` is more like `SQL`, the notation is `polars.DataFrame.select()`.\n",
    "\n",
    "Suppose we only want to know the pickup and dropoff time of each taxi ride..."
   ]
  },
  {
   "cell_type": "code",
   "execution_count": 13,
   "id": "e3df7fbe",
   "metadata": {},
   "outputs": [],
   "source": [
    "df = lf.collect()"
   ]
  },
  {
   "cell_type": "code",
   "execution_count": 14,
   "id": "25268035",
   "metadata": {},
   "outputs": [
    {
     "data": {
      "text/html": [
       "<div><style>\n",
       ".dataframe > thead > tr,\n",
       ".dataframe > tbody > tr {\n",
       "  text-align: right;\n",
       "  white-space: pre-wrap;\n",
       "}\n",
       "</style>\n",
       "<small>shape: (5, 2)</small><table border=\"1\" class=\"dataframe\"><thead><tr><th>tpep_pickup_datetime</th><th>tpep_dropoff_datetime</th></tr><tr><td>datetime[ns]</td><td>datetime[ns]</td></tr></thead><tbody><tr><td>2024-03-01 00:18:51</td><td>2024-03-01 00:23:45</td></tr><tr><td>2024-03-01 00:26:00</td><td>2024-03-01 00:29:06</td></tr><tr><td>2024-03-01 00:09:22</td><td>2024-03-01 00:15:24</td></tr><tr><td>2024-03-01 00:33:45</td><td>2024-03-01 00:39:34</td></tr><tr><td>2024-03-01 00:05:43</td><td>2024-03-01 00:26:22</td></tr></tbody></table></div>"
      ],
      "text/plain": [
       "shape: (5, 2)\n",
       "┌──────────────────────┬───────────────────────┐\n",
       "│ tpep_pickup_datetime ┆ tpep_dropoff_datetime │\n",
       "│ ---                  ┆ ---                   │\n",
       "│ datetime[ns]         ┆ datetime[ns]          │\n",
       "╞══════════════════════╪═══════════════════════╡\n",
       "│ 2024-03-01 00:18:51  ┆ 2024-03-01 00:23:45   │\n",
       "│ 2024-03-01 00:26:00  ┆ 2024-03-01 00:29:06   │\n",
       "│ 2024-03-01 00:09:22  ┆ 2024-03-01 00:15:24   │\n",
       "│ 2024-03-01 00:33:45  ┆ 2024-03-01 00:39:34   │\n",
       "│ 2024-03-01 00:05:43  ┆ 2024-03-01 00:26:22   │\n",
       "└──────────────────────┴───────────────────────┘"
      ]
     },
     "execution_count": 14,
     "metadata": {},
     "output_type": "execute_result"
    }
   ],
   "source": [
    "(df.select([\"tpep_pickup_datetime\", \"tpep_dropoff_datetime\"]).head())"
   ]
  },
  {
   "cell_type": "markdown",
   "id": "81b96b5e",
   "metadata": {},
   "source": [
    "Easy! Let's see what that looks like with the `LazyFrame`:"
   ]
  },
  {
   "cell_type": "code",
   "execution_count": 15,
   "id": "88028b1a",
   "metadata": {},
   "outputs": [
    {
     "data": {
      "text/html": [
       "<h4>NAIVE QUERY PLAN</h4><p>run <b>LazyFrame.show_graph()</b> to see the optimized version</p><?xml version=\"1.0\" encoding=\"UTF-8\" standalone=\"no\"?>\n",
       "<!DOCTYPE svg PUBLIC \"-//W3C//DTD SVG 1.1//EN\"\n",
       " \"http://www.w3.org/Graphics/SVG/1.1/DTD/svg11.dtd\">\n",
       "<!-- Generated by graphviz version 2.43.0 (0)\n",
       " -->\n",
       "<!-- Title: polars_query Pages: 1 -->\n",
       "<svg width=\"457pt\" height=\"190pt\"\n",
       " viewBox=\"0.00 0.00 457.00 190.00\" xmlns=\"http://www.w3.org/2000/svg\" xmlns:xlink=\"http://www.w3.org/1999/xlink\">\n",
       "<g id=\"graph0\" class=\"graph\" transform=\"scale(1 1) rotate(0) translate(4 186)\">\n",
       "<title>polars_query</title>\n",
       "<polygon fill=\"white\" stroke=\"transparent\" points=\"-4,4 -4,-186 453,-186 453,4 -4,4\"/>\n",
       "<!-- p1 -->\n",
       "<g id=\"node1\" class=\"node\">\n",
       "<title>p1</title>\n",
       "<polygon fill=\"none\" stroke=\"black\" points=\"311,-182 138,-182 138,-146 311,-146 311,-182\"/>\n",
       "<text text-anchor=\"middle\" x=\"224.5\" y=\"-160.3\" font-family=\"Times,serif\" font-size=\"14.00\">SLICE offset: 0; len: 5</text>\n",
       "</g>\n",
       "<!-- p2 -->\n",
       "<g id=\"node2\" class=\"node\">\n",
       "<title>p2</title>\n",
       "<polygon fill=\"none\" stroke=\"black\" points=\"251.5,-110 197.5,-110 197.5,-74 251.5,-74 251.5,-110\"/>\n",
       "<text text-anchor=\"middle\" x=\"224.5\" y=\"-88.3\" font-family=\"Times,serif\" font-size=\"14.00\">π 2/2</text>\n",
       "</g>\n",
       "<!-- p1&#45;&#45;p2 -->\n",
       "<g id=\"edge1\" class=\"edge\">\n",
       "<title>p1&#45;&#45;p2</title>\n",
       "<path fill=\"none\" stroke=\"black\" d=\"M224.5,-145.7C224.5,-134.85 224.5,-120.92 224.5,-110.1\"/>\n",
       "</g>\n",
       "<!-- p3 -->\n",
       "<g id=\"node3\" class=\"node\">\n",
       "<title>p3</title>\n",
       "<polygon fill=\"none\" stroke=\"black\" points=\"449,-38 0,-38 0,0 449,0 449,-38\"/>\n",
       "<text text-anchor=\"middle\" x=\"224.5\" y=\"-22.8\" font-family=\"Times,serif\" font-size=\"14.00\">Csv SCAN [/data/datasets/data/yellow_tripdata_2024&#45;03.csv]</text>\n",
       "<text text-anchor=\"middle\" x=\"224.5\" y=\"-7.8\" font-family=\"Times,serif\" font-size=\"14.00\">π */19;</text>\n",
       "</g>\n",
       "<!-- p2&#45;&#45;p3 -->\n",
       "<g id=\"edge2\" class=\"edge\">\n",
       "<title>p2&#45;&#45;p3</title>\n",
       "<path fill=\"none\" stroke=\"black\" d=\"M224.5,-73.81C224.5,-62.98 224.5,-49.01 224.5,-38.02\"/>\n",
       "</g>\n",
       "</g>\n",
       "</svg>\n"
      ],
      "text/plain": [
       "<LazyFrame at 0xE9C781F00820>"
      ]
     },
     "execution_count": 15,
     "metadata": {},
     "output_type": "execute_result"
    }
   ],
   "source": [
    "(lf.select([\"tpep_pickup_datetime\", \"tpep_dropoff_datetime\"]).head())"
   ]
  },
  {
   "cell_type": "markdown",
   "id": "9274c712",
   "metadata": {},
   "source": [
    "Again, you can see the naively sequential order of the query in the naive query plan:\n",
    "- `pl.scan_csv(...)`: scan the csv, selecting all columns (\"π \\*/19\") and filtering None (\"σ None\").\n",
    "- `.select(...)`: select two columns (\"π 2/2\").\n",
    "- `.head()`: Take the first five rows (\"SLICE offset: 0; len: 5\").\n",
    "\n",
    "But let's see what `Polars` will *actually* do to execute the query:"
   ]
  },
  {
   "cell_type": "code",
   "execution_count": 16,
   "id": "ed0dc8ed",
   "metadata": {},
   "outputs": [
    {
     "data": {
      "image/svg+xml": [
       "<svg xmlns=\"http://www.w3.org/2000/svg\" xmlns:xlink=\"http://www.w3.org/1999/xlink\" width=\"457pt\" height=\"118pt\" viewBox=\"0.00 0.00 457.00 118.00\">\n",
       "<g id=\"graph0\" class=\"graph\" transform=\"scale(1 1) rotate(0) translate(4 114)\">\n",
       "<title>polars_query</title>\n",
       "<polygon fill=\"white\" stroke=\"transparent\" points=\"-4,4 -4,-114 453,-114 453,4 -4,4\"/>\n",
       "<!-- p1 -->\n",
       "<g id=\"node1\" class=\"node\">\n",
       "<title>p1</title>\n",
       "<polygon fill=\"none\" stroke=\"black\" points=\"311,-110 138,-110 138,-74 311,-74 311,-110\"/>\n",
       "<text text-anchor=\"middle\" x=\"224.5\" y=\"-88.3\" font-family=\"Times,serif\" font-size=\"14.00\">SLICE offset: 0; len: 5</text>\n",
       "</g>\n",
       "<!-- p2 -->\n",
       "<g id=\"node2\" class=\"node\">\n",
       "<title>p2</title>\n",
       "<polygon fill=\"none\" stroke=\"black\" points=\"449,-38 0,-38 0,0 449,0 449,-38\"/>\n",
       "<text text-anchor=\"middle\" x=\"224.5\" y=\"-22.8\" font-family=\"Times,serif\" font-size=\"14.00\">Csv SCAN [/data/datasets/data/yellow_tripdata_2024-03.csv]</text>\n",
       "<text text-anchor=\"middle\" x=\"224.5\" y=\"-7.8\" font-family=\"Times,serif\" font-size=\"14.00\">π 2/19;</text>\n",
       "</g>\n",
       "<!-- p1&#45;&#45;p2 -->\n",
       "<g id=\"edge1\" class=\"edge\">\n",
       "<title>p1--p2</title>\n",
       "<path fill=\"none\" stroke=\"black\" d=\"M224.5,-73.81C224.5,-62.98 224.5,-49.01 224.5,-38.02\"/>\n",
       "</g>\n",
       "</g>\n",
       "</svg>"
      ],
      "text/plain": [
       "<IPython.core.display.SVG object>"
      ]
     },
     "metadata": {},
     "output_type": "display_data"
    }
   ],
   "source": [
    "(\n",
    "    lf.select([\"tpep_pickup_datetime\", \"tpep_dropoff_datetime\"])\n",
    "    .head()\n",
    "    .show_graph()\n",
    ")"
   ]
  },
  {
   "cell_type": "markdown",
   "id": "5990721c",
   "metadata": {},
   "source": [
    "It's different! Rather than the naive query plan, in which all 19 columns are selected during the data loading, only to be selected down to 2 columns immediately thereafter, the optimized query plan shows that the two columns `\"tpep_pickup_datetime\"` and `\"tpep_dropoff_datetime\"` are being selected **while** the CSV is being read! This means that **the other 17 columns are never loaded into memory**, giving your code a massive boost in storage performance, and run performance during reading.\n",
    "\n",
    "Let's run the query:"
   ]
  },
  {
   "cell_type": "code",
   "execution_count": 17,
   "id": "9929a89f",
   "metadata": {},
   "outputs": [
    {
     "data": {
      "text/html": [
       "<div><style>\n",
       ".dataframe > thead > tr,\n",
       ".dataframe > tbody > tr {\n",
       "  text-align: right;\n",
       "  white-space: pre-wrap;\n",
       "}\n",
       "</style>\n",
       "<small>shape: (5, 2)</small><table border=\"1\" class=\"dataframe\"><thead><tr><th>tpep_pickup_datetime</th><th>tpep_dropoff_datetime</th></tr><tr><td>datetime[ns]</td><td>datetime[ns]</td></tr></thead><tbody><tr><td>2024-03-01 00:18:51</td><td>2024-03-01 00:23:45</td></tr><tr><td>2024-03-01 00:26:00</td><td>2024-03-01 00:29:06</td></tr><tr><td>2024-03-01 00:09:22</td><td>2024-03-01 00:15:24</td></tr><tr><td>2024-03-01 00:33:45</td><td>2024-03-01 00:39:34</td></tr><tr><td>2024-03-01 00:05:43</td><td>2024-03-01 00:26:22</td></tr></tbody></table></div>"
      ],
      "text/plain": [
       "shape: (5, 2)\n",
       "┌──────────────────────┬───────────────────────┐\n",
       "│ tpep_pickup_datetime ┆ tpep_dropoff_datetime │\n",
       "│ ---                  ┆ ---                   │\n",
       "│ datetime[ns]         ┆ datetime[ns]          │\n",
       "╞══════════════════════╪═══════════════════════╡\n",
       "│ 2024-03-01 00:18:51  ┆ 2024-03-01 00:23:45   │\n",
       "│ 2024-03-01 00:26:00  ┆ 2024-03-01 00:29:06   │\n",
       "│ 2024-03-01 00:09:22  ┆ 2024-03-01 00:15:24   │\n",
       "│ 2024-03-01 00:33:45  ┆ 2024-03-01 00:39:34   │\n",
       "│ 2024-03-01 00:05:43  ┆ 2024-03-01 00:26:22   │\n",
       "└──────────────────────┴───────────────────────┘"
      ]
     },
     "execution_count": 17,
     "metadata": {},
     "output_type": "execute_result"
    }
   ],
   "source": [
    "(lf.select([\"tpep_pickup_datetime\", \"tpep_dropoff_datetime\"]).head().collect())"
   ]
  },
  {
   "cell_type": "markdown",
   "id": "7fa1d87d",
   "metadata": {},
   "source": [
    "And the result is identical to doing it with `DataFrame`! But before moving on, let's see--how much of a boost to run-performance did we get?"
   ]
  },
  {
   "cell_type": "code",
   "execution_count": 18,
   "id": "6df1d3d7",
   "metadata": {},
   "outputs": [
    {
     "name": "stdout",
     "output_type": "stream",
     "text": [
      "833 ms ± 12.7 ms per loop (mean ± std. dev. of 7 runs, 3 loops each)\n"
     ]
    }
   ],
   "source": [
    "%%timeit -n 3\n",
    "(\n",
    "    pl.read_csv(\n",
    "        local_csv,\n",
    "        schema_overrides={\n",
    "            \"tpep_pickup_datetime\": pl.Datetime,\n",
    "            \"tpep_dropoff_datetime\": pl.Datetime,\n",
    "        },\n",
    "    ).select([\"tpep_pickup_datetime\", \"tpep_dropoff_datetime\"])\n",
    ")"
   ]
  },
  {
   "cell_type": "code",
   "execution_count": 19,
   "id": "e6226416",
   "metadata": {},
   "outputs": [
    {
     "name": "stdout",
     "output_type": "stream",
     "text": [
      "308 ms ± 6.83 ms per loop (mean ± std. dev. of 7 runs, 3 loops each)\n"
     ]
    }
   ],
   "source": [
    "%%timeit -n 3\n",
    "(\n",
    "    pl.scan_csv(\n",
    "        local_csv,\n",
    "        schema_overrides={\n",
    "            \"tpep_pickup_datetime\": pl.Datetime,\n",
    "            \"tpep_dropoff_datetime\": pl.Datetime,\n",
    "        },\n",
    "    )\n",
    "    .select([\"tpep_pickup_datetime\", \"tpep_dropoff_datetime\"])\n",
    "    .collect()\n",
    ")"
   ]
  },
  {
   "cell_type": "markdown",
   "id": "8ff3d9f1",
   "metadata": {},
   "source": [
    "Almost a 3x speed increase!"
   ]
  },
  {
   "cell_type": "markdown",
   "id": "50b2f006",
   "metadata": {},
   "source": [
    "You'll also notice, again, that the syntax for selecting columns with the `polars.LazyFrame` is identical to the syntax for selecting columns with `polars.DataFrame`. In almost all cases, this is true in `Polars`--that the syntax for the two is the same, only that `polars.LazyFrame` requires a `.collect()` call to actually return data."
   ]
  },
  {
   "cell_type": "markdown",
   "id": "2d3b7c2b",
   "metadata": {},
   "source": [
    "It's also worth mentioning here that, while we can easily convert a `pl.LazyFrame` to a `pl.DataFrame` with `.collect()`, the same can be done in the opposite direction with `pl.DataFrame.lazy()`. Let's check it out:"
   ]
  },
  {
   "cell_type": "code",
   "execution_count": 20,
   "id": "5c0629fc",
   "metadata": {},
   "outputs": [
    {
     "data": {
      "text/plain": [
       "polars.lazyframe.frame.LazyFrame"
      ]
     },
     "execution_count": 20,
     "metadata": {},
     "output_type": "execute_result"
    }
   ],
   "source": [
    "df_as_lazy = pl.read_csv(\n",
    "    local_csv,\n",
    "    schema_overrides={\n",
    "        \"tpep_pickup_datetime\": pl.Datetime,\n",
    "        \"tpep_dropoff_datetime\": pl.Datetime,\n",
    "    },\n",
    ").lazy()\n",
    "type(df_as_lazy)"
   ]
  },
  {
   "cell_type": "markdown",
   "id": "21c228e3",
   "metadata": {},
   "source": [
    "Before moving onto the next module, let's try loading in one more file type: `parquet`."
   ]
  },
  {
   "cell_type": "markdown",
   "id": "2e17a1a3",
   "metadata": {},
   "source": [
    "## 2.5. Reading and Scanning From `parquet`"
   ]
  },
  {
   "cell_type": "markdown",
   "id": "49834d80",
   "metadata": {},
   "source": [
    "In the course introduction, we saw that `polars` uses the Apache Arrow columnar memory format, a memory format that's optimized for modern column-oriented analytics use-cases, where columns are more important than rows. Apache Arrow optimizes for modern column-oriented analytics use-cases by placing values in a column next to each other in memory, rather than placing values in a row next to each other in memory.\n",
    "\n",
    "Well, there's also a file type that uses the Apache Arrow columnar memory format--`parquet`. Due to this connection, `polars` and `parquet` work very well together, and are a great toolkit for data science.\n",
    "\n",
    "Let's try and read and scan data from parquet in the same way we did for `csv`:"
   ]
  },
  {
   "cell_type": "code",
   "execution_count": 21,
   "id": "1128812d",
   "metadata": {},
   "outputs": [
    {
     "data": {
      "text/html": [
       "<div><style>\n",
       ".dataframe > thead > tr,\n",
       ".dataframe > tbody > tr {\n",
       "  text-align: right;\n",
       "  white-space: pre-wrap;\n",
       "}\n",
       "</style>\n",
       "<small>shape: (5, 19)</small><table border=\"1\" class=\"dataframe\"><thead><tr><th>VendorID</th><th>tpep_pickup_datetime</th><th>tpep_dropoff_datetime</th><th>passenger_count</th><th>trip_distance</th><th>RatecodeID</th><th>store_and_fwd_flag</th><th>PULocationID</th><th>DOLocationID</th><th>payment_type</th><th>fare_amount</th><th>extra</th><th>mta_tax</th><th>tip_amount</th><th>tolls_amount</th><th>improvement_surcharge</th><th>total_amount</th><th>congestion_surcharge</th><th>Airport_fee</th></tr><tr><td>i32</td><td>datetime[ns]</td><td>datetime[ns]</td><td>i64</td><td>f64</td><td>i64</td><td>str</td><td>i32</td><td>i32</td><td>i64</td><td>f64</td><td>f64</td><td>f64</td><td>f64</td><td>f64</td><td>f64</td><td>f64</td><td>f64</td><td>f64</td></tr></thead><tbody><tr><td>1</td><td>2024-03-01 00:18:51</td><td>2024-03-01 00:23:45</td><td>0</td><td>1.3</td><td>1</td><td>&quot;N&quot;</td><td>142</td><td>239</td><td>1</td><td>8.6</td><td>3.5</td><td>0.5</td><td>2.7</td><td>0.0</td><td>1.0</td><td>16.3</td><td>2.5</td><td>0.0</td></tr><tr><td>1</td><td>2024-03-01 00:26:00</td><td>2024-03-01 00:29:06</td><td>0</td><td>1.1</td><td>1</td><td>&quot;N&quot;</td><td>238</td><td>24</td><td>1</td><td>7.2</td><td>3.5</td><td>0.5</td><td>3.0</td><td>0.0</td><td>1.0</td><td>15.2</td><td>2.5</td><td>0.0</td></tr><tr><td>2</td><td>2024-03-01 00:09:22</td><td>2024-03-01 00:15:24</td><td>1</td><td>0.86</td><td>1</td><td>&quot;N&quot;</td><td>263</td><td>75</td><td>2</td><td>7.9</td><td>1.0</td><td>0.5</td><td>0.0</td><td>0.0</td><td>1.0</td><td>10.4</td><td>0.0</td><td>0.0</td></tr><tr><td>2</td><td>2024-03-01 00:33:45</td><td>2024-03-01 00:39:34</td><td>1</td><td>0.82</td><td>1</td><td>&quot;N&quot;</td><td>164</td><td>162</td><td>1</td><td>7.9</td><td>1.0</td><td>0.5</td><td>1.29</td><td>0.0</td><td>1.0</td><td>14.19</td><td>2.5</td><td>0.0</td></tr><tr><td>1</td><td>2024-03-01 00:05:43</td><td>2024-03-01 00:26:22</td><td>0</td><td>4.9</td><td>1</td><td>&quot;N&quot;</td><td>263</td><td>7</td><td>2</td><td>25.4</td><td>3.5</td><td>0.5</td><td>0.0</td><td>0.0</td><td>1.0</td><td>30.4</td><td>2.5</td><td>0.0</td></tr></tbody></table></div>"
      ],
      "text/plain": [
       "shape: (5, 19)\n",
       "┌──────────┬───────────┬───────────┬───────────┬───┬───────────┬───────────┬───────────┬───────────┐\n",
       "│ VendorID ┆ tpep_pick ┆ tpep_drop ┆ passenger ┆ … ┆ improveme ┆ total_amo ┆ congestio ┆ Airport_f │\n",
       "│ ---      ┆ up_dateti ┆ off_datet ┆ _count    ┆   ┆ nt_surcha ┆ unt       ┆ n_surchar ┆ ee        │\n",
       "│ i32      ┆ me        ┆ ime       ┆ ---       ┆   ┆ rge       ┆ ---       ┆ ge        ┆ ---       │\n",
       "│          ┆ ---       ┆ ---       ┆ i64       ┆   ┆ ---       ┆ f64       ┆ ---       ┆ f64       │\n",
       "│          ┆ datetime[ ┆ datetime[ ┆           ┆   ┆ f64       ┆           ┆ f64       ┆           │\n",
       "│          ┆ ns]       ┆ ns]       ┆           ┆   ┆           ┆           ┆           ┆           │\n",
       "╞══════════╪═══════════╪═══════════╪═══════════╪═══╪═══════════╪═══════════╪═══════════╪═══════════╡\n",
       "│ 1        ┆ 2024-03-0 ┆ 2024-03-0 ┆ 0         ┆ … ┆ 1.0       ┆ 16.3      ┆ 2.5       ┆ 0.0       │\n",
       "│          ┆ 1         ┆ 1         ┆           ┆   ┆           ┆           ┆           ┆           │\n",
       "│          ┆ 00:18:51  ┆ 00:23:45  ┆           ┆   ┆           ┆           ┆           ┆           │\n",
       "│ 1        ┆ 2024-03-0 ┆ 2024-03-0 ┆ 0         ┆ … ┆ 1.0       ┆ 15.2      ┆ 2.5       ┆ 0.0       │\n",
       "│          ┆ 1         ┆ 1         ┆           ┆   ┆           ┆           ┆           ┆           │\n",
       "│          ┆ 00:26:00  ┆ 00:29:06  ┆           ┆   ┆           ┆           ┆           ┆           │\n",
       "│ 2        ┆ 2024-03-0 ┆ 2024-03-0 ┆ 1         ┆ … ┆ 1.0       ┆ 10.4      ┆ 0.0       ┆ 0.0       │\n",
       "│          ┆ 1         ┆ 1         ┆           ┆   ┆           ┆           ┆           ┆           │\n",
       "│          ┆ 00:09:22  ┆ 00:15:24  ┆           ┆   ┆           ┆           ┆           ┆           │\n",
       "│ 2        ┆ 2024-03-0 ┆ 2024-03-0 ┆ 1         ┆ … ┆ 1.0       ┆ 14.19     ┆ 2.5       ┆ 0.0       │\n",
       "│          ┆ 1         ┆ 1         ┆           ┆   ┆           ┆           ┆           ┆           │\n",
       "│          ┆ 00:33:45  ┆ 00:39:34  ┆           ┆   ┆           ┆           ┆           ┆           │\n",
       "│ 1        ┆ 2024-03-0 ┆ 2024-03-0 ┆ 0         ┆ … ┆ 1.0       ┆ 30.4      ┆ 2.5       ┆ 0.0       │\n",
       "│          ┆ 1         ┆ 1         ┆           ┆   ┆           ┆           ┆           ┆           │\n",
       "│          ┆ 00:05:43  ┆ 00:26:22  ┆           ┆   ┆           ┆           ┆           ┆           │\n",
       "└──────────┴───────────┴───────────┴───────────┴───┴───────────┴───────────┴───────────┴───────────┘"
      ]
     },
     "execution_count": 21,
     "metadata": {},
     "output_type": "execute_result"
    }
   ],
   "source": [
    "df = pl.read_parquet(local_parquet)\n",
    "df.head()"
   ]
  },
  {
   "cell_type": "markdown",
   "id": "c5d6d403",
   "metadata": {},
   "source": [
    "Something's changed--the `\"tpep_pickup_datetime\"` and `\"tpep_dropoff_datetime\"` get automatically read in as `datetime` data type! But why is that?\n",
    "\n",
    "Similar to how `polars` places a high importance on data types, so does `parquet`; with this, it's possible to store columns' data types alongside the data in a `parquet` file. This is something that `csv` just can't do!\n",
    "\n",
    "And, of course, there's also `scan_parquet()`:"
   ]
  },
  {
   "cell_type": "code",
   "execution_count": 22,
   "id": "74446421",
   "metadata": {},
   "outputs": [
    {
     "data": {
      "text/html": [
       "<div><style>\n",
       ".dataframe > thead > tr,\n",
       ".dataframe > tbody > tr {\n",
       "  text-align: right;\n",
       "  white-space: pre-wrap;\n",
       "}\n",
       "</style>\n",
       "<small>shape: (5, 19)</small><table border=\"1\" class=\"dataframe\"><thead><tr><th>VendorID</th><th>tpep_pickup_datetime</th><th>tpep_dropoff_datetime</th><th>passenger_count</th><th>trip_distance</th><th>RatecodeID</th><th>store_and_fwd_flag</th><th>PULocationID</th><th>DOLocationID</th><th>payment_type</th><th>fare_amount</th><th>extra</th><th>mta_tax</th><th>tip_amount</th><th>tolls_amount</th><th>improvement_surcharge</th><th>total_amount</th><th>congestion_surcharge</th><th>Airport_fee</th></tr><tr><td>i32</td><td>datetime[ns]</td><td>datetime[ns]</td><td>i64</td><td>f64</td><td>i64</td><td>str</td><td>i32</td><td>i32</td><td>i64</td><td>f64</td><td>f64</td><td>f64</td><td>f64</td><td>f64</td><td>f64</td><td>f64</td><td>f64</td><td>f64</td></tr></thead><tbody><tr><td>1</td><td>2024-03-01 00:18:51</td><td>2024-03-01 00:23:45</td><td>0</td><td>1.3</td><td>1</td><td>&quot;N&quot;</td><td>142</td><td>239</td><td>1</td><td>8.6</td><td>3.5</td><td>0.5</td><td>2.7</td><td>0.0</td><td>1.0</td><td>16.3</td><td>2.5</td><td>0.0</td></tr><tr><td>1</td><td>2024-03-01 00:26:00</td><td>2024-03-01 00:29:06</td><td>0</td><td>1.1</td><td>1</td><td>&quot;N&quot;</td><td>238</td><td>24</td><td>1</td><td>7.2</td><td>3.5</td><td>0.5</td><td>3.0</td><td>0.0</td><td>1.0</td><td>15.2</td><td>2.5</td><td>0.0</td></tr><tr><td>2</td><td>2024-03-01 00:09:22</td><td>2024-03-01 00:15:24</td><td>1</td><td>0.86</td><td>1</td><td>&quot;N&quot;</td><td>263</td><td>75</td><td>2</td><td>7.9</td><td>1.0</td><td>0.5</td><td>0.0</td><td>0.0</td><td>1.0</td><td>10.4</td><td>0.0</td><td>0.0</td></tr><tr><td>2</td><td>2024-03-01 00:33:45</td><td>2024-03-01 00:39:34</td><td>1</td><td>0.82</td><td>1</td><td>&quot;N&quot;</td><td>164</td><td>162</td><td>1</td><td>7.9</td><td>1.0</td><td>0.5</td><td>1.29</td><td>0.0</td><td>1.0</td><td>14.19</td><td>2.5</td><td>0.0</td></tr><tr><td>1</td><td>2024-03-01 00:05:43</td><td>2024-03-01 00:26:22</td><td>0</td><td>4.9</td><td>1</td><td>&quot;N&quot;</td><td>263</td><td>7</td><td>2</td><td>25.4</td><td>3.5</td><td>0.5</td><td>0.0</td><td>0.0</td><td>1.0</td><td>30.4</td><td>2.5</td><td>0.0</td></tr></tbody></table></div>"
      ],
      "text/plain": [
       "shape: (5, 19)\n",
       "┌──────────┬───────────┬───────────┬───────────┬───┬───────────┬───────────┬───────────┬───────────┐\n",
       "│ VendorID ┆ tpep_pick ┆ tpep_drop ┆ passenger ┆ … ┆ improveme ┆ total_amo ┆ congestio ┆ Airport_f │\n",
       "│ ---      ┆ up_dateti ┆ off_datet ┆ _count    ┆   ┆ nt_surcha ┆ unt       ┆ n_surchar ┆ ee        │\n",
       "│ i32      ┆ me        ┆ ime       ┆ ---       ┆   ┆ rge       ┆ ---       ┆ ge        ┆ ---       │\n",
       "│          ┆ ---       ┆ ---       ┆ i64       ┆   ┆ ---       ┆ f64       ┆ ---       ┆ f64       │\n",
       "│          ┆ datetime[ ┆ datetime[ ┆           ┆   ┆ f64       ┆           ┆ f64       ┆           │\n",
       "│          ┆ ns]       ┆ ns]       ┆           ┆   ┆           ┆           ┆           ┆           │\n",
       "╞══════════╪═══════════╪═══════════╪═══════════╪═══╪═══════════╪═══════════╪═══════════╪═══════════╡\n",
       "│ 1        ┆ 2024-03-0 ┆ 2024-03-0 ┆ 0         ┆ … ┆ 1.0       ┆ 16.3      ┆ 2.5       ┆ 0.0       │\n",
       "│          ┆ 1         ┆ 1         ┆           ┆   ┆           ┆           ┆           ┆           │\n",
       "│          ┆ 00:18:51  ┆ 00:23:45  ┆           ┆   ┆           ┆           ┆           ┆           │\n",
       "│ 1        ┆ 2024-03-0 ┆ 2024-03-0 ┆ 0         ┆ … ┆ 1.0       ┆ 15.2      ┆ 2.5       ┆ 0.0       │\n",
       "│          ┆ 1         ┆ 1         ┆           ┆   ┆           ┆           ┆           ┆           │\n",
       "│          ┆ 00:26:00  ┆ 00:29:06  ┆           ┆   ┆           ┆           ┆           ┆           │\n",
       "│ 2        ┆ 2024-03-0 ┆ 2024-03-0 ┆ 1         ┆ … ┆ 1.0       ┆ 10.4      ┆ 0.0       ┆ 0.0       │\n",
       "│          ┆ 1         ┆ 1         ┆           ┆   ┆           ┆           ┆           ┆           │\n",
       "│          ┆ 00:09:22  ┆ 00:15:24  ┆           ┆   ┆           ┆           ┆           ┆           │\n",
       "│ 2        ┆ 2024-03-0 ┆ 2024-03-0 ┆ 1         ┆ … ┆ 1.0       ┆ 14.19     ┆ 2.5       ┆ 0.0       │\n",
       "│          ┆ 1         ┆ 1         ┆           ┆   ┆           ┆           ┆           ┆           │\n",
       "│          ┆ 00:33:45  ┆ 00:39:34  ┆           ┆   ┆           ┆           ┆           ┆           │\n",
       "│ 1        ┆ 2024-03-0 ┆ 2024-03-0 ┆ 0         ┆ … ┆ 1.0       ┆ 30.4      ┆ 2.5       ┆ 0.0       │\n",
       "│          ┆ 1         ┆ 1         ┆           ┆   ┆           ┆           ┆           ┆           │\n",
       "│          ┆ 00:05:43  ┆ 00:26:22  ┆           ┆   ┆           ┆           ┆           ┆           │\n",
       "└──────────┴───────────┴───────────┴───────────┴───┴───────────┴───────────┴───────────┴───────────┘"
      ]
     },
     "execution_count": 22,
     "metadata": {},
     "output_type": "execute_result"
    }
   ],
   "source": [
    "pl.scan_parquet(local_parquet).head().collect()"
   ]
  },
  {
   "cell_type": "code",
   "execution_count": 23,
   "id": "b47d9723",
   "metadata": {},
   "outputs": [
    {
     "name": "stdout",
     "output_type": "stream",
     "text": [
      "175 ms ± 5.9 ms per loop (mean ± std. dev. of 7 runs, 3 loops each)\n"
     ]
    }
   ],
   "source": [
    "%%timeit -n 3\n",
    "(\n",
    "    pl.read_parquet(\n",
    "        local_parquet,\n",
    "    ).select([\"tpep_pickup_datetime\", \"tpep_dropoff_datetime\"])\n",
    ")"
   ]
  },
  {
   "cell_type": "code",
   "execution_count": 24,
   "id": "0831e7ef",
   "metadata": {},
   "outputs": [
    {
     "name": "stdout",
     "output_type": "stream",
     "text": [
      "53.3 ms ± 3.26 ms per loop (mean ± std. dev. of 7 runs, 3 loops each)\n"
     ]
    }
   ],
   "source": [
    "%%timeit -n 3\n",
    "(\n",
    "    pl.scan_parquet(\n",
    "        local_parquet,\n",
    "    )\n",
    "    .select([\"tpep_pickup_datetime\", \"tpep_dropoff_datetime\"])\n",
    "    .collect()\n",
    ")"
   ]
  },
  {
   "cell_type": "markdown",
   "id": "421516e1",
   "metadata": {},
   "source": [
    "## 2.6. Conclusion"
   ]
  },
  {
   "cell_type": "markdown",
   "id": "57a52b2f",
   "metadata": {},
   "source": [
    "In this module, we've learned:\n",
    "- How to create a dataframe from scratch;\n",
    "- How to load data to a dataframe, both from `csv` and from `parquet`, and display some basic information about it;\n",
    "- How to work with in-memory mode vs lazy mode, and the performance difference that can be expected beteween the two;\n",
    "- How to begin writing queries, with the `select` function, and how this is executed differently in in-memory vs lazy mode."
   ]
  },
  {
   "cell_type": "markdown",
   "id": "3a72630a",
   "metadata": {},
   "source": [
    "In the next module, \"Data Manipulation I: Basics\", we'll go deeper into manipulating dataframes. As a note, since this course has a more practical focus, from here on out only `DataFrame`s will be used, for syntactic brevity. As noted in this module, however, note that `DataFrame` and `LazyFrame` can almost always be used interchangeably."
   ]
  }
 ],
 "metadata": {
  "kernelspec": {
   "display_name": "polars",
   "language": "python",
   "name": "python3"
  },
  "language_info": {
   "codemirror_mode": {
    "name": "ipython",
    "version": 3
   },
   "file_extension": ".py",
   "mimetype": "text/x-python",
   "name": "python",
   "nbconvert_exporter": "python",
   "pygments_lexer": "ipython3",
   "version": "3.10.14"
  }
 },
 "nbformat": 4,
 "nbformat_minor": 5
}
