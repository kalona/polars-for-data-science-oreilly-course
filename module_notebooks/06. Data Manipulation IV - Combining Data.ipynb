{
 "cells": [
  {
   "cell_type": "markdown",
   "id": "1653908d",
   "metadata": {},
   "source": [
    "# 6. Data Manipulation IV - Combining Data"
   ]
  },
  {
   "cell_type": "markdown",
   "id": "97a37bab",
   "metadata": {},
   "source": [
    "The goal of this module is to learn to perform Polars queries that involve combining data. More specifically, we'll cover two new Query Statements:\n",
    "1. Joining dataframes with `.join()`.\n",
    "2. Concatenating dataframes with `.concat()`."
   ]
  },
  {
   "cell_type": "markdown",
   "id": "f3a90b5b",
   "metadata": {},
   "source": [
    "But first we import `polars`..."
   ]
  },
  {
   "cell_type": "code",
   "execution_count": 1,
   "id": "9f2da0ab",
   "metadata": {},
   "outputs": [
    {
     "name": "stdout",
     "output_type": "stream",
     "text": [
      "File /data/datasets/data/yellow_tripdata_2024-03.parquet already exists, skipping download.\n"
     ]
    }
   ],
   "source": [
    "import polars as pl\n",
    "\n",
    "%run setup.py"
   ]
  },
  {
   "cell_type": "markdown",
   "id": "b346457f",
   "metadata": {},
   "source": [
    "... and load the data, this time changing the name from `df` to `march_yellow_rides_df` for what's in store in this module."
   ]
  },
  {
   "cell_type": "code",
   "execution_count": 3,
   "id": "b85b1837",
   "metadata": {},
   "outputs": [],
   "source": [
    "yellow_rides_column_rename_mapping = {\n",
    "    \"VendorID\": \"vendor_id\",\n",
    "    \"RatecodeID\": \"ratecode_id\",\n",
    "    \"PULocationID\": \"pu_location_id\",\n",
    "    \"DOLocationID\": \"do_location_id\",\n",
    "    \"Airport_fee\": \"airport_fee\",\n",
    "}\n",
    "march_yellow_rides_df = pl.read_parquet(local_parquet).rename(\n",
    "    yellow_rides_column_rename_mapping\n",
    ")"
   ]
  },
  {
   "cell_type": "markdown",
   "id": "1109c3fe",
   "metadata": {},
   "source": [
    "## 6.1. Joining Dataframes"
   ]
  },
  {
   "cell_type": "markdown",
   "id": "fd114a72",
   "metadata": {},
   "source": [
    "In the previous module, we were interested in seeing some summary statistics about each of the different pickup location IDs:"
   ]
  },
  {
   "cell_type": "code",
   "execution_count": 4,
   "id": "12bff3c0",
   "metadata": {},
   "outputs": [
    {
     "data": {
      "text/html": [
       "<div><style>\n",
       ".dataframe > thead > tr,\n",
       ".dataframe > tbody > tr {\n",
       "  text-align: right;\n",
       "  white-space: pre-wrap;\n",
       "}\n",
       "</style>\n",
       "<small>shape: (5, 5)</small><table border=\"1\" class=\"dataframe\"><thead><tr><th>pu_location_id</th><th>count_trips</th><th>trip_distance_min</th><th>trip_distance_max</th><th>trip_distance_mean</th></tr><tr><td>i32</td><td>u32</td><td>f64</td><td>f64</td><td>f64</td></tr></thead><tbody><tr><td>161</td><td>163269</td><td>0.0</td><td>51066.77</td><td>2.692728</td></tr><tr><td>132</td><td>157706</td><td>0.0</td><td>9211.95</td><td>15.76677</td></tr><tr><td>237</td><td>155631</td><td>0.0</td><td>44866.77</td><td>2.096025</td></tr><tr><td>236</td><td>146044</td><td>0.0</td><td>109619.96</td><td>3.481146</td></tr><tr><td>162</td><td>123805</td><td>0.0</td><td>57408.32</td><td>3.030781</td></tr></tbody></table></div>"
      ],
      "text/plain": [
       "shape: (5, 5)\n",
       "┌────────────────┬─────────────┬───────────────────┬───────────────────┬────────────────────┐\n",
       "│ pu_location_id ┆ count_trips ┆ trip_distance_min ┆ trip_distance_max ┆ trip_distance_mean │\n",
       "│ ---            ┆ ---         ┆ ---               ┆ ---               ┆ ---                │\n",
       "│ i32            ┆ u32         ┆ f64               ┆ f64               ┆ f64                │\n",
       "╞════════════════╪═════════════╪═══════════════════╪═══════════════════╪════════════════════╡\n",
       "│ 161            ┆ 163269      ┆ 0.0               ┆ 51066.77          ┆ 2.692728           │\n",
       "│ 132            ┆ 157706      ┆ 0.0               ┆ 9211.95           ┆ 15.76677           │\n",
       "│ 237            ┆ 155631      ┆ 0.0               ┆ 44866.77          ┆ 2.096025           │\n",
       "│ 236            ┆ 146044      ┆ 0.0               ┆ 109619.96         ┆ 3.481146           │\n",
       "│ 162            ┆ 123805      ┆ 0.0               ┆ 57408.32          ┆ 3.030781           │\n",
       "└────────────────┴─────────────┴───────────────────┴───────────────────┴────────────────────┘"
      ]
     },
     "execution_count": 4,
     "metadata": {},
     "output_type": "execute_result"
    }
   ],
   "source": [
    "location_id_summary_df = (\n",
    "    march_yellow_rides_df.group_by(\"pu_location_id\")\n",
    "    .agg(\n",
    "        pl.len().alias(\"count_trips\"),\n",
    "        pl.col(\"trip_distance\").min().name.suffix(\"_min\"),\n",
    "        pl.col(\"trip_distance\").max().name.suffix(\"_max\"),\n",
    "        pl.col(\"trip_distance\").mean().name.suffix(\"_mean\"),\n",
    "    )\n",
    "    .sort(pl.col(\"count_trips\"), descending=True)\n",
    ")\n",
    "location_id_summary_df.head()"
   ]
  },
  {
   "cell_type": "markdown",
   "id": "efcd2b73",
   "metadata": {},
   "source": [
    "This is nice, but if we try to present these results to any sort of business stakeholder, the first thing they'll say is \"What are these location IDs? What is their actual name?\" Thankfully, that information is stored in another file, `\"taxi_zone_lookup.parquet\"`. Let's load it in..."
   ]
  },
  {
   "cell_type": "code",
   "execution_count": 4,
   "id": "5af5a206",
   "metadata": {},
   "outputs": [
    {
     "data": {
      "text/html": [
       "<div><style>\n",
       ".dataframe > thead > tr,\n",
       ".dataframe > tbody > tr {\n",
       "  text-align: right;\n",
       "  white-space: pre-wrap;\n",
       "}\n",
       "</style>\n",
       "<small>shape: (5, 4)</small><table border=\"1\" class=\"dataframe\"><thead><tr><th>LocationID</th><th>Borough</th><th>Zone</th><th>service_zone</th></tr><tr><td>i32</td><td>str</td><td>str</td><td>str</td></tr></thead><tbody><tr><td>1</td><td>&quot;EWR&quot;</td><td>&quot;Newark Airport&quot;</td><td>&quot;EWR&quot;</td></tr><tr><td>2</td><td>&quot;Queens&quot;</td><td>&quot;Jamaica Bay&quot;</td><td>&quot;Boro Zone&quot;</td></tr><tr><td>3</td><td>&quot;Bronx&quot;</td><td>&quot;Allerton/Pelham Gardens&quot;</td><td>&quot;Boro Zone&quot;</td></tr><tr><td>4</td><td>&quot;Manhattan&quot;</td><td>&quot;Alphabet City&quot;</td><td>&quot;Yellow Zone&quot;</td></tr><tr><td>5</td><td>&quot;Staten Island&quot;</td><td>&quot;Arden Heights&quot;</td><td>&quot;Boro Zone&quot;</td></tr></tbody></table></div>"
      ],
      "text/plain": [
       "shape: (5, 4)\n",
       "┌────────────┬───────────────┬─────────────────────────┬──────────────┐\n",
       "│ LocationID ┆ Borough       ┆ Zone                    ┆ service_zone │\n",
       "│ ---        ┆ ---           ┆ ---                     ┆ ---          │\n",
       "│ i32        ┆ str           ┆ str                     ┆ str          │\n",
       "╞════════════╪═══════════════╪═════════════════════════╪══════════════╡\n",
       "│ 1          ┆ EWR           ┆ Newark Airport          ┆ EWR          │\n",
       "│ 2          ┆ Queens        ┆ Jamaica Bay             ┆ Boro Zone    │\n",
       "│ 3          ┆ Bronx         ┆ Allerton/Pelham Gardens ┆ Boro Zone    │\n",
       "│ 4          ┆ Manhattan     ┆ Alphabet City           ┆ Yellow Zone  │\n",
       "│ 5          ┆ Staten Island ┆ Arden Heights           ┆ Boro Zone    │\n",
       "└────────────┴───────────────┴─────────────────────────┴──────────────┘"
      ]
     },
     "execution_count": 4,
     "metadata": {},
     "output_type": "execute_result"
    }
   ],
   "source": [
    "zones_df = pl.read_parquet(\"../data/taxi_zone_lookup.parquet\")\n",
    "zones_df.head()"
   ]
  },
  {
   "cell_type": "markdown",
   "id": "aa2b8b6e",
   "metadata": {},
   "source": [
    "This dataframe contains information about each location ID, and the `str` names for the Borough, Zone, and service zone that each location ID represents. Let's quickly rename the columns to make them snake_case like those of `march_yellow_rides_df`:"
   ]
  },
  {
   "cell_type": "code",
   "execution_count": 5,
   "id": "7aac4ce7",
   "metadata": {},
   "outputs": [
    {
     "data": {
      "text/html": [
       "<div><style>\n",
       ".dataframe > thead > tr,\n",
       ".dataframe > tbody > tr {\n",
       "  text-align: right;\n",
       "  white-space: pre-wrap;\n",
       "}\n",
       "</style>\n",
       "<small>shape: (5, 4)</small><table border=\"1\" class=\"dataframe\"><thead><tr><th>location_id</th><th>borough</th><th>zone</th><th>service_zone</th></tr><tr><td>i32</td><td>str</td><td>str</td><td>str</td></tr></thead><tbody><tr><td>1</td><td>&quot;EWR&quot;</td><td>&quot;Newark Airport&quot;</td><td>&quot;EWR&quot;</td></tr><tr><td>2</td><td>&quot;Queens&quot;</td><td>&quot;Jamaica Bay&quot;</td><td>&quot;Boro Zone&quot;</td></tr><tr><td>3</td><td>&quot;Bronx&quot;</td><td>&quot;Allerton/Pelham Gardens&quot;</td><td>&quot;Boro Zone&quot;</td></tr><tr><td>4</td><td>&quot;Manhattan&quot;</td><td>&quot;Alphabet City&quot;</td><td>&quot;Yellow Zone&quot;</td></tr><tr><td>5</td><td>&quot;Staten Island&quot;</td><td>&quot;Arden Heights&quot;</td><td>&quot;Boro Zone&quot;</td></tr></tbody></table></div>"
      ],
      "text/plain": [
       "shape: (5, 4)\n",
       "┌─────────────┬───────────────┬─────────────────────────┬──────────────┐\n",
       "│ location_id ┆ borough       ┆ zone                    ┆ service_zone │\n",
       "│ ---         ┆ ---           ┆ ---                     ┆ ---          │\n",
       "│ i32         ┆ str           ┆ str                     ┆ str          │\n",
       "╞═════════════╪═══════════════╪═════════════════════════╪══════════════╡\n",
       "│ 1           ┆ EWR           ┆ Newark Airport          ┆ EWR          │\n",
       "│ 2           ┆ Queens        ┆ Jamaica Bay             ┆ Boro Zone    │\n",
       "│ 3           ┆ Bronx         ┆ Allerton/Pelham Gardens ┆ Boro Zone    │\n",
       "│ 4           ┆ Manhattan     ┆ Alphabet City           ┆ Yellow Zone  │\n",
       "│ 5           ┆ Staten Island ┆ Arden Heights           ┆ Boro Zone    │\n",
       "└─────────────┴───────────────┴─────────────────────────┴──────────────┘"
      ]
     },
     "execution_count": 5,
     "metadata": {},
     "output_type": "execute_result"
    }
   ],
   "source": [
    "zones_df = (\n",
    "    zones_df\n",
    "    .rename({\n",
    "        \"LocationID\": \"location_id\",\n",
    "        \"Borough\": \"borough\",\n",
    "        \"Zone\": \"zone\",\n",
    "    })\n",
    ")\n",
    "zones_df.head()"
   ]
  },
  {
   "cell_type": "markdown",
   "id": "ea448c9b",
   "metadata": {},
   "source": [
    "Perfect."
   ]
  },
  {
   "cell_type": "markdown",
   "id": "af435413",
   "metadata": {},
   "source": [
    "If we want to now combine it with the summary statistics we just computed, we can do so by **joining** it into the summary statistics table, using `pl.DataFrame.join()`:"
   ]
  },
  {
   "cell_type": "code",
   "execution_count": 6,
   "id": "76339add",
   "metadata": {},
   "outputs": [
    {
     "data": {
      "text/html": [
       "<div><style>\n",
       ".dataframe > thead > tr,\n",
       ".dataframe > tbody > tr {\n",
       "  text-align: right;\n",
       "  white-space: pre-wrap;\n",
       "}\n",
       "</style>\n",
       "<small>shape: (5, 8)</small><table border=\"1\" class=\"dataframe\"><thead><tr><th>pu_location_id</th><th>count_trips</th><th>trip_distance_min</th><th>trip_distance_max</th><th>trip_distance_mean</th><th>borough</th><th>zone</th><th>service_zone</th></tr><tr><td>i32</td><td>u32</td><td>f64</td><td>f64</td><td>f64</td><td>str</td><td>str</td><td>str</td></tr></thead><tbody><tr><td>1</td><td>372</td><td>0.0</td><td>35.75</td><td>1.34578</td><td>&quot;EWR&quot;</td><td>&quot;Newark Airport&quot;</td><td>&quot;EWR&quot;</td></tr><tr><td>2</td><td>8</td><td>0.0</td><td>20.23</td><td>11.98</td><td>&quot;Queens&quot;</td><td>&quot;Jamaica Bay&quot;</td><td>&quot;Boro Zone&quot;</td></tr><tr><td>3</td><td>151</td><td>0.0</td><td>35.1</td><td>7.159073</td><td>&quot;Bronx&quot;</td><td>&quot;Allerton/Pelham Gardens&quot;</td><td>&quot;Boro Zone&quot;</td></tr><tr><td>4</td><td>7586</td><td>0.0</td><td>37.6</td><td>2.742518</td><td>&quot;Manhattan&quot;</td><td>&quot;Alphabet City&quot;</td><td>&quot;Yellow Zone&quot;</td></tr><tr><td>5</td><td>1</td><td>0.0</td><td>0.0</td><td>0.0</td><td>&quot;Staten Island&quot;</td><td>&quot;Arden Heights&quot;</td><td>&quot;Boro Zone&quot;</td></tr></tbody></table></div>"
      ],
      "text/plain": [
       "shape: (5, 8)\n",
       "┌────────────┬────────────┬────────────┬───────────┬───────────┬───────────┬───────────┬───────────┐\n",
       "│ pu_locatio ┆ count_trip ┆ trip_dista ┆ trip_dist ┆ trip_dist ┆ borough   ┆ zone      ┆ service_z │\n",
       "│ n_id       ┆ s          ┆ nce_min    ┆ ance_max  ┆ ance_mean ┆ ---       ┆ ---       ┆ one       │\n",
       "│ ---        ┆ ---        ┆ ---        ┆ ---       ┆ ---       ┆ str       ┆ str       ┆ ---       │\n",
       "│ i32        ┆ u32        ┆ f64        ┆ f64       ┆ f64       ┆           ┆           ┆ str       │\n",
       "╞════════════╪════════════╪════════════╪═══════════╪═══════════╪═══════════╪═══════════╪═══════════╡\n",
       "│ 1          ┆ 372        ┆ 0.0        ┆ 35.75     ┆ 1.34578   ┆ EWR       ┆ Newark    ┆ EWR       │\n",
       "│            ┆            ┆            ┆           ┆           ┆           ┆ Airport   ┆           │\n",
       "│ 2          ┆ 8          ┆ 0.0        ┆ 20.23     ┆ 11.98     ┆ Queens    ┆ Jamaica   ┆ Boro Zone │\n",
       "│            ┆            ┆            ┆           ┆           ┆           ┆ Bay       ┆           │\n",
       "│ 3          ┆ 151        ┆ 0.0        ┆ 35.1      ┆ 7.159073  ┆ Bronx     ┆ Allerton/ ┆ Boro Zone │\n",
       "│            ┆            ┆            ┆           ┆           ┆           ┆ Pelham    ┆           │\n",
       "│            ┆            ┆            ┆           ┆           ┆           ┆ Gardens   ┆           │\n",
       "│ 4          ┆ 7586       ┆ 0.0        ┆ 37.6      ┆ 2.742518  ┆ Manhattan ┆ Alphabet  ┆ Yellow    │\n",
       "│            ┆            ┆            ┆           ┆           ┆           ┆ City      ┆ Zone      │\n",
       "│ 5          ┆ 1          ┆ 0.0        ┆ 0.0       ┆ 0.0       ┆ Staten    ┆ Arden     ┆ Boro Zone │\n",
       "│            ┆            ┆            ┆           ┆           ┆ Island    ┆ Heights   ┆           │\n",
       "└────────────┴────────────┴────────────┴───────────┴───────────┴───────────┴───────────┴───────────┘"
      ]
     },
     "execution_count": 6,
     "metadata": {},
     "output_type": "execute_result"
    }
   ],
   "source": [
    "(\n",
    "    location_id_summary_df\n",
    "    .join(\n",
    "        zones_df,\n",
    "        left_on=\"pu_location_id\",\n",
    "        right_on=\"location_id\"\n",
    "    )\n",
    "    .head()\n",
    ")"
   ]
  },
  {
   "cell_type": "markdown",
   "id": "c575a651",
   "metadata": {},
   "source": [
    "Nice! The data from `zones_df` has been joined into our zone-summary table, and we can see the `\"borough\"`, `\"zone\"`, and `\"service_zone\"` alongside the `\"pu_location_id\"`! `polars`'s `.join()` functionality has all the same functionality you may be familiar with from Pandas and/or SQL:\n",
    "1. `location_id_summary_df` specifies the **left** table for the join.\n",
    "2. `.join(...)` starts the join.\n",
    "3. `zones_df` specifies the **right** table for the join.\n",
    "4. `left_on` specifies the column to join on from `location_id_summary_df`.\n",
    "5. `right_on` specifies the column to join on from `zones_df`."
   ]
  },
  {
   "cell_type": "markdown",
   "id": "41cb3caa",
   "metadata": {},
   "source": [
    "Just to be clear, though, we didn't have to do the aggregation to `location_id_summary_df`, first; we can join directly into the original `march_yellow_rides_df`:"
   ]
  },
  {
   "cell_type": "code",
   "execution_count": 7,
   "id": "8c6e5102",
   "metadata": {},
   "outputs": [
    {
     "data": {
      "text/html": [
       "<div><style>\n",
       ".dataframe > thead > tr,\n",
       ".dataframe > tbody > tr {\n",
       "  text-align: right;\n",
       "  white-space: pre-wrap;\n",
       "}\n",
       "</style>\n",
       "<small>shape: (5, 8)</small><table border=\"1\" class=\"dataframe\"><thead><tr><th>tpep_pickup_datetime</th><th>pu_location_id</th><th>do_location_id</th><th>trip_distance</th><th>total_amount</th><th>borough</th><th>zone</th><th>service_zone</th></tr><tr><td>datetime[ns]</td><td>i32</td><td>i32</td><td>f64</td><td>f64</td><td>str</td><td>str</td><td>str</td></tr></thead><tbody><tr><td>2024-03-01 00:18:51</td><td>142</td><td>239</td><td>1.3</td><td>16.3</td><td>&quot;Manhattan&quot;</td><td>&quot;Lincoln Square East&quot;</td><td>&quot;Yellow Zone&quot;</td></tr><tr><td>2024-03-01 00:26:00</td><td>238</td><td>24</td><td>1.1</td><td>15.2</td><td>&quot;Manhattan&quot;</td><td>&quot;Upper West Side North&quot;</td><td>&quot;Yellow Zone&quot;</td></tr><tr><td>2024-03-01 00:09:22</td><td>263</td><td>75</td><td>0.86</td><td>10.4</td><td>&quot;Manhattan&quot;</td><td>&quot;Yorkville West&quot;</td><td>&quot;Yellow Zone&quot;</td></tr><tr><td>2024-03-01 00:33:45</td><td>164</td><td>162</td><td>0.82</td><td>14.19</td><td>&quot;Manhattan&quot;</td><td>&quot;Midtown South&quot;</td><td>&quot;Yellow Zone&quot;</td></tr><tr><td>2024-03-01 00:05:43</td><td>263</td><td>7</td><td>4.9</td><td>30.4</td><td>&quot;Manhattan&quot;</td><td>&quot;Yorkville West&quot;</td><td>&quot;Yellow Zone&quot;</td></tr></tbody></table></div>"
      ],
      "text/plain": [
       "shape: (5, 8)\n",
       "┌────────────┬────────────┬────────────┬───────────┬───────────┬───────────┬───────────┬───────────┐\n",
       "│ tpep_picku ┆ pu_locatio ┆ do_locatio ┆ trip_dist ┆ total_amo ┆ borough   ┆ zone      ┆ service_z │\n",
       "│ p_datetime ┆ n_id       ┆ n_id       ┆ ance      ┆ unt       ┆ ---       ┆ ---       ┆ one       │\n",
       "│ ---        ┆ ---        ┆ ---        ┆ ---       ┆ ---       ┆ str       ┆ str       ┆ ---       │\n",
       "│ datetime[n ┆ i32        ┆ i32        ┆ f64       ┆ f64       ┆           ┆           ┆ str       │\n",
       "│ s]         ┆            ┆            ┆           ┆           ┆           ┆           ┆           │\n",
       "╞════════════╪════════════╪════════════╪═══════════╪═══════════╪═══════════╪═══════════╪═══════════╡\n",
       "│ 2024-03-01 ┆ 142        ┆ 239        ┆ 1.3       ┆ 16.3      ┆ Manhattan ┆ Lincoln   ┆ Yellow    │\n",
       "│ 00:18:51   ┆            ┆            ┆           ┆           ┆           ┆ Square    ┆ Zone      │\n",
       "│            ┆            ┆            ┆           ┆           ┆           ┆ East      ┆           │\n",
       "│ 2024-03-01 ┆ 238        ┆ 24         ┆ 1.1       ┆ 15.2      ┆ Manhattan ┆ Upper     ┆ Yellow    │\n",
       "│ 00:26:00   ┆            ┆            ┆           ┆           ┆           ┆ West Side ┆ Zone      │\n",
       "│            ┆            ┆            ┆           ┆           ┆           ┆ North     ┆           │\n",
       "│ 2024-03-01 ┆ 263        ┆ 75         ┆ 0.86      ┆ 10.4      ┆ Manhattan ┆ Yorkville ┆ Yellow    │\n",
       "│ 00:09:22   ┆            ┆            ┆           ┆           ┆           ┆ West      ┆ Zone      │\n",
       "│ 2024-03-01 ┆ 164        ┆ 162        ┆ 0.82      ┆ 14.19     ┆ Manhattan ┆ Midtown   ┆ Yellow    │\n",
       "│ 00:33:45   ┆            ┆            ┆           ┆           ┆           ┆ South     ┆ Zone      │\n",
       "│ 2024-03-01 ┆ 263        ┆ 7          ┆ 4.9       ┆ 30.4      ┆ Manhattan ┆ Yorkville ┆ Yellow    │\n",
       "│ 00:05:43   ┆            ┆            ┆           ┆           ┆           ┆ West      ┆ Zone      │\n",
       "└────────────┴────────────┴────────────┴───────────┴───────────┴───────────┴───────────┴───────────┘"
      ]
     },
     "execution_count": 7,
     "metadata": {},
     "output_type": "execute_result"
    }
   ],
   "source": [
    "(\n",
    "    march_yellow_rides_df\n",
    "    .select([\"tpep_pickup_datetime\", \"pu_location_id\", \"do_location_id\", \"trip_distance\", \"total_amount\"])\n",
    "    .join(\n",
    "        zones_df,\n",
    "        left_on=\"pu_location_id\",\n",
    "        right_on=\"location_id\",    \n",
    "    )\n",
    "#     .select([\"tpep_pickup_datetime\", \"pu_location_id\", \"do_location_id\", \"trip_distance\", \"total_amount\", \"borough\", \"zone\"])\n",
    "    .head()\n",
    ")"
   ]
  },
  {
   "cell_type": "markdown",
   "id": "86be53e4",
   "metadata": {},
   "source": [
    "But now, it's a bit strange that we have the `\"pu_location_id\"` and `\"do_location_id\"` in the same dataframe, because it's not clear whether the `\"borough\"` and `\"zone\"` refer to the `\"pu_location_id\"` or the `\"do_location_id\"`. We can quickly fix that:"
   ]
  },
  {
   "cell_type": "code",
   "execution_count": 8,
   "id": "0ea321b2",
   "metadata": {},
   "outputs": [
    {
     "data": {
      "text/html": [
       "<div><style>\n",
       ".dataframe > thead > tr,\n",
       ".dataframe > tbody > tr {\n",
       "  text-align: right;\n",
       "  white-space: pre-wrap;\n",
       "}\n",
       "</style>\n",
       "<small>shape: (5, 8)</small><table border=\"1\" class=\"dataframe\"><thead><tr><th>tpep_pickup_datetime</th><th>pu_location_id</th><th>do_location_id</th><th>trip_distance</th><th>total_amount</th><th>pu_borough</th><th>pu_zone</th><th>pu_service_zone</th></tr><tr><td>datetime[ns]</td><td>i32</td><td>i32</td><td>f64</td><td>f64</td><td>str</td><td>str</td><td>str</td></tr></thead><tbody><tr><td>2024-03-01 00:18:51</td><td>142</td><td>239</td><td>1.3</td><td>16.3</td><td>&quot;Manhattan&quot;</td><td>&quot;Lincoln Square East&quot;</td><td>&quot;Yellow Zone&quot;</td></tr><tr><td>2024-03-01 00:26:00</td><td>238</td><td>24</td><td>1.1</td><td>15.2</td><td>&quot;Manhattan&quot;</td><td>&quot;Upper West Side North&quot;</td><td>&quot;Yellow Zone&quot;</td></tr><tr><td>2024-03-01 00:09:22</td><td>263</td><td>75</td><td>0.86</td><td>10.4</td><td>&quot;Manhattan&quot;</td><td>&quot;Yorkville West&quot;</td><td>&quot;Yellow Zone&quot;</td></tr><tr><td>2024-03-01 00:33:45</td><td>164</td><td>162</td><td>0.82</td><td>14.19</td><td>&quot;Manhattan&quot;</td><td>&quot;Midtown South&quot;</td><td>&quot;Yellow Zone&quot;</td></tr><tr><td>2024-03-01 00:05:43</td><td>263</td><td>7</td><td>4.9</td><td>30.4</td><td>&quot;Manhattan&quot;</td><td>&quot;Yorkville West&quot;</td><td>&quot;Yellow Zone&quot;</td></tr></tbody></table></div>"
      ],
      "text/plain": [
       "shape: (5, 8)\n",
       "┌────────────┬────────────┬────────────┬───────────┬───────────┬───────────┬───────────┬───────────┐\n",
       "│ tpep_picku ┆ pu_locatio ┆ do_locatio ┆ trip_dist ┆ total_amo ┆ pu_boroug ┆ pu_zone   ┆ pu_servic │\n",
       "│ p_datetime ┆ n_id       ┆ n_id       ┆ ance      ┆ unt       ┆ h         ┆ ---       ┆ e_zone    │\n",
       "│ ---        ┆ ---        ┆ ---        ┆ ---       ┆ ---       ┆ ---       ┆ str       ┆ ---       │\n",
       "│ datetime[n ┆ i32        ┆ i32        ┆ f64       ┆ f64       ┆ str       ┆           ┆ str       │\n",
       "│ s]         ┆            ┆            ┆           ┆           ┆           ┆           ┆           │\n",
       "╞════════════╪════════════╪════════════╪═══════════╪═══════════╪═══════════╪═══════════╪═══════════╡\n",
       "│ 2024-03-01 ┆ 142        ┆ 239        ┆ 1.3       ┆ 16.3      ┆ Manhattan ┆ Lincoln   ┆ Yellow    │\n",
       "│ 00:18:51   ┆            ┆            ┆           ┆           ┆           ┆ Square    ┆ Zone      │\n",
       "│            ┆            ┆            ┆           ┆           ┆           ┆ East      ┆           │\n",
       "│ 2024-03-01 ┆ 238        ┆ 24         ┆ 1.1       ┆ 15.2      ┆ Manhattan ┆ Upper     ┆ Yellow    │\n",
       "│ 00:26:00   ┆            ┆            ┆           ┆           ┆           ┆ West Side ┆ Zone      │\n",
       "│            ┆            ┆            ┆           ┆           ┆           ┆ North     ┆           │\n",
       "│ 2024-03-01 ┆ 263        ┆ 75         ┆ 0.86      ┆ 10.4      ┆ Manhattan ┆ Yorkville ┆ Yellow    │\n",
       "│ 00:09:22   ┆            ┆            ┆           ┆           ┆           ┆ West      ┆ Zone      │\n",
       "│ 2024-03-01 ┆ 164        ┆ 162        ┆ 0.82      ┆ 14.19     ┆ Manhattan ┆ Midtown   ┆ Yellow    │\n",
       "│ 00:33:45   ┆            ┆            ┆           ┆           ┆           ┆ South     ┆ Zone      │\n",
       "│ 2024-03-01 ┆ 263        ┆ 7          ┆ 4.9       ┆ 30.4      ┆ Manhattan ┆ Yorkville ┆ Yellow    │\n",
       "│ 00:05:43   ┆            ┆            ┆           ┆           ┆           ┆ West      ┆ Zone      │\n",
       "└────────────┴────────────┴────────────┴───────────┴───────────┴───────────┴───────────┴───────────┘"
      ]
     },
     "execution_count": 8,
     "metadata": {},
     "output_type": "execute_result"
    }
   ],
   "source": [
    "zone_columns = [\"borough\", \"zone\", \"service_zone\"]\n",
    "(\n",
    "    march_yellow_rides_df\n",
    "    .select([\"tpep_pickup_datetime\", \"pu_location_id\", \"do_location_id\", \"trip_distance\", \"total_amount\"])\n",
    "    .join(\n",
    "        zones_df,\n",
    "        left_on=\"pu_location_id\",\n",
    "        right_on=\"location_id\",\n",
    "    )\n",
    "    .with_columns([pl.col(zone_columns).name.prefix(\"pu_\")])\n",
    "    .drop(zone_columns)\n",
    "    .head()\n",
    ")"
   ]
  },
  {
   "cell_type": "markdown",
   "id": "ed42a13b",
   "metadata": {},
   "source": [
    "We can also use the `on` argument in case the name of the two columns is the same in both tables. For example, imagine we wanted to join `zones_df` with the table we created in the prior module, of rides that both started in the same location ID; then we don't need to specify pickup vs dropoff:"
   ]
  },
  {
   "cell_type": "code",
   "execution_count": 9,
   "id": "86a10288",
   "metadata": {},
   "outputs": [
    {
     "data": {
      "text/html": [
       "<div><style>\n",
       ".dataframe > thead > tr,\n",
       ".dataframe > tbody > tr {\n",
       "  text-align: right;\n",
       "  white-space: pre-wrap;\n",
       "}\n",
       "</style>\n",
       "<small>shape: (5, 7)</small><table border=\"1\" class=\"dataframe\"><thead><tr><th>tpep_pickup_datetime</th><th>location_id</th><th>trip_distance</th><th>total_amount</th><th>borough</th><th>zone</th><th>service_zone</th></tr><tr><td>datetime[ns]</td><td>i32</td><td>f64</td><td>f64</td><td>str</td><td>str</td><td>str</td></tr></thead><tbody><tr><td>2024-03-01 00:12:31</td><td>158</td><td>0.65</td><td>15.48</td><td>&quot;Manhattan&quot;</td><td>&quot;Meatpacking/West Village West&quot;</td><td>&quot;Yellow Zone&quot;</td></tr><tr><td>2024-03-01 00:17:01</td><td>158</td><td>0.96</td><td>15.48</td><td>&quot;Manhattan&quot;</td><td>&quot;Meatpacking/West Village West&quot;</td><td>&quot;Yellow Zone&quot;</td></tr><tr><td>2024-03-01 01:00:25</td><td>143</td><td>0.06</td><td>8.7</td><td>&quot;Manhattan&quot;</td><td>&quot;Lincoln Square West&quot;</td><td>&quot;Yellow Zone&quot;</td></tr><tr><td>2024-03-01 00:18:13</td><td>236</td><td>0.4</td><td>11.28</td><td>&quot;Manhattan&quot;</td><td>&quot;Upper East Side North&quot;</td><td>&quot;Yellow Zone&quot;</td></tr><tr><td>2024-03-01 00:07:35</td><td>145</td><td>2.53</td><td>28.08</td><td>&quot;Queens&quot;</td><td>&quot;Long Island City/Hunters Point&quot;</td><td>&quot;Boro Zone&quot;</td></tr></tbody></table></div>"
      ],
      "text/plain": [
       "shape: (5, 7)\n",
       "┌──────────────┬─────────────┬──────────────┬──────────────┬───────────┬─────────────┬─────────────┐\n",
       "│ tpep_pickup_ ┆ location_id ┆ trip_distanc ┆ total_amount ┆ borough   ┆ zone        ┆ service_zon │\n",
       "│ datetime     ┆ ---         ┆ e            ┆ ---          ┆ ---       ┆ ---         ┆ e           │\n",
       "│ ---          ┆ i32         ┆ ---          ┆ f64          ┆ str       ┆ str         ┆ ---         │\n",
       "│ datetime[ns] ┆             ┆ f64          ┆              ┆           ┆             ┆ str         │\n",
       "╞══════════════╪═════════════╪══════════════╪══════════════╪═══════════╪═════════════╪═════════════╡\n",
       "│ 2024-03-01   ┆ 158         ┆ 0.65         ┆ 15.48        ┆ Manhattan ┆ Meatpacking ┆ Yellow Zone │\n",
       "│ 00:12:31     ┆             ┆              ┆              ┆           ┆ /West       ┆             │\n",
       "│              ┆             ┆              ┆              ┆           ┆ Village     ┆             │\n",
       "│              ┆             ┆              ┆              ┆           ┆ West        ┆             │\n",
       "│ 2024-03-01   ┆ 158         ┆ 0.96         ┆ 15.48        ┆ Manhattan ┆ Meatpacking ┆ Yellow Zone │\n",
       "│ 00:17:01     ┆             ┆              ┆              ┆           ┆ /West       ┆             │\n",
       "│              ┆             ┆              ┆              ┆           ┆ Village     ┆             │\n",
       "│              ┆             ┆              ┆              ┆           ┆ West        ┆             │\n",
       "│ 2024-03-01   ┆ 143         ┆ 0.06         ┆ 8.7          ┆ Manhattan ┆ Lincoln     ┆ Yellow Zone │\n",
       "│ 01:00:25     ┆             ┆              ┆              ┆           ┆ Square West ┆             │\n",
       "│ 2024-03-01   ┆ 236         ┆ 0.4          ┆ 11.28        ┆ Manhattan ┆ Upper East  ┆ Yellow Zone │\n",
       "│ 00:18:13     ┆             ┆              ┆              ┆           ┆ Side North  ┆             │\n",
       "│ 2024-03-01   ┆ 145         ┆ 2.53         ┆ 28.08        ┆ Queens    ┆ Long Island ┆ Boro Zone   │\n",
       "│ 00:07:35     ┆             ┆              ┆              ┆           ┆ City/Hunter ┆             │\n",
       "│              ┆             ┆              ┆              ┆           ┆ s Point     ┆             │\n",
       "└──────────────┴─────────────┴──────────────┴──────────────┴───────────┴─────────────┴─────────────┘"
      ]
     },
     "execution_count": 9,
     "metadata": {},
     "output_type": "execute_result"
    }
   ],
   "source": [
    "(\n",
    "    march_yellow_rides_df\n",
    "    .filter(pl.col(\"do_location_id\").eq(pl.col(\"pu_location_id\")))\n",
    "    .select([\n",
    "        \"tpep_pickup_datetime\",\n",
    "        pl.col(\"pu_location_id\").alias(\"location_id\"),\n",
    "        \"trip_distance\",\n",
    "        \"total_amount\",\n",
    "    ])\n",
    "    .join(\n",
    "        zones_df,\n",
    "        on=\"location_id\",\n",
    "    )\n",
    "    .head()\n",
    ")"
   ]
  },
  {
   "cell_type": "markdown",
   "id": "eb5ba807",
   "metadata": {},
   "source": [
    "`polars` also supports all possible joins: anti joins, left joins, right joins, inner joins, outer joins... you've got it all, all you have to use is the `how` argument. To this end, there's a curious difference between `zones_df` and `march_yellow_rides_df`..."
   ]
  },
  {
   "cell_type": "code",
   "execution_count": 10,
   "id": "32a35c3c",
   "metadata": {},
   "outputs": [
    {
     "name": "stdout",
     "output_type": "stream",
     "text": [
      "Number of distinct pu_location_id in `march_yellow_rides_df`: shape: (1, 1)\n",
      "┌────────────────┐\n",
      "│ pu_location_id │\n",
      "│ ---            │\n",
      "│ u32            │\n",
      "╞════════════════╡\n",
      "│ 259            │\n",
      "└────────────────┘\n",
      "Number of distinct pu_location_id in `zones_df`: shape: (1, 1)\n",
      "┌─────────────┐\n",
      "│ location_id │\n",
      "│ ---         │\n",
      "│ u32         │\n",
      "╞═════════════╡\n",
      "│ 265         │\n",
      "└─────────────┘\n"
     ]
    }
   ],
   "source": [
    "print(f\"Number of distinct pu_location_id in `march_yellow_rides_df`: {march_yellow_rides_df.select(pl.col('pu_location_id').n_unique())}\")\n",
    "print(f\"Number of distinct pu_location_id in `zones_df`: {zones_df.select(pl.col('location_id').n_unique())}\")"
   ]
  },
  {
   "cell_type": "markdown",
   "id": "3a6174d3",
   "metadata": {},
   "source": [
    "There are exactly **6** more `location_id`s in `zones_df` than there are `pu_location_id`s in `march_yellow_rides_df`! This makes sense--`zones_df` serves as an index of **all** zones, and there's no guarantee that all zones had at least one ride. What if we wanted to see which zones didn't have any rides that started in them (i.e. `location_id`s with no matching `pu_location_id`)? For that, we can use an anti-join:"
   ]
  },
  {
   "cell_type": "code",
   "execution_count": 11,
   "id": "012758c8",
   "metadata": {},
   "outputs": [
    {
     "data": {
      "text/html": [
       "<div><style>\n",
       ".dataframe > thead > tr,\n",
       ".dataframe > tbody > tr {\n",
       "  text-align: right;\n",
       "  white-space: pre-wrap;\n",
       "}\n",
       "</style>\n",
       "<small>shape: (6, 4)</small><table border=\"1\" class=\"dataframe\"><thead><tr><th>location_id</th><th>borough</th><th>zone</th><th>service_zone</th></tr><tr><td>i32</td><td>str</td><td>str</td><td>str</td></tr></thead><tbody><tr><td>99</td><td>&quot;Staten Island&quot;</td><td>&quot;Freshkills Park&quot;</td><td>&quot;Boro Zone&quot;</td></tr><tr><td>103</td><td>&quot;Manhattan&quot;</td><td>&quot;Governor&#x27;s Island/Ellis Island…</td><td>&quot;Yellow Zone&quot;</td></tr><tr><td>104</td><td>&quot;Manhattan&quot;</td><td>&quot;Governor&#x27;s Island/Ellis Island…</td><td>&quot;Yellow Zone&quot;</td></tr><tr><td>105</td><td>&quot;Manhattan&quot;</td><td>&quot;Governor&#x27;s Island/Ellis Island…</td><td>&quot;Yellow Zone&quot;</td></tr><tr><td>110</td><td>&quot;Staten Island&quot;</td><td>&quot;Great Kills Park&quot;</td><td>&quot;Boro Zone&quot;</td></tr><tr><td>204</td><td>&quot;Staten Island&quot;</td><td>&quot;Rossville/Woodrow&quot;</td><td>&quot;Boro Zone&quot;</td></tr></tbody></table></div>"
      ],
      "text/plain": [
       "shape: (6, 4)\n",
       "┌─────────────┬───────────────┬─────────────────────────────────┬──────────────┐\n",
       "│ location_id ┆ borough       ┆ zone                            ┆ service_zone │\n",
       "│ ---         ┆ ---           ┆ ---                             ┆ ---          │\n",
       "│ i32         ┆ str           ┆ str                             ┆ str          │\n",
       "╞═════════════╪═══════════════╪═════════════════════════════════╪══════════════╡\n",
       "│ 99          ┆ Staten Island ┆ Freshkills Park                 ┆ Boro Zone    │\n",
       "│ 103         ┆ Manhattan     ┆ Governor's Island/Ellis Island… ┆ Yellow Zone  │\n",
       "│ 104         ┆ Manhattan     ┆ Governor's Island/Ellis Island… ┆ Yellow Zone  │\n",
       "│ 105         ┆ Manhattan     ┆ Governor's Island/Ellis Island… ┆ Yellow Zone  │\n",
       "│ 110         ┆ Staten Island ┆ Great Kills Park                ┆ Boro Zone    │\n",
       "│ 204         ┆ Staten Island ┆ Rossville/Woodrow               ┆ Boro Zone    │\n",
       "└─────────────┴───────────────┴─────────────────────────────────┴──────────────┘"
      ]
     },
     "execution_count": 11,
     "metadata": {},
     "output_type": "execute_result"
    }
   ],
   "source": [
    "(\n",
    "    zones_df\n",
    "    .join(march_yellow_rides_df, right_on=\"pu_location_id\", left_on=\"location_id\", how=\"anti\")\n",
    ")"
   ]
  },
  {
   "cell_type": "markdown",
   "id": "27871831",
   "metadata": {},
   "source": [
    "We can confirm, the result has a length of **6** data points; exactly what we saw in our `n_unique()` check."
   ]
  },
  {
   "cell_type": "markdown",
   "id": "315ee9ae",
   "metadata": {},
   "source": [
    "And if we want to join on something beyond whether or not two columns are equal (i.e. non-equi joins), then we need to use a different join function, `.join_where()`. Consider, for example, that we are organizing a round-robin tournament, and we want to prepare a dataframe of all the match-ups that need to take place, given a dataframe of all the competitors:"
   ]
  },
  {
   "cell_type": "code",
   "execution_count": 12,
   "id": "d1edc95e",
   "metadata": {},
   "outputs": [
    {
     "data": {
      "text/html": [
       "<div><style>\n",
       ".dataframe > thead > tr,\n",
       ".dataframe > tbody > tr {\n",
       "  text-align: right;\n",
       "  white-space: pre-wrap;\n",
       "}\n",
       "</style>\n",
       "<small>shape: (4, 2)</small><table border=\"1\" class=\"dataframe\"><thead><tr><th>defense_player_id</th><th>defense_player_name</th></tr><tr><td>i64</td><td>str</td></tr></thead><tbody><tr><td>1</td><td>&quot;Danny&quot;</td></tr><tr><td>2</td><td>&quot;Donna&quot;</td></tr><tr><td>3</td><td>&quot;Lana&quot;</td></tr><tr><td>4</td><td>&quot;Sauna&quot;</td></tr></tbody></table></div>"
      ],
      "text/plain": [
       "shape: (4, 2)\n",
       "┌───────────────────┬─────────────────────┐\n",
       "│ defense_player_id ┆ defense_player_name │\n",
       "│ ---               ┆ ---                 │\n",
       "│ i64               ┆ str                 │\n",
       "╞═══════════════════╪═════════════════════╡\n",
       "│ 1                 ┆ Danny               │\n",
       "│ 2                 ┆ Donna               │\n",
       "│ 3                 ┆ Lana                │\n",
       "│ 4                 ┆ Sauna               │\n",
       "└───────────────────┴─────────────────────┘"
      ]
     },
     "metadata": {},
     "output_type": "display_data"
    },
    {
     "data": {
      "text/html": [
       "<div><style>\n",
       ".dataframe > thead > tr,\n",
       ".dataframe > tbody > tr {\n",
       "  text-align: right;\n",
       "  white-space: pre-wrap;\n",
       "}\n",
       "</style>\n",
       "<small>shape: (4, 2)</small><table border=\"1\" class=\"dataframe\"><thead><tr><th>offense_player_id</th><th>offense_player_name</th></tr><tr><td>i64</td><td>str</td></tr></thead><tbody><tr><td>1</td><td>&quot;Danny&quot;</td></tr><tr><td>2</td><td>&quot;Donna&quot;</td></tr><tr><td>3</td><td>&quot;Lana&quot;</td></tr><tr><td>4</td><td>&quot;Sauna&quot;</td></tr></tbody></table></div>"
      ],
      "text/plain": [
       "shape: (4, 2)\n",
       "┌───────────────────┬─────────────────────┐\n",
       "│ offense_player_id ┆ offense_player_name │\n",
       "│ ---               ┆ ---                 │\n",
       "│ i64               ┆ str                 │\n",
       "╞═══════════════════╪═════════════════════╡\n",
       "│ 1                 ┆ Danny               │\n",
       "│ 2                 ┆ Donna               │\n",
       "│ 3                 ┆ Lana                │\n",
       "│ 4                 ┆ Sauna               │\n",
       "└───────────────────┴─────────────────────┘"
      ]
     },
     "metadata": {},
     "output_type": "display_data"
    }
   ],
   "source": [
    "competitors_df = pl.DataFrame({\n",
    "    \"player_id\": [1, 2, 3, 4],\n",
    "    \"player_name\": [\"Danny\", \"Donna\", \"Lana\", \"Sauna\"],\n",
    "})\n",
    "\n",
    "defense_competitors_df = competitors_df.select(pl.all().name.prefix(\"defense_\"))\n",
    "offense_competitors_df = competitors_df.select(pl.all().name.prefix(\"offense_\"))\n",
    "\n",
    "display(defense_competitors_df)\n",
    "display(offense_competitors_df)"
   ]
  },
  {
   "cell_type": "markdown",
   "id": "dd628d7a-467c-45ec-9efb-92a5ff0e307c",
   "metadata": {},
   "source": [
    "We can create a dataframe of all the matches that need to take place by joining `defense_competitors_df` to `offense_competitors_df` wherever the `defense_player_id` is less than the `offense_player_id` (because every matchup only needs to take place once, and players don't need to play themselves):"
   ]
  },
  {
   "cell_type": "code",
   "execution_count": 13,
   "id": "1fa05f97-19ee-454c-8962-f43d69641539",
   "metadata": {},
   "outputs": [
    {
     "data": {
      "text/html": [
       "<div><style>\n",
       ".dataframe > thead > tr,\n",
       ".dataframe > tbody > tr {\n",
       "  text-align: right;\n",
       "  white-space: pre-wrap;\n",
       "}\n",
       "</style>\n",
       "<small>shape: (6, 4)</small><table border=\"1\" class=\"dataframe\"><thead><tr><th>defense_player_id</th><th>defense_player_name</th><th>offense_player_id</th><th>offense_player_name</th></tr><tr><td>i64</td><td>str</td><td>i64</td><td>str</td></tr></thead><tbody><tr><td>1</td><td>&quot;Danny&quot;</td><td>2</td><td>&quot;Donna&quot;</td></tr><tr><td>1</td><td>&quot;Danny&quot;</td><td>3</td><td>&quot;Lana&quot;</td></tr><tr><td>1</td><td>&quot;Danny&quot;</td><td>4</td><td>&quot;Sauna&quot;</td></tr><tr><td>2</td><td>&quot;Donna&quot;</td><td>3</td><td>&quot;Lana&quot;</td></tr><tr><td>2</td><td>&quot;Donna&quot;</td><td>4</td><td>&quot;Sauna&quot;</td></tr><tr><td>3</td><td>&quot;Lana&quot;</td><td>4</td><td>&quot;Sauna&quot;</td></tr></tbody></table></div>"
      ],
      "text/plain": [
       "shape: (6, 4)\n",
       "┌───────────────────┬─────────────────────┬───────────────────┬─────────────────────┐\n",
       "│ defense_player_id ┆ defense_player_name ┆ offense_player_id ┆ offense_player_name │\n",
       "│ ---               ┆ ---                 ┆ ---               ┆ ---                 │\n",
       "│ i64               ┆ str                 ┆ i64               ┆ str                 │\n",
       "╞═══════════════════╪═════════════════════╪═══════════════════╪═════════════════════╡\n",
       "│ 1                 ┆ Danny               ┆ 2                 ┆ Donna               │\n",
       "│ 1                 ┆ Danny               ┆ 3                 ┆ Lana                │\n",
       "│ 1                 ┆ Danny               ┆ 4                 ┆ Sauna               │\n",
       "│ 2                 ┆ Donna               ┆ 3                 ┆ Lana                │\n",
       "│ 2                 ┆ Donna               ┆ 4                 ┆ Sauna               │\n",
       "│ 3                 ┆ Lana                ┆ 4                 ┆ Sauna               │\n",
       "└───────────────────┴─────────────────────┴───────────────────┴─────────────────────┘"
      ]
     },
     "metadata": {},
     "output_type": "display_data"
    }
   ],
   "source": [
    "matchups_df = (\n",
    "    defense_competitors_df\n",
    "    .join_where(\n",
    "        offense_competitors_df,\n",
    "        pl.col(\"defense_player_id\").lt(pl.col(\"offense_player_id\"))\n",
    "    )\n",
    ")\n",
    "display(matchups_df)"
   ]
  },
  {
   "cell_type": "markdown",
   "id": "e8c791f4",
   "metadata": {},
   "source": [
    "Perfect! There are 6 matches that need to take place in total, as expected."
   ]
  },
  {
   "cell_type": "markdown",
   "id": "51b8cae4",
   "metadata": {},
   "source": [
    "## 6.2. Concatenating Dataframes"
   ]
  },
  {
   "cell_type": "markdown",
   "id": "6ea24a23",
   "metadata": {},
   "source": [
    "The data we've been working with so far has been the file `\"../data/yellow_tripdata_2024-03.parquet\"`, which contains all rides given by yellow taxis in NYC in the month of March, 2024. Amazingly, New York City records and publishes this data every month, going all the way back to 2009! What if we wanted to analyze two months' datasets together, in the same dataframe? Well, for that, we have `pl.concat()`."
   ]
  },
  {
   "cell_type": "markdown",
   "id": "88c679c9",
   "metadata": {},
   "source": [
    "Let's start by loading in February's yellow taxi trip data. It should have the same schema as the data from March, so we can use the same column name mapping dictionary."
   ]
  },
  {
   "cell_type": "code",
   "execution_count": null,
   "id": "d377311c",
   "metadata": {},
   "outputs": [],
   "source": [
    "february_yellow_rides_df = (\n",
    "    pl.read_parquet(\"../data/yellow_tripdata_2024-02.parquet\")\n",
    "    .rename(yellow_rides_column_rename_mapping)\n",
    ")\n",
    "february_yellow_rides_df.head()"
   ]
  },
  {
   "cell_type": "markdown",
   "id": "4c31054e",
   "metadata": {},
   "source": [
    "To combine these two dataframes, we just have to pass them in as a list to `pl.concat()`, and we can see the result:"
   ]
  },
  {
   "cell_type": "code",
   "execution_count": null,
   "id": "697e0907",
   "metadata": {},
   "outputs": [],
   "source": [
    "all_yellow_rides_df = pl.concat([\n",
    "    february_yellow_rides_df,\n",
    "    march_yellow_rides_df,\n",
    "])\n",
    "display(all_yellow_rides_df.head())\n",
    "print(f\"{february_yellow_rides_df.shape[0]} rides recorded in `february_yellow_rides_df`.\")\n",
    "print(f\"{march_yellow_rides_df.shape[0]} rides recorded in `march_yellow_rides_df`.\")\n",
    "print(f\"{all_yellow_rides_df.shape[0]} rides recorded in `all_yellow_rides_df`.\")"
   ]
  },
  {
   "cell_type": "markdown",
   "id": "d827fd08",
   "metadata": {},
   "source": [
    "And just like that, we have a combined dataframe of all the yellow taxi rides from February and March! Yellow taxis aren't the only type of taxis in New York City, though; for example, there are also green taxis, which the city of NYC also records. However, a slightly different taxi type means slightly different data... how will it be to combine such data together? Let's see..."
   ]
  },
  {
   "cell_type": "markdown",
   "id": "0d6a03ec",
   "metadata": {},
   "source": [
    "Let's start by loading in `march_green_rides_df` from file:"
   ]
  },
  {
   "cell_type": "code",
   "execution_count": null,
   "id": "b4bfb98d",
   "metadata": {},
   "outputs": [],
   "source": [
    "march_green_rides_df = pl.read_parquet(\"../data/green_tripdata_2024-03.parquet\")\n",
    "march_green_rides_df.head()"
   ]
  },
  {
   "cell_type": "markdown",
   "id": "4c6a440e",
   "metadata": {},
   "source": [
    "Already, we can see some slight differences between the `all_yellow_rides_df` and `march_green_rides_df`--for example, `march_green_rides_df` has 20 columns, while we're accustomed to the 19 columns in `march_yellow_rides_df`--but there are also a lot of similarities. For one, `march_green_rides_df` has the same `datetime` columns (though with slighly different names), and the same TitleCase ID columns. We'll need to conform the column names so that the correct columns match up with each other upon concatenation."
   ]
  },
  {
   "cell_type": "code",
   "execution_count": null,
   "id": "0c754047",
   "metadata": {},
   "outputs": [],
   "source": [
    "green_rides_df_column_mapping = {\n",
    "    \"VendorID\": \"vendor_id\",\n",
    "    \"RatecodeID\": \"ratecode_id\",\n",
    "    \"PULocationID\": \"pu_location_id\",\n",
    "    \"DOLocationID\": \"do_location_id\",\n",
    "    \"lpep_pickup_datetime\": \"tpep_pickup_datetime\",\n",
    "    \"lpep_dropoff_datetime\": \"tpep_dropoff_datetime\",\n",
    "    # \"Airport_fee\": \"airport_fee\",  # Doesn't exist in `green_rides_df`\n",
    "}\n",
    "march_green_rides_df = march_green_rides_df.rename(green_rides_df_column_mapping)"
   ]
  },
  {
   "cell_type": "markdown",
   "id": "d8e72b52",
   "metadata": {},
   "source": [
    "Great! Now, if we want to finally combine the yellow taxi dataframes and green taxi dataframe with `pl.concat()`, we just pass them in as a list again:"
   ]
  },
  {
   "cell_type": "code",
   "execution_count": null,
   "id": "196c4b0d",
   "metadata": {},
   "outputs": [],
   "source": [
    "all_rides_df = (\n",
    "    pl.concat([\n",
    "        february_yellow_rides_df,\n",
    "        march_yellow_rides_df,\n",
    "        march_green_rides_df,\n",
    "    ])\n",
    ")"
   ]
  },
  {
   "cell_type": "markdown",
   "id": "22aaf010",
   "metadata": {},
   "source": [
    "Even with the renaming, we got an error! That's because, by default, the two dataframes have to have the same schema. This isn't the case in our dataframes, though; however we'd still like to concatenate them! Thankfully, `polars` gives us flexible control over this, with the `how` argument. By default, `how` is set to `how=\"vertical\"`, restricting the concatenation to a strict vertical stacking of the dataframes. However, we can set `how=\"diagonal\"`, and the two dataframes will be concatenated together, with nulls used to fill in the spaces of unshared columns:"
   ]
  },
  {
   "cell_type": "code",
   "execution_count": null,
   "id": "f1a0a834",
   "metadata": {},
   "outputs": [],
   "source": [
    "all_rides_df = (\n",
    "    pl.concat(\n",
    "        [\n",
    "            february_yellow_rides_df,\n",
    "            march_yellow_rides_df,\n",
    "            march_green_rides_df,\n",
    "        ],\n",
    "        how=\"diagonal\"\n",
    "    )\n",
    ")\n",
    "all_rides_df.head()"
   ]
  },
  {
   "cell_type": "markdown",
   "id": "2ec3a3d3",
   "metadata": {},
   "source": [
    "Scrolling to the right, we can see that `ehail_fee` and `trip_type` are null, since the yellow trips data doesn't have these two columns--they are brought over from `green_rides_df`."
   ]
  },
  {
   "cell_type": "markdown",
   "id": "7ce2fa95",
   "metadata": {},
   "source": [
    "`pl.concat()` does offer a few more options, such as horizontal concatenation instead of vertical concatenation, but it's not so useful for us here; instead, I leave it to your reading!"
   ]
  },
  {
   "cell_type": "markdown",
   "id": "dbed8b23",
   "metadata": {},
   "source": [
    "# Conclusion"
   ]
  },
  {
   "cell_type": "markdown",
   "id": "498d520e",
   "metadata": {},
   "source": [
    "In this module, we learned how to combine multiple dataframes together, using two new Query Statements, `.join()` and `.concat()`."
   ]
  }
 ],
 "metadata": {
  "kernelspec": {
   "display_name": "polars",
   "language": "python",
   "name": "python3"
  },
  "language_info": {
   "codemirror_mode": {
    "name": "ipython",
    "version": 3
   },
   "file_extension": ".py",
   "mimetype": "text/x-python",
   "name": "python",
   "nbconvert_exporter": "python",
   "pygments_lexer": "ipython3",
   "version": "3.10.14"
  }
 },
 "nbformat": 4,
 "nbformat_minor": 5
}
