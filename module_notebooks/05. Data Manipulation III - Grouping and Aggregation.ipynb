{
 "cells": [
  {
   "cell_type": "markdown",
   "id": "1653908d",
   "metadata": {},
   "source": [
    "# 5. Data Manipulation III - Grouping and Aggregation"
   ]
  },
  {
   "cell_type": "markdown",
   "id": "97a37bab",
   "metadata": {},
   "source": [
    "The goal of this module is to become familiar with grouping and aggregation. The two main topics we'll cover are:\n",
    "1. `pl.DataFrame.group_by`, the main entrypoint to group operations, along with `.agg`, the way to compute aggregations within groups.\n",
    "2. Using `polars`'s implementation of window functions, `pl.Expr.over()`.\n",
    "3. Two way group-by's: pivot tables."
   ]
  },
  {
   "cell_type": "markdown",
   "id": "f3a90b5b",
   "metadata": {},
   "source": [
    "But first we import `polars`..."
   ]
  },
  {
   "cell_type": "code",
   "execution_count": 1,
   "id": "9f2da0ab",
   "metadata": {},
   "outputs": [],
   "source": [
    "import polars as pl"
   ]
  },
  {
   "cell_type": "code",
   "execution_count": null,
   "id": "06c5c9ea",
   "metadata": {},
   "outputs": [
    {
     "name": "stdout",
     "output_type": "stream",
     "text": [
      "File /data/datasets/data/yellow_tripdata_2024-03.parquet already exists, skipping download.\n"
     ]
    }
   ],
   "source": [
    "%run setup.py"
   ]
  },
  {
   "cell_type": "markdown",
   "id": "b346457f",
   "metadata": {},
   "source": [
    "... and load the data, this time using the name mapping from the last module."
   ]
  },
  {
   "cell_type": "code",
   "execution_count": 3,
   "id": "b85b1837",
   "metadata": {},
   "outputs": [
    {
     "data": {
      "text/html": [
       "<div><style>\n",
       ".dataframe > thead > tr,\n",
       ".dataframe > tbody > tr {\n",
       "  text-align: right;\n",
       "  white-space: pre-wrap;\n",
       "}\n",
       "</style>\n",
       "<small>shape: (5, 19)</small><table border=\"1\" class=\"dataframe\"><thead><tr><th>vendor_id</th><th>tpep_pickup_datetime</th><th>tpep_dropoff_datetime</th><th>passenger_count</th><th>trip_distance</th><th>ratecode_id</th><th>store_and_fwd_flag</th><th>pu_location_id</th><th>do_location_id</th><th>payment_type</th><th>fare_amount</th><th>extra</th><th>mta_tax</th><th>tip_amount</th><th>tolls_amount</th><th>improvement_surcharge</th><th>total_amount</th><th>congestion_surcharge</th><th>airport_fee</th></tr><tr><td>i32</td><td>datetime[ns]</td><td>datetime[ns]</td><td>i64</td><td>f64</td><td>i64</td><td>str</td><td>i32</td><td>i32</td><td>i64</td><td>f64</td><td>f64</td><td>f64</td><td>f64</td><td>f64</td><td>f64</td><td>f64</td><td>f64</td><td>f64</td></tr></thead><tbody><tr><td>1</td><td>2024-03-01 00:18:51</td><td>2024-03-01 00:23:45</td><td>0</td><td>1.3</td><td>1</td><td>&quot;N&quot;</td><td>142</td><td>239</td><td>1</td><td>8.6</td><td>3.5</td><td>0.5</td><td>2.7</td><td>0.0</td><td>1.0</td><td>16.3</td><td>2.5</td><td>0.0</td></tr><tr><td>1</td><td>2024-03-01 00:26:00</td><td>2024-03-01 00:29:06</td><td>0</td><td>1.1</td><td>1</td><td>&quot;N&quot;</td><td>238</td><td>24</td><td>1</td><td>7.2</td><td>3.5</td><td>0.5</td><td>3.0</td><td>0.0</td><td>1.0</td><td>15.2</td><td>2.5</td><td>0.0</td></tr><tr><td>2</td><td>2024-03-01 00:09:22</td><td>2024-03-01 00:15:24</td><td>1</td><td>0.86</td><td>1</td><td>&quot;N&quot;</td><td>263</td><td>75</td><td>2</td><td>7.9</td><td>1.0</td><td>0.5</td><td>0.0</td><td>0.0</td><td>1.0</td><td>10.4</td><td>0.0</td><td>0.0</td></tr><tr><td>2</td><td>2024-03-01 00:33:45</td><td>2024-03-01 00:39:34</td><td>1</td><td>0.82</td><td>1</td><td>&quot;N&quot;</td><td>164</td><td>162</td><td>1</td><td>7.9</td><td>1.0</td><td>0.5</td><td>1.29</td><td>0.0</td><td>1.0</td><td>14.19</td><td>2.5</td><td>0.0</td></tr><tr><td>1</td><td>2024-03-01 00:05:43</td><td>2024-03-01 00:26:22</td><td>0</td><td>4.9</td><td>1</td><td>&quot;N&quot;</td><td>263</td><td>7</td><td>2</td><td>25.4</td><td>3.5</td><td>0.5</td><td>0.0</td><td>0.0</td><td>1.0</td><td>30.4</td><td>2.5</td><td>0.0</td></tr></tbody></table></div>"
      ],
      "text/plain": [
       "shape: (5, 19)\n",
       "┌───────────┬───────────┬───────────┬───────────┬───┬───────────┬───────────┬───────────┬──────────┐\n",
       "│ vendor_id ┆ tpep_pick ┆ tpep_drop ┆ passenger ┆ … ┆ improveme ┆ total_amo ┆ congestio ┆ airport_ │\n",
       "│ ---       ┆ up_dateti ┆ off_datet ┆ _count    ┆   ┆ nt_surcha ┆ unt       ┆ n_surchar ┆ fee      │\n",
       "│ i32       ┆ me        ┆ ime       ┆ ---       ┆   ┆ rge       ┆ ---       ┆ ge        ┆ ---      │\n",
       "│           ┆ ---       ┆ ---       ┆ i64       ┆   ┆ ---       ┆ f64       ┆ ---       ┆ f64      │\n",
       "│           ┆ datetime[ ┆ datetime[ ┆           ┆   ┆ f64       ┆           ┆ f64       ┆          │\n",
       "│           ┆ ns]       ┆ ns]       ┆           ┆   ┆           ┆           ┆           ┆          │\n",
       "╞═══════════╪═══════════╪═══════════╪═══════════╪═══╪═══════════╪═══════════╪═══════════╪══════════╡\n",
       "│ 1         ┆ 2024-03-0 ┆ 2024-03-0 ┆ 0         ┆ … ┆ 1.0       ┆ 16.3      ┆ 2.5       ┆ 0.0      │\n",
       "│           ┆ 1         ┆ 1         ┆           ┆   ┆           ┆           ┆           ┆          │\n",
       "│           ┆ 00:18:51  ┆ 00:23:45  ┆           ┆   ┆           ┆           ┆           ┆          │\n",
       "│ 1         ┆ 2024-03-0 ┆ 2024-03-0 ┆ 0         ┆ … ┆ 1.0       ┆ 15.2      ┆ 2.5       ┆ 0.0      │\n",
       "│           ┆ 1         ┆ 1         ┆           ┆   ┆           ┆           ┆           ┆          │\n",
       "│           ┆ 00:26:00  ┆ 00:29:06  ┆           ┆   ┆           ┆           ┆           ┆          │\n",
       "│ 2         ┆ 2024-03-0 ┆ 2024-03-0 ┆ 1         ┆ … ┆ 1.0       ┆ 10.4      ┆ 0.0       ┆ 0.0      │\n",
       "│           ┆ 1         ┆ 1         ┆           ┆   ┆           ┆           ┆           ┆          │\n",
       "│           ┆ 00:09:22  ┆ 00:15:24  ┆           ┆   ┆           ┆           ┆           ┆          │\n",
       "│ 2         ┆ 2024-03-0 ┆ 2024-03-0 ┆ 1         ┆ … ┆ 1.0       ┆ 14.19     ┆ 2.5       ┆ 0.0      │\n",
       "│           ┆ 1         ┆ 1         ┆           ┆   ┆           ┆           ┆           ┆          │\n",
       "│           ┆ 00:33:45  ┆ 00:39:34  ┆           ┆   ┆           ┆           ┆           ┆          │\n",
       "│ 1         ┆ 2024-03-0 ┆ 2024-03-0 ┆ 0         ┆ … ┆ 1.0       ┆ 30.4      ┆ 2.5       ┆ 0.0      │\n",
       "│           ┆ 1         ┆ 1         ┆           ┆   ┆           ┆           ┆           ┆          │\n",
       "│           ┆ 00:05:43  ┆ 00:26:22  ┆           ┆   ┆           ┆           ┆           ┆          │\n",
       "└───────────┴───────────┴───────────┴───────────┴───┴───────────┴───────────┴───────────┴──────────┘"
      ]
     },
     "execution_count": 3,
     "metadata": {},
     "output_type": "execute_result"
    }
   ],
   "source": [
    "column_rename_mapping = {\n",
    "    \"VendorID\": \"vendor_id\",\n",
    "    \"RatecodeID\": \"ratecode_id\",\n",
    "    \"PULocationID\": \"pu_location_id\",\n",
    "    \"DOLocationID\": \"do_location_id\",\n",
    "    \"Airport_fee\": \"airport_fee\",\n",
    "}\n",
    "df = pl.read_parquet(local_parquet).rename(column_rename_mapping)\n",
    "df.head()"
   ]
  },
  {
   "cell_type": "markdown",
   "id": "1109c3fe",
   "metadata": {},
   "source": [
    "## 5.1. Grouping Dataframes"
   ]
  },
  {
   "cell_type": "markdown",
   "id": "0307cf4b",
   "metadata": {},
   "source": [
    "As we've progressed through previous modules, we've seen how to do some basic aggregations on an entire dataframe, with functions such as `.sum()`, `.min()`, `.max()`, `.count()`, and `.mean()`. Collecting some of the examples from previous modules, we can begin to see a short summary about our dataset:"
   ]
  },
  {
   "cell_type": "code",
   "execution_count": 6,
   "id": "c2276cfb",
   "metadata": {},
   "outputs": [
    {
     "data": {
      "text/html": [
       "<div><style>\n",
       ".dataframe > thead > tr,\n",
       ".dataframe > tbody > tr {\n",
       "  text-align: right;\n",
       "  white-space: pre-wrap;\n",
       "}\n",
       "</style>\n",
       "<small>shape: (1, 6)</small><table border=\"1\" class=\"dataframe\"><thead><tr><th>count_trips</th><th>passenger_count_max</th><th>trip_distance_min</th><th>trip_distance_max</th><th>trip_distance_mean</th><th>trip_distance_count</th></tr><tr><td>u32</td><td>i64</td><td>f64</td><td>f64</td><td>f64</td><td>u32</td></tr></thead><tbody><tr><td>3582628</td><td>9</td><td>0.0</td><td>176836.3</td><td>4.517412</td><td>3582628</td></tr></tbody></table></div>"
      ],
      "text/plain": [
       "shape: (1, 6)\n",
       "┌─────────────┬────────────────┬────────────────┬────────────────┬────────────────┬────────────────┐\n",
       "│ count_trips ┆ passenger_coun ┆ trip_distance_ ┆ trip_distance_ ┆ trip_distance_ ┆ trip_distance_ │\n",
       "│ ---         ┆ t_max          ┆ min            ┆ max            ┆ mean           ┆ count          │\n",
       "│ u32         ┆ ---            ┆ ---            ┆ ---            ┆ ---            ┆ ---            │\n",
       "│             ┆ i64            ┆ f64            ┆ f64            ┆ f64            ┆ u32            │\n",
       "╞═════════════╪════════════════╪════════════════╪════════════════╪════════════════╪════════════════╡\n",
       "│ 3582628     ┆ 9              ┆ 0.0            ┆ 176836.3       ┆ 4.517412       ┆ 3582628        │\n",
       "└─────────────┴────────────────┴────────────────┴────────────────┴────────────────┴────────────────┘"
      ]
     },
     "execution_count": 6,
     "metadata": {},
     "output_type": "execute_result"
    }
   ],
   "source": [
    "(\n",
    "    df.select(\n",
    "        pl.len().alias(\n",
    "            \"count_trips\"\n",
    "        ),  # pl.len() just gives the length of the whole dataframe\n",
    "        pl.col(\"passenger_count\").max().name.suffix(\"_max\"),\n",
    "        pl.col(\"trip_distance\").min().name.suffix(\"_min\"),\n",
    "        pl.col(\"trip_distance\").max().name.suffix(\"_max\"),\n",
    "        pl.col(\"trip_distance\").mean().name.suffix(\"_mean\"),\n",
    "        pl.col(\"trip_distance\").count().name.suffix(\"_count\"),\n",
    "    )\n",
    ")"
   ]
  },
  {
   "cell_type": "markdown",
   "id": "a2f9a453",
   "metadata": {},
   "source": [
    "One taxi ride had 9 passengers? That's something we haven't seen yet, that's a lot of passengers!"
   ]
  },
  {
   "cell_type": "markdown",
   "id": "3902022d",
   "metadata": {},
   "source": [
    "But what if we wanted to know these statistics for the different pickup location IDs? To do that, we need to crack open the `group_by` functionality."
   ]
  },
  {
   "cell_type": "code",
   "execution_count": 7,
   "id": "f4ae92e2",
   "metadata": {},
   "outputs": [
    {
     "data": {
      "text/html": [
       "<div><style>\n",
       ".dataframe > thead > tr,\n",
       ".dataframe > tbody > tr {\n",
       "  text-align: right;\n",
       "  white-space: pre-wrap;\n",
       "}\n",
       "</style>\n",
       "<small>shape: (5, 6)</small><table border=\"1\" class=\"dataframe\"><thead><tr><th>pu_location_id</th><th>count_trips</th><th>passenger_count_max</th><th>trip_distance_min</th><th>trip_distance_max</th><th>trip_distance_mean</th></tr><tr><td>i32</td><td>u32</td><td>i64</td><td>f64</td><td>f64</td><td>f64</td></tr></thead><tbody><tr><td>161</td><td>163269</td><td>6</td><td>0.0</td><td>51066.77</td><td>2.692728</td></tr><tr><td>132</td><td>157706</td><td>9</td><td>0.0</td><td>9211.95</td><td>15.76677</td></tr><tr><td>237</td><td>155631</td><td>6</td><td>0.0</td><td>44866.77</td><td>2.096025</td></tr><tr><td>236</td><td>146044</td><td>6</td><td>0.0</td><td>109619.96</td><td>3.481146</td></tr><tr><td>162</td><td>123805</td><td>8</td><td>0.0</td><td>57408.32</td><td>3.030781</td></tr></tbody></table></div>"
      ],
      "text/plain": [
       "shape: (5, 6)\n",
       "┌────────────────┬─────────────┬────────────────┬────────────────┬────────────────┬────────────────┐\n",
       "│ pu_location_id ┆ count_trips ┆ passenger_coun ┆ trip_distance_ ┆ trip_distance_ ┆ trip_distance_ │\n",
       "│ ---            ┆ ---         ┆ t_max          ┆ min            ┆ max            ┆ mean           │\n",
       "│ i32            ┆ u32         ┆ ---            ┆ ---            ┆ ---            ┆ ---            │\n",
       "│                ┆             ┆ i64            ┆ f64            ┆ f64            ┆ f64            │\n",
       "╞════════════════╪═════════════╪════════════════╪════════════════╪════════════════╪════════════════╡\n",
       "│ 161            ┆ 163269      ┆ 6              ┆ 0.0            ┆ 51066.77       ┆ 2.692728       │\n",
       "│ 132            ┆ 157706      ┆ 9              ┆ 0.0            ┆ 9211.95        ┆ 15.76677       │\n",
       "│ 237            ┆ 155631      ┆ 6              ┆ 0.0            ┆ 44866.77       ┆ 2.096025       │\n",
       "│ 236            ┆ 146044      ┆ 6              ┆ 0.0            ┆ 109619.96      ┆ 3.481146       │\n",
       "│ 162            ┆ 123805      ┆ 8              ┆ 0.0            ┆ 57408.32       ┆ 3.030781       │\n",
       "└────────────────┴─────────────┴────────────────┴────────────────┴────────────────┴────────────────┘"
      ]
     },
     "execution_count": 7,
     "metadata": {},
     "output_type": "execute_result"
    }
   ],
   "source": [
    "(\n",
    "    df.group_by(\"pu_location_id\")\n",
    "    .agg(\n",
    "        pl.len().alias(\"count_trips\"),\n",
    "        pl.col(\"passenger_count\").max().name.suffix(\"_max\"),\n",
    "        pl.col(\"trip_distance\").min().name.suffix(\"_min\"),\n",
    "        pl.col(\"trip_distance\").max().name.suffix(\"_max\"),\n",
    "        pl.col(\"trip_distance\").mean().name.suffix(\"_mean\"),\n",
    "    )\n",
    "    .sort(pl.col(\"count_trips\"), descending=True)\n",
    "    .head()\n",
    ")"
   ]
  },
  {
   "cell_type": "markdown",
   "id": "50886e10",
   "metadata": {},
   "source": [
    "To transition from aggregate statistics on the entire dataframe with `select` to aggregrate statistics of groups with `group_by` and `agg`, we just have to put everything from the `select` statement inside an `agg`."
   ]
  },
  {
   "cell_type": "markdown",
   "id": "01b1d69a",
   "metadata": {},
   "source": [
    "And, just like the other Query Statements `select`, `filter`, and `sort`, `group_by` can also receive a list of columns as input, for example if we want to group by `pu_location_id` and `do_location_id`:"
   ]
  },
  {
   "cell_type": "code",
   "execution_count": 8,
   "id": "e97711f6",
   "metadata": {},
   "outputs": [
    {
     "data": {
      "text/html": [
       "<div><style>\n",
       ".dataframe > thead > tr,\n",
       ".dataframe > tbody > tr {\n",
       "  text-align: right;\n",
       "  white-space: pre-wrap;\n",
       "}\n",
       "</style>\n",
       "<small>shape: (5, 7)</small><table border=\"1\" class=\"dataframe\"><thead><tr><th>pu_location_id</th><th>do_location_id</th><th>count_trips</th><th>passenger_count_max</th><th>trip_distance_min</th><th>trip_distance_max</th><th>trip_distance_mean</th></tr><tr><td>i32</td><td>i32</td><td>u32</td><td>i64</td><td>f64</td><td>f64</td><td>f64</td></tr></thead><tbody><tr><td>237</td><td>236</td><td>21477</td><td>6</td><td>0.0</td><td>13.29</td><td>1.056593</td></tr><tr><td>236</td><td>237</td><td>19101</td><td>6</td><td>0.0</td><td>19.8</td><td>1.03706</td></tr><tr><td>236</td><td>236</td><td>15932</td><td>6</td><td>0.0</td><td>33.8</td><td>0.614886</td></tr><tr><td>237</td><td>237</td><td>15156</td><td>6</td><td>0.0</td><td>38.51</td><td>0.625747</td></tr><tr><td>161</td><td>237</td><td>10601</td><td>6</td><td>0.0</td><td>8.6</td><td>1.062107</td></tr></tbody></table></div>"
      ],
      "text/plain": [
       "shape: (5, 7)\n",
       "┌──────────────┬─────────────┬─────────────┬─────────────┬─────────────┬─────────────┬─────────────┐\n",
       "│ pu_location_ ┆ do_location ┆ count_trips ┆ passenger_c ┆ trip_distan ┆ trip_distan ┆ trip_distan │\n",
       "│ id           ┆ _id         ┆ ---         ┆ ount_max    ┆ ce_min      ┆ ce_max      ┆ ce_mean     │\n",
       "│ ---          ┆ ---         ┆ u32         ┆ ---         ┆ ---         ┆ ---         ┆ ---         │\n",
       "│ i32          ┆ i32         ┆             ┆ i64         ┆ f64         ┆ f64         ┆ f64         │\n",
       "╞══════════════╪═════════════╪═════════════╪═════════════╪═════════════╪═════════════╪═════════════╡\n",
       "│ 237          ┆ 236         ┆ 21477       ┆ 6           ┆ 0.0         ┆ 13.29       ┆ 1.056593    │\n",
       "│ 236          ┆ 237         ┆ 19101       ┆ 6           ┆ 0.0         ┆ 19.8        ┆ 1.03706     │\n",
       "│ 236          ┆ 236         ┆ 15932       ┆ 6           ┆ 0.0         ┆ 33.8        ┆ 0.614886    │\n",
       "│ 237          ┆ 237         ┆ 15156       ┆ 6           ┆ 0.0         ┆ 38.51       ┆ 0.625747    │\n",
       "│ 161          ┆ 237         ┆ 10601       ┆ 6           ┆ 0.0         ┆ 8.6         ┆ 1.062107    │\n",
       "└──────────────┴─────────────┴─────────────┴─────────────┴─────────────┴─────────────┴─────────────┘"
      ]
     },
     "execution_count": 8,
     "metadata": {},
     "output_type": "execute_result"
    }
   ],
   "source": [
    "(\n",
    "    df.group_by([\"pu_location_id\", \"do_location_id\"])\n",
    "    .agg(\n",
    "        pl.len().alias(\"count_trips\"),\n",
    "        pl.col(\"passenger_count\").max().name.suffix(\"_max\"),\n",
    "        pl.col(\"trip_distance\").min().name.suffix(\"_min\"),\n",
    "        pl.col(\"trip_distance\").max().name.suffix(\"_max\"),\n",
    "        pl.col(\"trip_distance\").mean().name.suffix(\"_mean\"),\n",
    "    )\n",
    "    .sort(pl.col(\"count_trips\"), descending=True)\n",
    "    .head()\n",
    ")"
   ]
  },
  {
   "cell_type": "markdown",
   "id": "a65fd151",
   "metadata": {},
   "source": [
    "It can also receive those same multiple columns as positional arguments:"
   ]
  },
  {
   "cell_type": "code",
   "execution_count": 9,
   "id": "07db7719",
   "metadata": {},
   "outputs": [
    {
     "data": {
      "text/html": [
       "<div><style>\n",
       ".dataframe > thead > tr,\n",
       ".dataframe > tbody > tr {\n",
       "  text-align: right;\n",
       "  white-space: pre-wrap;\n",
       "}\n",
       "</style>\n",
       "<small>shape: (5, 7)</small><table border=\"1\" class=\"dataframe\"><thead><tr><th>pu_location_id</th><th>do_location_id</th><th>count_trips</th><th>passenger_count_max</th><th>trip_distance_min</th><th>trip_distance_max</th><th>trip_distance_mean</th></tr><tr><td>i32</td><td>i32</td><td>u32</td><td>i64</td><td>f64</td><td>f64</td><td>f64</td></tr></thead><tbody><tr><td>237</td><td>236</td><td>21477</td><td>6</td><td>0.0</td><td>13.29</td><td>1.056593</td></tr><tr><td>236</td><td>237</td><td>19101</td><td>6</td><td>0.0</td><td>19.8</td><td>1.03706</td></tr><tr><td>236</td><td>236</td><td>15932</td><td>6</td><td>0.0</td><td>33.8</td><td>0.614886</td></tr><tr><td>237</td><td>237</td><td>15156</td><td>6</td><td>0.0</td><td>38.51</td><td>0.625747</td></tr><tr><td>161</td><td>237</td><td>10601</td><td>6</td><td>0.0</td><td>8.6</td><td>1.062107</td></tr></tbody></table></div>"
      ],
      "text/plain": [
       "shape: (5, 7)\n",
       "┌──────────────┬─────────────┬─────────────┬─────────────┬─────────────┬─────────────┬─────────────┐\n",
       "│ pu_location_ ┆ do_location ┆ count_trips ┆ passenger_c ┆ trip_distan ┆ trip_distan ┆ trip_distan │\n",
       "│ id           ┆ _id         ┆ ---         ┆ ount_max    ┆ ce_min      ┆ ce_max      ┆ ce_mean     │\n",
       "│ ---          ┆ ---         ┆ u32         ┆ ---         ┆ ---         ┆ ---         ┆ ---         │\n",
       "│ i32          ┆ i32         ┆             ┆ i64         ┆ f64         ┆ f64         ┆ f64         │\n",
       "╞══════════════╪═════════════╪═════════════╪═════════════╪═════════════╪═════════════╪═════════════╡\n",
       "│ 237          ┆ 236         ┆ 21477       ┆ 6           ┆ 0.0         ┆ 13.29       ┆ 1.056593    │\n",
       "│ 236          ┆ 237         ┆ 19101       ┆ 6           ┆ 0.0         ┆ 19.8        ┆ 1.03706     │\n",
       "│ 236          ┆ 236         ┆ 15932       ┆ 6           ┆ 0.0         ┆ 33.8        ┆ 0.614886    │\n",
       "│ 237          ┆ 237         ┆ 15156       ┆ 6           ┆ 0.0         ┆ 38.51       ┆ 0.625747    │\n",
       "│ 161          ┆ 237         ┆ 10601       ┆ 6           ┆ 0.0         ┆ 8.6         ┆ 1.062107    │\n",
       "└──────────────┴─────────────┴─────────────┴─────────────┴─────────────┴─────────────┴─────────────┘"
      ]
     },
     "execution_count": 9,
     "metadata": {},
     "output_type": "execute_result"
    }
   ],
   "source": [
    "(\n",
    "    df.group_by(\"pu_location_id\", \"do_location_id\")\n",
    "    .agg(\n",
    "        pl.len().alias(\"count_trips\"),\n",
    "        pl.col(\"passenger_count\").max().name.suffix(\"_max\"),\n",
    "        pl.col(\"trip_distance\").min().name.suffix(\"_min\"),\n",
    "        pl.col(\"trip_distance\").max().name.suffix(\"_max\"),\n",
    "        pl.col(\"trip_distance\").mean().name.suffix(\"_mean\"),\n",
    "    )\n",
    "    .sort(pl.col(\"count_trips\"), descending=True)\n",
    "    .head()\n",
    ")"
   ]
  },
  {
   "cell_type": "markdown",
   "id": "2a51d168",
   "metadata": {},
   "source": [
    "And it can also receive computed `pl.Expr` objects as input, for example if we want to group by whether or not rides had the same pickup and dropoff zone:"
   ]
  },
  {
   "cell_type": "code",
   "execution_count": 10,
   "id": "513c8cd5",
   "metadata": {},
   "outputs": [
    {
     "data": {
      "text/html": [
       "<div><style>\n",
       ".dataframe > thead > tr,\n",
       ".dataframe > tbody > tr {\n",
       "  text-align: right;\n",
       "  white-space: pre-wrap;\n",
       "}\n",
       "</style>\n",
       "<small>shape: (2, 6)</small><table border=\"1\" class=\"dataframe\"><thead><tr><th>same_pu_do_zone</th><th>count_trips</th><th>passenger_count_max</th><th>trip_distance_min</th><th>trip_distance_max</th><th>trip_distance_mean</th></tr><tr><td>bool</td><td>u32</td><td>i64</td><td>f64</td><td>f64</td><td>f64</td></tr></thead><tbody><tr><td>false</td><td>3401337</td><td>9</td><td>0.0</td><td>176836.3</td><td>4.705378</td></tr><tr><td>true</td><td>181291</td><td>9</td><td>0.0</td><td>47635.92</td><td>0.990839</td></tr></tbody></table></div>"
      ],
      "text/plain": [
       "shape: (2, 6)\n",
       "┌────────────────┬─────────────┬────────────────┬────────────────┬────────────────┬────────────────┐\n",
       "│ same_pu_do_zon ┆ count_trips ┆ passenger_coun ┆ trip_distance_ ┆ trip_distance_ ┆ trip_distance_ │\n",
       "│ e              ┆ ---         ┆ t_max          ┆ min            ┆ max            ┆ mean           │\n",
       "│ ---            ┆ u32         ┆ ---            ┆ ---            ┆ ---            ┆ ---            │\n",
       "│ bool           ┆             ┆ i64            ┆ f64            ┆ f64            ┆ f64            │\n",
       "╞════════════════╪═════════════╪════════════════╪════════════════╪════════════════╪════════════════╡\n",
       "│ false          ┆ 3401337     ┆ 9              ┆ 0.0            ┆ 176836.3       ┆ 4.705378       │\n",
       "│ true           ┆ 181291      ┆ 9              ┆ 0.0            ┆ 47635.92       ┆ 0.990839       │\n",
       "└────────────────┴─────────────┴────────────────┴────────────────┴────────────────┴────────────────┘"
      ]
     },
     "execution_count": 10,
     "metadata": {},
     "output_type": "execute_result"
    }
   ],
   "source": [
    "(\n",
    "    df.group_by(\n",
    "        pl.col(\"pu_location_id\")\n",
    "        .eq(pl.col(\"do_location_id\"))\n",
    "        .alias(\"same_pu_do_zone\")\n",
    "    )\n",
    "    .agg(\n",
    "        pl.len().alias(\"count_trips\"),\n",
    "        pl.col(\"passenger_count\").max().name.suffix(\"_max\"),\n",
    "        pl.col(\"trip_distance\").min().name.suffix(\"_min\"),\n",
    "        pl.col(\"trip_distance\").max().name.suffix(\"_max\"),\n",
    "        pl.col(\"trip_distance\").mean().name.suffix(\"_mean\"),\n",
    "    )\n",
    "    .sort(pl.col(\"count_trips\"), descending=True)\n",
    "    .head()\n",
    ")"
   ]
  },
  {
   "cell_type": "markdown",
   "id": "8b0e09da",
   "metadata": {},
   "source": [
    "Well, that makes sense--rides that started and ended in the same zone had a shorter `mean(\"trip distance\")` than rides that started and ended in different zones."
   ]
  },
  {
   "cell_type": "markdown",
   "id": "3aaca920",
   "metadata": {},
   "source": [
    "Finally, if you don't want to do any aggregation on your groups, but instead want to use each group's dataframe for some other operation, then `.group_by()` conveniently returns a `python` `Dict` object mapping the group to that group's dataframe: "
   ]
  },
  {
   "cell_type": "code",
   "execution_count": 11,
   "id": "90879733",
   "metadata": {},
   "outputs": [],
   "source": [
    "df_groups_mapping = df.group_by(\n",
    "    pl.col(\"pu_location_id\")\n",
    "    .eq(pl.col(\"do_location_id\"))\n",
    "    .alias(\"same_pu_do_zone\")\n",
    ")"
   ]
  },
  {
   "cell_type": "code",
   "execution_count": 12,
   "id": "667187f6-21ff-4ccb-ad2a-cc3cde685451",
   "metadata": {},
   "outputs": [
    {
     "data": {
      "text/plain": [
       "polars.dataframe.group_by.GroupBy"
      ]
     },
     "execution_count": 12,
     "metadata": {},
     "output_type": "execute_result"
    }
   ],
   "source": [
    "type(df_groups_mapping)"
   ]
  },
  {
   "cell_type": "code",
   "execution_count": 13,
   "id": "0e142937-e203-48a7-83f9-5c5b6758ebbf",
   "metadata": {},
   "outputs": [
    {
     "name": "stdout",
     "output_type": "stream",
     "text": [
      "(False,)\n",
      "shape: (2, 19)\n",
      "┌───────────┬───────────┬───────────┬───────────┬───┬───────────┬───────────┬───────────┬──────────┐\n",
      "│ vendor_id ┆ tpep_pick ┆ tpep_drop ┆ passenger ┆ … ┆ improveme ┆ total_amo ┆ congestio ┆ airport_ │\n",
      "│ ---       ┆ up_dateti ┆ off_datet ┆ _count    ┆   ┆ nt_surcha ┆ unt       ┆ n_surchar ┆ fee      │\n",
      "│ i32       ┆ me        ┆ ime       ┆ ---       ┆   ┆ rge       ┆ ---       ┆ ge        ┆ ---      │\n",
      "│           ┆ ---       ┆ ---       ┆ i64       ┆   ┆ ---       ┆ f64       ┆ ---       ┆ f64      │\n",
      "│           ┆ datetime[ ┆ datetime[ ┆           ┆   ┆ f64       ┆           ┆ f64       ┆          │\n",
      "│           ┆ ns]       ┆ ns]       ┆           ┆   ┆           ┆           ┆           ┆          │\n",
      "╞═══════════╪═══════════╪═══════════╪═══════════╪═══╪═══════════╪═══════════╪═══════════╪══════════╡\n",
      "│ 1         ┆ 2024-03-0 ┆ 2024-03-0 ┆ 0         ┆ … ┆ 1.0       ┆ 16.3      ┆ 2.5       ┆ 0.0      │\n",
      "│           ┆ 1         ┆ 1         ┆           ┆   ┆           ┆           ┆           ┆          │\n",
      "│           ┆ 00:18:51  ┆ 00:23:45  ┆           ┆   ┆           ┆           ┆           ┆          │\n",
      "│ 1         ┆ 2024-03-0 ┆ 2024-03-0 ┆ 0         ┆ … ┆ 1.0       ┆ 15.2      ┆ 2.5       ┆ 0.0      │\n",
      "│           ┆ 1         ┆ 1         ┆           ┆   ┆           ┆           ┆           ┆          │\n",
      "│           ┆ 00:26:00  ┆ 00:29:06  ┆           ┆   ┆           ┆           ┆           ┆          │\n",
      "└───────────┴───────────┴───────────┴───────────┴───┴───────────┴───────────┴───────────┴──────────┘\n",
      "(True,)\n",
      "shape: (2, 19)\n",
      "┌───────────┬───────────┬───────────┬───────────┬───┬───────────┬───────────┬───────────┬──────────┐\n",
      "│ vendor_id ┆ tpep_pick ┆ tpep_drop ┆ passenger ┆ … ┆ improveme ┆ total_amo ┆ congestio ┆ airport_ │\n",
      "│ ---       ┆ up_dateti ┆ off_datet ┆ _count    ┆   ┆ nt_surcha ┆ unt       ┆ n_surchar ┆ fee      │\n",
      "│ i32       ┆ me        ┆ ime       ┆ ---       ┆   ┆ rge       ┆ ---       ┆ ge        ┆ ---      │\n",
      "│           ┆ ---       ┆ ---       ┆ i64       ┆   ┆ ---       ┆ f64       ┆ ---       ┆ f64      │\n",
      "│           ┆ datetime[ ┆ datetime[ ┆           ┆   ┆ f64       ┆           ┆ f64       ┆          │\n",
      "│           ┆ ns]       ┆ ns]       ┆           ┆   ┆           ┆           ┆           ┆          │\n",
      "╞═══════════╪═══════════╪═══════════╪═══════════╪═══╪═══════════╪═══════════╪═══════════╪══════════╡\n",
      "│ 2         ┆ 2024-03-0 ┆ 2024-03-0 ┆ 2         ┆ … ┆ 1.0       ┆ 15.48     ┆ 2.5       ┆ 0.0      │\n",
      "│           ┆ 1         ┆ 1         ┆           ┆   ┆           ┆           ┆           ┆          │\n",
      "│           ┆ 00:12:31  ┆ 00:19:32  ┆           ┆   ┆           ┆           ┆           ┆          │\n",
      "│ 2         ┆ 2024-03-0 ┆ 2024-03-0 ┆ 1         ┆ … ┆ 1.0       ┆ 15.48     ┆ 2.5       ┆ 0.0      │\n",
      "│           ┆ 1         ┆ 1         ┆           ┆   ┆           ┆           ┆           ┆          │\n",
      "│           ┆ 00:17:01  ┆ 00:22:57  ┆           ┆   ┆           ┆           ┆           ┆          │\n",
      "└───────────┴───────────┴───────────┴───────────┴───┴───────────┴───────────┴───────────┴──────────┘\n"
     ]
    }
   ],
   "source": [
    "for group_id, group_df in df_groups_mapping:\n",
    "    print(group_id)\n",
    "    print(group_df.head(2))"
   ]
  },
  {
   "cell_type": "markdown",
   "id": "fac5fcad",
   "metadata": {},
   "source": [
    "Now, we have everything we need to perform aggregrate operations within groups... but what if we want to do analytics within groups, without aggregrating? For that, we need window functions."
   ]
  },
  {
   "cell_type": "markdown",
   "id": "dbb97a25",
   "metadata": {},
   "source": [
    "## 5.2. Window Functions in `polars`"
   ]
  },
  {
   "cell_type": "markdown",
   "id": "be072b9b",
   "metadata": {},
   "source": [
    "`group_by` helps us to answer questions like:\n",
    "- What is the maximum trip distance for each pickup zone?\n",
    "- What was the average tip paid for rides that went to the airport versus didn't go to the airport?\n",
    "\n",
    "But there is another class of questions that involve understanding within-group properties, without aggregation. For example:\n",
    "- Show me the five longest trips for trips that had a tip vs didn't.\n",
    "- Show me the three most expensive trips for each different payment type.\n",
    "\n",
    "To answer such questions, SQL offers Window Functions; in `polars`, this functionality comes to us with `pl.Expr.over()`. With `pl.Expr.over()`, we create some sort of aggregration on a `pl.Expr` object, and then specify that it should be executed `over` a particular group.\n",
    "\n",
    "Let's start with the first example, showing **the five longest trips for trips that had a tip vs didn't**, sequentially constructing the query:"
   ]
  },
  {
   "cell_type": "markdown",
   "id": "3e76ba5f",
   "metadata": {},
   "source": [
    "We start with adding a boolean `\"had_tip\"` column, sorting the dataframe to more easily see the results of our query, and selecting only a few columns that we're interested in:"
   ]
  },
  {
   "cell_type": "code",
   "execution_count": 5,
   "id": "f9fad9b8",
   "metadata": {},
   "outputs": [
    {
     "data": {
      "text/html": [
       "<div><style>\n",
       ".dataframe > thead > tr,\n",
       ".dataframe > tbody > tr {\n",
       "  text-align: right;\n",
       "  white-space: pre-wrap;\n",
       "}\n",
       "</style>\n",
       "<small>shape: (5, 3)</small><table border=\"1\" class=\"dataframe\"><thead><tr><th>trip_distance</th><th>tip_amount</th><th>had_tip</th></tr><tr><td>f64</td><td>f64</td><td>bool</td></tr></thead><tbody><tr><td>176836.3</td><td>5.46</td><td>true</td></tr><tr><td>176744.79</td><td>19.28</td><td>true</td></tr><tr><td>176329.23</td><td>0.0</td><td>false</td></tr><tr><td>138097.21</td><td>14.14</td><td>true</td></tr><tr><td>136660.1</td><td>0.0</td><td>false</td></tr></tbody></table></div>"
      ],
      "text/plain": [
       "shape: (5, 3)\n",
       "┌───────────────┬────────────┬─────────┐\n",
       "│ trip_distance ┆ tip_amount ┆ had_tip │\n",
       "│ ---           ┆ ---        ┆ ---     │\n",
       "│ f64           ┆ f64        ┆ bool    │\n",
       "╞═══════════════╪════════════╪═════════╡\n",
       "│ 176836.3      ┆ 5.46       ┆ true    │\n",
       "│ 176744.79     ┆ 19.28      ┆ true    │\n",
       "│ 176329.23     ┆ 0.0        ┆ false   │\n",
       "│ 138097.21     ┆ 14.14      ┆ true    │\n",
       "│ 136660.1      ┆ 0.0        ┆ false   │\n",
       "└───────────────┴────────────┴─────────┘"
      ]
     },
     "execution_count": 5,
     "metadata": {},
     "output_type": "execute_result"
    }
   ],
   "source": [
    "(\n",
    "    df.with_columns(pl.col(\"tip_amount\").gt(0).alias(\"had_tip\"))\n",
    "    .sort(pl.col(\"trip_distance\"), descending=True)\n",
    "    .select([\"trip_distance\", \"tip_amount\", \"had_tip\"])\n",
    "    .head()\n",
    ")"
   ]
  },
  {
   "cell_type": "markdown",
   "id": "6c027d72",
   "metadata": {},
   "source": [
    "And now we add a column for `.rank()`, which assigns a rank of `1` to `n` to each row in the column (where `n` is the length of the column):"
   ]
  },
  {
   "cell_type": "code",
   "execution_count": 11,
   "id": "e77b4f52",
   "metadata": {},
   "outputs": [
    {
     "data": {
      "text/html": [
       "<div><style>\n",
       ".dataframe > thead > tr,\n",
       ".dataframe > tbody > tr {\n",
       "  text-align: right;\n",
       "  white-space: pre-wrap;\n",
       "}\n",
       "</style>\n",
       "<small>shape: (5, 4)</small><table border=\"1\" class=\"dataframe\"><thead><tr><th>trip_distance</th><th>tip_amount</th><th>had_tip</th><th>trip_distance_rank</th></tr><tr><td>f64</td><td>f64</td><td>bool</td><td>f64</td></tr></thead><tbody><tr><td>176836.3</td><td>5.46</td><td>true</td><td>1.0</td></tr><tr><td>176744.79</td><td>19.28</td><td>true</td><td>2.0</td></tr><tr><td>176329.23</td><td>0.0</td><td>false</td><td>3.0</td></tr><tr><td>138097.21</td><td>14.14</td><td>true</td><td>4.0</td></tr><tr><td>136660.1</td><td>0.0</td><td>false</td><td>5.0</td></tr></tbody></table></div>"
      ],
      "text/plain": [
       "shape: (5, 4)\n",
       "┌───────────────┬────────────┬─────────┬────────────────────┐\n",
       "│ trip_distance ┆ tip_amount ┆ had_tip ┆ trip_distance_rank │\n",
       "│ ---           ┆ ---        ┆ ---     ┆ ---                │\n",
       "│ f64           ┆ f64        ┆ bool    ┆ f64                │\n",
       "╞═══════════════╪════════════╪═════════╪════════════════════╡\n",
       "│ 176836.3      ┆ 5.46       ┆ true    ┆ 1.0                │\n",
       "│ 176744.79     ┆ 19.28      ┆ true    ┆ 2.0                │\n",
       "│ 176329.23     ┆ 0.0        ┆ false   ┆ 3.0                │\n",
       "│ 138097.21     ┆ 14.14      ┆ true    ┆ 4.0                │\n",
       "│ 136660.1      ┆ 0.0        ┆ false   ┆ 5.0                │\n",
       "└───────────────┴────────────┴─────────┴────────────────────┘"
      ]
     },
     "execution_count": 11,
     "metadata": {},
     "output_type": "execute_result"
    }
   ],
   "source": [
    "(\n",
    "    df.with_columns(pl.col(\"tip_amount\").gt(0).alias(\"had_tip\"))\n",
    "    .sort(pl.col(\"trip_distance\"), descending=True)\n",
    "    .select(\n",
    "        [\n",
    "            \"trip_distance\",\n",
    "            \"tip_amount\",\n",
    "            \"had_tip\",\n",
    "            pl.col(\"trip_distance\").rank(descending=True).name.suffix(\"_rank\"),\n",
    "        ]\n",
    "    )\n",
    "    .head()\n",
    ")"
   ]
  },
  {
   "cell_type": "markdown",
   "id": "23a109f1",
   "metadata": {},
   "source": [
    "That's great! We now have a column `\"trip_distance_rank\"` which reflects the rank of `\"trip_distance\"` from highest to lowest. But that's not exactly what we want--we want it **within** the `\"had_tip\"` group! It's time to use `pl.Expr.over()`."
   ]
  },
  {
   "cell_type": "code",
   "execution_count": 12,
   "id": "3321ff0d",
   "metadata": {},
   "outputs": [
    {
     "data": {
      "text/html": [
       "<div><style>\n",
       ".dataframe > thead > tr,\n",
       ".dataframe > tbody > tr {\n",
       "  text-align: right;\n",
       "  white-space: pre-wrap;\n",
       "}\n",
       "</style>\n",
       "<small>shape: (5, 4)</small><table border=\"1\" class=\"dataframe\"><thead><tr><th>trip_distance</th><th>tip_amount</th><th>had_tip</th><th>trip_distance_rank_within_had_tip</th></tr><tr><td>f64</td><td>f64</td><td>bool</td><td>f64</td></tr></thead><tbody><tr><td>176836.3</td><td>5.46</td><td>true</td><td>1.0</td></tr><tr><td>176744.79</td><td>19.28</td><td>true</td><td>2.0</td></tr><tr><td>176329.23</td><td>0.0</td><td>false</td><td>1.0</td></tr><tr><td>138097.21</td><td>14.14</td><td>true</td><td>3.0</td></tr><tr><td>136660.1</td><td>0.0</td><td>false</td><td>2.0</td></tr></tbody></table></div>"
      ],
      "text/plain": [
       "shape: (5, 4)\n",
       "┌───────────────┬────────────┬─────────┬─────────────────────────────────┐\n",
       "│ trip_distance ┆ tip_amount ┆ had_tip ┆ trip_distance_rank_within_had_… │\n",
       "│ ---           ┆ ---        ┆ ---     ┆ ---                             │\n",
       "│ f64           ┆ f64        ┆ bool    ┆ f64                             │\n",
       "╞═══════════════╪════════════╪═════════╪═════════════════════════════════╡\n",
       "│ 176836.3      ┆ 5.46       ┆ true    ┆ 1.0                             │\n",
       "│ 176744.79     ┆ 19.28      ┆ true    ┆ 2.0                             │\n",
       "│ 176329.23     ┆ 0.0        ┆ false   ┆ 1.0                             │\n",
       "│ 138097.21     ┆ 14.14      ┆ true    ┆ 3.0                             │\n",
       "│ 136660.1      ┆ 0.0        ┆ false   ┆ 2.0                             │\n",
       "└───────────────┴────────────┴─────────┴─────────────────────────────────┘"
      ]
     },
     "execution_count": 12,
     "metadata": {},
     "output_type": "execute_result"
    }
   ],
   "source": [
    "(\n",
    "    df.with_columns(pl.col(\"tip_amount\").gt(0).alias(\"had_tip\"))\n",
    "    .sort(pl.col(\"trip_distance\"), descending=True)\n",
    "    .select(\n",
    "        [\n",
    "            \"trip_distance\",\n",
    "            \"tip_amount\",\n",
    "            \"had_tip\",\n",
    "            (\n",
    "                pl.col(\"trip_distance\")\n",
    "                .rank(descending=True)\n",
    "                .over(\"had_tip\")\n",
    "                .name.suffix(\"_rank_within_had_tip\")\n",
    "            ),\n",
    "        ]\n",
    "    )\n",
    "    .head()\n",
    ")"
   ]
  },
  {
   "cell_type": "markdown",
   "id": "39388016",
   "metadata": {},
   "source": [
    "It's as simple as that--we just pass the column `\"had_tip\"` to `pl.Expr.over()`, and `polars` takes care of the rest! Finally, we want to see only the top 3 rides within the group, so we add the new column to a `.filter()` statement..."
   ]
  },
  {
   "cell_type": "code",
   "execution_count": 13,
   "id": "f60b25b4",
   "metadata": {},
   "outputs": [
    {
     "data": {
      "text/html": [
       "<div><style>\n",
       ".dataframe > thead > tr,\n",
       ".dataframe > tbody > tr {\n",
       "  text-align: right;\n",
       "  white-space: pre-wrap;\n",
       "}\n",
       "</style>\n",
       "<small>shape: (6, 4)</small><table border=\"1\" class=\"dataframe\"><thead><tr><th>trip_distance</th><th>tip_amount</th><th>had_tip</th><th>trip_distance_rank_within_had_tip</th></tr><tr><td>f64</td><td>f64</td><td>bool</td><td>f64</td></tr></thead><tbody><tr><td>176836.3</td><td>5.46</td><td>true</td><td>1.0</td></tr><tr><td>176744.79</td><td>19.28</td><td>true</td><td>2.0</td></tr><tr><td>176329.23</td><td>0.0</td><td>false</td><td>1.0</td></tr><tr><td>138097.21</td><td>14.14</td><td>true</td><td>3.0</td></tr><tr><td>136660.1</td><td>0.0</td><td>false</td><td>2.0</td></tr><tr><td>109619.96</td><td>0.0</td><td>false</td><td>3.0</td></tr></tbody></table></div>"
      ],
      "text/plain": [
       "shape: (6, 4)\n",
       "┌───────────────┬────────────┬─────────┬─────────────────────────────────┐\n",
       "│ trip_distance ┆ tip_amount ┆ had_tip ┆ trip_distance_rank_within_had_… │\n",
       "│ ---           ┆ ---        ┆ ---     ┆ ---                             │\n",
       "│ f64           ┆ f64        ┆ bool    ┆ f64                             │\n",
       "╞═══════════════╪════════════╪═════════╪═════════════════════════════════╡\n",
       "│ 176836.3      ┆ 5.46       ┆ true    ┆ 1.0                             │\n",
       "│ 176744.79     ┆ 19.28      ┆ true    ┆ 2.0                             │\n",
       "│ 176329.23     ┆ 0.0        ┆ false   ┆ 1.0                             │\n",
       "│ 138097.21     ┆ 14.14      ┆ true    ┆ 3.0                             │\n",
       "│ 136660.1      ┆ 0.0        ┆ false   ┆ 2.0                             │\n",
       "│ 109619.96     ┆ 0.0        ┆ false   ┆ 3.0                             │\n",
       "└───────────────┴────────────┴─────────┴─────────────────────────────────┘"
      ]
     },
     "execution_count": 13,
     "metadata": {},
     "output_type": "execute_result"
    }
   ],
   "source": [
    "(\n",
    "    df.with_columns(pl.col(\"tip_amount\").gt(0).alias(\"had_tip\"))\n",
    "    .sort(pl.col(\"trip_distance\"), descending=True)\n",
    "    .select(\n",
    "        [\n",
    "            \"trip_distance\",\n",
    "            \"tip_amount\",\n",
    "            \"had_tip\",\n",
    "            (\n",
    "                pl.col(\"trip_distance\")\n",
    "                .rank(descending=True)\n",
    "                .over(\"had_tip\")\n",
    "                .name.suffix(\"_rank_within_had_tip\")\n",
    "            ),\n",
    "        ]\n",
    "    )\n",
    "    .filter(\n",
    "        pl.col(\"trip_distance_rank_within_had_tip\").le(\n",
    "            3\n",
    "        )  # `le()` means Less than or Equal to\n",
    "    )\n",
    ")"
   ]
  },
  {
   "cell_type": "markdown",
   "id": "16064b05",
   "metadata": {},
   "source": [
    "Voila! And, you might be getting annoyed at this point, but I have to say it here too--`pl.Expr.over()` can accept a list of columns, and it can also accept a `pl.Expr` object. So, we don't necessarily need to create the `\"had_tip\"` column before--we can just create it inside the call to `.over()` if we want:"
   ]
  },
  {
   "cell_type": "code",
   "execution_count": 14,
   "id": "4640bbcb",
   "metadata": {},
   "outputs": [
    {
     "data": {
      "text/html": [
       "<div><style>\n",
       ".dataframe > thead > tr,\n",
       ".dataframe > tbody > tr {\n",
       "  text-align: right;\n",
       "  white-space: pre-wrap;\n",
       "}\n",
       "</style>\n",
       "<small>shape: (6, 3)</small><table border=\"1\" class=\"dataframe\"><thead><tr><th>trip_distance</th><th>tip_amount</th><th>trip_distance_rank_within_had_tip</th></tr><tr><td>f64</td><td>f64</td><td>f64</td></tr></thead><tbody><tr><td>176836.3</td><td>5.46</td><td>1.0</td></tr><tr><td>176744.79</td><td>19.28</td><td>2.0</td></tr><tr><td>176329.23</td><td>0.0</td><td>1.0</td></tr><tr><td>138097.21</td><td>14.14</td><td>3.0</td></tr><tr><td>136660.1</td><td>0.0</td><td>2.0</td></tr><tr><td>109619.96</td><td>0.0</td><td>3.0</td></tr></tbody></table></div>"
      ],
      "text/plain": [
       "shape: (6, 3)\n",
       "┌───────────────┬────────────┬─────────────────────────────────┐\n",
       "│ trip_distance ┆ tip_amount ┆ trip_distance_rank_within_had_… │\n",
       "│ ---           ┆ ---        ┆ ---                             │\n",
       "│ f64           ┆ f64        ┆ f64                             │\n",
       "╞═══════════════╪════════════╪═════════════════════════════════╡\n",
       "│ 176836.3      ┆ 5.46       ┆ 1.0                             │\n",
       "│ 176744.79     ┆ 19.28      ┆ 2.0                             │\n",
       "│ 176329.23     ┆ 0.0        ┆ 1.0                             │\n",
       "│ 138097.21     ┆ 14.14      ┆ 3.0                             │\n",
       "│ 136660.1      ┆ 0.0        ┆ 2.0                             │\n",
       "│ 109619.96     ┆ 0.0        ┆ 3.0                             │\n",
       "└───────────────┴────────────┴─────────────────────────────────┘"
      ]
     },
     "execution_count": 14,
     "metadata": {},
     "output_type": "execute_result"
    }
   ],
   "source": [
    "(\n",
    "    df\n",
    "    #     .with_columns(\n",
    "    #         pl.col(\"tip_amount\").gt(0).alias(\"had_tip\")\n",
    "    #     )\n",
    "    .sort(pl.col(\"trip_distance\"), descending=True)\n",
    "    .select(\n",
    "        [\n",
    "            \"trip_distance\",\n",
    "            \"tip_amount\",\n",
    "            #         \"had_tip\",\n",
    "            (\n",
    "                pl.col(\"trip_distance\")\n",
    "                .rank(descending=True)\n",
    "                .over(pl.col(\"tip_amount\").gt(0))\n",
    "                .name.suffix(\"_rank_within_had_tip\")\n",
    "            ),\n",
    "        ]\n",
    "    )\n",
    "    .filter(\n",
    "        pl.col(\"trip_distance_rank_within_had_tip\").le(\n",
    "            3\n",
    "        )  # `le()` means Less than or Equal to\n",
    "    )\n",
    ")"
   ]
  },
  {
   "cell_type": "code",
   "execution_count": 21,
   "id": "5636c5fa",
   "metadata": {},
   "outputs": [
    {
     "data": {
      "text/html": [
       "<div><style>\n",
       ".dataframe > thead > tr,\n",
       ".dataframe > tbody > tr {\n",
       "  text-align: right;\n",
       "  white-space: pre-wrap;\n",
       "}\n",
       "</style>\n",
       "<small>shape: (10, 3)</small><table border=\"1\" class=\"dataframe\"><thead><tr><th>trip_distance</th><th>tip_amount</th><th>tip_amount_rank_within_had_tip</th></tr><tr><td>f64</td><td>f64</td><td>f64</td></tr></thead><tbody><tr><td>3.8</td><td>999.99</td><td>1.0</td></tr><tr><td>4.7</td><td>598.58</td><td>2.0</td></tr><tr><td>3.1</td><td>417.79</td><td>3.0</td></tr><tr><td>0.76</td><td>300.0</td><td>4.5</td></tr><tr><td>2.09</td><td>300.0</td><td>4.5</td></tr><tr><td>159.74</td><td>161.2</td><td>1.0</td></tr><tr><td>12.76</td><td>150.0</td><td>2.0</td></tr><tr><td>19.2</td><td>144.0</td><td>3.0</td></tr><tr><td>54.8</td><td>125.99</td><td>4.0</td></tr><tr><td>11.8</td><td>121.13</td><td>5.0</td></tr></tbody></table></div>"
      ],
      "text/plain": [
       "shape: (10, 3)\n",
       "┌───────────────┬────────────┬────────────────────────────────┐\n",
       "│ trip_distance ┆ tip_amount ┆ tip_amount_rank_within_had_tip │\n",
       "│ ---           ┆ ---        ┆ ---                            │\n",
       "│ f64           ┆ f64        ┆ f64                            │\n",
       "╞═══════════════╪════════════╪════════════════════════════════╡\n",
       "│ 3.8           ┆ 999.99     ┆ 1.0                            │\n",
       "│ 4.7           ┆ 598.58     ┆ 2.0                            │\n",
       "│ 3.1           ┆ 417.79     ┆ 3.0                            │\n",
       "│ 0.76          ┆ 300.0      ┆ 4.5                            │\n",
       "│ 2.09          ┆ 300.0      ┆ 4.5                            │\n",
       "│ 159.74        ┆ 161.2      ┆ 1.0                            │\n",
       "│ 12.76         ┆ 150.0      ┆ 2.0                            │\n",
       "│ 19.2          ┆ 144.0      ┆ 3.0                            │\n",
       "│ 54.8          ┆ 125.99     ┆ 4.0                            │\n",
       "│ 11.8          ┆ 121.13     ┆ 5.0                            │\n",
       "└───────────────┴────────────┴────────────────────────────────┘"
      ]
     },
     "execution_count": 21,
     "metadata": {},
     "output_type": "execute_result"
    }
   ],
   "source": [
    "(\n",
    "    df\n",
    "    #     .with_columns(\n",
    "    #         pl.col(\"tip_amount\").gt(0).alias(\"had_tip\")\n",
    "    #     )\n",
    "    .sort(pl.col(\"tip_amount\"), descending=True)\n",
    "    .select(\n",
    "        [\n",
    "            \"trip_distance\",\n",
    "            \"tip_amount\",\n",
    "            #         \"had_tip\",\n",
    "            (\n",
    "                pl.col(\"tip_amount\")\n",
    "                .rank(descending=True)\n",
    "                .over(pl.col(\"trip_distance\").gt(10))\n",
    "                .name.suffix(\"_rank_within_had_tip\")\n",
    "            ),\n",
    "        ]\n",
    "    )\n",
    "    .filter(\n",
    "        pl.col(\"tip_amount_rank_within_had_tip\").le(\n",
    "            5\n",
    "        )  # `le()` means Less than or Equal to\n",
    "    )\n",
    ")"
   ]
  },
  {
   "cell_type": "markdown",
   "id": "b0bfd88c",
   "metadata": {},
   "source": [
    "## 5.3. Pivot Tables"
   ]
  },
  {
   "cell_type": "markdown",
   "id": "4dfbe04b",
   "metadata": {},
   "source": [
    "Pivot tables are a critical ingredient in most data manipulation tools, such as SQL and Pandas, and the same is true for `polars`! If you're not familiar, prepare to be amazed--pivot tables take aggregrations literally to the next dimension: \n",
    "1. Simple aggregation functions inside a `.select()` call gives aggregations over the whole dataframe;\n",
    "2. Aggregating with `.group_by(...).agg(...)` gives aggregations over one column as an axis;\n",
    "3. Aggregating with `.pivot()` gives aggregations across two columns as two axes.\n",
    "\n",
    "Let's learn by example, trying to understand the average tip-amount, **pivoting** by `\"passenger_count\"` and whether or not a **toll** was paid:"
   ]
  },
  {
   "cell_type": "markdown",
   "id": "4d13ed49",
   "metadata": {},
   "source": [
    "We start by creating a `\"had_toll\"` column:"
   ]
  },
  {
   "cell_type": "code",
   "execution_count": 23,
   "id": "e3ec07da",
   "metadata": {},
   "outputs": [
    {
     "data": {
      "text/html": [
       "<div><style>\n",
       ".dataframe > thead > tr,\n",
       ".dataframe > tbody > tr {\n",
       "  text-align: right;\n",
       "  white-space: pre-wrap;\n",
       "}\n",
       "</style>\n",
       "<small>shape: (5, 4)</small><table border=\"1\" class=\"dataframe\"><thead><tr><th>passenger_count</th><th>tolls_amount</th><th>had_toll</th><th>tip_amount</th></tr><tr><td>i64</td><td>f64</td><td>bool</td><td>f64</td></tr></thead><tbody><tr><td>0</td><td>0.0</td><td>false</td><td>2.7</td></tr><tr><td>0</td><td>0.0</td><td>false</td><td>3.0</td></tr><tr><td>1</td><td>0.0</td><td>false</td><td>0.0</td></tr><tr><td>1</td><td>0.0</td><td>false</td><td>1.29</td></tr><tr><td>0</td><td>0.0</td><td>false</td><td>0.0</td></tr></tbody></table></div>"
      ],
      "text/plain": [
       "shape: (5, 4)\n",
       "┌─────────────────┬──────────────┬──────────┬────────────┐\n",
       "│ passenger_count ┆ tolls_amount ┆ had_toll ┆ tip_amount │\n",
       "│ ---             ┆ ---          ┆ ---      ┆ ---        │\n",
       "│ i64             ┆ f64          ┆ bool     ┆ f64        │\n",
       "╞═════════════════╪══════════════╪══════════╪════════════╡\n",
       "│ 0               ┆ 0.0          ┆ false    ┆ 2.7        │\n",
       "│ 0               ┆ 0.0          ┆ false    ┆ 3.0        │\n",
       "│ 1               ┆ 0.0          ┆ false    ┆ 0.0        │\n",
       "│ 1               ┆ 0.0          ┆ false    ┆ 1.29       │\n",
       "│ 0               ┆ 0.0          ┆ false    ┆ 0.0        │\n",
       "└─────────────────┴──────────────┴──────────┴────────────┘"
      ]
     },
     "execution_count": 23,
     "metadata": {},
     "output_type": "execute_result"
    }
   ],
   "source": [
    "(\n",
    "    df.with_columns(pl.col(\"tolls_amount\").gt(0).alias(\"had_toll\"))\n",
    "    .select([\"passenger_count\", \"tolls_amount\", \"had_toll\", \"tip_amount\"])\n",
    "    .head()\n",
    ")"
   ]
  },
  {
   "cell_type": "markdown",
   "id": "985d9412",
   "metadata": {},
   "source": [
    "And then we can plug it into `pl.DataFrame.pivot()`, setting the `aggregate_function` as `\"mean\"`:"
   ]
  },
  {
   "cell_type": "code",
   "execution_count": 20,
   "id": "93357b7f",
   "metadata": {},
   "outputs": [
    {
     "data": {
      "text/html": [
       "<div><style>\n",
       ".dataframe > thead > tr,\n",
       ".dataframe > tbody > tr {\n",
       "  text-align: right;\n",
       "  white-space: pre-wrap;\n",
       "}\n",
       "</style>\n",
       "<small>shape: (2, 12)</small><table border=\"1\" class=\"dataframe\"><thead><tr><th>had_toll</th><th>0</th><th>1</th><th>4</th><th>2</th><th>3</th><th>5</th><th>6</th><th>9</th><th>8</th><th>7</th><th>null</th></tr><tr><td>bool</td><td>f64</td><td>f64</td><td>f64</td><td>f64</td><td>f64</td><td>f64</td><td>f64</td><td>f64</td><td>f64</td><td>f64</td><td>f64</td></tr></thead><tbody><tr><td>false</td><td>2.681551</td><td>2.937724</td><td>2.851806</td><td>3.008058</td><td>2.907034</td><td>3.01128</td><td>2.94938</td><td>9.95</td><td>11.28</td><td>5.98</td><td>0.488163</td></tr><tr><td>true</td><td>9.91655</td><td>10.384319</td><td>9.95942</td><td>10.730344</td><td>10.525271</td><td>10.742104</td><td>10.852298</td><td>21.28</td><td>24.2</td><td>0.0</td><td>6.333642</td></tr></tbody></table></div>"
      ],
      "text/plain": [
       "shape: (2, 12)\n",
       "┌──────────┬──────────┬───────────┬──────────┬───┬───────┬───────┬──────┬──────────┐\n",
       "│ had_toll ┆ 0        ┆ 1         ┆ 4        ┆ … ┆ 9     ┆ 8     ┆ 7    ┆ null     │\n",
       "│ ---      ┆ ---      ┆ ---       ┆ ---      ┆   ┆ ---   ┆ ---   ┆ ---  ┆ ---      │\n",
       "│ bool     ┆ f64      ┆ f64       ┆ f64      ┆   ┆ f64   ┆ f64   ┆ f64  ┆ f64      │\n",
       "╞══════════╪══════════╪═══════════╪══════════╪═══╪═══════╪═══════╪══════╪══════════╡\n",
       "│ false    ┆ 2.681551 ┆ 2.937724  ┆ 2.851806 ┆ … ┆ 9.95  ┆ 11.28 ┆ 5.98 ┆ 0.488163 │\n",
       "│ true     ┆ 9.91655  ┆ 10.384319 ┆ 9.95942  ┆ … ┆ 21.28 ┆ 24.2  ┆ 0.0  ┆ 6.333642 │\n",
       "└──────────┴──────────┴───────────┴──────────┴───┴───────┴───────┴──────┴──────────┘"
      ]
     },
     "execution_count": 20,
     "metadata": {},
     "output_type": "execute_result"
    }
   ],
   "source": [
    "(\n",
    "    df.with_columns(pl.col(\"tolls_amount\").gt(0).alias(\"had_toll\"))\n",
    "    .pivot(\n",
    "        index=\"had_toll\",\n",
    "        on=\"passenger_count\",\n",
    "        values=\"tip_amount\",\n",
    "        aggregate_function=\"mean\",\n",
    "    )\n",
    "    .head()\n",
    ")"
   ]
  },
  {
   "cell_type": "markdown",
   "id": "715b8c06",
   "metadata": {},
   "source": [
    "It's a bit annoying here that the columns are out of numeric order... but `polars` offers a `sort_columns` argument to handle it:"
   ]
  },
  {
   "cell_type": "code",
   "execution_count": 24,
   "id": "37cd67fd",
   "metadata": {},
   "outputs": [
    {
     "data": {
      "text/html": [
       "<div><style>\n",
       ".dataframe > thead > tr,\n",
       ".dataframe > tbody > tr {\n",
       "  text-align: right;\n",
       "  white-space: pre-wrap;\n",
       "}\n",
       "</style>\n",
       "<small>shape: (2, 12)</small><table border=\"1\" class=\"dataframe\"><thead><tr><th>had_toll</th><th>0</th><th>1</th><th>2</th><th>3</th><th>4</th><th>5</th><th>6</th><th>7</th><th>8</th><th>9</th><th>null</th></tr><tr><td>bool</td><td>f64</td><td>f64</td><td>f64</td><td>f64</td><td>f64</td><td>f64</td><td>f64</td><td>f64</td><td>f64</td><td>f64</td><td>f64</td></tr></thead><tbody><tr><td>false</td><td>2.681551</td><td>2.937724</td><td>3.008058</td><td>2.907034</td><td>2.851806</td><td>3.01128</td><td>2.94938</td><td>5.98</td><td>11.28</td><td>9.95</td><td>0.488163</td></tr><tr><td>true</td><td>9.91655</td><td>10.384319</td><td>10.730344</td><td>10.525271</td><td>9.95942</td><td>10.742104</td><td>10.852298</td><td>0.0</td><td>24.2</td><td>21.28</td><td>6.333642</td></tr></tbody></table></div>"
      ],
      "text/plain": [
       "shape: (2, 12)\n",
       "┌──────────┬──────────┬───────────┬───────────┬───┬──────┬───────┬───────┬──────────┐\n",
       "│ had_toll ┆ 0        ┆ 1         ┆ 2         ┆ … ┆ 7    ┆ 8     ┆ 9     ┆ null     │\n",
       "│ ---      ┆ ---      ┆ ---       ┆ ---       ┆   ┆ ---  ┆ ---   ┆ ---   ┆ ---      │\n",
       "│ bool     ┆ f64      ┆ f64       ┆ f64       ┆   ┆ f64  ┆ f64   ┆ f64   ┆ f64      │\n",
       "╞══════════╪══════════╪═══════════╪═══════════╪═══╪══════╪═══════╪═══════╪══════════╡\n",
       "│ false    ┆ 2.681551 ┆ 2.937724  ┆ 3.008058  ┆ … ┆ 5.98 ┆ 11.28 ┆ 9.95  ┆ 0.488163 │\n",
       "│ true     ┆ 9.91655  ┆ 10.384319 ┆ 10.730344 ┆ … ┆ 0.0  ┆ 24.2  ┆ 21.28 ┆ 6.333642 │\n",
       "└──────────┴──────────┴───────────┴───────────┴───┴──────┴───────┴───────┴──────────┘"
      ]
     },
     "execution_count": 24,
     "metadata": {},
     "output_type": "execute_result"
    }
   ],
   "source": [
    "(\n",
    "    df.with_columns(pl.col(\"tolls_amount\").gt(0).alias(\"had_toll\"))\n",
    "    .pivot(\n",
    "        index=\"had_toll\",\n",
    "        on=\"passenger_count\",\n",
    "        values=\"tip_amount\",\n",
    "        aggregate_function=\"mean\",\n",
    "        sort_columns=True,\n",
    "    )\n",
    "    .head()\n",
    ")"
   ]
  },
  {
   "cell_type": "markdown",
   "id": "50c49173",
   "metadata": {},
   "source": [
    "That's easier to read! And now we can focus on the result, and see that there's a clear upward trend--trips with tolls had higher tips, across all values for `\"passenger_count\"`. And it seems like there might be an upward trend in `mean(\"tip_amount\")` as a function of `\"passenger_count\"`... but somehow the data in the high values of `\"passenger_count\"` looks noisy. To be more confident, we might want to check the amount of data for those high values of `\"passenger_count\"`, which we can do by changing the `aggregate_function` from `\"mean\"` to `\"len\"`:"
   ]
  },
  {
   "cell_type": "code",
   "execution_count": 25,
   "id": "867bc8cd",
   "metadata": {},
   "outputs": [
    {
     "data": {
      "text/html": [
       "<div><style>\n",
       ".dataframe > thead > tr,\n",
       ".dataframe > tbody > tr {\n",
       "  text-align: right;\n",
       "  white-space: pre-wrap;\n",
       "}\n",
       "</style>\n",
       "<small>shape: (2, 12)</small><table border=\"1\" class=\"dataframe\"><thead><tr><th>had_toll</th><th>0</th><th>1</th><th>2</th><th>3</th><th>4</th><th>5</th><th>6</th><th>7</th><th>8</th><th>9</th><th>null</th></tr><tr><td>bool</td><td>u32</td><td>u32</td><td>u32</td><td>u32</td><td>u32</td><td>u32</td><td>u32</td><td>u32</td><td>u32</td><td>u32</td><td>u32</td></tr></thead><tbody><tr><td>false</td><td>38285</td><td>2257770</td><td>404925</td><td>96786</td><td>57555</td><td>30248</td><td>20758</td><td>5</td><td>9</td><td>2</td><td>416092</td></tr><tr><td>true</td><td>2087</td><td>176671</td><td>48972</td><td>11217</td><td>7344</td><td>2452</td><td>1349</td><td>1</td><td>1</td><td>1</td><td>10098</td></tr></tbody></table></div>"
      ],
      "text/plain": [
       "shape: (2, 12)\n",
       "┌──────────┬───────┬─────────┬────────┬───┬─────┬─────┬─────┬────────┐\n",
       "│ had_toll ┆ 0     ┆ 1       ┆ 2      ┆ … ┆ 7   ┆ 8   ┆ 9   ┆ null   │\n",
       "│ ---      ┆ ---   ┆ ---     ┆ ---    ┆   ┆ --- ┆ --- ┆ --- ┆ ---    │\n",
       "│ bool     ┆ u32   ┆ u32     ┆ u32    ┆   ┆ u32 ┆ u32 ┆ u32 ┆ u32    │\n",
       "╞══════════╪═══════╪═════════╪════════╪═══╪═════╪═════╪═════╪════════╡\n",
       "│ false    ┆ 38285 ┆ 2257770 ┆ 404925 ┆ … ┆ 5   ┆ 9   ┆ 2   ┆ 416092 │\n",
       "│ true     ┆ 2087  ┆ 176671  ┆ 48972  ┆ … ┆ 1   ┆ 1   ┆ 1   ┆ 10098  │\n",
       "└──────────┴───────┴─────────┴────────┴───┴─────┴─────┴─────┴────────┘"
      ]
     },
     "execution_count": 25,
     "metadata": {},
     "output_type": "execute_result"
    }
   ],
   "source": [
    "(\n",
    "    df.with_columns(pl.col(\"tolls_amount\").gt(0).alias(\"had_toll\"))\n",
    "    .pivot(\n",
    "        index=\"had_toll\",\n",
    "        on=\"passenger_count\",\n",
    "        values=\"tip_amount\",\n",
    "        aggregate_function=\"len\",\n",
    "        sort_columns=True,\n",
    "    )\n",
    "    .head()\n",
    ")"
   ]
  },
  {
   "cell_type": "markdown",
   "id": "b9ae2042",
   "metadata": {},
   "source": [
    "And we guessed right! Very few rides had such high `\"passenger_count\"`s; it's hard to take seriously averages from so few data points."
   ]
  },
  {
   "cell_type": "markdown",
   "id": "e36ec85a",
   "metadata": {},
   "source": [
    "As a final note, `.pivot()` shares the same behavior as `.over()`, `.select()`, `.filter()`, `.sort()`, etc--it can accept lists of columns as inputs for `index` and `columns`. For example, if we want to pivot by `\"passenger_count\"` with the combination of `\"pu_location_id\"` and `\"do_location_id\"`:"
   ]
  },
  {
   "cell_type": "code",
   "execution_count": 26,
   "id": "560f757c",
   "metadata": {},
   "outputs": [
    {
     "data": {
      "text/html": [
       "<div><style>\n",
       ".dataframe > thead > tr,\n",
       ".dataframe > tbody > tr {\n",
       "  text-align: right;\n",
       "  white-space: pre-wrap;\n",
       "}\n",
       "</style>\n",
       "<small>shape: (5, 13)</small><table border=\"1\" class=\"dataframe\"><thead><tr><th>pu_location_id</th><th>do_location_id</th><th>0</th><th>1</th><th>2</th><th>3</th><th>4</th><th>5</th><th>6</th><th>7</th><th>8</th><th>9</th><th>null</th></tr><tr><td>i32</td><td>i32</td><td>u32</td><td>u32</td><td>u32</td><td>u32</td><td>u32</td><td>u32</td><td>u32</td><td>u32</td><td>u32</td><td>u32</td><td>u32</td></tr></thead><tbody><tr><td>142</td><td>239</td><td>144</td><td>7148</td><td>1419</td><td>317</td><td>175</td><td>98</td><td>80</td><td>null</td><td>null</td><td>null</td><td>402</td></tr><tr><td>238</td><td>24</td><td>18</td><td>1052</td><td>138</td><td>35</td><td>11</td><td>15</td><td>9</td><td>null</td><td>null</td><td>null</td><td>94</td></tr><tr><td>263</td><td>75</td><td>39</td><td>2652</td><td>406</td><td>83</td><td>33</td><td>42</td><td>28</td><td>null</td><td>null</td><td>null</td><td>374</td></tr><tr><td>164</td><td>162</td><td>32</td><td>1828</td><td>311</td><td>80</td><td>56</td><td>19</td><td>14</td><td>null</td><td>null</td><td>null</td><td>177</td></tr><tr><td>263</td><td>7</td><td>3</td><td>125</td><td>12</td><td>3</td><td>1</td><td>1</td><td>1</td><td>null</td><td>null</td><td>null</td><td>5</td></tr></tbody></table></div>"
      ],
      "text/plain": [
       "shape: (5, 13)\n",
       "┌────────────────┬────────────────┬─────┬──────┬───┬──────┬──────┬──────┬──────┐\n",
       "│ pu_location_id ┆ do_location_id ┆ 0   ┆ 1    ┆ … ┆ 7    ┆ 8    ┆ 9    ┆ null │\n",
       "│ ---            ┆ ---            ┆ --- ┆ ---  ┆   ┆ ---  ┆ ---  ┆ ---  ┆ ---  │\n",
       "│ i32            ┆ i32            ┆ u32 ┆ u32  ┆   ┆ u32  ┆ u32  ┆ u32  ┆ u32  │\n",
       "╞════════════════╪════════════════╪═════╪══════╪═══╪══════╪══════╪══════╪══════╡\n",
       "│ 142            ┆ 239            ┆ 144 ┆ 7148 ┆ … ┆ null ┆ null ┆ null ┆ 402  │\n",
       "│ 238            ┆ 24             ┆ 18  ┆ 1052 ┆ … ┆ null ┆ null ┆ null ┆ 94   │\n",
       "│ 263            ┆ 75             ┆ 39  ┆ 2652 ┆ … ┆ null ┆ null ┆ null ┆ 374  │\n",
       "│ 164            ┆ 162            ┆ 32  ┆ 1828 ┆ … ┆ null ┆ null ┆ null ┆ 177  │\n",
       "│ 263            ┆ 7              ┆ 3   ┆ 125  ┆ … ┆ null ┆ null ┆ null ┆ 5    │\n",
       "└────────────────┴────────────────┴─────┴──────┴───┴──────┴──────┴──────┴──────┘"
      ]
     },
     "execution_count": 26,
     "metadata": {},
     "output_type": "execute_result"
    }
   ],
   "source": [
    "(\n",
    "    df.with_columns(pl.col(\"tolls_amount\").gt(0).alias(\"had_toll\"))\n",
    "    .pivot(\n",
    "        index=[\"pu_location_id\", \"do_location_id\"],\n",
    "        on=\"passenger_count\",\n",
    "        values=\"tip_amount\",\n",
    "        aggregate_function=\"len\",\n",
    "        sort_columns=True,\n",
    "    )\n",
    "    .head()\n",
    ")"
   ]
  },
  {
   "cell_type": "markdown",
   "id": "1c668f67",
   "metadata": {},
   "source": [
    "## Conclusion"
   ]
  },
  {
   "cell_type": "markdown",
   "id": "35e019bb",
   "metadata": {},
   "source": [
    "In this module, we've learned everything we need to in order to get up and running with grouping and aggregating data."
   ]
  }
 ],
 "metadata": {
  "kernelspec": {
   "display_name": "polars",
   "language": "python",
   "name": "python3"
  },
  "language_info": {
   "codemirror_mode": {
    "name": "ipython",
    "version": 3
   },
   "file_extension": ".py",
   "mimetype": "text/x-python",
   "name": "python",
   "nbconvert_exporter": "python",
   "pygments_lexer": "ipython3",
   "version": "3.10.14"
  }
 },
 "nbformat": 4,
 "nbformat_minor": 5
}
