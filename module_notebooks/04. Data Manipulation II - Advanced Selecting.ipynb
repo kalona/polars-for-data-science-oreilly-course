{
 "cells": [
  {
   "cell_type": "markdown",
   "id": "1653908d",
   "metadata": {},
   "source": [
    "# 4. Data Manipulation II - Advanced Selecting"
   ]
  },
  {
   "cell_type": "markdown",
   "id": "97a37bab",
   "metadata": {},
   "source": [
    "The goal of this module is to become familiar with some of the more advanced ways of selecting, adding and removing columns. Some of the topics we'll cover are:\n",
    "1. How to select and perform operations on multiple columns at the same time with `pl.col()`.\n",
    "2. How to add new columns rather than selecting columns with `pl.DataFrame.with_columns()`.\n",
    "3. How to drop columns with `pl.DataFrame.drop()`.\n",
    "4. How to rename columns with `pl.DataFrame.rename()`."
   ]
  },
  {
   "cell_type": "markdown",
   "id": "f3a90b5b",
   "metadata": {},
   "source": [
    "But first we import `polars`..."
   ]
  },
  {
   "cell_type": "code",
   "execution_count": null,
   "id": "74ef046e",
   "metadata": {},
   "outputs": [],
   "source": [
    "%pip install -U polars"
   ]
  },
  {
   "cell_type": "code",
   "execution_count": 1,
   "id": "9f2da0ab",
   "metadata": {},
   "outputs": [
    {
     "data": {
      "text/plain": [
       "'1.18.0'"
      ]
     },
     "execution_count": 1,
     "metadata": {},
     "output_type": "execute_result"
    }
   ],
   "source": [
    "import polars as pl\n",
    "\n",
    "pl.__version__"
   ]
  },
  {
   "cell_type": "code",
   "execution_count": 3,
   "id": "48a5701b",
   "metadata": {},
   "outputs": [
    {
     "name": "stdout",
     "output_type": "stream",
     "text": [
      "File /data/datasets/data/yellow_tripdata_2024-03.parquet already exists, skipping download.\n"
     ]
    }
   ],
   "source": [
    "%run setup.py"
   ]
  },
  {
   "cell_type": "markdown",
   "id": "b346457f",
   "metadata": {},
   "source": [
    "... and load the data."
   ]
  },
  {
   "cell_type": "code",
   "execution_count": 4,
   "id": "b85b1837",
   "metadata": {},
   "outputs": [],
   "source": [
    "df = pl.read_parquet(local_parquet)"
   ]
  },
  {
   "cell_type": "markdown",
   "id": "1109c3fe",
   "metadata": {},
   "source": [
    "## 4.1. Operating On Multiple Columns At The Same Time"
   ]
  },
  {
   "cell_type": "markdown",
   "id": "35119342",
   "metadata": {},
   "source": [
    "In the previous module, we saw how to select and perform computations on a particular column by way of the `pl.col()` function. This allowed us to, in one instance, convert miles to kilometers for the column `\"trip_distance\"`:"
   ]
  },
  {
   "cell_type": "code",
   "execution_count": 5,
   "id": "c7c8f543",
   "metadata": {},
   "outputs": [
    {
     "data": {
      "text/html": [
       "<div><style>\n",
       ".dataframe > thead > tr,\n",
       ".dataframe > tbody > tr {\n",
       "  text-align: right;\n",
       "  white-space: pre-wrap;\n",
       "}\n",
       "</style>\n",
       "<small>shape: (5, 2)</small><table border=\"1\" class=\"dataframe\"><thead><tr><th>trip_distance_miles</th><th>trip_distance_kilometers</th></tr><tr><td>f64</td><td>f64</td></tr></thead><tbody><tr><td>1.3</td><td>2.093</td></tr><tr><td>1.1</td><td>1.771</td></tr><tr><td>0.86</td><td>1.3846</td></tr><tr><td>0.82</td><td>1.3202</td></tr><tr><td>4.9</td><td>7.889</td></tr></tbody></table></div>"
      ],
      "text/plain": [
       "shape: (5, 2)\n",
       "┌─────────────────────┬──────────────────────────┐\n",
       "│ trip_distance_miles ┆ trip_distance_kilometers │\n",
       "│ ---                 ┆ ---                      │\n",
       "│ f64                 ┆ f64                      │\n",
       "╞═════════════════════╪══════════════════════════╡\n",
       "│ 1.3                 ┆ 2.093                    │\n",
       "│ 1.1                 ┆ 1.771                    │\n",
       "│ 0.86                ┆ 1.3846                   │\n",
       "│ 0.82                ┆ 1.3202                   │\n",
       "│ 4.9                 ┆ 7.889                    │\n",
       "└─────────────────────┴──────────────────────────┘"
      ]
     },
     "execution_count": 5,
     "metadata": {},
     "output_type": "execute_result"
    }
   ],
   "source": [
    "kilometers_per_mile = 1.61\n",
    "(\n",
    "    df.select(\n",
    "        [\n",
    "            pl.col(\"trip_distance\").name.suffix(\"_miles\"),\n",
    "            (pl.col(\"trip_distance\") * kilometers_per_mile).name.suffix(\n",
    "                \"_kilometers\"\n",
    "            ),\n",
    "        ]\n",
    "    ).head()\n",
    ")"
   ]
  },
  {
   "cell_type": "markdown",
   "id": "a2f6aabe",
   "metadata": {},
   "source": [
    "Let's turn our attention now to another type of conversion--currency conversion. Let's say that we want to convert currencies from USD to Euros. We can do this by multiplying all the columns that we're interested in by a constant, as with the kilometers conversion:"
   ]
  },
  {
   "cell_type": "code",
   "execution_count": 6,
   "id": "b59d5412",
   "metadata": {},
   "outputs": [
    {
     "data": {
      "text/html": [
       "<div><style>\n",
       ".dataframe > thead > tr,\n",
       ".dataframe > tbody > tr {\n",
       "  text-align: right;\n",
       "  white-space: pre-wrap;\n",
       "}\n",
       "</style>\n",
       "<small>shape: (5, 18)</small><table border=\"1\" class=\"dataframe\"><thead><tr><th>fare_amount_usd</th><th>extra_usd</th><th>mta_tax_usd</th><th>tip_amount_usd</th><th>tolls_amount_usd</th><th>improvement_surcharge_usd</th><th>total_amount_usd</th><th>congestion_surcharge_usd</th><th>Airport_fee_usd</th><th>fare_amount_eur</th><th>extra_eur</th><th>mta_tax_eur</th><th>tip_amount_eur</th><th>tolls_amount_eur</th><th>improvement_surcharge_eur</th><th>total_amount_eur</th><th>congestion_surcharge_eur</th><th>Airport_fee_eur</th></tr><tr><td>f64</td><td>f64</td><td>f64</td><td>f64</td><td>f64</td><td>f64</td><td>f64</td><td>f64</td><td>f64</td><td>f64</td><td>f64</td><td>f64</td><td>f64</td><td>f64</td><td>f64</td><td>f64</td><td>f64</td><td>f64</td></tr></thead><tbody><tr><td>8.6</td><td>3.5</td><td>0.5</td><td>2.7</td><td>0.0</td><td>1.0</td><td>16.3</td><td>2.5</td><td>0.0</td><td>7.912</td><td>3.22</td><td>0.46</td><td>2.484</td><td>0.0</td><td>0.92</td><td>14.996</td><td>2.3</td><td>0.0</td></tr><tr><td>7.2</td><td>3.5</td><td>0.5</td><td>3.0</td><td>0.0</td><td>1.0</td><td>15.2</td><td>2.5</td><td>0.0</td><td>6.624</td><td>3.22</td><td>0.46</td><td>2.76</td><td>0.0</td><td>0.92</td><td>13.984</td><td>2.3</td><td>0.0</td></tr><tr><td>7.9</td><td>1.0</td><td>0.5</td><td>0.0</td><td>0.0</td><td>1.0</td><td>10.4</td><td>0.0</td><td>0.0</td><td>7.268</td><td>0.92</td><td>0.46</td><td>0.0</td><td>0.0</td><td>0.92</td><td>9.568</td><td>0.0</td><td>0.0</td></tr><tr><td>7.9</td><td>1.0</td><td>0.5</td><td>1.29</td><td>0.0</td><td>1.0</td><td>14.19</td><td>2.5</td><td>0.0</td><td>7.268</td><td>0.92</td><td>0.46</td><td>1.1868</td><td>0.0</td><td>0.92</td><td>13.0548</td><td>2.3</td><td>0.0</td></tr><tr><td>25.4</td><td>3.5</td><td>0.5</td><td>0.0</td><td>0.0</td><td>1.0</td><td>30.4</td><td>2.5</td><td>0.0</td><td>23.368</td><td>3.22</td><td>0.46</td><td>0.0</td><td>0.0</td><td>0.92</td><td>27.968</td><td>2.3</td><td>0.0</td></tr></tbody></table></div>"
      ],
      "text/plain": [
       "shape: (5, 18)\n",
       "┌───────────┬───────────┬───────────┬───────────┬───┬───────────┬───────────┬───────────┬──────────┐\n",
       "│ fare_amou ┆ extra_usd ┆ mta_tax_u ┆ tip_amoun ┆ … ┆ improveme ┆ total_amo ┆ congestio ┆ Airport_ │\n",
       "│ nt_usd    ┆ ---       ┆ sd        ┆ t_usd     ┆   ┆ nt_surcha ┆ unt_eur   ┆ n_surchar ┆ fee_eur  │\n",
       "│ ---       ┆ f64       ┆ ---       ┆ ---       ┆   ┆ rge_eur   ┆ ---       ┆ ge_eur    ┆ ---      │\n",
       "│ f64       ┆           ┆ f64       ┆ f64       ┆   ┆ ---       ┆ f64       ┆ ---       ┆ f64      │\n",
       "│           ┆           ┆           ┆           ┆   ┆ f64       ┆           ┆ f64       ┆          │\n",
       "╞═══════════╪═══════════╪═══════════╪═══════════╪═══╪═══════════╪═══════════╪═══════════╪══════════╡\n",
       "│ 8.6       ┆ 3.5       ┆ 0.5       ┆ 2.7       ┆ … ┆ 0.92      ┆ 14.996    ┆ 2.3       ┆ 0.0      │\n",
       "│ 7.2       ┆ 3.5       ┆ 0.5       ┆ 3.0       ┆ … ┆ 0.92      ┆ 13.984    ┆ 2.3       ┆ 0.0      │\n",
       "│ 7.9       ┆ 1.0       ┆ 0.5       ┆ 0.0       ┆ … ┆ 0.92      ┆ 9.568     ┆ 0.0       ┆ 0.0      │\n",
       "│ 7.9       ┆ 1.0       ┆ 0.5       ┆ 1.29      ┆ … ┆ 0.92      ┆ 13.0548   ┆ 2.3       ┆ 0.0      │\n",
       "│ 25.4      ┆ 3.5       ┆ 0.5       ┆ 0.0       ┆ … ┆ 0.92      ┆ 27.968    ┆ 2.3       ┆ 0.0      │\n",
       "└───────────┴───────────┴───────────┴───────────┴───┴───────────┴───────────┴───────────┴──────────┘"
      ]
     },
     "execution_count": 6,
     "metadata": {},
     "output_type": "execute_result"
    }
   ],
   "source": [
    "eur_per_usd = 0.92  # As of 2024-05-27.\n",
    "(\n",
    "    df.select(\n",
    "        [\n",
    "            # Payment amounts in USD, explicitly named as such.\n",
    "            pl.col(\"fare_amount\").name.suffix(\"_usd\"),\n",
    "            pl.col(\"extra\").name.suffix(\"_usd\"),\n",
    "            pl.col(\"mta_tax\").name.suffix(\"_usd\"),\n",
    "            pl.col(\"tip_amount\").name.suffix(\"_usd\"),\n",
    "            pl.col(\"tolls_amount\").name.suffix(\"_usd\"),\n",
    "            pl.col(\"improvement_surcharge\").name.suffix(\"_usd\"),\n",
    "            pl.col(\"total_amount\").name.suffix(\"_usd\"),\n",
    "            pl.col(\"congestion_surcharge\").name.suffix(\"_usd\"),\n",
    "            pl.col(\"Airport_fee\").name.suffix(\"_usd\"),\n",
    "            # Payment amounts, in Euros.\n",
    "            (pl.col(\"fare_amount\") * eur_per_usd).name.suffix(\"_eur\"),\n",
    "            (pl.col(\"extra\") * eur_per_usd).name.suffix(\"_eur\"),\n",
    "            (pl.col(\"mta_tax\") * eur_per_usd).name.suffix(\"_eur\"),\n",
    "            (pl.col(\"tip_amount\") * eur_per_usd).name.suffix(\"_eur\"),\n",
    "            (pl.col(\"tolls_amount\") * eur_per_usd).name.suffix(\"_eur\"),\n",
    "            (pl.col(\"improvement_surcharge\") * eur_per_usd).name.suffix(\n",
    "                \"_eur\"\n",
    "            ),\n",
    "            (pl.col(\"total_amount\") * eur_per_usd).name.suffix(\"_eur\"),\n",
    "            (pl.col(\"congestion_surcharge\") * eur_per_usd).name.suffix(\"_eur\"),\n",
    "            (pl.col(\"Airport_fee\") * eur_per_usd).name.suffix(\"_eur\"),\n",
    "        ]\n",
    "    ).head()\n",
    ")"
   ]
  },
  {
   "cell_type": "markdown",
   "id": "a6a7c11c",
   "metadata": {},
   "source": [
    "Well, we got what we wanted... but we had to write a lot of repeated code, and that's annoying. Thankfully, `polars` gives us a better way--you can actually pass multiple column names to the same `pl.col()` at once!"
   ]
  },
  {
   "cell_type": "code",
   "execution_count": 7,
   "id": "8c2995bf",
   "metadata": {},
   "outputs": [
    {
     "data": {
      "text/html": [
       "<div><style>\n",
       ".dataframe > thead > tr,\n",
       ".dataframe > tbody > tr {\n",
       "  text-align: right;\n",
       "  white-space: pre-wrap;\n",
       "}\n",
       "</style>\n",
       "<small>shape: (5, 18)</small><table border=\"1\" class=\"dataframe\"><thead><tr><th>fare_amount_usd</th><th>extra_usd</th><th>mta_tax_usd</th><th>tip_amount_usd</th><th>tolls_amount_usd</th><th>improvement_surcharge_usd</th><th>total_amount_usd</th><th>congestion_surcharge_usd</th><th>Airport_fee_usd</th><th>fare_amount_eur</th><th>extra_eur</th><th>mta_tax_eur</th><th>tip_amount_eur</th><th>tolls_amount_eur</th><th>improvement_surcharge_eur</th><th>total_amount_eur</th><th>congestion_surcharge_eur</th><th>Airport_fee_eur</th></tr><tr><td>f64</td><td>f64</td><td>f64</td><td>f64</td><td>f64</td><td>f64</td><td>f64</td><td>f64</td><td>f64</td><td>f64</td><td>f64</td><td>f64</td><td>f64</td><td>f64</td><td>f64</td><td>f64</td><td>f64</td><td>f64</td></tr></thead><tbody><tr><td>8.6</td><td>3.5</td><td>0.5</td><td>2.7</td><td>0.0</td><td>1.0</td><td>16.3</td><td>2.5</td><td>0.0</td><td>7.912</td><td>3.22</td><td>0.46</td><td>2.484</td><td>0.0</td><td>0.92</td><td>14.996</td><td>2.3</td><td>0.0</td></tr><tr><td>7.2</td><td>3.5</td><td>0.5</td><td>3.0</td><td>0.0</td><td>1.0</td><td>15.2</td><td>2.5</td><td>0.0</td><td>6.624</td><td>3.22</td><td>0.46</td><td>2.76</td><td>0.0</td><td>0.92</td><td>13.984</td><td>2.3</td><td>0.0</td></tr><tr><td>7.9</td><td>1.0</td><td>0.5</td><td>0.0</td><td>0.0</td><td>1.0</td><td>10.4</td><td>0.0</td><td>0.0</td><td>7.268</td><td>0.92</td><td>0.46</td><td>0.0</td><td>0.0</td><td>0.92</td><td>9.568</td><td>0.0</td><td>0.0</td></tr><tr><td>7.9</td><td>1.0</td><td>0.5</td><td>1.29</td><td>0.0</td><td>1.0</td><td>14.19</td><td>2.5</td><td>0.0</td><td>7.268</td><td>0.92</td><td>0.46</td><td>1.1868</td><td>0.0</td><td>0.92</td><td>13.0548</td><td>2.3</td><td>0.0</td></tr><tr><td>25.4</td><td>3.5</td><td>0.5</td><td>0.0</td><td>0.0</td><td>1.0</td><td>30.4</td><td>2.5</td><td>0.0</td><td>23.368</td><td>3.22</td><td>0.46</td><td>0.0</td><td>0.0</td><td>0.92</td><td>27.968</td><td>2.3</td><td>0.0</td></tr></tbody></table></div>"
      ],
      "text/plain": [
       "shape: (5, 18)\n",
       "┌───────────┬───────────┬───────────┬───────────┬───┬───────────┬───────────┬───────────┬──────────┐\n",
       "│ fare_amou ┆ extra_usd ┆ mta_tax_u ┆ tip_amoun ┆ … ┆ improveme ┆ total_amo ┆ congestio ┆ Airport_ │\n",
       "│ nt_usd    ┆ ---       ┆ sd        ┆ t_usd     ┆   ┆ nt_surcha ┆ unt_eur   ┆ n_surchar ┆ fee_eur  │\n",
       "│ ---       ┆ f64       ┆ ---       ┆ ---       ┆   ┆ rge_eur   ┆ ---       ┆ ge_eur    ┆ ---      │\n",
       "│ f64       ┆           ┆ f64       ┆ f64       ┆   ┆ ---       ┆ f64       ┆ ---       ┆ f64      │\n",
       "│           ┆           ┆           ┆           ┆   ┆ f64       ┆           ┆ f64       ┆          │\n",
       "╞═══════════╪═══════════╪═══════════╪═══════════╪═══╪═══════════╪═══════════╪═══════════╪══════════╡\n",
       "│ 8.6       ┆ 3.5       ┆ 0.5       ┆ 2.7       ┆ … ┆ 0.92      ┆ 14.996    ┆ 2.3       ┆ 0.0      │\n",
       "│ 7.2       ┆ 3.5       ┆ 0.5       ┆ 3.0       ┆ … ┆ 0.92      ┆ 13.984    ┆ 2.3       ┆ 0.0      │\n",
       "│ 7.9       ┆ 1.0       ┆ 0.5       ┆ 0.0       ┆ … ┆ 0.92      ┆ 9.568     ┆ 0.0       ┆ 0.0      │\n",
       "│ 7.9       ┆ 1.0       ┆ 0.5       ┆ 1.29      ┆ … ┆ 0.92      ┆ 13.0548   ┆ 2.3       ┆ 0.0      │\n",
       "│ 25.4      ┆ 3.5       ┆ 0.5       ┆ 0.0       ┆ … ┆ 0.92      ┆ 27.968    ┆ 2.3       ┆ 0.0      │\n",
       "└───────────┴───────────┴───────────┴───────────┴───┴───────────┴───────────┴───────────┴──────────┘"
      ]
     },
     "execution_count": 7,
     "metadata": {},
     "output_type": "execute_result"
    }
   ],
   "source": [
    "eur_per_usd = 0.92\n",
    "currency_columns = [\n",
    "    \"fare_amount\",\n",
    "    \"extra\",\n",
    "    \"mta_tax\",\n",
    "    \"tip_amount\",\n",
    "    \"tolls_amount\",\n",
    "    \"improvement_surcharge\",\n",
    "    \"total_amount\",\n",
    "    \"congestion_surcharge\",\n",
    "    \"Airport_fee\",\n",
    "]\n",
    "(\n",
    "    df.select(\n",
    "        [\n",
    "            pl.col(currency_columns).name.suffix(\"_usd\"),\n",
    "            (pl.col(currency_columns) * eur_per_usd).name.suffix(\"_eur\"),\n",
    "        ]\n",
    "    ).head()\n",
    ")"
   ]
  },
  {
   "cell_type": "markdown",
   "id": "ce8096a4",
   "metadata": {},
   "source": [
    "That really cleans up the code! You can also see the usefulness of the `pl.Expr.name.suffix()` functionality--without this, we may very well have had to list every column manually, just so that we can name everything. With `.suffix()`, though, we don't have to."
   ]
  },
  {
   "cell_type": "markdown",
   "id": "ba240545",
   "metadata": {},
   "source": [
    "That's not the only way to select multiple columns, though. In the previous module, we filtered out rides that had a passenger count that was less than or equal to zero. Well, if we have a quick look at the data's schema..."
   ]
  },
  {
   "cell_type": "code",
   "execution_count": 8,
   "id": "129029db",
   "metadata": {},
   "outputs": [
    {
     "data": {
      "text/plain": [
       "Schema([('VendorID', Int32),\n",
       "        ('tpep_pickup_datetime', Datetime(time_unit='ns', time_zone=None)),\n",
       "        ('tpep_dropoff_datetime', Datetime(time_unit='ns', time_zone=None)),\n",
       "        ('passenger_count', Int64),\n",
       "        ('trip_distance', Float64),\n",
       "        ('RatecodeID', Int64),\n",
       "        ('store_and_fwd_flag', String),\n",
       "        ('PULocationID', Int32),\n",
       "        ('DOLocationID', Int32),\n",
       "        ('payment_type', Int64),\n",
       "        ('fare_amount', Float64),\n",
       "        ('extra', Float64),\n",
       "        ('mta_tax', Float64),\n",
       "        ('tip_amount', Float64),\n",
       "        ('tolls_amount', Float64),\n",
       "        ('improvement_surcharge', Float64),\n",
       "        ('total_amount', Float64),\n",
       "        ('congestion_surcharge', Float64),\n",
       "        ('Airport_fee', Float64)])"
      ]
     },
     "metadata": {},
     "output_type": "display_data"
    }
   ],
   "source": [
    "display(df.schema)"
   ]
  },
  {
   "cell_type": "markdown",
   "id": "4369c3a2",
   "metadata": {},
   "source": [
    "... we can see that all `pl.Float64` columns are either a distance or a currency, and they should never be zero!  After all, a negative payment amount of any kind means that the taxi driver pays the passenger. Have you ever been paid by the taxi driver to take a taxi ride? No? Me neither.\n",
    "\n",
    "Well, `polars` offers another way to select multiple columns--selecting by data type! Let's use that to have a look at all the `pl.Float64` columns:"
   ]
  },
  {
   "cell_type": "code",
   "execution_count": 9,
   "id": "891f0dda",
   "metadata": {},
   "outputs": [
    {
     "data": {
      "text/html": [
       "<div><style>\n",
       ".dataframe > thead > tr,\n",
       ".dataframe > tbody > tr {\n",
       "  text-align: right;\n",
       "  white-space: pre-wrap;\n",
       "}\n",
       "</style>\n",
       "<small>shape: (5, 10)</small><table border=\"1\" class=\"dataframe\"><thead><tr><th>trip_distance</th><th>fare_amount</th><th>extra</th><th>mta_tax</th><th>tip_amount</th><th>tolls_amount</th><th>improvement_surcharge</th><th>total_amount</th><th>congestion_surcharge</th><th>Airport_fee</th></tr><tr><td>f64</td><td>f64</td><td>f64</td><td>f64</td><td>f64</td><td>f64</td><td>f64</td><td>f64</td><td>f64</td><td>f64</td></tr></thead><tbody><tr><td>1.3</td><td>8.6</td><td>3.5</td><td>0.5</td><td>2.7</td><td>0.0</td><td>1.0</td><td>16.3</td><td>2.5</td><td>0.0</td></tr><tr><td>1.1</td><td>7.2</td><td>3.5</td><td>0.5</td><td>3.0</td><td>0.0</td><td>1.0</td><td>15.2</td><td>2.5</td><td>0.0</td></tr><tr><td>0.86</td><td>7.9</td><td>1.0</td><td>0.5</td><td>0.0</td><td>0.0</td><td>1.0</td><td>10.4</td><td>0.0</td><td>0.0</td></tr><tr><td>0.82</td><td>7.9</td><td>1.0</td><td>0.5</td><td>1.29</td><td>0.0</td><td>1.0</td><td>14.19</td><td>2.5</td><td>0.0</td></tr><tr><td>4.9</td><td>25.4</td><td>3.5</td><td>0.5</td><td>0.0</td><td>0.0</td><td>1.0</td><td>30.4</td><td>2.5</td><td>0.0</td></tr></tbody></table></div>"
      ],
      "text/plain": [
       "shape: (5, 10)\n",
       "┌────────────┬────────────┬───────┬─────────┬───┬────────────┬────────────┬────────────┬───────────┐\n",
       "│ trip_dista ┆ fare_amoun ┆ extra ┆ mta_tax ┆ … ┆ improvemen ┆ total_amou ┆ congestion ┆ Airport_f │\n",
       "│ nce        ┆ t          ┆ ---   ┆ ---     ┆   ┆ t_surcharg ┆ nt         ┆ _surcharge ┆ ee        │\n",
       "│ ---        ┆ ---        ┆ f64   ┆ f64     ┆   ┆ e          ┆ ---        ┆ ---        ┆ ---       │\n",
       "│ f64        ┆ f64        ┆       ┆         ┆   ┆ ---        ┆ f64        ┆ f64        ┆ f64       │\n",
       "│            ┆            ┆       ┆         ┆   ┆ f64        ┆            ┆            ┆           │\n",
       "╞════════════╪════════════╪═══════╪═════════╪═══╪════════════╪════════════╪════════════╪═══════════╡\n",
       "│ 1.3        ┆ 8.6        ┆ 3.5   ┆ 0.5     ┆ … ┆ 1.0        ┆ 16.3       ┆ 2.5        ┆ 0.0       │\n",
       "│ 1.1        ┆ 7.2        ┆ 3.5   ┆ 0.5     ┆ … ┆ 1.0        ┆ 15.2       ┆ 2.5        ┆ 0.0       │\n",
       "│ 0.86       ┆ 7.9        ┆ 1.0   ┆ 0.5     ┆ … ┆ 1.0        ┆ 10.4       ┆ 0.0        ┆ 0.0       │\n",
       "│ 0.82       ┆ 7.9        ┆ 1.0   ┆ 0.5     ┆ … ┆ 1.0        ┆ 14.19      ┆ 2.5        ┆ 0.0       │\n",
       "│ 4.9        ┆ 25.4       ┆ 3.5   ┆ 0.5     ┆ … ┆ 1.0        ┆ 30.4       ┆ 2.5        ┆ 0.0       │\n",
       "└────────────┴────────────┴───────┴─────────┴───┴────────────┴────────────┴────────────┴───────────┘"
      ]
     },
     "execution_count": 9,
     "metadata": {},
     "output_type": "execute_result"
    }
   ],
   "source": [
    "(df.select(pl.col(pl.Float64)).head())"
   ]
  },
  {
   "cell_type": "markdown",
   "id": "339df9d9",
   "metadata": {},
   "source": [
    "And, just as with `pl.col(List)`, we can operate on all them together to check for impossibly sub-zero values:"
   ]
  },
  {
   "cell_type": "code",
   "execution_count": 10,
   "id": "f19faa2b",
   "metadata": {},
   "outputs": [
    {
     "data": {
      "text/html": [
       "<div><style>\n",
       ".dataframe > thead > tr,\n",
       ".dataframe > tbody > tr {\n",
       "  text-align: right;\n",
       "  white-space: pre-wrap;\n",
       "}\n",
       "</style>\n",
       "<small>shape: (5, 10)</small><table border=\"1\" class=\"dataframe\"><thead><tr><th>trip_distance_lt_zero</th><th>fare_amount_lt_zero</th><th>extra_lt_zero</th><th>mta_tax_lt_zero</th><th>tip_amount_lt_zero</th><th>tolls_amount_lt_zero</th><th>improvement_surcharge_lt_zero</th><th>total_amount_lt_zero</th><th>congestion_surcharge_lt_zero</th><th>Airport_fee_lt_zero</th></tr><tr><td>bool</td><td>bool</td><td>bool</td><td>bool</td><td>bool</td><td>bool</td><td>bool</td><td>bool</td><td>bool</td><td>bool</td></tr></thead><tbody><tr><td>false</td><td>false</td><td>false</td><td>false</td><td>false</td><td>false</td><td>false</td><td>false</td><td>false</td><td>false</td></tr><tr><td>false</td><td>false</td><td>false</td><td>false</td><td>false</td><td>false</td><td>false</td><td>false</td><td>false</td><td>false</td></tr><tr><td>false</td><td>false</td><td>false</td><td>false</td><td>false</td><td>false</td><td>false</td><td>false</td><td>false</td><td>false</td></tr><tr><td>false</td><td>false</td><td>false</td><td>false</td><td>false</td><td>false</td><td>false</td><td>false</td><td>false</td><td>false</td></tr><tr><td>false</td><td>false</td><td>false</td><td>false</td><td>false</td><td>false</td><td>false</td><td>false</td><td>false</td><td>false</td></tr></tbody></table></div>"
      ],
      "text/plain": [
       "shape: (5, 10)\n",
       "┌───────────┬───────────┬───────────┬───────────┬───┬───────────┬───────────┬───────────┬──────────┐\n",
       "│ trip_dist ┆ fare_amou ┆ extra_lt_ ┆ mta_tax_l ┆ … ┆ improveme ┆ total_amo ┆ congestio ┆ Airport_ │\n",
       "│ ance_lt_z ┆ nt_lt_zer ┆ zero      ┆ t_zero    ┆   ┆ nt_surcha ┆ unt_lt_ze ┆ n_surchar ┆ fee_lt_z │\n",
       "│ ero       ┆ o         ┆ ---       ┆ ---       ┆   ┆ rge_lt_ze ┆ ro        ┆ ge_lt_zer ┆ ero      │\n",
       "│ ---       ┆ ---       ┆ bool      ┆ bool      ┆   ┆ ro        ┆ ---       ┆ o         ┆ ---      │\n",
       "│ bool      ┆ bool      ┆           ┆           ┆   ┆ ---       ┆ bool      ┆ ---       ┆ bool     │\n",
       "│           ┆           ┆           ┆           ┆   ┆ bool      ┆           ┆ bool      ┆          │\n",
       "╞═══════════╪═══════════╪═══════════╪═══════════╪═══╪═══════════╪═══════════╪═══════════╪══════════╡\n",
       "│ false     ┆ false     ┆ false     ┆ false     ┆ … ┆ false     ┆ false     ┆ false     ┆ false    │\n",
       "│ false     ┆ false     ┆ false     ┆ false     ┆ … ┆ false     ┆ false     ┆ false     ┆ false    │\n",
       "│ false     ┆ false     ┆ false     ┆ false     ┆ … ┆ false     ┆ false     ┆ false     ┆ false    │\n",
       "│ false     ┆ false     ┆ false     ┆ false     ┆ … ┆ false     ┆ false     ┆ false     ┆ false    │\n",
       "│ false     ┆ false     ┆ false     ┆ false     ┆ … ┆ false     ┆ false     ┆ false     ┆ false    │\n",
       "└───────────┴───────────┴───────────┴───────────┴───┴───────────┴───────────┴───────────┴──────────┘"
      ]
     },
     "execution_count": 10,
     "metadata": {},
     "output_type": "execute_result"
    }
   ],
   "source": [
    "(\n",
    "    df.select(\n",
    "        pl.col(pl.Float64)\n",
    "        .lt(0)\n",
    "        .name.suffix(\"_lt_zero\")  # `.lt()` stands for \"Less Than\".\n",
    "    ).head()\n",
    ")"
   ]
  },
  {
   "cell_type": "markdown",
   "id": "7db6d996",
   "metadata": {},
   "source": [
    "And we can use a new function, `pl.any_horizontal()` (which combines boolean columns into one), along with the aggregate function `.mean()` to see what fraction of rows have bad data:"
   ]
  },
  {
   "cell_type": "code",
   "execution_count": 11,
   "id": "a345fde3",
   "metadata": {},
   "outputs": [
    {
     "data": {
      "text/html": [
       "<div><style>\n",
       ".dataframe > thead > tr,\n",
       ".dataframe > tbody > tr {\n",
       "  text-align: right;\n",
       "  white-space: pre-wrap;\n",
       "}\n",
       "</style>\n",
       "<small>shape: (1, 1)</small><table border=\"1\" class=\"dataframe\"><thead><tr><th>fraction_float_cols_lt_0</th></tr><tr><td>f64</td></tr></thead><tbody><tr><td>0.018489</td></tr></tbody></table></div>"
      ],
      "text/plain": [
       "shape: (1, 1)\n",
       "┌──────────────────────────┐\n",
       "│ fraction_float_cols_lt_0 │\n",
       "│ ---                      │\n",
       "│ f64                      │\n",
       "╞══════════════════════════╡\n",
       "│ 0.018489                 │\n",
       "└──────────────────────────┘"
      ]
     },
     "execution_count": 11,
     "metadata": {},
     "output_type": "execute_result"
    }
   ],
   "source": [
    "(\n",
    "    df.select(\n",
    "        pl.any_horizontal(pl.col(pl.Float64).lt(0))\n",
    "        .alias(\"fraction_float_cols_lt_0\")\n",
    "        .mean()\n",
    "    ).head()\n",
    ")"
   ]
  },
  {
   "cell_type": "markdown",
   "id": "5c9f4722",
   "metadata": {},
   "source": [
    "About `.02`, or `2%`. Not so bad!\n",
    "\n",
    "Beyond selecting and operating on columns by one column at a time, by a list of columns, or by columns of a particular datatype, `polars` offers still more options. Howevever, they are beyond the scope of this practical guide; if you'd like to read more on those other column selection options, they are consolidated in the `polars.selectors` submodule ([link](https://docs.pola.rs/py-polars/html/reference/selectors.html))."
   ]
  },
  {
   "cell_type": "markdown",
   "id": "acab113e",
   "metadata": {},
   "source": [
    "## 4.2. How to Add New Columns with `.with_columns()`"
   ]
  },
  {
   "cell_type": "markdown",
   "id": "250473b4",
   "metadata": {},
   "source": [
    "So far, our methods for retrieving data have been `.head()` and `.select()`. And those can take us pretty far! But what if we want to view all the data, but also add some new columns? Well, for that, `polars` has a helper function, `pl.all()`, similar to SQL's `*`."
   ]
  },
  {
   "cell_type": "code",
   "execution_count": 12,
   "id": "36daf76d",
   "metadata": {},
   "outputs": [
    {
     "data": {
      "text/html": [
       "<div><style>\n",
       ".dataframe > thead > tr,\n",
       ".dataframe > tbody > tr {\n",
       "  text-align: right;\n",
       "  white-space: pre-wrap;\n",
       "}\n",
       "</style>\n",
       "<small>shape: (5, 19)</small><table border=\"1\" class=\"dataframe\"><thead><tr><th>VendorID</th><th>tpep_pickup_datetime</th><th>tpep_dropoff_datetime</th><th>passenger_count</th><th>trip_distance</th><th>RatecodeID</th><th>store_and_fwd_flag</th><th>PULocationID</th><th>DOLocationID</th><th>payment_type</th><th>fare_amount</th><th>extra</th><th>mta_tax</th><th>tip_amount</th><th>tolls_amount</th><th>improvement_surcharge</th><th>total_amount</th><th>congestion_surcharge</th><th>Airport_fee</th></tr><tr><td>i32</td><td>datetime[ns]</td><td>datetime[ns]</td><td>i64</td><td>f64</td><td>i64</td><td>str</td><td>i32</td><td>i32</td><td>i64</td><td>f64</td><td>f64</td><td>f64</td><td>f64</td><td>f64</td><td>f64</td><td>f64</td><td>f64</td><td>f64</td></tr></thead><tbody><tr><td>1</td><td>2024-03-01 00:18:51</td><td>2024-03-01 00:23:45</td><td>0</td><td>1.3</td><td>1</td><td>&quot;N&quot;</td><td>142</td><td>239</td><td>1</td><td>8.6</td><td>3.5</td><td>0.5</td><td>2.7</td><td>0.0</td><td>1.0</td><td>16.3</td><td>2.5</td><td>0.0</td></tr><tr><td>1</td><td>2024-03-01 00:26:00</td><td>2024-03-01 00:29:06</td><td>0</td><td>1.1</td><td>1</td><td>&quot;N&quot;</td><td>238</td><td>24</td><td>1</td><td>7.2</td><td>3.5</td><td>0.5</td><td>3.0</td><td>0.0</td><td>1.0</td><td>15.2</td><td>2.5</td><td>0.0</td></tr><tr><td>2</td><td>2024-03-01 00:09:22</td><td>2024-03-01 00:15:24</td><td>1</td><td>0.86</td><td>1</td><td>&quot;N&quot;</td><td>263</td><td>75</td><td>2</td><td>7.9</td><td>1.0</td><td>0.5</td><td>0.0</td><td>0.0</td><td>1.0</td><td>10.4</td><td>0.0</td><td>0.0</td></tr><tr><td>2</td><td>2024-03-01 00:33:45</td><td>2024-03-01 00:39:34</td><td>1</td><td>0.82</td><td>1</td><td>&quot;N&quot;</td><td>164</td><td>162</td><td>1</td><td>7.9</td><td>1.0</td><td>0.5</td><td>1.29</td><td>0.0</td><td>1.0</td><td>14.19</td><td>2.5</td><td>0.0</td></tr><tr><td>1</td><td>2024-03-01 00:05:43</td><td>2024-03-01 00:26:22</td><td>0</td><td>4.9</td><td>1</td><td>&quot;N&quot;</td><td>263</td><td>7</td><td>2</td><td>25.4</td><td>3.5</td><td>0.5</td><td>0.0</td><td>0.0</td><td>1.0</td><td>30.4</td><td>2.5</td><td>0.0</td></tr></tbody></table></div>"
      ],
      "text/plain": [
       "shape: (5, 19)\n",
       "┌──────────┬───────────┬───────────┬───────────┬───┬───────────┬───────────┬───────────┬───────────┐\n",
       "│ VendorID ┆ tpep_pick ┆ tpep_drop ┆ passenger ┆ … ┆ improveme ┆ total_amo ┆ congestio ┆ Airport_f │\n",
       "│ ---      ┆ up_dateti ┆ off_datet ┆ _count    ┆   ┆ nt_surcha ┆ unt       ┆ n_surchar ┆ ee        │\n",
       "│ i32      ┆ me        ┆ ime       ┆ ---       ┆   ┆ rge       ┆ ---       ┆ ge        ┆ ---       │\n",
       "│          ┆ ---       ┆ ---       ┆ i64       ┆   ┆ ---       ┆ f64       ┆ ---       ┆ f64       │\n",
       "│          ┆ datetime[ ┆ datetime[ ┆           ┆   ┆ f64       ┆           ┆ f64       ┆           │\n",
       "│          ┆ ns]       ┆ ns]       ┆           ┆   ┆           ┆           ┆           ┆           │\n",
       "╞══════════╪═══════════╪═══════════╪═══════════╪═══╪═══════════╪═══════════╪═══════════╪═══════════╡\n",
       "│ 1        ┆ 2024-03-0 ┆ 2024-03-0 ┆ 0         ┆ … ┆ 1.0       ┆ 16.3      ┆ 2.5       ┆ 0.0       │\n",
       "│          ┆ 1         ┆ 1         ┆           ┆   ┆           ┆           ┆           ┆           │\n",
       "│          ┆ 00:18:51  ┆ 00:23:45  ┆           ┆   ┆           ┆           ┆           ┆           │\n",
       "│ 1        ┆ 2024-03-0 ┆ 2024-03-0 ┆ 0         ┆ … ┆ 1.0       ┆ 15.2      ┆ 2.5       ┆ 0.0       │\n",
       "│          ┆ 1         ┆ 1         ┆           ┆   ┆           ┆           ┆           ┆           │\n",
       "│          ┆ 00:26:00  ┆ 00:29:06  ┆           ┆   ┆           ┆           ┆           ┆           │\n",
       "│ 2        ┆ 2024-03-0 ┆ 2024-03-0 ┆ 1         ┆ … ┆ 1.0       ┆ 10.4      ┆ 0.0       ┆ 0.0       │\n",
       "│          ┆ 1         ┆ 1         ┆           ┆   ┆           ┆           ┆           ┆           │\n",
       "│          ┆ 00:09:22  ┆ 00:15:24  ┆           ┆   ┆           ┆           ┆           ┆           │\n",
       "│ 2        ┆ 2024-03-0 ┆ 2024-03-0 ┆ 1         ┆ … ┆ 1.0       ┆ 14.19     ┆ 2.5       ┆ 0.0       │\n",
       "│          ┆ 1         ┆ 1         ┆           ┆   ┆           ┆           ┆           ┆           │\n",
       "│          ┆ 00:33:45  ┆ 00:39:34  ┆           ┆   ┆           ┆           ┆           ┆           │\n",
       "│ 1        ┆ 2024-03-0 ┆ 2024-03-0 ┆ 0         ┆ … ┆ 1.0       ┆ 30.4      ┆ 2.5       ┆ 0.0       │\n",
       "│          ┆ 1         ┆ 1         ┆           ┆   ┆           ┆           ┆           ┆           │\n",
       "│          ┆ 00:05:43  ┆ 00:26:22  ┆           ┆   ┆           ┆           ┆           ┆           │\n",
       "└──────────┴───────────┴───────────┴───────────┴───┴───────────┴───────────┴───────────┴───────────┘"
      ]
     },
     "execution_count": 12,
     "metadata": {},
     "output_type": "execute_result"
    }
   ],
   "source": [
    "(df.select(pl.all()).head())"
   ]
  },
  {
   "cell_type": "markdown",
   "id": "a933b4c9",
   "metadata": {},
   "source": [
    "And so if we want to add new columns to our dataframe, we can use `select` with `pl.all()` and whatever new column we want:"
   ]
  },
  {
   "cell_type": "code",
   "execution_count": 13,
   "id": "d3b9e80f",
   "metadata": {},
   "outputs": [
    {
     "data": {
      "text/html": [
       "<div><style>\n",
       ".dataframe > thead > tr,\n",
       ".dataframe > tbody > tr {\n",
       "  text-align: right;\n",
       "  white-space: pre-wrap;\n",
       "}\n",
       "</style>\n",
       "<small>shape: (5, 20)</small><table border=\"1\" class=\"dataframe\"><thead><tr><th>VendorID</th><th>tpep_pickup_datetime</th><th>tpep_dropoff_datetime</th><th>passenger_count</th><th>trip_distance</th><th>RatecodeID</th><th>store_and_fwd_flag</th><th>PULocationID</th><th>DOLocationID</th><th>payment_type</th><th>fare_amount</th><th>extra</th><th>mta_tax</th><th>tip_amount</th><th>tolls_amount</th><th>improvement_surcharge</th><th>total_amount</th><th>congestion_surcharge</th><th>Airport_fee</th><th>trip_distance_km</th></tr><tr><td>i32</td><td>datetime[ns]</td><td>datetime[ns]</td><td>i64</td><td>f64</td><td>i64</td><td>str</td><td>i32</td><td>i32</td><td>i64</td><td>f64</td><td>f64</td><td>f64</td><td>f64</td><td>f64</td><td>f64</td><td>f64</td><td>f64</td><td>f64</td><td>f64</td></tr></thead><tbody><tr><td>1</td><td>2024-03-01 00:18:51</td><td>2024-03-01 00:23:45</td><td>0</td><td>1.3</td><td>1</td><td>&quot;N&quot;</td><td>142</td><td>239</td><td>1</td><td>8.6</td><td>3.5</td><td>0.5</td><td>2.7</td><td>0.0</td><td>1.0</td><td>16.3</td><td>2.5</td><td>0.0</td><td>2.093</td></tr><tr><td>1</td><td>2024-03-01 00:26:00</td><td>2024-03-01 00:29:06</td><td>0</td><td>1.1</td><td>1</td><td>&quot;N&quot;</td><td>238</td><td>24</td><td>1</td><td>7.2</td><td>3.5</td><td>0.5</td><td>3.0</td><td>0.0</td><td>1.0</td><td>15.2</td><td>2.5</td><td>0.0</td><td>1.771</td></tr><tr><td>2</td><td>2024-03-01 00:09:22</td><td>2024-03-01 00:15:24</td><td>1</td><td>0.86</td><td>1</td><td>&quot;N&quot;</td><td>263</td><td>75</td><td>2</td><td>7.9</td><td>1.0</td><td>0.5</td><td>0.0</td><td>0.0</td><td>1.0</td><td>10.4</td><td>0.0</td><td>0.0</td><td>1.3846</td></tr><tr><td>2</td><td>2024-03-01 00:33:45</td><td>2024-03-01 00:39:34</td><td>1</td><td>0.82</td><td>1</td><td>&quot;N&quot;</td><td>164</td><td>162</td><td>1</td><td>7.9</td><td>1.0</td><td>0.5</td><td>1.29</td><td>0.0</td><td>1.0</td><td>14.19</td><td>2.5</td><td>0.0</td><td>1.3202</td></tr><tr><td>1</td><td>2024-03-01 00:05:43</td><td>2024-03-01 00:26:22</td><td>0</td><td>4.9</td><td>1</td><td>&quot;N&quot;</td><td>263</td><td>7</td><td>2</td><td>25.4</td><td>3.5</td><td>0.5</td><td>0.0</td><td>0.0</td><td>1.0</td><td>30.4</td><td>2.5</td><td>0.0</td><td>7.889</td></tr></tbody></table></div>"
      ],
      "text/plain": [
       "shape: (5, 20)\n",
       "┌──────────┬───────────┬───────────┬───────────┬───┬───────────┬───────────┬───────────┬───────────┐\n",
       "│ VendorID ┆ tpep_pick ┆ tpep_drop ┆ passenger ┆ … ┆ total_amo ┆ congestio ┆ Airport_f ┆ trip_dist │\n",
       "│ ---      ┆ up_dateti ┆ off_datet ┆ _count    ┆   ┆ unt       ┆ n_surchar ┆ ee        ┆ ance_km   │\n",
       "│ i32      ┆ me        ┆ ime       ┆ ---       ┆   ┆ ---       ┆ ge        ┆ ---       ┆ ---       │\n",
       "│          ┆ ---       ┆ ---       ┆ i64       ┆   ┆ f64       ┆ ---       ┆ f64       ┆ f64       │\n",
       "│          ┆ datetime[ ┆ datetime[ ┆           ┆   ┆           ┆ f64       ┆           ┆           │\n",
       "│          ┆ ns]       ┆ ns]       ┆           ┆   ┆           ┆           ┆           ┆           │\n",
       "╞══════════╪═══════════╪═══════════╪═══════════╪═══╪═══════════╪═══════════╪═══════════╪═══════════╡\n",
       "│ 1        ┆ 2024-03-0 ┆ 2024-03-0 ┆ 0         ┆ … ┆ 16.3      ┆ 2.5       ┆ 0.0       ┆ 2.093     │\n",
       "│          ┆ 1         ┆ 1         ┆           ┆   ┆           ┆           ┆           ┆           │\n",
       "│          ┆ 00:18:51  ┆ 00:23:45  ┆           ┆   ┆           ┆           ┆           ┆           │\n",
       "│ 1        ┆ 2024-03-0 ┆ 2024-03-0 ┆ 0         ┆ … ┆ 15.2      ┆ 2.5       ┆ 0.0       ┆ 1.771     │\n",
       "│          ┆ 1         ┆ 1         ┆           ┆   ┆           ┆           ┆           ┆           │\n",
       "│          ┆ 00:26:00  ┆ 00:29:06  ┆           ┆   ┆           ┆           ┆           ┆           │\n",
       "│ 2        ┆ 2024-03-0 ┆ 2024-03-0 ┆ 1         ┆ … ┆ 10.4      ┆ 0.0       ┆ 0.0       ┆ 1.3846    │\n",
       "│          ┆ 1         ┆ 1         ┆           ┆   ┆           ┆           ┆           ┆           │\n",
       "│          ┆ 00:09:22  ┆ 00:15:24  ┆           ┆   ┆           ┆           ┆           ┆           │\n",
       "│ 2        ┆ 2024-03-0 ┆ 2024-03-0 ┆ 1         ┆ … ┆ 14.19     ┆ 2.5       ┆ 0.0       ┆ 1.3202    │\n",
       "│          ┆ 1         ┆ 1         ┆           ┆   ┆           ┆           ┆           ┆           │\n",
       "│          ┆ 00:33:45  ┆ 00:39:34  ┆           ┆   ┆           ┆           ┆           ┆           │\n",
       "│ 1        ┆ 2024-03-0 ┆ 2024-03-0 ┆ 0         ┆ … ┆ 30.4      ┆ 2.5       ┆ 0.0       ┆ 7.889     │\n",
       "│          ┆ 1         ┆ 1         ┆           ┆   ┆           ┆           ┆           ┆           │\n",
       "│          ┆ 00:05:43  ┆ 00:26:22  ┆           ┆   ┆           ┆           ┆           ┆           │\n",
       "└──────────┴───────────┴───────────┴───────────┴───┴───────────┴───────────┴───────────┴───────────┘"
      ]
     },
     "execution_count": 13,
     "metadata": {},
     "output_type": "execute_result"
    }
   ],
   "source": [
    "kilometers_per_mile = 1.61\n",
    "(\n",
    "    df.select(\n",
    "        [\n",
    "            pl.all(),\n",
    "            (pl.col(\"trip_distance\") * kilometers_per_mile).name.suffix(\"_km\"),\n",
    "        ]\n",
    "    ).head()\n",
    ")"
   ]
  },
  {
   "cell_type": "markdown",
   "id": "9da49341",
   "metadata": {},
   "source": [
    "That's nice, but it can be annoying to type `pl.all()` everytime you want to keep all the original columns around. That's why `polars` offers us `.with_columns()`, a function specifically designed for keeping all original columns, but simply adding new colums:"
   ]
  },
  {
   "cell_type": "code",
   "execution_count": 14,
   "id": "1577585b",
   "metadata": {},
   "outputs": [
    {
     "data": {
      "text/html": [
       "<div><style>\n",
       ".dataframe > thead > tr,\n",
       ".dataframe > tbody > tr {\n",
       "  text-align: right;\n",
       "  white-space: pre-wrap;\n",
       "}\n",
       "</style>\n",
       "<small>shape: (5, 20)</small><table border=\"1\" class=\"dataframe\"><thead><tr><th>VendorID</th><th>tpep_pickup_datetime</th><th>tpep_dropoff_datetime</th><th>passenger_count</th><th>trip_distance</th><th>RatecodeID</th><th>store_and_fwd_flag</th><th>PULocationID</th><th>DOLocationID</th><th>payment_type</th><th>fare_amount</th><th>extra</th><th>mta_tax</th><th>tip_amount</th><th>tolls_amount</th><th>improvement_surcharge</th><th>total_amount</th><th>congestion_surcharge</th><th>Airport_fee</th><th>trip_distance_km</th></tr><tr><td>i32</td><td>datetime[ns]</td><td>datetime[ns]</td><td>i64</td><td>f64</td><td>i64</td><td>str</td><td>i32</td><td>i32</td><td>i64</td><td>f64</td><td>f64</td><td>f64</td><td>f64</td><td>f64</td><td>f64</td><td>f64</td><td>f64</td><td>f64</td><td>f64</td></tr></thead><tbody><tr><td>1</td><td>2024-03-01 00:18:51</td><td>2024-03-01 00:23:45</td><td>0</td><td>1.3</td><td>1</td><td>&quot;N&quot;</td><td>142</td><td>239</td><td>1</td><td>8.6</td><td>3.5</td><td>0.5</td><td>2.7</td><td>0.0</td><td>1.0</td><td>16.3</td><td>2.5</td><td>0.0</td><td>2.093</td></tr><tr><td>1</td><td>2024-03-01 00:26:00</td><td>2024-03-01 00:29:06</td><td>0</td><td>1.1</td><td>1</td><td>&quot;N&quot;</td><td>238</td><td>24</td><td>1</td><td>7.2</td><td>3.5</td><td>0.5</td><td>3.0</td><td>0.0</td><td>1.0</td><td>15.2</td><td>2.5</td><td>0.0</td><td>1.771</td></tr><tr><td>2</td><td>2024-03-01 00:09:22</td><td>2024-03-01 00:15:24</td><td>1</td><td>0.86</td><td>1</td><td>&quot;N&quot;</td><td>263</td><td>75</td><td>2</td><td>7.9</td><td>1.0</td><td>0.5</td><td>0.0</td><td>0.0</td><td>1.0</td><td>10.4</td><td>0.0</td><td>0.0</td><td>1.3846</td></tr><tr><td>2</td><td>2024-03-01 00:33:45</td><td>2024-03-01 00:39:34</td><td>1</td><td>0.82</td><td>1</td><td>&quot;N&quot;</td><td>164</td><td>162</td><td>1</td><td>7.9</td><td>1.0</td><td>0.5</td><td>1.29</td><td>0.0</td><td>1.0</td><td>14.19</td><td>2.5</td><td>0.0</td><td>1.3202</td></tr><tr><td>1</td><td>2024-03-01 00:05:43</td><td>2024-03-01 00:26:22</td><td>0</td><td>4.9</td><td>1</td><td>&quot;N&quot;</td><td>263</td><td>7</td><td>2</td><td>25.4</td><td>3.5</td><td>0.5</td><td>0.0</td><td>0.0</td><td>1.0</td><td>30.4</td><td>2.5</td><td>0.0</td><td>7.889</td></tr></tbody></table></div>"
      ],
      "text/plain": [
       "shape: (5, 20)\n",
       "┌──────────┬───────────┬───────────┬───────────┬───┬───────────┬───────────┬───────────┬───────────┐\n",
       "│ VendorID ┆ tpep_pick ┆ tpep_drop ┆ passenger ┆ … ┆ total_amo ┆ congestio ┆ Airport_f ┆ trip_dist │\n",
       "│ ---      ┆ up_dateti ┆ off_datet ┆ _count    ┆   ┆ unt       ┆ n_surchar ┆ ee        ┆ ance_km   │\n",
       "│ i32      ┆ me        ┆ ime       ┆ ---       ┆   ┆ ---       ┆ ge        ┆ ---       ┆ ---       │\n",
       "│          ┆ ---       ┆ ---       ┆ i64       ┆   ┆ f64       ┆ ---       ┆ f64       ┆ f64       │\n",
       "│          ┆ datetime[ ┆ datetime[ ┆           ┆   ┆           ┆ f64       ┆           ┆           │\n",
       "│          ┆ ns]       ┆ ns]       ┆           ┆   ┆           ┆           ┆           ┆           │\n",
       "╞══════════╪═══════════╪═══════════╪═══════════╪═══╪═══════════╪═══════════╪═══════════╪═══════════╡\n",
       "│ 1        ┆ 2024-03-0 ┆ 2024-03-0 ┆ 0         ┆ … ┆ 16.3      ┆ 2.5       ┆ 0.0       ┆ 2.093     │\n",
       "│          ┆ 1         ┆ 1         ┆           ┆   ┆           ┆           ┆           ┆           │\n",
       "│          ┆ 00:18:51  ┆ 00:23:45  ┆           ┆   ┆           ┆           ┆           ┆           │\n",
       "│ 1        ┆ 2024-03-0 ┆ 2024-03-0 ┆ 0         ┆ … ┆ 15.2      ┆ 2.5       ┆ 0.0       ┆ 1.771     │\n",
       "│          ┆ 1         ┆ 1         ┆           ┆   ┆           ┆           ┆           ┆           │\n",
       "│          ┆ 00:26:00  ┆ 00:29:06  ┆           ┆   ┆           ┆           ┆           ┆           │\n",
       "│ 2        ┆ 2024-03-0 ┆ 2024-03-0 ┆ 1         ┆ … ┆ 10.4      ┆ 0.0       ┆ 0.0       ┆ 1.3846    │\n",
       "│          ┆ 1         ┆ 1         ┆           ┆   ┆           ┆           ┆           ┆           │\n",
       "│          ┆ 00:09:22  ┆ 00:15:24  ┆           ┆   ┆           ┆           ┆           ┆           │\n",
       "│ 2        ┆ 2024-03-0 ┆ 2024-03-0 ┆ 1         ┆ … ┆ 14.19     ┆ 2.5       ┆ 0.0       ┆ 1.3202    │\n",
       "│          ┆ 1         ┆ 1         ┆           ┆   ┆           ┆           ┆           ┆           │\n",
       "│          ┆ 00:33:45  ┆ 00:39:34  ┆           ┆   ┆           ┆           ┆           ┆           │\n",
       "│ 1        ┆ 2024-03-0 ┆ 2024-03-0 ┆ 0         ┆ … ┆ 30.4      ┆ 2.5       ┆ 0.0       ┆ 7.889     │\n",
       "│          ┆ 1         ┆ 1         ┆           ┆   ┆           ┆           ┆           ┆           │\n",
       "│          ┆ 00:05:43  ┆ 00:26:22  ┆           ┆   ┆           ┆           ┆           ┆           │\n",
       "└──────────┴───────────┴───────────┴───────────┴───┴───────────┴───────────┴───────────┴───────────┘"
      ]
     },
     "execution_count": 14,
     "metadata": {},
     "output_type": "execute_result"
    }
   ],
   "source": [
    "kilometers_per_mile = 1.61\n",
    "(\n",
    "    df.with_columns(\n",
    "        [(pl.col(\"trip_distance\") * kilometers_per_mile).name.suffix(\"_km\")]\n",
    "    ).head()\n",
    ")"
   ]
  },
  {
   "cell_type": "markdown",
   "id": "e1988188",
   "metadata": {},
   "source": [
    "The nice thing about `.with_columns()` is that it offers a few ways of passing arguments. You can just pass a single column, without the list:"
   ]
  },
  {
   "cell_type": "code",
   "execution_count": 15,
   "id": "c6bf4853",
   "metadata": {},
   "outputs": [
    {
     "data": {
      "text/html": [
       "<div><style>\n",
       ".dataframe > thead > tr,\n",
       ".dataframe > tbody > tr {\n",
       "  text-align: right;\n",
       "  white-space: pre-wrap;\n",
       "}\n",
       "</style>\n",
       "<small>shape: (5, 2)</small><table border=\"1\" class=\"dataframe\"><thead><tr><th>trip_distance</th><th>trip_distance_km</th></tr><tr><td>f64</td><td>f64</td></tr></thead><tbody><tr><td>1.3</td><td>2.093</td></tr><tr><td>1.1</td><td>1.771</td></tr><tr><td>0.86</td><td>1.3846</td></tr><tr><td>0.82</td><td>1.3202</td></tr><tr><td>4.9</td><td>7.889</td></tr></tbody></table></div>"
      ],
      "text/plain": [
       "shape: (5, 2)\n",
       "┌───────────────┬──────────────────┐\n",
       "│ trip_distance ┆ trip_distance_km │\n",
       "│ ---           ┆ ---              │\n",
       "│ f64           ┆ f64              │\n",
       "╞═══════════════╪══════════════════╡\n",
       "│ 1.3           ┆ 2.093            │\n",
       "│ 1.1           ┆ 1.771            │\n",
       "│ 0.86          ┆ 1.3846           │\n",
       "│ 0.82          ┆ 1.3202           │\n",
       "│ 4.9           ┆ 7.889            │\n",
       "└───────────────┴──────────────────┘"
      ]
     },
     "execution_count": 15,
     "metadata": {},
     "output_type": "execute_result"
    }
   ],
   "source": [
    "kilometers_per_mile = 1.61\n",
    "(\n",
    "    df.select(\"trip_distance\")\n",
    "    .with_columns(\n",
    "        (pl.col(\"trip_distance\") * kilometers_per_mile).name.suffix(\"_km\")\n",
    "    )\n",
    "    .head()\n",
    ")"
   ]
  },
  {
   "cell_type": "markdown",
   "id": "72d2c90e",
   "metadata": {},
   "source": [
    "Or you can even pass new columns with their intended column names as keyword arguments to the function:"
   ]
  },
  {
   "cell_type": "code",
   "execution_count": 16,
   "id": "ab20b5a0",
   "metadata": {},
   "outputs": [
    {
     "data": {
      "text/html": [
       "<div><style>\n",
       ".dataframe > thead > tr,\n",
       ".dataframe > tbody > tr {\n",
       "  text-align: right;\n",
       "  white-space: pre-wrap;\n",
       "}\n",
       "</style>\n",
       "<small>shape: (5, 2)</small><table border=\"1\" class=\"dataframe\"><thead><tr><th>trip_distance</th><th>trip_distance_km</th></tr><tr><td>f64</td><td>f64</td></tr></thead><tbody><tr><td>1.3</td><td>2.093</td></tr><tr><td>1.1</td><td>1.771</td></tr><tr><td>0.86</td><td>1.3846</td></tr><tr><td>0.82</td><td>1.3202</td></tr><tr><td>4.9</td><td>7.889</td></tr></tbody></table></div>"
      ],
      "text/plain": [
       "shape: (5, 2)\n",
       "┌───────────────┬──────────────────┐\n",
       "│ trip_distance ┆ trip_distance_km │\n",
       "│ ---           ┆ ---              │\n",
       "│ f64           ┆ f64              │\n",
       "╞═══════════════╪══════════════════╡\n",
       "│ 1.3           ┆ 2.093            │\n",
       "│ 1.1           ┆ 1.771            │\n",
       "│ 0.86          ┆ 1.3846           │\n",
       "│ 0.82          ┆ 1.3202           │\n",
       "│ 4.9           ┆ 7.889            │\n",
       "└───────────────┴──────────────────┘"
      ]
     },
     "execution_count": 16,
     "metadata": {},
     "output_type": "execute_result"
    }
   ],
   "source": [
    "kilometers_per_mile = 1.61\n",
    "(\n",
    "    df.select(pl.col(\"trip_distance\"))\n",
    "    .with_columns(\n",
    "        trip_distance_km=pl.col(\"trip_distance\") * kilometers_per_mile\n",
    "    )\n",
    "    .head()\n",
    ")"
   ]
  },
  {
   "cell_type": "markdown",
   "id": "dda92c16",
   "metadata": {},
   "source": [
    "And if you're adding a column with the same name, it'll just overwrite the original column."
   ]
  },
  {
   "cell_type": "code",
   "execution_count": 17,
   "id": "8b38d55f",
   "metadata": {},
   "outputs": [
    {
     "data": {
      "text/html": [
       "<div><style>\n",
       ".dataframe > thead > tr,\n",
       ".dataframe > tbody > tr {\n",
       "  text-align: right;\n",
       "  white-space: pre-wrap;\n",
       "}\n",
       "</style>\n",
       "<small>shape: (5, 1)</small><table border=\"1\" class=\"dataframe\"><thead><tr><th>trip_distance</th></tr><tr><td>f64</td></tr></thead><tbody><tr><td>2.093</td></tr><tr><td>1.771</td></tr><tr><td>1.3846</td></tr><tr><td>1.3202</td></tr><tr><td>7.889</td></tr></tbody></table></div>"
      ],
      "text/plain": [
       "shape: (5, 1)\n",
       "┌───────────────┐\n",
       "│ trip_distance │\n",
       "│ ---           │\n",
       "│ f64           │\n",
       "╞═══════════════╡\n",
       "│ 2.093         │\n",
       "│ 1.771         │\n",
       "│ 1.3846        │\n",
       "│ 1.3202        │\n",
       "│ 7.889         │\n",
       "└───────────────┘"
      ]
     },
     "execution_count": 17,
     "metadata": {},
     "output_type": "execute_result"
    }
   ],
   "source": [
    "kilometers_per_mile = 1.61\n",
    "(\n",
    "    df.select(pl.col(\"trip_distance\"))\n",
    "    .with_columns(pl.col(\"trip_distance\") * kilometers_per_mile)\n",
    "    .head()\n",
    ")"
   ]
  },
  {
   "cell_type": "markdown",
   "id": "553b7158",
   "metadata": {},
   "source": [
    "Because `select` was somewhat inconvenient if we want to keep all original columns and **add** one or two, `polars` offered us `.with_columns()`; similarly, what if we want to keep all original columns, but **remove** one or two? Well, for that, there's `.drop()`."
   ]
  },
  {
   "cell_type": "markdown",
   "id": "8ec9762d",
   "metadata": {},
   "source": [
    "# 4.3. How to Remove Columns with `.drop()`"
   ]
  },
  {
   "cell_type": "markdown",
   "id": "52a06edb",
   "metadata": {},
   "source": [
    "If we want to remove columns from a dataframe, we use the `.drop()` function. For example, if we want to drop the pickup and dropoff columns:"
   ]
  },
  {
   "cell_type": "code",
   "execution_count": 18,
   "id": "cc87fb02",
   "metadata": {},
   "outputs": [
    {
     "data": {
      "text/html": [
       "<div><style>\n",
       ".dataframe > thead > tr,\n",
       ".dataframe > tbody > tr {\n",
       "  text-align: right;\n",
       "  white-space: pre-wrap;\n",
       "}\n",
       "</style>\n",
       "<small>shape: (5, 17)</small><table border=\"1\" class=\"dataframe\"><thead><tr><th>VendorID</th><th>passenger_count</th><th>trip_distance</th><th>RatecodeID</th><th>store_and_fwd_flag</th><th>PULocationID</th><th>DOLocationID</th><th>payment_type</th><th>fare_amount</th><th>extra</th><th>mta_tax</th><th>tip_amount</th><th>tolls_amount</th><th>improvement_surcharge</th><th>total_amount</th><th>congestion_surcharge</th><th>Airport_fee</th></tr><tr><td>i32</td><td>i64</td><td>f64</td><td>i64</td><td>str</td><td>i32</td><td>i32</td><td>i64</td><td>f64</td><td>f64</td><td>f64</td><td>f64</td><td>f64</td><td>f64</td><td>f64</td><td>f64</td><td>f64</td></tr></thead><tbody><tr><td>1</td><td>0</td><td>1.3</td><td>1</td><td>&quot;N&quot;</td><td>142</td><td>239</td><td>1</td><td>8.6</td><td>3.5</td><td>0.5</td><td>2.7</td><td>0.0</td><td>1.0</td><td>16.3</td><td>2.5</td><td>0.0</td></tr><tr><td>1</td><td>0</td><td>1.1</td><td>1</td><td>&quot;N&quot;</td><td>238</td><td>24</td><td>1</td><td>7.2</td><td>3.5</td><td>0.5</td><td>3.0</td><td>0.0</td><td>1.0</td><td>15.2</td><td>2.5</td><td>0.0</td></tr><tr><td>2</td><td>1</td><td>0.86</td><td>1</td><td>&quot;N&quot;</td><td>263</td><td>75</td><td>2</td><td>7.9</td><td>1.0</td><td>0.5</td><td>0.0</td><td>0.0</td><td>1.0</td><td>10.4</td><td>0.0</td><td>0.0</td></tr><tr><td>2</td><td>1</td><td>0.82</td><td>1</td><td>&quot;N&quot;</td><td>164</td><td>162</td><td>1</td><td>7.9</td><td>1.0</td><td>0.5</td><td>1.29</td><td>0.0</td><td>1.0</td><td>14.19</td><td>2.5</td><td>0.0</td></tr><tr><td>1</td><td>0</td><td>4.9</td><td>1</td><td>&quot;N&quot;</td><td>263</td><td>7</td><td>2</td><td>25.4</td><td>3.5</td><td>0.5</td><td>0.0</td><td>0.0</td><td>1.0</td><td>30.4</td><td>2.5</td><td>0.0</td></tr></tbody></table></div>"
      ],
      "text/plain": [
       "shape: (5, 17)\n",
       "┌──────────┬───────────┬───────────┬───────────┬───┬───────────┬───────────┬───────────┬───────────┐\n",
       "│ VendorID ┆ passenger ┆ trip_dist ┆ RatecodeI ┆ … ┆ improveme ┆ total_amo ┆ congestio ┆ Airport_f │\n",
       "│ ---      ┆ _count    ┆ ance      ┆ D         ┆   ┆ nt_surcha ┆ unt       ┆ n_surchar ┆ ee        │\n",
       "│ i32      ┆ ---       ┆ ---       ┆ ---       ┆   ┆ rge       ┆ ---       ┆ ge        ┆ ---       │\n",
       "│          ┆ i64       ┆ f64       ┆ i64       ┆   ┆ ---       ┆ f64       ┆ ---       ┆ f64       │\n",
       "│          ┆           ┆           ┆           ┆   ┆ f64       ┆           ┆ f64       ┆           │\n",
       "╞══════════╪═══════════╪═══════════╪═══════════╪═══╪═══════════╪═══════════╪═══════════╪═══════════╡\n",
       "│ 1        ┆ 0         ┆ 1.3       ┆ 1         ┆ … ┆ 1.0       ┆ 16.3      ┆ 2.5       ┆ 0.0       │\n",
       "│ 1        ┆ 0         ┆ 1.1       ┆ 1         ┆ … ┆ 1.0       ┆ 15.2      ┆ 2.5       ┆ 0.0       │\n",
       "│ 2        ┆ 1         ┆ 0.86      ┆ 1         ┆ … ┆ 1.0       ┆ 10.4      ┆ 0.0       ┆ 0.0       │\n",
       "│ 2        ┆ 1         ┆ 0.82      ┆ 1         ┆ … ┆ 1.0       ┆ 14.19     ┆ 2.5       ┆ 0.0       │\n",
       "│ 1        ┆ 0         ┆ 4.9       ┆ 1         ┆ … ┆ 1.0       ┆ 30.4      ┆ 2.5       ┆ 0.0       │\n",
       "└──────────┴───────────┴───────────┴───────────┴───┴───────────┴───────────┴───────────┴───────────┘"
      ]
     },
     "execution_count": 18,
     "metadata": {},
     "output_type": "execute_result"
    }
   ],
   "source": [
    "(df.drop([\"tpep_pickup_datetime\", \"tpep_dropoff_datetime\"]).head())"
   ]
  },
  {
   "cell_type": "markdown",
   "id": "ae1221e0",
   "metadata": {},
   "source": [
    "`.drop()` is similar to its cousins `.with_columns()` and `.select()` in the way that all of them can receive arguments as a list, or as simply positional arguments without the list."
   ]
  },
  {
   "cell_type": "code",
   "execution_count": 19,
   "id": "83d14ab0",
   "metadata": {},
   "outputs": [
    {
     "data": {
      "text/html": [
       "<div><style>\n",
       ".dataframe > thead > tr,\n",
       ".dataframe > tbody > tr {\n",
       "  text-align: right;\n",
       "  white-space: pre-wrap;\n",
       "}\n",
       "</style>\n",
       "<small>shape: (5, 17)</small><table border=\"1\" class=\"dataframe\"><thead><tr><th>VendorID</th><th>passenger_count</th><th>trip_distance</th><th>RatecodeID</th><th>store_and_fwd_flag</th><th>PULocationID</th><th>DOLocationID</th><th>payment_type</th><th>fare_amount</th><th>extra</th><th>mta_tax</th><th>tip_amount</th><th>tolls_amount</th><th>improvement_surcharge</th><th>total_amount</th><th>congestion_surcharge</th><th>Airport_fee</th></tr><tr><td>i32</td><td>i64</td><td>f64</td><td>i64</td><td>str</td><td>i32</td><td>i32</td><td>i64</td><td>f64</td><td>f64</td><td>f64</td><td>f64</td><td>f64</td><td>f64</td><td>f64</td><td>f64</td><td>f64</td></tr></thead><tbody><tr><td>1</td><td>0</td><td>1.3</td><td>1</td><td>&quot;N&quot;</td><td>142</td><td>239</td><td>1</td><td>8.6</td><td>3.5</td><td>0.5</td><td>2.7</td><td>0.0</td><td>1.0</td><td>16.3</td><td>2.5</td><td>0.0</td></tr><tr><td>1</td><td>0</td><td>1.1</td><td>1</td><td>&quot;N&quot;</td><td>238</td><td>24</td><td>1</td><td>7.2</td><td>3.5</td><td>0.5</td><td>3.0</td><td>0.0</td><td>1.0</td><td>15.2</td><td>2.5</td><td>0.0</td></tr><tr><td>2</td><td>1</td><td>0.86</td><td>1</td><td>&quot;N&quot;</td><td>263</td><td>75</td><td>2</td><td>7.9</td><td>1.0</td><td>0.5</td><td>0.0</td><td>0.0</td><td>1.0</td><td>10.4</td><td>0.0</td><td>0.0</td></tr><tr><td>2</td><td>1</td><td>0.82</td><td>1</td><td>&quot;N&quot;</td><td>164</td><td>162</td><td>1</td><td>7.9</td><td>1.0</td><td>0.5</td><td>1.29</td><td>0.0</td><td>1.0</td><td>14.19</td><td>2.5</td><td>0.0</td></tr><tr><td>1</td><td>0</td><td>4.9</td><td>1</td><td>&quot;N&quot;</td><td>263</td><td>7</td><td>2</td><td>25.4</td><td>3.5</td><td>0.5</td><td>0.0</td><td>0.0</td><td>1.0</td><td>30.4</td><td>2.5</td><td>0.0</td></tr></tbody></table></div>"
      ],
      "text/plain": [
       "shape: (5, 17)\n",
       "┌──────────┬───────────┬───────────┬───────────┬───┬───────────┬───────────┬───────────┬───────────┐\n",
       "│ VendorID ┆ passenger ┆ trip_dist ┆ RatecodeI ┆ … ┆ improveme ┆ total_amo ┆ congestio ┆ Airport_f │\n",
       "│ ---      ┆ _count    ┆ ance      ┆ D         ┆   ┆ nt_surcha ┆ unt       ┆ n_surchar ┆ ee        │\n",
       "│ i32      ┆ ---       ┆ ---       ┆ ---       ┆   ┆ rge       ┆ ---       ┆ ge        ┆ ---       │\n",
       "│          ┆ i64       ┆ f64       ┆ i64       ┆   ┆ ---       ┆ f64       ┆ ---       ┆ f64       │\n",
       "│          ┆           ┆           ┆           ┆   ┆ f64       ┆           ┆ f64       ┆           │\n",
       "╞══════════╪═══════════╪═══════════╪═══════════╪═══╪═══════════╪═══════════╪═══════════╪═══════════╡\n",
       "│ 1        ┆ 0         ┆ 1.3       ┆ 1         ┆ … ┆ 1.0       ┆ 16.3      ┆ 2.5       ┆ 0.0       │\n",
       "│ 1        ┆ 0         ┆ 1.1       ┆ 1         ┆ … ┆ 1.0       ┆ 15.2      ┆ 2.5       ┆ 0.0       │\n",
       "│ 2        ┆ 1         ┆ 0.86      ┆ 1         ┆ … ┆ 1.0       ┆ 10.4      ┆ 0.0       ┆ 0.0       │\n",
       "│ 2        ┆ 1         ┆ 0.82      ┆ 1         ┆ … ┆ 1.0       ┆ 14.19     ┆ 2.5       ┆ 0.0       │\n",
       "│ 1        ┆ 0         ┆ 4.9       ┆ 1         ┆ … ┆ 1.0       ┆ 30.4      ┆ 2.5       ┆ 0.0       │\n",
       "└──────────┴───────────┴───────────┴───────────┴───┴───────────┴───────────┴───────────┴───────────┘"
      ]
     },
     "execution_count": 19,
     "metadata": {},
     "output_type": "execute_result"
    }
   ],
   "source": [
    "(\n",
    "    df.drop(\"tpep_pickup_datetime\", \"tpep_dropoff_datetime\").head()  # no list.\n",
    ")"
   ]
  },
  {
   "cell_type": "markdown",
   "id": "b9073c6e-42dd-4de0-a315-959b7fa4d9d5",
   "metadata": {},
   "source": [
    "And, as its cousins, `.with_columns()` and `.select()`, `.drop()` can also receive a polars expression object as input. For example, if we want to remove all columns with the `pl.Int32` data type:"
   ]
  },
  {
   "cell_type": "code",
   "execution_count": 20,
   "id": "04c34d0f-4402-44f7-9967-10dd81c70fa3",
   "metadata": {},
   "outputs": [
    {
     "data": {
      "text/html": [
       "<div><style>\n",
       ".dataframe > thead > tr,\n",
       ".dataframe > tbody > tr {\n",
       "  text-align: right;\n",
       "  white-space: pre-wrap;\n",
       "}\n",
       "</style>\n",
       "<small>shape: (5, 16)</small><table border=\"1\" class=\"dataframe\"><thead><tr><th>tpep_pickup_datetime</th><th>tpep_dropoff_datetime</th><th>passenger_count</th><th>trip_distance</th><th>RatecodeID</th><th>store_and_fwd_flag</th><th>payment_type</th><th>fare_amount</th><th>extra</th><th>mta_tax</th><th>tip_amount</th><th>tolls_amount</th><th>improvement_surcharge</th><th>total_amount</th><th>congestion_surcharge</th><th>Airport_fee</th></tr><tr><td>datetime[ns]</td><td>datetime[ns]</td><td>i64</td><td>f64</td><td>i64</td><td>str</td><td>i64</td><td>f64</td><td>f64</td><td>f64</td><td>f64</td><td>f64</td><td>f64</td><td>f64</td><td>f64</td><td>f64</td></tr></thead><tbody><tr><td>2024-03-01 00:18:51</td><td>2024-03-01 00:23:45</td><td>0</td><td>1.3</td><td>1</td><td>&quot;N&quot;</td><td>1</td><td>8.6</td><td>3.5</td><td>0.5</td><td>2.7</td><td>0.0</td><td>1.0</td><td>16.3</td><td>2.5</td><td>0.0</td></tr><tr><td>2024-03-01 00:26:00</td><td>2024-03-01 00:29:06</td><td>0</td><td>1.1</td><td>1</td><td>&quot;N&quot;</td><td>1</td><td>7.2</td><td>3.5</td><td>0.5</td><td>3.0</td><td>0.0</td><td>1.0</td><td>15.2</td><td>2.5</td><td>0.0</td></tr><tr><td>2024-03-01 00:09:22</td><td>2024-03-01 00:15:24</td><td>1</td><td>0.86</td><td>1</td><td>&quot;N&quot;</td><td>2</td><td>7.9</td><td>1.0</td><td>0.5</td><td>0.0</td><td>0.0</td><td>1.0</td><td>10.4</td><td>0.0</td><td>0.0</td></tr><tr><td>2024-03-01 00:33:45</td><td>2024-03-01 00:39:34</td><td>1</td><td>0.82</td><td>1</td><td>&quot;N&quot;</td><td>1</td><td>7.9</td><td>1.0</td><td>0.5</td><td>1.29</td><td>0.0</td><td>1.0</td><td>14.19</td><td>2.5</td><td>0.0</td></tr><tr><td>2024-03-01 00:05:43</td><td>2024-03-01 00:26:22</td><td>0</td><td>4.9</td><td>1</td><td>&quot;N&quot;</td><td>2</td><td>25.4</td><td>3.5</td><td>0.5</td><td>0.0</td><td>0.0</td><td>1.0</td><td>30.4</td><td>2.5</td><td>0.0</td></tr></tbody></table></div>"
      ],
      "text/plain": [
       "shape: (5, 16)\n",
       "┌───────────┬───────────┬───────────┬───────────┬───┬───────────┬───────────┬───────────┬──────────┐\n",
       "│ tpep_pick ┆ tpep_drop ┆ passenger ┆ trip_dist ┆ … ┆ improveme ┆ total_amo ┆ congestio ┆ Airport_ │\n",
       "│ up_dateti ┆ off_datet ┆ _count    ┆ ance      ┆   ┆ nt_surcha ┆ unt       ┆ n_surchar ┆ fee      │\n",
       "│ me        ┆ ime       ┆ ---       ┆ ---       ┆   ┆ rge       ┆ ---       ┆ ge        ┆ ---      │\n",
       "│ ---       ┆ ---       ┆ i64       ┆ f64       ┆   ┆ ---       ┆ f64       ┆ ---       ┆ f64      │\n",
       "│ datetime[ ┆ datetime[ ┆           ┆           ┆   ┆ f64       ┆           ┆ f64       ┆          │\n",
       "│ ns]       ┆ ns]       ┆           ┆           ┆   ┆           ┆           ┆           ┆          │\n",
       "╞═══════════╪═══════════╪═══════════╪═══════════╪═══╪═══════════╪═══════════╪═══════════╪══════════╡\n",
       "│ 2024-03-0 ┆ 2024-03-0 ┆ 0         ┆ 1.3       ┆ … ┆ 1.0       ┆ 16.3      ┆ 2.5       ┆ 0.0      │\n",
       "│ 1         ┆ 1         ┆           ┆           ┆   ┆           ┆           ┆           ┆          │\n",
       "│ 00:18:51  ┆ 00:23:45  ┆           ┆           ┆   ┆           ┆           ┆           ┆          │\n",
       "│ 2024-03-0 ┆ 2024-03-0 ┆ 0         ┆ 1.1       ┆ … ┆ 1.0       ┆ 15.2      ┆ 2.5       ┆ 0.0      │\n",
       "│ 1         ┆ 1         ┆           ┆           ┆   ┆           ┆           ┆           ┆          │\n",
       "│ 00:26:00  ┆ 00:29:06  ┆           ┆           ┆   ┆           ┆           ┆           ┆          │\n",
       "│ 2024-03-0 ┆ 2024-03-0 ┆ 1         ┆ 0.86      ┆ … ┆ 1.0       ┆ 10.4      ┆ 0.0       ┆ 0.0      │\n",
       "│ 1         ┆ 1         ┆           ┆           ┆   ┆           ┆           ┆           ┆          │\n",
       "│ 00:09:22  ┆ 00:15:24  ┆           ┆           ┆   ┆           ┆           ┆           ┆          │\n",
       "│ 2024-03-0 ┆ 2024-03-0 ┆ 1         ┆ 0.82      ┆ … ┆ 1.0       ┆ 14.19     ┆ 2.5       ┆ 0.0      │\n",
       "│ 1         ┆ 1         ┆           ┆           ┆   ┆           ┆           ┆           ┆          │\n",
       "│ 00:33:45  ┆ 00:39:34  ┆           ┆           ┆   ┆           ┆           ┆           ┆          │\n",
       "│ 2024-03-0 ┆ 2024-03-0 ┆ 0         ┆ 4.9       ┆ … ┆ 1.0       ┆ 30.4      ┆ 2.5       ┆ 0.0      │\n",
       "│ 1         ┆ 1         ┆           ┆           ┆   ┆           ┆           ┆           ┆          │\n",
       "│ 00:05:43  ┆ 00:26:22  ┆           ┆           ┆   ┆           ┆           ┆           ┆          │\n",
       "└───────────┴───────────┴───────────┴───────────┴───┴───────────┴───────────┴───────────┴──────────┘"
      ]
     },
     "execution_count": 20,
     "metadata": {},
     "output_type": "execute_result"
    }
   ],
   "source": [
    "(df.drop(pl.col(pl.Int32)).head())"
   ]
  },
  {
   "cell_type": "markdown",
   "id": "6199eb41",
   "metadata": {},
   "source": [
    "That one was easy! One last advanced selecting technique before we're ready to move onto the next module--renaming."
   ]
  },
  {
   "cell_type": "markdown",
   "id": "223109b0",
   "metadata": {},
   "source": [
    "# 4.4. Renaming Columns With `.rename()`"
   ]
  },
  {
   "cell_type": "markdown",
   "id": "248bf87c",
   "metadata": {},
   "source": [
    "As we've seen, `polars` offers some pretty awesome tools for renaming `pl.Expr` objects, such as `pl.Expr.alias()`, `pl.Expr.name.suffix()` (and of course, though we haven't used it yet, there's also a `pl.Expr.name.prefix()`). But what if you want to rename columns outside the context of a `pl.Expr` object? For that, there are a few tools to help, the primary one being `.rename()`."
   ]
  },
  {
   "cell_type": "markdown",
   "id": "3dbc3863",
   "metadata": {},
   "source": [
    "`.rename()` has pretty simple usage: you just pass a dictionary of old names, and the names you want to change them to. For example, some names have capital letters, and don't adhere to the same formatting rules as the other columns; we can first have a look by checking the `.columns` attribute of the dataframe:"
   ]
  },
  {
   "cell_type": "code",
   "execution_count": 21,
   "id": "14cc1e72",
   "metadata": {},
   "outputs": [
    {
     "data": {
      "text/plain": [
       "Schema([('VendorID', Int32),\n",
       "        ('tpep_pickup_datetime', Datetime(time_unit='ns', time_zone=None)),\n",
       "        ('tpep_dropoff_datetime', Datetime(time_unit='ns', time_zone=None)),\n",
       "        ('passenger_count', Int64),\n",
       "        ('trip_distance', Float64),\n",
       "        ('RatecodeID', Int64),\n",
       "        ('store_and_fwd_flag', String),\n",
       "        ('PULocationID', Int32),\n",
       "        ('DOLocationID', Int32),\n",
       "        ('payment_type', Int64),\n",
       "        ('fare_amount', Float64),\n",
       "        ('extra', Float64),\n",
       "        ('mta_tax', Float64),\n",
       "        ('tip_amount', Float64),\n",
       "        ('tolls_amount', Float64),\n",
       "        ('improvement_surcharge', Float64),\n",
       "        ('total_amount', Float64),\n",
       "        ('congestion_surcharge', Float64),\n",
       "        ('Airport_fee', Float64)])"
      ]
     },
     "execution_count": 21,
     "metadata": {},
     "output_type": "execute_result"
    }
   ],
   "source": [
    "df.schema"
   ]
  },
  {
   "cell_type": "code",
   "execution_count": 22,
   "id": "295b0ac6",
   "metadata": {},
   "outputs": [
    {
     "data": {
      "text/plain": [
       "['VendorID',\n",
       " 'tpep_pickup_datetime',\n",
       " 'tpep_dropoff_datetime',\n",
       " 'passenger_count',\n",
       " 'trip_distance',\n",
       " 'RatecodeID',\n",
       " 'store_and_fwd_flag',\n",
       " 'PULocationID',\n",
       " 'DOLocationID',\n",
       " 'payment_type',\n",
       " 'fare_amount',\n",
       " 'extra',\n",
       " 'mta_tax',\n",
       " 'tip_amount',\n",
       " 'tolls_amount',\n",
       " 'improvement_surcharge',\n",
       " 'total_amount',\n",
       " 'congestion_surcharge',\n",
       " 'Airport_fee']"
      ]
     },
     "execution_count": 22,
     "metadata": {},
     "output_type": "execute_result"
    }
   ],
   "source": [
    "df.columns"
   ]
  },
  {
   "cell_type": "markdown",
   "id": "958f6c09",
   "metadata": {},
   "source": [
    "TitleCase and snake_case in the same set of columns?? We can't allow that!"
   ]
  },
  {
   "cell_type": "code",
   "execution_count": 23,
   "id": "182186aa",
   "metadata": {},
   "outputs": [
    {
     "data": {
      "text/html": [
       "<div><style>\n",
       ".dataframe > thead > tr,\n",
       ".dataframe > tbody > tr {\n",
       "  text-align: right;\n",
       "  white-space: pre-wrap;\n",
       "}\n",
       "</style>\n",
       "<small>shape: (5, 19)</small><table border=\"1\" class=\"dataframe\"><thead><tr><th>vendor_id</th><th>tpep_pickup_datetime</th><th>tpep_dropoff_datetime</th><th>passenger_count</th><th>trip_distance</th><th>ratecode_id</th><th>store_and_fwd_flag</th><th>pu_location_id</th><th>do_location_id</th><th>payment_type</th><th>fare_amount</th><th>extra</th><th>mta_tax</th><th>tip_amount</th><th>tolls_amount</th><th>improvement_surcharge</th><th>total_amount</th><th>congestion_surcharge</th><th>airport_fee</th></tr><tr><td>i32</td><td>datetime[ns]</td><td>datetime[ns]</td><td>i64</td><td>f64</td><td>i64</td><td>str</td><td>i32</td><td>i32</td><td>i64</td><td>f64</td><td>f64</td><td>f64</td><td>f64</td><td>f64</td><td>f64</td><td>f64</td><td>f64</td><td>f64</td></tr></thead><tbody><tr><td>1</td><td>2024-03-01 00:18:51</td><td>2024-03-01 00:23:45</td><td>0</td><td>1.3</td><td>1</td><td>&quot;N&quot;</td><td>142</td><td>239</td><td>1</td><td>8.6</td><td>3.5</td><td>0.5</td><td>2.7</td><td>0.0</td><td>1.0</td><td>16.3</td><td>2.5</td><td>0.0</td></tr><tr><td>1</td><td>2024-03-01 00:26:00</td><td>2024-03-01 00:29:06</td><td>0</td><td>1.1</td><td>1</td><td>&quot;N&quot;</td><td>238</td><td>24</td><td>1</td><td>7.2</td><td>3.5</td><td>0.5</td><td>3.0</td><td>0.0</td><td>1.0</td><td>15.2</td><td>2.5</td><td>0.0</td></tr><tr><td>2</td><td>2024-03-01 00:09:22</td><td>2024-03-01 00:15:24</td><td>1</td><td>0.86</td><td>1</td><td>&quot;N&quot;</td><td>263</td><td>75</td><td>2</td><td>7.9</td><td>1.0</td><td>0.5</td><td>0.0</td><td>0.0</td><td>1.0</td><td>10.4</td><td>0.0</td><td>0.0</td></tr><tr><td>2</td><td>2024-03-01 00:33:45</td><td>2024-03-01 00:39:34</td><td>1</td><td>0.82</td><td>1</td><td>&quot;N&quot;</td><td>164</td><td>162</td><td>1</td><td>7.9</td><td>1.0</td><td>0.5</td><td>1.29</td><td>0.0</td><td>1.0</td><td>14.19</td><td>2.5</td><td>0.0</td></tr><tr><td>1</td><td>2024-03-01 00:05:43</td><td>2024-03-01 00:26:22</td><td>0</td><td>4.9</td><td>1</td><td>&quot;N&quot;</td><td>263</td><td>7</td><td>2</td><td>25.4</td><td>3.5</td><td>0.5</td><td>0.0</td><td>0.0</td><td>1.0</td><td>30.4</td><td>2.5</td><td>0.0</td></tr></tbody></table></div>"
      ],
      "text/plain": [
       "shape: (5, 19)\n",
       "┌───────────┬───────────┬───────────┬───────────┬───┬───────────┬───────────┬───────────┬──────────┐\n",
       "│ vendor_id ┆ tpep_pick ┆ tpep_drop ┆ passenger ┆ … ┆ improveme ┆ total_amo ┆ congestio ┆ airport_ │\n",
       "│ ---       ┆ up_dateti ┆ off_datet ┆ _count    ┆   ┆ nt_surcha ┆ unt       ┆ n_surchar ┆ fee      │\n",
       "│ i32       ┆ me        ┆ ime       ┆ ---       ┆   ┆ rge       ┆ ---       ┆ ge        ┆ ---      │\n",
       "│           ┆ ---       ┆ ---       ┆ i64       ┆   ┆ ---       ┆ f64       ┆ ---       ┆ f64      │\n",
       "│           ┆ datetime[ ┆ datetime[ ┆           ┆   ┆ f64       ┆           ┆ f64       ┆          │\n",
       "│           ┆ ns]       ┆ ns]       ┆           ┆   ┆           ┆           ┆           ┆          │\n",
       "╞═══════════╪═══════════╪═══════════╪═══════════╪═══╪═══════════╪═══════════╪═══════════╪══════════╡\n",
       "│ 1         ┆ 2024-03-0 ┆ 2024-03-0 ┆ 0         ┆ … ┆ 1.0       ┆ 16.3      ┆ 2.5       ┆ 0.0      │\n",
       "│           ┆ 1         ┆ 1         ┆           ┆   ┆           ┆           ┆           ┆          │\n",
       "│           ┆ 00:18:51  ┆ 00:23:45  ┆           ┆   ┆           ┆           ┆           ┆          │\n",
       "│ 1         ┆ 2024-03-0 ┆ 2024-03-0 ┆ 0         ┆ … ┆ 1.0       ┆ 15.2      ┆ 2.5       ┆ 0.0      │\n",
       "│           ┆ 1         ┆ 1         ┆           ┆   ┆           ┆           ┆           ┆          │\n",
       "│           ┆ 00:26:00  ┆ 00:29:06  ┆           ┆   ┆           ┆           ┆           ┆          │\n",
       "│ 2         ┆ 2024-03-0 ┆ 2024-03-0 ┆ 1         ┆ … ┆ 1.0       ┆ 10.4      ┆ 0.0       ┆ 0.0      │\n",
       "│           ┆ 1         ┆ 1         ┆           ┆   ┆           ┆           ┆           ┆          │\n",
       "│           ┆ 00:09:22  ┆ 00:15:24  ┆           ┆   ┆           ┆           ┆           ┆          │\n",
       "│ 2         ┆ 2024-03-0 ┆ 2024-03-0 ┆ 1         ┆ … ┆ 1.0       ┆ 14.19     ┆ 2.5       ┆ 0.0      │\n",
       "│           ┆ 1         ┆ 1         ┆           ┆   ┆           ┆           ┆           ┆          │\n",
       "│           ┆ 00:33:45  ┆ 00:39:34  ┆           ┆   ┆           ┆           ┆           ┆          │\n",
       "│ 1         ┆ 2024-03-0 ┆ 2024-03-0 ┆ 0         ┆ … ┆ 1.0       ┆ 30.4      ┆ 2.5       ┆ 0.0      │\n",
       "│           ┆ 1         ┆ 1         ┆           ┆   ┆           ┆           ┆           ┆          │\n",
       "│           ┆ 00:05:43  ┆ 00:26:22  ┆           ┆   ┆           ┆           ┆           ┆          │\n",
       "└───────────┴───────────┴───────────┴───────────┴───┴───────────┴───────────┴───────────┴──────────┘"
      ]
     },
     "execution_count": 23,
     "metadata": {},
     "output_type": "execute_result"
    }
   ],
   "source": [
    "column_rename_mapping = {\n",
    "    \"VendorID\": \"vendor_id\",\n",
    "    \"RatecodeID\": \"ratecode_id\",\n",
    "    \"PULocationID\": \"pu_location_id\",\n",
    "    \"DOLocationID\": \"do_location_id\",\n",
    "    \"Airport_fee\": \"airport_fee\",\n",
    "}\n",
    "(df.rename(column_rename_mapping).head())"
   ]
  },
  {
   "cell_type": "markdown",
   "id": "cf9ee80c",
   "metadata": {},
   "source": [
    "Easy, looking good!"
   ]
  },
  {
   "cell_type": "markdown",
   "id": "bdf640ee",
   "metadata": {},
   "source": [
    "# Conclusion"
   ]
  },
  {
   "cell_type": "markdown",
   "id": "21738daf",
   "metadata": {},
   "source": [
    "In this module, we learned some advanced selecting techniques, including operations on multi-column `pl.Expr` objects, `.with_columns()`, `.drop()`, and `.rename()`, thus preparing us to create some more advanced queries in the next module."
   ]
  }
 ],
 "metadata": {
  "kernelspec": {
   "display_name": "polars",
   "language": "python",
   "name": "python3"
  },
  "language_info": {
   "codemirror_mode": {
    "name": "ipython",
    "version": 3
   },
   "file_extension": ".py",
   "mimetype": "text/x-python",
   "name": "python",
   "nbconvert_exporter": "python",
   "pygments_lexer": "ipython3",
   "version": "3.10.14"
  }
 },
 "nbformat": 4,
 "nbformat_minor": 5
}
