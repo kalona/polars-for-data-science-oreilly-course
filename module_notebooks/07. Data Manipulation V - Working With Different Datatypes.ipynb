{
 "cells": [
  {
   "cell_type": "markdown",
   "id": "1653908d",
   "metadata": {},
   "source": [
    "# 7. Data Manipulation V - Working With Datatypes"
   ]
  },
  {
   "cell_type": "markdown",
   "id": "97a37bab",
   "metadata": {},
   "source": [
    "The goal of this module is to understand all the different datatypes in `polars`, and learn to construct datatype-specific column expressions that leverage those different datatypes."
   ]
  },
  {
   "cell_type": "markdown",
   "id": "f3a90b5b",
   "metadata": {},
   "source": [
    "But first we import `polars`..."
   ]
  },
  {
   "cell_type": "code",
   "execution_count": null,
   "id": "a6cf858e",
   "metadata": {},
   "outputs": [],
   "source": [
    "%pip install -U polars"
   ]
  },
  {
   "cell_type": "code",
   "execution_count": 1,
   "id": "9f2da0ab",
   "metadata": {},
   "outputs": [
    {
     "name": "stdout",
     "output_type": "stream",
     "text": [
      "/data/datasets/data/yellow_tripdata_2024-03.parquet already exists\n",
      "/data/datasets/data/taxi_zone_lookup.csv already exists\n"
     ]
    }
   ],
   "source": [
    "import polars as pl\n",
    "\n",
    "%run setup.py"
   ]
  },
  {
   "cell_type": "markdown",
   "id": "b346457f",
   "metadata": {},
   "source": [
    "... and load the rides data, already joining with the `zones_df` dataframe as in the previous module."
   ]
  },
  {
   "cell_type": "code",
   "execution_count": 2,
   "id": "c78648a1",
   "metadata": {},
   "outputs": [],
   "source": [
    "zone_column_rename_mapping = {\n",
    "    \"LocationID\": \"location_id\",\n",
    "    \"Borough\": \"borough\",\n",
    "    \"Zone\": \"zone\",\n",
    "}\n",
    "zones_df = pl.read_parquet(taxi_zone_lookup_parquet).rename(\n",
    "    zone_column_rename_mapping\n",
    ")"
   ]
  },
  {
   "cell_type": "markdown",
   "id": "0f4de06f",
   "metadata": {},
   "source": [
    "This time, we'll join `zones_df` into the rides dataframe twice--once for `pu_location_id`, and once for `do_location_id`."
   ]
  },
  {
   "cell_type": "code",
   "execution_count": 3,
   "id": "b85b1837",
   "metadata": {},
   "outputs": [
    {
     "data": {
      "text/html": [
       "<div><style>\n",
       ".dataframe > thead > tr,\n",
       ".dataframe > tbody > tr {\n",
       "  text-align: right;\n",
       "  white-space: pre-wrap;\n",
       "}\n",
       "</style>\n",
       "<small>shape: (5, 25)</small><table border=\"1\" class=\"dataframe\"><thead><tr><th>vendor_id</th><th>tpep_pickup_datetime</th><th>tpep_dropoff_datetime</th><th>passenger_count</th><th>trip_distance</th><th>ratecode_id</th><th>store_and_fwd_flag</th><th>pu_location_id</th><th>do_location_id</th><th>payment_type</th><th>fare_amount</th><th>extra</th><th>mta_tax</th><th>tip_amount</th><th>tolls_amount</th><th>improvement_surcharge</th><th>total_amount</th><th>congestion_surcharge</th><th>airport_fee</th><th>pu_borough</th><th>pu_zone</th><th>pu_service_zone</th><th>do_borough</th><th>do_zone</th><th>do_service_zone</th></tr><tr><td>i32</td><td>datetime[ns]</td><td>datetime[ns]</td><td>i64</td><td>f64</td><td>i64</td><td>str</td><td>i32</td><td>i32</td><td>i64</td><td>f64</td><td>f64</td><td>f64</td><td>f64</td><td>f64</td><td>f64</td><td>f64</td><td>f64</td><td>f64</td><td>str</td><td>str</td><td>str</td><td>str</td><td>str</td><td>str</td></tr></thead><tbody><tr><td>1</td><td>2024-03-01 00:18:51</td><td>2024-03-01 00:23:45</td><td>0</td><td>1.3</td><td>1</td><td>&quot;N&quot;</td><td>142</td><td>239</td><td>1</td><td>8.6</td><td>3.5</td><td>0.5</td><td>2.7</td><td>0.0</td><td>1.0</td><td>16.3</td><td>2.5</td><td>0.0</td><td>&quot;Manhattan&quot;</td><td>&quot;Lincoln Square East&quot;</td><td>&quot;Yellow Zone&quot;</td><td>&quot;Manhattan&quot;</td><td>&quot;Upper West Side South&quot;</td><td>&quot;Yellow Zone&quot;</td></tr><tr><td>1</td><td>2024-03-01 00:26:00</td><td>2024-03-01 00:29:06</td><td>0</td><td>1.1</td><td>1</td><td>&quot;N&quot;</td><td>238</td><td>24</td><td>1</td><td>7.2</td><td>3.5</td><td>0.5</td><td>3.0</td><td>0.0</td><td>1.0</td><td>15.2</td><td>2.5</td><td>0.0</td><td>&quot;Manhattan&quot;</td><td>&quot;Upper West Side North&quot;</td><td>&quot;Yellow Zone&quot;</td><td>&quot;Manhattan&quot;</td><td>&quot;Bloomingdale&quot;</td><td>&quot;Yellow Zone&quot;</td></tr><tr><td>2</td><td>2024-03-01 00:09:22</td><td>2024-03-01 00:15:24</td><td>1</td><td>0.86</td><td>1</td><td>&quot;N&quot;</td><td>263</td><td>75</td><td>2</td><td>7.9</td><td>1.0</td><td>0.5</td><td>0.0</td><td>0.0</td><td>1.0</td><td>10.4</td><td>0.0</td><td>0.0</td><td>&quot;Manhattan&quot;</td><td>&quot;Yorkville West&quot;</td><td>&quot;Yellow Zone&quot;</td><td>&quot;Manhattan&quot;</td><td>&quot;East Harlem South&quot;</td><td>&quot;Boro Zone&quot;</td></tr><tr><td>2</td><td>2024-03-01 00:33:45</td><td>2024-03-01 00:39:34</td><td>1</td><td>0.82</td><td>1</td><td>&quot;N&quot;</td><td>164</td><td>162</td><td>1</td><td>7.9</td><td>1.0</td><td>0.5</td><td>1.29</td><td>0.0</td><td>1.0</td><td>14.19</td><td>2.5</td><td>0.0</td><td>&quot;Manhattan&quot;</td><td>&quot;Midtown South&quot;</td><td>&quot;Yellow Zone&quot;</td><td>&quot;Manhattan&quot;</td><td>&quot;Midtown East&quot;</td><td>&quot;Yellow Zone&quot;</td></tr><tr><td>1</td><td>2024-03-01 00:05:43</td><td>2024-03-01 00:26:22</td><td>0</td><td>4.9</td><td>1</td><td>&quot;N&quot;</td><td>263</td><td>7</td><td>2</td><td>25.4</td><td>3.5</td><td>0.5</td><td>0.0</td><td>0.0</td><td>1.0</td><td>30.4</td><td>2.5</td><td>0.0</td><td>&quot;Manhattan&quot;</td><td>&quot;Yorkville West&quot;</td><td>&quot;Yellow Zone&quot;</td><td>&quot;Queens&quot;</td><td>&quot;Astoria&quot;</td><td>&quot;Boro Zone&quot;</td></tr></tbody></table></div>"
      ],
      "text/plain": [
       "shape: (5, 25)\n",
       "┌───────────┬───────────┬───────────┬───────────┬───┬───────────┬───────────┬───────────┬──────────┐\n",
       "│ vendor_id ┆ tpep_pick ┆ tpep_drop ┆ passenger ┆ … ┆ pu_servic ┆ do_boroug ┆ do_zone   ┆ do_servi │\n",
       "│ ---       ┆ up_dateti ┆ off_datet ┆ _count    ┆   ┆ e_zone    ┆ h         ┆ ---       ┆ ce_zone  │\n",
       "│ i32       ┆ me        ┆ ime       ┆ ---       ┆   ┆ ---       ┆ ---       ┆ str       ┆ ---      │\n",
       "│           ┆ ---       ┆ ---       ┆ i64       ┆   ┆ str       ┆ str       ┆           ┆ str      │\n",
       "│           ┆ datetime[ ┆ datetime[ ┆           ┆   ┆           ┆           ┆           ┆          │\n",
       "│           ┆ ns]       ┆ ns]       ┆           ┆   ┆           ┆           ┆           ┆          │\n",
       "╞═══════════╪═══════════╪═══════════╪═══════════╪═══╪═══════════╪═══════════╪═══════════╪══════════╡\n",
       "│ 1         ┆ 2024-03-0 ┆ 2024-03-0 ┆ 0         ┆ … ┆ Yellow    ┆ Manhattan ┆ Upper     ┆ Yellow   │\n",
       "│           ┆ 1         ┆ 1         ┆           ┆   ┆ Zone      ┆           ┆ West Side ┆ Zone     │\n",
       "│           ┆ 00:18:51  ┆ 00:23:45  ┆           ┆   ┆           ┆           ┆ South     ┆          │\n",
       "│ 1         ┆ 2024-03-0 ┆ 2024-03-0 ┆ 0         ┆ … ┆ Yellow    ┆ Manhattan ┆ Bloomingd ┆ Yellow   │\n",
       "│           ┆ 1         ┆ 1         ┆           ┆   ┆ Zone      ┆           ┆ ale       ┆ Zone     │\n",
       "│           ┆ 00:26:00  ┆ 00:29:06  ┆           ┆   ┆           ┆           ┆           ┆          │\n",
       "│ 2         ┆ 2024-03-0 ┆ 2024-03-0 ┆ 1         ┆ … ┆ Yellow    ┆ Manhattan ┆ East      ┆ Boro     │\n",
       "│           ┆ 1         ┆ 1         ┆           ┆   ┆ Zone      ┆           ┆ Harlem    ┆ Zone     │\n",
       "│           ┆ 00:09:22  ┆ 00:15:24  ┆           ┆   ┆           ┆           ┆ South     ┆          │\n",
       "│ 2         ┆ 2024-03-0 ┆ 2024-03-0 ┆ 1         ┆ … ┆ Yellow    ┆ Manhattan ┆ Midtown   ┆ Yellow   │\n",
       "│           ┆ 1         ┆ 1         ┆           ┆   ┆ Zone      ┆           ┆ East      ┆ Zone     │\n",
       "│           ┆ 00:33:45  ┆ 00:39:34  ┆           ┆   ┆           ┆           ┆           ┆          │\n",
       "│ 1         ┆ 2024-03-0 ┆ 2024-03-0 ┆ 0         ┆ … ┆ Yellow    ┆ Queens    ┆ Astoria   ┆ Boro     │\n",
       "│           ┆ 1         ┆ 1         ┆           ┆   ┆ Zone      ┆           ┆           ┆ Zone     │\n",
       "│           ┆ 00:05:43  ┆ 00:26:22  ┆           ┆   ┆           ┆           ┆           ┆          │\n",
       "└───────────┴───────────┴───────────┴───────────┴───┴───────────┴───────────┴───────────┴──────────┘"
      ]
     },
     "execution_count": 3,
     "metadata": {},
     "output_type": "execute_result"
    }
   ],
   "source": [
    "yellow_rides_column_rename_mapping = {\n",
    "    \"VendorID\": \"vendor_id\",\n",
    "    \"RatecodeID\": \"ratecode_id\",\n",
    "    \"PULocationID\": \"pu_location_id\",\n",
    "    \"DOLocationID\": \"do_location_id\",\n",
    "    \"Airport_fee\": \"airport_fee\",\n",
    "}\n",
    "\n",
    "zone_df_columns = [\n",
    "    \"borough\",\n",
    "    \"zone\",\n",
    "    \"service_zone\",\n",
    "]\n",
    "\n",
    "rides_df = (\n",
    "    pl.read_parquet(local_parquet)\n",
    "    .rename(yellow_rides_column_rename_mapping)\n",
    "    .join(zones_df, left_on=\"pu_location_id\", right_on=\"location_id\")\n",
    "    .rename(\n",
    "        {\n",
    "            zone_df_column: f\"pu_{zone_df_column}\"\n",
    "            for zone_df_column in zone_df_columns\n",
    "        }\n",
    "    )\n",
    "    .join(zones_df, left_on=\"do_location_id\", right_on=\"location_id\")\n",
    "    .rename(\n",
    "        {\n",
    "            zone_df_column: f\"do_{zone_df_column}\"\n",
    "            for zone_df_column in zone_df_columns\n",
    "        }\n",
    "    )\n",
    ")\n",
    "\n",
    "rides_df.head()"
   ]
  },
  {
   "cell_type": "markdown",
   "id": "59815ad3",
   "metadata": {},
   "source": [
    "Let's go!"
   ]
  },
  {
   "cell_type": "markdown",
   "id": "1109c3fe",
   "metadata": {},
   "source": [
    "## 5.1. Datatypes - an Overview"
   ]
  },
  {
   "cell_type": "markdown",
   "id": "fd114a72",
   "metadata": {},
   "source": [
    "In the previous modules, we've seen how `polars` prioritizes clarity and organization of datatypes, even displaying data types alongside each column name when displaying a dataframe:"
   ]
  },
  {
   "cell_type": "code",
   "execution_count": 4,
   "id": "12bff3c0",
   "metadata": {},
   "outputs": [
    {
     "data": {
      "text/html": [
       "<div><style>\n",
       ".dataframe > thead > tr,\n",
       ".dataframe > tbody > tr {\n",
       "  text-align: right;\n",
       "  white-space: pre-wrap;\n",
       "}\n",
       "</style>\n",
       "<small>shape: (0, 25)</small><table border=\"1\" class=\"dataframe\"><thead><tr><th>vendor_id</th><th>tpep_pickup_datetime</th><th>tpep_dropoff_datetime</th><th>passenger_count</th><th>trip_distance</th><th>ratecode_id</th><th>store_and_fwd_flag</th><th>pu_location_id</th><th>do_location_id</th><th>payment_type</th><th>fare_amount</th><th>extra</th><th>mta_tax</th><th>tip_amount</th><th>tolls_amount</th><th>improvement_surcharge</th><th>total_amount</th><th>congestion_surcharge</th><th>airport_fee</th><th>pu_borough</th><th>pu_zone</th><th>pu_service_zone</th><th>do_borough</th><th>do_zone</th><th>do_service_zone</th></tr><tr><td>i32</td><td>datetime[ns]</td><td>datetime[ns]</td><td>i64</td><td>f64</td><td>i64</td><td>str</td><td>i32</td><td>i32</td><td>i64</td><td>f64</td><td>f64</td><td>f64</td><td>f64</td><td>f64</td><td>f64</td><td>f64</td><td>f64</td><td>f64</td><td>str</td><td>str</td><td>str</td><td>str</td><td>str</td><td>str</td></tr></thead><tbody></tbody></table></div>"
      ],
      "text/plain": [
       "shape: (0, 25)\n",
       "┌───────────┬────────────┬───────────┬───────────┬───┬───────────┬───────────┬─────────┬───────────┐\n",
       "│ vendor_id ┆ tpep_picku ┆ tpep_drop ┆ passenger ┆ … ┆ pu_servic ┆ do_boroug ┆ do_zone ┆ do_servic │\n",
       "│ ---       ┆ p_datetime ┆ off_datet ┆ _count    ┆   ┆ e_zone    ┆ h         ┆ ---     ┆ e_zone    │\n",
       "│ i32       ┆ ---        ┆ ime       ┆ ---       ┆   ┆ ---       ┆ ---       ┆ str     ┆ ---       │\n",
       "│           ┆ datetime[n ┆ ---       ┆ i64       ┆   ┆ str       ┆ str       ┆         ┆ str       │\n",
       "│           ┆ s]         ┆ datetime[ ┆           ┆   ┆           ┆           ┆         ┆           │\n",
       "│           ┆            ┆ ns]       ┆           ┆   ┆           ┆           ┆         ┆           │\n",
       "╞═══════════╪════════════╪═══════════╪═══════════╪═══╪═══════════╪═══════════╪═════════╪═══════════╡\n",
       "└───────────┴────────────┴───────────┴───────────┴───┴───────────┴───────────┴─────────┴───────────┘"
      ]
     },
     "execution_count": 4,
     "metadata": {},
     "output_type": "execute_result"
    }
   ],
   "source": [
    "rides_df.head(0)"
   ]
  },
  {
   "cell_type": "markdown",
   "id": "cf6058b7",
   "metadata": {},
   "source": [
    "We also saw in an earlier module that we can see a dataframe's datatypes by checking its schema:"
   ]
  },
  {
   "cell_type": "code",
   "execution_count": 5,
   "id": "1682ca98",
   "metadata": {},
   "outputs": [
    {
     "data": {
      "text/plain": [
       "Schema([('vendor_id', Int32),\n",
       "        ('tpep_pickup_datetime', Datetime(time_unit='ns', time_zone=None)),\n",
       "        ('tpep_dropoff_datetime', Datetime(time_unit='ns', time_zone=None)),\n",
       "        ('passenger_count', Int64),\n",
       "        ('trip_distance', Float64),\n",
       "        ('ratecode_id', Int64),\n",
       "        ('store_and_fwd_flag', String),\n",
       "        ('pu_location_id', Int32),\n",
       "        ('do_location_id', Int32),\n",
       "        ('payment_type', Int64),\n",
       "        ('fare_amount', Float64),\n",
       "        ('extra', Float64),\n",
       "        ('mta_tax', Float64),\n",
       "        ('tip_amount', Float64),\n",
       "        ('tolls_amount', Float64),\n",
       "        ('improvement_surcharge', Float64),\n",
       "        ('total_amount', Float64),\n",
       "        ('congestion_surcharge', Float64),\n",
       "        ('airport_fee', Float64),\n",
       "        ('pu_borough', String),\n",
       "        ('pu_zone', String),\n",
       "        ('pu_service_zone', String),\n",
       "        ('do_borough', String),\n",
       "        ('do_zone', String),\n",
       "        ('do_service_zone', String)])"
      ]
     },
     "execution_count": 5,
     "metadata": {},
     "output_type": "execute_result"
    }
   ],
   "source": [
    "rides_df.schema"
   ]
  },
  {
   "cell_type": "markdown",
   "id": "6ae6a3d5",
   "metadata": {},
   "source": [
    "In our dataframe alone, we have a few different datatypes:\n",
    "- `pl.Int32`, `pl.Int64`\n",
    "- `pl.Datetime`\n",
    "- `pl.String`\n",
    "\n",
    "But `polars` has so much more than this. Taking from [the docs](https://docs.pola.rs/py-polars/html/reference/datatypes.html), `polars` has numeric, temporal, nested, string, and other datatypes:\n",
    "\n",
    "**Numeric**\n",
    "- `pl.Decimal`: Decimal 128-bit type with an optional precision and non-negative scale.\n",
    "- `pl.Float32`: 32-bit floating point type.\n",
    "- `pl.Float64`: 64-bit floating point type.\n",
    "- `pl.Int8`: 8-bit signed integer type.\n",
    "- `pl.Int16`: 16-bit signed integer type.\n",
    "- `pl.Int32`: 32-bit signed integer type.\n",
    "- `pl.Int64`: 64-bit signed integer type.\n",
    "- `pl.UInt8`: 8-bit unsigned integer type.\n",
    "- `pl.UInt16`: 16-bit unsigned integer type.\n",
    "- `pl.UInt32`: 32-bit unsigned integer type.\n",
    "- `pl.UInt64`: 64-bit unsigned integer type.\n",
    "\n",
    "**Temporal**\n",
    "- `pl.Date`: Data type representing a calendar date.\n",
    "- `pl.Datetime`: Data type representing a calendar date and time of day.\n",
    "- `pl.Duration`: Data type representing a time duration.\n",
    "- `pl.Time`: Data type representing the time of day.\n",
    "\n",
    "**Nested**\n",
    "- `pl.Array(inner[, shape, width])`: Fixed length list type.\n",
    "- `pl.List(inner)`: Variable length list type.\n",
    "- `pl.Struct(fields)`: Struct composite type.\n",
    "\n",
    "**String**\n",
    "- `pl.String`: UTF-8 encoded string type.\n",
    "- `pl.Categorical`: A categorical encoding of a set of strings.\n",
    "- `pl.Enum`: A fixed set categorical encoding of a set of strings.\n",
    "- `pl.Utf8`: Alias of String.\n",
    "\n",
    "**Other**\n",
    "- `pl.Binary`: Binary type.\n",
    "- `pl.Boolean`: Boolean type.\n",
    "- `pl.Null`: Data type representing null values.\n",
    "- `pl.Object`: Data type for wrapping arbitrary Python objects.\n",
    "- `pl.Unknown`: Type representing DataType values that could not be determined statically."
   ]
  },
  {
   "cell_type": "markdown",
   "id": "3fc0f971",
   "metadata": {},
   "source": [
    "But what does this really all mean for us, as the end users?"
   ]
  },
  {
   "cell_type": "markdown",
   "id": "64333168",
   "metadata": {},
   "source": [
    "## 5.2. Working with `pl.String`"
   ]
  },
  {
   "cell_type": "markdown",
   "id": "4e1a9b43",
   "metadata": {},
   "source": [
    "Up until now, we've covered mostly basic operations on columns, such as `eq()`, `count()`, `max()` etc, which work across all datatypes. However, there are many datatype-specific operations that can be done as well. To access those datatype-specific operations, we do so through that datatype's **namespace**."
   ]
  },
  {
   "cell_type": "markdown",
   "id": "3f24b6bb",
   "metadata": {},
   "source": [
    "For example, let's say that, as part of our data cleaning process, we want to confirm that all rides that had an `airport fee` actually involved either a pickup or dropoff at the airport; for that, we need a special `pl.String` operation, `.contains()`:"
   ]
  },
  {
   "cell_type": "markdown",
   "id": "593f78eb",
   "metadata": {},
   "source": [
    "#### Example 1: substring containment check."
   ]
  },
  {
   "cell_type": "code",
   "execution_count": 6,
   "id": "1a1ecb5f",
   "metadata": {},
   "outputs": [
    {
     "data": {
      "text/html": [
       "<div><style>\n",
       ".dataframe > thead > tr,\n",
       ".dataframe > tbody > tr {\n",
       "  text-align: right;\n",
       "  white-space: pre-wrap;\n",
       "}\n",
       "</style>\n",
       "<small>shape: (5, 5)</small><table border=\"1\" class=\"dataframe\"><thead><tr><th>tpep_pickup_datetime</th><th>total_amount</th><th>airport_fee</th><th>pu_zone</th><th>is_airport_pickup</th></tr><tr><td>datetime[ns]</td><td>f64</td><td>f64</td><td>str</td><td>bool</td></tr></thead><tbody><tr><td>2024-03-01 00:02:47</td><td>34.74</td><td>1.75</td><td>&quot;JFK Airport&quot;</td><td>true</td></tr><tr><td>2024-03-01 00:33:43</td><td>91.0</td><td>1.75</td><td>&quot;JFK Airport&quot;</td><td>true</td></tr><tr><td>2024-03-01 00:24:10</td><td>95.85</td><td>1.75</td><td>&quot;JFK Airport&quot;</td><td>true</td></tr><tr><td>2024-03-01 00:06:35</td><td>80.19</td><td>1.75</td><td>&quot;JFK Airport&quot;</td><td>true</td></tr><tr><td>2024-03-01 00:06:56</td><td>41.55</td><td>1.75</td><td>&quot;JFK Airport&quot;</td><td>true</td></tr></tbody></table></div>"
      ],
      "text/plain": [
       "shape: (5, 5)\n",
       "┌──────────────────────┬──────────────┬─────────────┬─────────────┬───────────────────┐\n",
       "│ tpep_pickup_datetime ┆ total_amount ┆ airport_fee ┆ pu_zone     ┆ is_airport_pickup │\n",
       "│ ---                  ┆ ---          ┆ ---         ┆ ---         ┆ ---               │\n",
       "│ datetime[ns]         ┆ f64          ┆ f64         ┆ str         ┆ bool              │\n",
       "╞══════════════════════╪══════════════╪═════════════╪═════════════╪═══════════════════╡\n",
       "│ 2024-03-01 00:02:47  ┆ 34.74        ┆ 1.75        ┆ JFK Airport ┆ true              │\n",
       "│ 2024-03-01 00:33:43  ┆ 91.0         ┆ 1.75        ┆ JFK Airport ┆ true              │\n",
       "│ 2024-03-01 00:24:10  ┆ 95.85        ┆ 1.75        ┆ JFK Airport ┆ true              │\n",
       "│ 2024-03-01 00:06:35  ┆ 80.19        ┆ 1.75        ┆ JFK Airport ┆ true              │\n",
       "│ 2024-03-01 00:06:56  ┆ 41.55        ┆ 1.75        ┆ JFK Airport ┆ true              │\n",
       "└──────────────────────┴──────────────┴─────────────┴─────────────┴───────────────────┘"
      ]
     },
     "execution_count": 6,
     "metadata": {},
     "output_type": "execute_result"
    }
   ],
   "source": [
    "(\n",
    "    rides_df.select(\n",
    "        [\"tpep_pickup_datetime\", \"total_amount\", \"airport_fee\", \"pu_zone\"]\n",
    "    )\n",
    "    .with_columns(\n",
    "        pl.col(\"pu_zone\").str.contains(\"Airport\").alias(\"is_airport_pickup\")\n",
    "    )\n",
    "    .filter(\"is_airport_pickup\")\n",
    "    .head()\n",
    ")"
   ]
  },
  {
   "cell_type": "markdown",
   "id": "86b75f70",
   "metadata": {},
   "source": [
    "Nice! To access the string dataypes special operations, we just prefix the operation with the namespace keyword `str`, like `pl.Expr.str.contains()`. Note that the `.str.contains()` function, like many other functions in the `str` namespace, supports searching by Regex.\n",
    "\n",
    "Let's see what else can be done with `pl.String`s in `polars`:"
   ]
  },
  {
   "cell_type": "markdown",
   "id": "e534b931",
   "metadata": {},
   "source": [
    "#### Example 2: Splitting strings."
   ]
  },
  {
   "cell_type": "markdown",
   "id": "73bf737f",
   "metadata": {},
   "source": [
    "We can split strings with `pl.Expr.str.split()`:"
   ]
  },
  {
   "cell_type": "code",
   "execution_count": 7,
   "id": "03565ea3",
   "metadata": {},
   "outputs": [
    {
     "data": {
      "text/html": [
       "<div><style>\n",
       ".dataframe > thead > tr,\n",
       ".dataframe > tbody > tr {\n",
       "  text-align: right;\n",
       "  white-space: pre-wrap;\n",
       "}\n",
       "</style>\n",
       "<small>shape: (5, 3)</small><table border=\"1\" class=\"dataframe\"><thead><tr><th>tpep_pickup_datetime</th><th>pu_service_zone</th><th>pu_service_zone_splitted</th></tr><tr><td>datetime[ns]</td><td>str</td><td>list[str]</td></tr></thead><tbody><tr><td>2024-03-01 00:18:51</td><td>&quot;Yellow Zone&quot;</td><td>[&quot;Yellow&quot;, &quot;Zone&quot;]</td></tr><tr><td>2024-03-01 00:26:00</td><td>&quot;Yellow Zone&quot;</td><td>[&quot;Yellow&quot;, &quot;Zone&quot;]</td></tr><tr><td>2024-03-01 00:09:22</td><td>&quot;Yellow Zone&quot;</td><td>[&quot;Yellow&quot;, &quot;Zone&quot;]</td></tr><tr><td>2024-03-01 00:33:45</td><td>&quot;Yellow Zone&quot;</td><td>[&quot;Yellow&quot;, &quot;Zone&quot;]</td></tr><tr><td>2024-03-01 00:05:43</td><td>&quot;Yellow Zone&quot;</td><td>[&quot;Yellow&quot;, &quot;Zone&quot;]</td></tr></tbody></table></div>"
      ],
      "text/plain": [
       "shape: (5, 3)\n",
       "┌──────────────────────┬─────────────────┬──────────────────────────┐\n",
       "│ tpep_pickup_datetime ┆ pu_service_zone ┆ pu_service_zone_splitted │\n",
       "│ ---                  ┆ ---             ┆ ---                      │\n",
       "│ datetime[ns]         ┆ str             ┆ list[str]                │\n",
       "╞══════════════════════╪═════════════════╪══════════════════════════╡\n",
       "│ 2024-03-01 00:18:51  ┆ Yellow Zone     ┆ [\"Yellow\", \"Zone\"]       │\n",
       "│ 2024-03-01 00:26:00  ┆ Yellow Zone     ┆ [\"Yellow\", \"Zone\"]       │\n",
       "│ 2024-03-01 00:09:22  ┆ Yellow Zone     ┆ [\"Yellow\", \"Zone\"]       │\n",
       "│ 2024-03-01 00:33:45  ┆ Yellow Zone     ┆ [\"Yellow\", \"Zone\"]       │\n",
       "│ 2024-03-01 00:05:43  ┆ Yellow Zone     ┆ [\"Yellow\", \"Zone\"]       │\n",
       "└──────────────────────┴─────────────────┴──────────────────────────┘"
      ]
     },
     "execution_count": 7,
     "metadata": {},
     "output_type": "execute_result"
    }
   ],
   "source": [
    "(\n",
    "    rides_df.select(\n",
    "        [\n",
    "            \"tpep_pickup_datetime\",\n",
    "            \"pu_service_zone\",\n",
    "            pl.col(\"pu_service_zone\")\n",
    "            .str.split(by=\" \")\n",
    "            .name.suffix(\"_splitted\"),\n",
    "        ]\n",
    "    ).head()\n",
    ")"
   ]
  },
  {
   "cell_type": "markdown",
   "id": "0d39cc00",
   "metadata": {},
   "source": [
    "The result is a `pl.List` datatype! We'll get more into that in a moment ;)"
   ]
  },
  {
   "cell_type": "markdown",
   "id": "2a84a3ed",
   "metadata": {},
   "source": [
    "#### Example 3: Measuring string lengths."
   ]
  },
  {
   "cell_type": "code",
   "execution_count": null,
   "id": "81092762",
   "metadata": {},
   "outputs": [
    {
     "data": {
      "text/html": [
       "<div><style>\n",
       ".dataframe > thead > tr,\n",
       ".dataframe > tbody > tr {\n",
       "  text-align: right;\n",
       "  white-space: pre-wrap;\n",
       "}\n",
       "</style>\n",
       "<small>shape: (5, 3)</small><table border=\"1\" class=\"dataframe\"><thead><tr><th>tpep_pickup_datetime</th><th>pu_service_zone</th><th>pu_service_zone_str_length</th></tr><tr><td>datetime[ns]</td><td>str</td><td>u32</td></tr></thead><tbody><tr><td>2024-03-01 00:18:51</td><td>&quot;Yellow Zone&quot;</td><td>11</td></tr><tr><td>2024-03-01 00:26:00</td><td>&quot;Yellow Zone&quot;</td><td>11</td></tr><tr><td>2024-03-01 00:09:22</td><td>&quot;Yellow Zone&quot;</td><td>11</td></tr><tr><td>2024-03-01 00:33:45</td><td>&quot;Yellow Zone&quot;</td><td>11</td></tr><tr><td>2024-03-01 00:05:43</td><td>&quot;Yellow Zone&quot;</td><td>11</td></tr></tbody></table></div>"
      ],
      "text/plain": [
       "shape: (5, 3)\n",
       "┌──────────────────────┬─────────────────┬────────────────────────────┐\n",
       "│ tpep_pickup_datetime ┆ pu_service_zone ┆ pu_service_zone_str_length │\n",
       "│ ---                  ┆ ---             ┆ ---                        │\n",
       "│ datetime[ns]         ┆ str             ┆ u32                        │\n",
       "╞══════════════════════╪═════════════════╪════════════════════════════╡\n",
       "│ 2024-03-01 00:18:51  ┆ Yellow Zone     ┆ 11                         │\n",
       "│ 2024-03-01 00:26:00  ┆ Yellow Zone     ┆ 11                         │\n",
       "│ 2024-03-01 00:09:22  ┆ Yellow Zone     ┆ 11                         │\n",
       "│ 2024-03-01 00:33:45  ┆ Yellow Zone     ┆ 11                         │\n",
       "│ 2024-03-01 00:05:43  ┆ Yellow Zone     ┆ 11                         │\n",
       "└──────────────────────┴─────────────────┴────────────────────────────┘"
      ]
     },
     "execution_count": 8,
     "metadata": {},
     "output_type": "execute_result"
    }
   ],
   "source": [
    "(\n",
    "    rides_df.select(\n",
    "        [\n",
    "            \"tpep_pickup_datetime\",\n",
    "            \"pu_service_zone\",\n",
    "            pl.col(\"pu_service_zone\")\n",
    "            .str.len_chars()\n",
    "            .name.suffix(\"_str_length\"),\n",
    "        ]\n",
    "    ).head()\n",
    ")"
   ]
  },
  {
   "cell_type": "markdown",
   "id": "c47d1319",
   "metadata": {},
   "source": [
    "Notice that the resultant column `pu_service_zone_str_length` takes on the datatype `pl.UInt32`. It's an unsigned int because length can never be negative!"
   ]
  },
  {
   "cell_type": "markdown",
   "id": "0c019466",
   "metadata": {},
   "source": [
    "#### Example 4: converting to upper and lowercase, replacing values"
   ]
  },
  {
   "cell_type": "markdown",
   "id": "3a30edc2",
   "metadata": {},
   "source": [
    "We can also conveniently convert to upper and lower case strings in `polars`, or perform character replacement:"
   ]
  },
  {
   "cell_type": "code",
   "execution_count": 9,
   "id": "7704b6b0",
   "metadata": {},
   "outputs": [
    {
     "data": {
      "text/html": [
       "<div><style>\n",
       ".dataframe > thead > tr,\n",
       ".dataframe > tbody > tr {\n",
       "  text-align: right;\n",
       "  white-space: pre-wrap;\n",
       "}\n",
       "</style>\n",
       "<small>shape: (5, 5)</small><table border=\"1\" class=\"dataframe\"><thead><tr><th>tpep_pickup_datetime</th><th>pu_service_zone</th><th>pu_service_zone_uppercase</th><th>pu_service_zone_lowercase</th><th>pu_service_zone_lowercase_wo_space</th></tr><tr><td>datetime[ns]</td><td>str</td><td>str</td><td>str</td><td>str</td></tr></thead><tbody><tr><td>2024-03-01 00:18:51</td><td>&quot;Yellow Zone&quot;</td><td>&quot;YELLOW ZONE&quot;</td><td>&quot;yellow zone&quot;</td><td>&quot;yellow_zone&quot;</td></tr><tr><td>2024-03-01 00:26:00</td><td>&quot;Yellow Zone&quot;</td><td>&quot;YELLOW ZONE&quot;</td><td>&quot;yellow zone&quot;</td><td>&quot;yellow_zone&quot;</td></tr><tr><td>2024-03-01 00:09:22</td><td>&quot;Yellow Zone&quot;</td><td>&quot;YELLOW ZONE&quot;</td><td>&quot;yellow zone&quot;</td><td>&quot;yellow_zone&quot;</td></tr><tr><td>2024-03-01 00:33:45</td><td>&quot;Yellow Zone&quot;</td><td>&quot;YELLOW ZONE&quot;</td><td>&quot;yellow zone&quot;</td><td>&quot;yellow_zone&quot;</td></tr><tr><td>2024-03-01 00:05:43</td><td>&quot;Yellow Zone&quot;</td><td>&quot;YELLOW ZONE&quot;</td><td>&quot;yellow zone&quot;</td><td>&quot;yellow_zone&quot;</td></tr></tbody></table></div>"
      ],
      "text/plain": [
       "shape: (5, 5)\n",
       "┌────────────────────┬─────────────────┬───────────────────┬───────────────────┬───────────────────┐\n",
       "│ tpep_pickup_dateti ┆ pu_service_zone ┆ pu_service_zone_u ┆ pu_service_zone_l ┆ pu_service_zone_l │\n",
       "│ me                 ┆ ---             ┆ ppercase          ┆ owercase          ┆ owercase_wo_s…    │\n",
       "│ ---                ┆ str             ┆ ---               ┆ ---               ┆ ---               │\n",
       "│ datetime[ns]       ┆                 ┆ str               ┆ str               ┆ str               │\n",
       "╞════════════════════╪═════════════════╪═══════════════════╪═══════════════════╪═══════════════════╡\n",
       "│ 2024-03-01         ┆ Yellow Zone     ┆ YELLOW ZONE       ┆ yellow zone       ┆ yellow_zone       │\n",
       "│ 00:18:51           ┆                 ┆                   ┆                   ┆                   │\n",
       "│ 2024-03-01         ┆ Yellow Zone     ┆ YELLOW ZONE       ┆ yellow zone       ┆ yellow_zone       │\n",
       "│ 00:26:00           ┆                 ┆                   ┆                   ┆                   │\n",
       "│ 2024-03-01         ┆ Yellow Zone     ┆ YELLOW ZONE       ┆ yellow zone       ┆ yellow_zone       │\n",
       "│ 00:09:22           ┆                 ┆                   ┆                   ┆                   │\n",
       "│ 2024-03-01         ┆ Yellow Zone     ┆ YELLOW ZONE       ┆ yellow zone       ┆ yellow_zone       │\n",
       "│ 00:33:45           ┆                 ┆                   ┆                   ┆                   │\n",
       "│ 2024-03-01         ┆ Yellow Zone     ┆ YELLOW ZONE       ┆ yellow zone       ┆ yellow_zone       │\n",
       "│ 00:05:43           ┆                 ┆                   ┆                   ┆                   │\n",
       "└────────────────────┴─────────────────┴───────────────────┴───────────────────┴───────────────────┘"
      ]
     },
     "execution_count": 9,
     "metadata": {},
     "output_type": "execute_result"
    }
   ],
   "source": [
    "(\n",
    "    rides_df.select(\n",
    "        [\n",
    "            \"tpep_pickup_datetime\",\n",
    "            \"pu_service_zone\",\n",
    "            pl.col(\"pu_service_zone\")\n",
    "            .str.to_uppercase()\n",
    "            .name.suffix(\"_uppercase\"),\n",
    "            pl.col(\"pu_service_zone\")\n",
    "            .str.to_lowercase()\n",
    "            .name.suffix(\"_lowercase\"),\n",
    "            pl.col(\"pu_service_zone\")\n",
    "            .str.to_lowercase()\n",
    "            .str.replace(\" \", \"_\")\n",
    "            .name.suffix(\"_lowercase_wo_space\"),\n",
    "        ]\n",
    "    ).head()\n",
    ")"
   ]
  },
  {
   "cell_type": "markdown",
   "id": "43f79247",
   "metadata": {},
   "source": [
    "And there are yet even more functions; but that's all we'll cover for now!"
   ]
  },
  {
   "cell_type": "markdown",
   "id": "563398b6",
   "metadata": {},
   "source": [
    "## 5.3. Working with `pl.List`"
   ]
  },
  {
   "cell_type": "markdown",
   "id": "86145865",
   "metadata": {},
   "source": [
    "In the previous section, we saw that splitting a `pl.String` column produced a `pl.List` column as a result:"
   ]
  },
  {
   "cell_type": "code",
   "execution_count": 10,
   "id": "603fd086",
   "metadata": {},
   "outputs": [
    {
     "data": {
      "text/html": [
       "<div><style>\n",
       ".dataframe > thead > tr,\n",
       ".dataframe > tbody > tr {\n",
       "  text-align: right;\n",
       "  white-space: pre-wrap;\n",
       "}\n",
       "</style>\n",
       "<small>shape: (5, 3)</small><table border=\"1\" class=\"dataframe\"><thead><tr><th>tpep_pickup_datetime</th><th>pu_service_zone</th><th>pu_service_zone_splitted</th></tr><tr><td>datetime[ns]</td><td>str</td><td>list[str]</td></tr></thead><tbody><tr><td>2024-03-01 00:18:51</td><td>&quot;Yellow Zone&quot;</td><td>[&quot;Yellow&quot;, &quot;Zone&quot;]</td></tr><tr><td>2024-03-01 00:26:00</td><td>&quot;Yellow Zone&quot;</td><td>[&quot;Yellow&quot;, &quot;Zone&quot;]</td></tr><tr><td>2024-03-01 00:09:22</td><td>&quot;Yellow Zone&quot;</td><td>[&quot;Yellow&quot;, &quot;Zone&quot;]</td></tr><tr><td>2024-03-01 00:33:45</td><td>&quot;Yellow Zone&quot;</td><td>[&quot;Yellow&quot;, &quot;Zone&quot;]</td></tr><tr><td>2024-03-01 00:05:43</td><td>&quot;Yellow Zone&quot;</td><td>[&quot;Yellow&quot;, &quot;Zone&quot;]</td></tr></tbody></table></div>"
      ],
      "text/plain": [
       "shape: (5, 3)\n",
       "┌──────────────────────┬─────────────────┬──────────────────────────┐\n",
       "│ tpep_pickup_datetime ┆ pu_service_zone ┆ pu_service_zone_splitted │\n",
       "│ ---                  ┆ ---             ┆ ---                      │\n",
       "│ datetime[ns]         ┆ str             ┆ list[str]                │\n",
       "╞══════════════════════╪═════════════════╪══════════════════════════╡\n",
       "│ 2024-03-01 00:18:51  ┆ Yellow Zone     ┆ [\"Yellow\", \"Zone\"]       │\n",
       "│ 2024-03-01 00:26:00  ┆ Yellow Zone     ┆ [\"Yellow\", \"Zone\"]       │\n",
       "│ 2024-03-01 00:09:22  ┆ Yellow Zone     ┆ [\"Yellow\", \"Zone\"]       │\n",
       "│ 2024-03-01 00:33:45  ┆ Yellow Zone     ┆ [\"Yellow\", \"Zone\"]       │\n",
       "│ 2024-03-01 00:05:43  ┆ Yellow Zone     ┆ [\"Yellow\", \"Zone\"]       │\n",
       "└──────────────────────┴─────────────────┴──────────────────────────┘"
      ]
     },
     "execution_count": 10,
     "metadata": {},
     "output_type": "execute_result"
    }
   ],
   "source": [
    "(\n",
    "    rides_df.select(\n",
    "        [\n",
    "            \"tpep_pickup_datetime\",\n",
    "            \"pu_service_zone\",\n",
    "            pl.col(\"pu_service_zone\")\n",
    "            .str.split(by=\" \")\n",
    "            .name.suffix(\"_splitted\"),\n",
    "        ]\n",
    "    ).head()\n",
    ")"
   ]
  },
  {
   "cell_type": "markdown",
   "id": "0ed6bc8b",
   "metadata": {},
   "source": [
    "Let's see what we can do with this new column!"
   ]
  },
  {
   "cell_type": "markdown",
   "id": "f6197648",
   "metadata": {},
   "source": [
    "#### Example 1: List length"
   ]
  },
  {
   "cell_type": "markdown",
   "id": "2c6f7a4f",
   "metadata": {},
   "source": [
    "From the brief `.head()` just above, it seems like every ride happens in a `pu_service_zone` that is exactly two words long (i.e. \"Yellow\" \"Zone\"). Does that hold throughout all ~3 million rows though? Let's check with `pl.List.len()` inside a `group_by`."
   ]
  },
  {
   "cell_type": "code",
   "execution_count": 11,
   "id": "8b055481",
   "metadata": {},
   "outputs": [
    {
     "data": {
      "text/html": [
       "<div><style>\n",
       ".dataframe > thead > tr,\n",
       ".dataframe > tbody > tr {\n",
       "  text-align: right;\n",
       "  white-space: pre-wrap;\n",
       "}\n",
       "</style>\n",
       "<small>shape: (2, 2)</small><table border=\"1\" class=\"dataframe\"><thead><tr><th>pu_service_zone_num_words</th><th>len</th></tr><tr><td>u32</td><td>u32</td></tr></thead><tbody><tr><td>1</td><td>279161</td></tr><tr><td>2</td><td>3303467</td></tr></tbody></table></div>"
      ],
      "text/plain": [
       "shape: (2, 2)\n",
       "┌───────────────────────────┬─────────┐\n",
       "│ pu_service_zone_num_words ┆ len     │\n",
       "│ ---                       ┆ ---     │\n",
       "│ u32                       ┆ u32     │\n",
       "╞═══════════════════════════╪═════════╡\n",
       "│ 1                         ┆ 279161  │\n",
       "│ 2                         ┆ 3303467 │\n",
       "└───────────────────────────┴─────────┘"
      ]
     },
     "execution_count": 11,
     "metadata": {},
     "output_type": "execute_result"
    }
   ],
   "source": [
    "(\n",
    "    rides_df.group_by(\n",
    "        pl.col(\"pu_service_zone\")\n",
    "        .str.split(by=\" \")\n",
    "        .list.len()\n",
    "        .alias(\"pu_service_zone_num_words\")\n",
    "    )\n",
    "    .agg(pl.len())\n",
    "    .head()\n",
    ")"
   ]
  },
  {
   "cell_type": "markdown",
   "id": "d2db5a65",
   "metadata": {},
   "source": [
    "That's a surprise! Let's take a closer look by just grouping by the names directly:"
   ]
  },
  {
   "cell_type": "code",
   "execution_count": null,
   "id": "139c4adc",
   "metadata": {},
   "outputs": [
    {
     "data": {
      "text/html": [
       "<div><style>\n",
       ".dataframe > thead > tr,\n",
       ".dataframe > tbody > tr {\n",
       "  text-align: right;\n",
       "  white-space: pre-wrap;\n",
       "}\n",
       "</style>\n",
       "<small>shape: (5, 2)</small><table border=\"1\" class=\"dataframe\"><thead><tr><th>pu_service_zone</th><th>len</th></tr><tr><td>str</td><td>u32</td></tr></thead><tbody><tr><td>&quot;EWR&quot;</td><td>372</td></tr><tr><td>&quot;Boro Zone&quot;</td><td>184029</td></tr><tr><td>&quot;Airports&quot;</td><td>265141</td></tr><tr><td>&quot;Yellow Zone&quot;</td><td>3119438</td></tr><tr><td>&quot;N/A&quot;</td><td>13648</td></tr></tbody></table></div>"
      ],
      "text/plain": [
       "shape: (5, 2)\n",
       "┌─────────────────┬─────────┐\n",
       "│ pu_service_zone ┆ len     │\n",
       "│ ---             ┆ ---     │\n",
       "│ str             ┆ u32     │\n",
       "╞═════════════════╪═════════╡\n",
       "│ EWR             ┆ 372     │\n",
       "│ Boro Zone       ┆ 184029  │\n",
       "│ Airports        ┆ 265141  │\n",
       "│ Yellow Zone     ┆ 3119438 │\n",
       "│ N/A             ┆ 13648   │\n",
       "└─────────────────┴─────────┘"
      ]
     },
     "execution_count": 12,
     "metadata": {},
     "output_type": "execute_result"
    }
   ],
   "source": [
    "(\n",
    "    rides_df.group_by(\n",
    "        pl.col(\"pu_service_zone\")\n",
    "        # .str.split(by=\" \")\n",
    "        # .list.len()\n",
    "        # .alias(\"pu_service_zone_num_words\")\n",
    "    )\n",
    "    .agg(pl.len())\n",
    "    .head()\n",
    ")"
   ]
  },
  {
   "cell_type": "markdown",
   "id": "08748994",
   "metadata": {},
   "source": [
    "Seems reasonable anyway."
   ]
  },
  {
   "cell_type": "markdown",
   "id": "401fc8fa",
   "metadata": {},
   "source": [
    "#### Example 2: Reversing a list"
   ]
  },
  {
   "cell_type": "markdown",
   "id": "dedd4183",
   "metadata": {},
   "source": [
    "We can reverse a list easily with `.list.reverse()`:"
   ]
  },
  {
   "cell_type": "code",
   "execution_count": 14,
   "id": "df233ecb",
   "metadata": {},
   "outputs": [
    {
     "data": {
      "text/html": [
       "<div><style>\n",
       ".dataframe > thead > tr,\n",
       ".dataframe > tbody > tr {\n",
       "  text-align: right;\n",
       "  white-space: pre-wrap;\n",
       "}\n",
       "</style>\n",
       "<small>shape: (5, 3)</small><table border=\"1\" class=\"dataframe\"><thead><tr><th>tpep_pickup_datetime</th><th>pu_service_zone</th><th>pu_service_zone_splitted_reversed</th></tr><tr><td>datetime[ns]</td><td>str</td><td>list[str]</td></tr></thead><tbody><tr><td>2024-03-01 00:18:51</td><td>&quot;Yellow Zone&quot;</td><td>[&quot;Zone&quot;, &quot;Yellow&quot;]</td></tr><tr><td>2024-03-01 00:26:00</td><td>&quot;Yellow Zone&quot;</td><td>[&quot;Zone&quot;, &quot;Yellow&quot;]</td></tr><tr><td>2024-03-01 00:09:22</td><td>&quot;Yellow Zone&quot;</td><td>[&quot;Zone&quot;, &quot;Yellow&quot;]</td></tr><tr><td>2024-03-01 00:33:45</td><td>&quot;Yellow Zone&quot;</td><td>[&quot;Zone&quot;, &quot;Yellow&quot;]</td></tr><tr><td>2024-03-01 00:05:43</td><td>&quot;Yellow Zone&quot;</td><td>[&quot;Zone&quot;, &quot;Yellow&quot;]</td></tr></tbody></table></div>"
      ],
      "text/plain": [
       "shape: (5, 3)\n",
       "┌──────────────────────┬─────────────────┬─────────────────────────────────┐\n",
       "│ tpep_pickup_datetime ┆ pu_service_zone ┆ pu_service_zone_splitted_rever… │\n",
       "│ ---                  ┆ ---             ┆ ---                             │\n",
       "│ datetime[ns]         ┆ str             ┆ list[str]                       │\n",
       "╞══════════════════════╪═════════════════╪═════════════════════════════════╡\n",
       "│ 2024-03-01 00:18:51  ┆ Yellow Zone     ┆ [\"Zone\", \"Yellow\"]              │\n",
       "│ 2024-03-01 00:26:00  ┆ Yellow Zone     ┆ [\"Zone\", \"Yellow\"]              │\n",
       "│ 2024-03-01 00:09:22  ┆ Yellow Zone     ┆ [\"Zone\", \"Yellow\"]              │\n",
       "│ 2024-03-01 00:33:45  ┆ Yellow Zone     ┆ [\"Zone\", \"Yellow\"]              │\n",
       "│ 2024-03-01 00:05:43  ┆ Yellow Zone     ┆ [\"Zone\", \"Yellow\"]              │\n",
       "└──────────────────────┴─────────────────┴─────────────────────────────────┘"
      ]
     },
     "execution_count": 14,
     "metadata": {},
     "output_type": "execute_result"
    }
   ],
   "source": [
    "(\n",
    "    rides_df.with_columns(\n",
    "        pl.col(\"pu_service_zone\").str.split(by=\" \").name.suffix(\"_splitted\"),\n",
    "    )\n",
    "    .select(\n",
    "        [\n",
    "            \"tpep_pickup_datetime\",\n",
    "            \"pu_service_zone\",\n",
    "            pl.col(\"pu_service_zone_splitted\")\n",
    "            .list.reverse()\n",
    "            .name.suffix(\"_reversed\"),\n",
    "        ]\n",
    "    )\n",
    "    .head()\n",
    ")"
   ]
  },
  {
   "cell_type": "markdown",
   "id": "136d0452",
   "metadata": {},
   "source": [
    "#### Example 3: Taking elements from each list."
   ]
  },
  {
   "cell_type": "markdown",
   "id": "be343b73",
   "metadata": {},
   "source": [
    "If we want to take just the first element of each list, we can do so with `.list.first()`."
   ]
  },
  {
   "cell_type": "code",
   "execution_count": 15,
   "id": "b9f675fb",
   "metadata": {},
   "outputs": [
    {
     "data": {
      "text/html": [
       "<div><style>\n",
       ".dataframe > thead > tr,\n",
       ".dataframe > tbody > tr {\n",
       "  text-align: right;\n",
       "  white-space: pre-wrap;\n",
       "}\n",
       "</style>\n",
       "<small>shape: (5, 4)</small><table border=\"1\" class=\"dataframe\"><thead><tr><th>tpep_pickup_datetime</th><th>pu_service_zone</th><th>pu_service_zone_splitted</th><th>pu_service_zone_splitted_first_element</th></tr><tr><td>datetime[ns]</td><td>str</td><td>list[str]</td><td>str</td></tr></thead><tbody><tr><td>2024-03-01 00:18:51</td><td>&quot;Yellow Zone&quot;</td><td>[&quot;Yellow&quot;, &quot;Zone&quot;]</td><td>&quot;Yellow&quot;</td></tr><tr><td>2024-03-01 00:26:00</td><td>&quot;Yellow Zone&quot;</td><td>[&quot;Yellow&quot;, &quot;Zone&quot;]</td><td>&quot;Yellow&quot;</td></tr><tr><td>2024-03-01 00:09:22</td><td>&quot;Yellow Zone&quot;</td><td>[&quot;Yellow&quot;, &quot;Zone&quot;]</td><td>&quot;Yellow&quot;</td></tr><tr><td>2024-03-01 00:33:45</td><td>&quot;Yellow Zone&quot;</td><td>[&quot;Yellow&quot;, &quot;Zone&quot;]</td><td>&quot;Yellow&quot;</td></tr><tr><td>2024-03-01 00:05:43</td><td>&quot;Yellow Zone&quot;</td><td>[&quot;Yellow&quot;, &quot;Zone&quot;]</td><td>&quot;Yellow&quot;</td></tr></tbody></table></div>"
      ],
      "text/plain": [
       "shape: (5, 4)\n",
       "┌──────────────────────┬─────────────────┬──────────────────────────┬──────────────────────────────┐\n",
       "│ tpep_pickup_datetime ┆ pu_service_zone ┆ pu_service_zone_splitted ┆ pu_service_zone_splitted_fir │\n",
       "│ ---                  ┆ ---             ┆ ---                      ┆ st…                          │\n",
       "│ datetime[ns]         ┆ str             ┆ list[str]                ┆ ---                          │\n",
       "│                      ┆                 ┆                          ┆ str                          │\n",
       "╞══════════════════════╪═════════════════╪══════════════════════════╪══════════════════════════════╡\n",
       "│ 2024-03-01 00:18:51  ┆ Yellow Zone     ┆ [\"Yellow\", \"Zone\"]       ┆ Yellow                       │\n",
       "│ 2024-03-01 00:26:00  ┆ Yellow Zone     ┆ [\"Yellow\", \"Zone\"]       ┆ Yellow                       │\n",
       "│ 2024-03-01 00:09:22  ┆ Yellow Zone     ┆ [\"Yellow\", \"Zone\"]       ┆ Yellow                       │\n",
       "│ 2024-03-01 00:33:45  ┆ Yellow Zone     ┆ [\"Yellow\", \"Zone\"]       ┆ Yellow                       │\n",
       "│ 2024-03-01 00:05:43  ┆ Yellow Zone     ┆ [\"Yellow\", \"Zone\"]       ┆ Yellow                       │\n",
       "└──────────────────────┴─────────────────┴──────────────────────────┴──────────────────────────────┘"
      ]
     },
     "execution_count": 15,
     "metadata": {},
     "output_type": "execute_result"
    }
   ],
   "source": [
    "(\n",
    "    rides_df.with_columns(\n",
    "        pl.col(\"pu_service_zone\").str.split(by=\" \").name.suffix(\"_splitted\"),\n",
    "    )\n",
    "    .select(\n",
    "        [\n",
    "            \"tpep_pickup_datetime\",\n",
    "            \"pu_service_zone\",\n",
    "            \"pu_service_zone_splitted\",\n",
    "            pl.col(\"pu_service_zone_splitted\")\n",
    "            .list.first()\n",
    "            .name.suffix(\"_first_element\"),\n",
    "        ]\n",
    "    )\n",
    "    .head()\n",
    ")"
   ]
  },
  {
   "cell_type": "markdown",
   "id": "0412ccae",
   "metadata": {},
   "source": [
    "We can also take the last element of each list with `.list.last()`, an element of any index with `.list.get()`, or a sublist with `.list.gather()`:"
   ]
  },
  {
   "cell_type": "code",
   "execution_count": 30,
   "id": "88314c9b",
   "metadata": {},
   "outputs": [
    {
     "data": {
      "text/html": [
       "<div><style>\n",
       ".dataframe > thead > tr,\n",
       ".dataframe > tbody > tr {\n",
       "  text-align: right;\n",
       "  white-space: pre-wrap;\n",
       "}\n",
       "</style>\n",
       "<small>shape: (5, 4)</small><table border=\"1\" class=\"dataframe\"><thead><tr><th>tpep_pickup_datetime</th><th>pu_service_zone</th><th>pu_service_zone_splitted</th><th>pu_service_zone_splitted_second_element</th></tr><tr><td>datetime[ns]</td><td>str</td><td>list[str]</td><td>list[str]</td></tr></thead><tbody><tr><td>2024-03-01 00:18:51</td><td>&quot;Yellow Zone&quot;</td><td>[&quot;Yellow&quot;, &quot;Zone&quot;]</td><td>[&quot;Yellow&quot;]</td></tr><tr><td>2024-03-01 00:26:00</td><td>&quot;Yellow Zone&quot;</td><td>[&quot;Yellow&quot;, &quot;Zone&quot;]</td><td>[&quot;Yellow&quot;]</td></tr><tr><td>2024-03-01 00:09:22</td><td>&quot;Yellow Zone&quot;</td><td>[&quot;Yellow&quot;, &quot;Zone&quot;]</td><td>[&quot;Yellow&quot;]</td></tr><tr><td>2024-03-01 00:33:45</td><td>&quot;Yellow Zone&quot;</td><td>[&quot;Yellow&quot;, &quot;Zone&quot;]</td><td>[&quot;Yellow&quot;]</td></tr><tr><td>2024-03-01 00:05:43</td><td>&quot;Yellow Zone&quot;</td><td>[&quot;Yellow&quot;, &quot;Zone&quot;]</td><td>[&quot;Yellow&quot;]</td></tr></tbody></table></div>"
      ],
      "text/plain": [
       "shape: (5, 4)\n",
       "┌──────────────────────┬─────────────────┬──────────────────────────┬──────────────────────────────┐\n",
       "│ tpep_pickup_datetime ┆ pu_service_zone ┆ pu_service_zone_splitted ┆ pu_service_zone_splitted_sec │\n",
       "│ ---                  ┆ ---             ┆ ---                      ┆ on…                          │\n",
       "│ datetime[ns]         ┆ str             ┆ list[str]                ┆ ---                          │\n",
       "│                      ┆                 ┆                          ┆ list[str]                    │\n",
       "╞══════════════════════╪═════════════════╪══════════════════════════╪══════════════════════════════╡\n",
       "│ 2024-03-01 00:18:51  ┆ Yellow Zone     ┆ [\"Yellow\", \"Zone\"]       ┆ [\"Yellow\"]                   │\n",
       "│ 2024-03-01 00:26:00  ┆ Yellow Zone     ┆ [\"Yellow\", \"Zone\"]       ┆ [\"Yellow\"]                   │\n",
       "│ 2024-03-01 00:09:22  ┆ Yellow Zone     ┆ [\"Yellow\", \"Zone\"]       ┆ [\"Yellow\"]                   │\n",
       "│ 2024-03-01 00:33:45  ┆ Yellow Zone     ┆ [\"Yellow\", \"Zone\"]       ┆ [\"Yellow\"]                   │\n",
       "│ 2024-03-01 00:05:43  ┆ Yellow Zone     ┆ [\"Yellow\", \"Zone\"]       ┆ [\"Yellow\"]                   │\n",
       "└──────────────────────┴─────────────────┴──────────────────────────┴──────────────────────────────┘"
      ]
     },
     "execution_count": 30,
     "metadata": {},
     "output_type": "execute_result"
    }
   ],
   "source": [
    "(\n",
    "    rides_df.with_columns(\n",
    "        pl.col(\"pu_service_zone\").str.split(by=\" \").name.suffix(\"_splitted\"),\n",
    "    )\n",
    "    .select(\n",
    "        [\n",
    "            \"tpep_pickup_datetime\",\n",
    "            \"pu_service_zone\",\n",
    "            \"pu_service_zone_splitted\",\n",
    "            pl.col(\"pu_service_zone_splitted\")\n",
    "            .list.gather(0)\n",
    "            .name.suffix(\"_second_element\"),\n",
    "        ]\n",
    "    )\n",
    "    .head()\n",
    ")"
   ]
  },
  {
   "cell_type": "markdown",
   "id": "274ec4ee",
   "metadata": {},
   "source": [
    "#### Example 4: Operating on each element in the list."
   ]
  },
  {
   "cell_type": "markdown",
   "id": "9dcdeca0",
   "metadata": {},
   "source": [
    "Finally, if we want to operate on an element of each list, we can use `.list.eval()`, along with the `pl.element()` helper object which functions quite like `pl.col()`, but does so in the context of within a list. For example, if we want to reverse each string within the list:"
   ]
  },
  {
   "cell_type": "code",
   "execution_count": 31,
   "id": "7203546f",
   "metadata": {},
   "outputs": [
    {
     "data": {
      "text/html": [
       "<div><style>\n",
       ".dataframe > thead > tr,\n",
       ".dataframe > tbody > tr {\n",
       "  text-align: right;\n",
       "  white-space: pre-wrap;\n",
       "}\n",
       "</style>\n",
       "<small>shape: (5, 4)</small><table border=\"1\" class=\"dataframe\"><thead><tr><th>tpep_pickup_datetime</th><th>pu_service_zone</th><th>pu_service_zone_splitted</th><th>pu_service_zone_reversed_strings</th></tr><tr><td>datetime[ns]</td><td>str</td><td>list[str]</td><td>list[str]</td></tr></thead><tbody><tr><td>2024-03-01 00:18:51</td><td>&quot;Yellow Zone&quot;</td><td>[&quot;Yellow&quot;, &quot;Zone&quot;]</td><td>[&quot;wolleY&quot;, &quot;enoZ&quot;]</td></tr><tr><td>2024-03-01 00:26:00</td><td>&quot;Yellow Zone&quot;</td><td>[&quot;Yellow&quot;, &quot;Zone&quot;]</td><td>[&quot;wolleY&quot;, &quot;enoZ&quot;]</td></tr><tr><td>2024-03-01 00:09:22</td><td>&quot;Yellow Zone&quot;</td><td>[&quot;Yellow&quot;, &quot;Zone&quot;]</td><td>[&quot;wolleY&quot;, &quot;enoZ&quot;]</td></tr><tr><td>2024-03-01 00:33:45</td><td>&quot;Yellow Zone&quot;</td><td>[&quot;Yellow&quot;, &quot;Zone&quot;]</td><td>[&quot;wolleY&quot;, &quot;enoZ&quot;]</td></tr><tr><td>2024-03-01 00:05:43</td><td>&quot;Yellow Zone&quot;</td><td>[&quot;Yellow&quot;, &quot;Zone&quot;]</td><td>[&quot;wolleY&quot;, &quot;enoZ&quot;]</td></tr></tbody></table></div>"
      ],
      "text/plain": [
       "shape: (5, 4)\n",
       "┌──────────────────────┬─────────────────┬──────────────────────────┬──────────────────────────────┐\n",
       "│ tpep_pickup_datetime ┆ pu_service_zone ┆ pu_service_zone_splitted ┆ pu_service_zone_reversed_str │\n",
       "│ ---                  ┆ ---             ┆ ---                      ┆ in…                          │\n",
       "│ datetime[ns]         ┆ str             ┆ list[str]                ┆ ---                          │\n",
       "│                      ┆                 ┆                          ┆ list[str]                    │\n",
       "╞══════════════════════╪═════════════════╪══════════════════════════╪══════════════════════════════╡\n",
       "│ 2024-03-01 00:18:51  ┆ Yellow Zone     ┆ [\"Yellow\", \"Zone\"]       ┆ [\"wolleY\", \"enoZ\"]           │\n",
       "│ 2024-03-01 00:26:00  ┆ Yellow Zone     ┆ [\"Yellow\", \"Zone\"]       ┆ [\"wolleY\", \"enoZ\"]           │\n",
       "│ 2024-03-01 00:09:22  ┆ Yellow Zone     ┆ [\"Yellow\", \"Zone\"]       ┆ [\"wolleY\", \"enoZ\"]           │\n",
       "│ 2024-03-01 00:33:45  ┆ Yellow Zone     ┆ [\"Yellow\", \"Zone\"]       ┆ [\"wolleY\", \"enoZ\"]           │\n",
       "│ 2024-03-01 00:05:43  ┆ Yellow Zone     ┆ [\"Yellow\", \"Zone\"]       ┆ [\"wolleY\", \"enoZ\"]           │\n",
       "└──────────────────────┴─────────────────┴──────────────────────────┴──────────────────────────────┘"
      ]
     },
     "execution_count": 31,
     "metadata": {},
     "output_type": "execute_result"
    }
   ],
   "source": [
    "(\n",
    "    rides_df.with_columns(\n",
    "        pl.col(\"pu_service_zone\").str.split(by=\" \").name.suffix(\"_splitted\"),\n",
    "    )\n",
    "    .select(\n",
    "        [\n",
    "            \"tpep_pickup_datetime\",\n",
    "            \"pu_service_zone\",\n",
    "            \"pu_service_zone_splitted\",\n",
    "            pl.col(\"pu_service_zone_splitted\")\n",
    "            .list.eval(pl.element().str.reverse())\n",
    "            .alias(\"pu_service_zone_reversed_strings\"),\n",
    "        ]\n",
    "    )\n",
    "    .head()\n",
    ")"
   ]
  },
  {
   "cell_type": "markdown",
   "id": "b44539da",
   "metadata": {},
   "source": [
    "And that's all for now! Let's move on to one final datatype, or types: the temporal datatypes."
   ]
  },
  {
   "cell_type": "markdown",
   "id": "89a7fdc9",
   "metadata": {},
   "source": [
    "## 5.4. Working with Temporal Datatypes"
   ]
  },
  {
   "cell_type": "markdown",
   "id": "8eb1880c",
   "metadata": {},
   "source": [
    "One of the nicest things about `polars` is the multitude of functionality that it offers for temporal datatypes. We'll cover a few instances of the basic functionality here."
   ]
  },
  {
   "cell_type": "markdown",
   "id": "475cab60",
   "metadata": {},
   "source": [
    "At the beginning of this course, we showed an example of subtracting the pickup and dropoff columns to create a duration column:"
   ]
  },
  {
   "cell_type": "code",
   "execution_count": 32,
   "id": "89209dfa",
   "metadata": {},
   "outputs": [
    {
     "data": {
      "text/html": [
       "<div><style>\n",
       ".dataframe > thead > tr,\n",
       ".dataframe > tbody > tr {\n",
       "  text-align: right;\n",
       "  white-space: pre-wrap;\n",
       "}\n",
       "</style>\n",
       "<small>shape: (5, 3)</small><table border=\"1\" class=\"dataframe\"><thead><tr><th>tpep_pickup_datetime</th><th>tpep_dropoff_datetime</th><th>trip_duration</th></tr><tr><td>datetime[ns]</td><td>datetime[ns]</td><td>duration[ns]</td></tr></thead><tbody><tr><td>2024-03-01 00:18:51</td><td>2024-03-01 00:23:45</td><td>4m 54s</td></tr><tr><td>2024-03-01 00:26:00</td><td>2024-03-01 00:29:06</td><td>3m 6s</td></tr><tr><td>2024-03-01 00:09:22</td><td>2024-03-01 00:15:24</td><td>6m 2s</td></tr><tr><td>2024-03-01 00:33:45</td><td>2024-03-01 00:39:34</td><td>5m 49s</td></tr><tr><td>2024-03-01 00:05:43</td><td>2024-03-01 00:26:22</td><td>20m 39s</td></tr></tbody></table></div>"
      ],
      "text/plain": [
       "shape: (5, 3)\n",
       "┌──────────────────────┬───────────────────────┬───────────────┐\n",
       "│ tpep_pickup_datetime ┆ tpep_dropoff_datetime ┆ trip_duration │\n",
       "│ ---                  ┆ ---                   ┆ ---           │\n",
       "│ datetime[ns]         ┆ datetime[ns]          ┆ duration[ns]  │\n",
       "╞══════════════════════╪═══════════════════════╪═══════════════╡\n",
       "│ 2024-03-01 00:18:51  ┆ 2024-03-01 00:23:45   ┆ 4m 54s        │\n",
       "│ 2024-03-01 00:26:00  ┆ 2024-03-01 00:29:06   ┆ 3m 6s         │\n",
       "│ 2024-03-01 00:09:22  ┆ 2024-03-01 00:15:24   ┆ 6m 2s         │\n",
       "│ 2024-03-01 00:33:45  ┆ 2024-03-01 00:39:34   ┆ 5m 49s        │\n",
       "│ 2024-03-01 00:05:43  ┆ 2024-03-01 00:26:22   ┆ 20m 39s       │\n",
       "└──────────────────────┴───────────────────────┴───────────────┘"
      ]
     },
     "execution_count": 32,
     "metadata": {},
     "output_type": "execute_result"
    }
   ],
   "source": [
    "(\n",
    "    rides_df.select(\n",
    "        [\n",
    "            \"tpep_pickup_datetime\",\n",
    "            \"tpep_dropoff_datetime\",\n",
    "            (\n",
    "                pl.col(\"tpep_dropoff_datetime\")\n",
    "                - pl.col(\"tpep_pickup_datetime\")\n",
    "            ).alias(\"trip_duration\"),\n",
    "        ]\n",
    "    ).head()\n",
    ")"
   ]
  },
  {
   "cell_type": "markdown",
   "id": "f84f297f",
   "metadata": {},
   "source": [
    "So now we have `pl.Datetime` and `pl.Duration` columns in one dataframe! To get the other two temporal datatypes in there, we just have to do `pl.Datetime` extraction operations using the `.dt` namespace:"
   ]
  },
  {
   "cell_type": "code",
   "execution_count": 33,
   "id": "ebf2798c",
   "metadata": {},
   "outputs": [
    {
     "data": {
      "text/html": [
       "<div><style>\n",
       ".dataframe > thead > tr,\n",
       ".dataframe > tbody > tr {\n",
       "  text-align: right;\n",
       "  white-space: pre-wrap;\n",
       "}\n",
       "</style>\n",
       "<small>shape: (5, 5)</small><table border=\"1\" class=\"dataframe\"><thead><tr><th>tpep_pickup_datetime</th><th>tpep_dropoff_datetime</th><th>trip_duration</th><th>tpep_pickup_date</th><th>tpep_pickup_time</th></tr><tr><td>datetime[ns]</td><td>datetime[ns]</td><td>duration[ns]</td><td>date</td><td>time</td></tr></thead><tbody><tr><td>2024-03-01 00:18:51</td><td>2024-03-01 00:23:45</td><td>4m 54s</td><td>2024-03-01</td><td>00:18:51</td></tr><tr><td>2024-03-01 00:26:00</td><td>2024-03-01 00:29:06</td><td>3m 6s</td><td>2024-03-01</td><td>00:26:00</td></tr><tr><td>2024-03-01 00:09:22</td><td>2024-03-01 00:15:24</td><td>6m 2s</td><td>2024-03-01</td><td>00:09:22</td></tr><tr><td>2024-03-01 00:33:45</td><td>2024-03-01 00:39:34</td><td>5m 49s</td><td>2024-03-01</td><td>00:33:45</td></tr><tr><td>2024-03-01 00:05:43</td><td>2024-03-01 00:26:22</td><td>20m 39s</td><td>2024-03-01</td><td>00:05:43</td></tr></tbody></table></div>"
      ],
      "text/plain": [
       "shape: (5, 5)\n",
       "┌──────────────────────┬─────────────────────┬───────────────┬──────────────────┬──────────────────┐\n",
       "│ tpep_pickup_datetime ┆ tpep_dropoff_dateti ┆ trip_duration ┆ tpep_pickup_date ┆ tpep_pickup_time │\n",
       "│ ---                  ┆ me                  ┆ ---           ┆ ---              ┆ ---              │\n",
       "│ datetime[ns]         ┆ ---                 ┆ duration[ns]  ┆ date             ┆ time             │\n",
       "│                      ┆ datetime[ns]        ┆               ┆                  ┆                  │\n",
       "╞══════════════════════╪═════════════════════╪═══════════════╪══════════════════╪══════════════════╡\n",
       "│ 2024-03-01 00:18:51  ┆ 2024-03-01 00:23:45 ┆ 4m 54s        ┆ 2024-03-01       ┆ 00:18:51         │\n",
       "│ 2024-03-01 00:26:00  ┆ 2024-03-01 00:29:06 ┆ 3m 6s         ┆ 2024-03-01       ┆ 00:26:00         │\n",
       "│ 2024-03-01 00:09:22  ┆ 2024-03-01 00:15:24 ┆ 6m 2s         ┆ 2024-03-01       ┆ 00:09:22         │\n",
       "│ 2024-03-01 00:33:45  ┆ 2024-03-01 00:39:34 ┆ 5m 49s        ┆ 2024-03-01       ┆ 00:33:45         │\n",
       "│ 2024-03-01 00:05:43  ┆ 2024-03-01 00:26:22 ┆ 20m 39s       ┆ 2024-03-01       ┆ 00:05:43         │\n",
       "└──────────────────────┴─────────────────────┴───────────────┴──────────────────┴──────────────────┘"
      ]
     },
     "execution_count": 33,
     "metadata": {},
     "output_type": "execute_result"
    }
   ],
   "source": [
    "(\n",
    "    rides_df.select(\n",
    "        [\n",
    "            \"tpep_pickup_datetime\",\n",
    "            \"tpep_dropoff_datetime\",\n",
    "            (\n",
    "                pl.col(\"tpep_dropoff_datetime\")\n",
    "                - pl.col(\"tpep_pickup_datetime\")\n",
    "            ).alias(\"trip_duration\"),\n",
    "            pl.col(\"tpep_pickup_datetime\").dt.date().alias(\"tpep_pickup_date\"),\n",
    "            pl.col(\"tpep_pickup_datetime\").dt.time().alias(\"tpep_pickup_time\"),\n",
    "        ]\n",
    "    ).head()\n",
    ")"
   ]
  },
  {
   "cell_type": "markdown",
   "id": "4b7c31e1",
   "metadata": {},
   "source": [
    "That was easy! Let's see what else can be done with these datatypes..."
   ]
  },
  {
   "cell_type": "markdown",
   "id": "fa9d0f72",
   "metadata": {},
   "source": [
    "#### Example 1: Comparing two datetimes - filtering impossible rides"
   ]
  },
  {
   "cell_type": "markdown",
   "id": "268fcd03",
   "metadata": {},
   "source": [
    "Earlier in this course, we took a look at some rides with impossible values, i.e. rides that had zero passengers. Here let's look at a similar case--rides that have the dropoff before pickup. `polars` enables us to do that with a simple column comparison query:"
   ]
  },
  {
   "cell_type": "code",
   "execution_count": 48,
   "id": "b1b3f1de",
   "metadata": {},
   "outputs": [
    {
     "data": {
      "text/html": [
       "<div><style>\n",
       ".dataframe > thead > tr,\n",
       ".dataframe > tbody > tr {\n",
       "  text-align: right;\n",
       "  white-space: pre-wrap;\n",
       "}\n",
       "</style>\n",
       "<small>shape: (5, 25)</small><table border=\"1\" class=\"dataframe\"><thead><tr><th>vendor_id</th><th>tpep_pickup_datetime</th><th>tpep_dropoff_datetime</th><th>passenger_count</th><th>trip_distance</th><th>ratecode_id</th><th>store_and_fwd_flag</th><th>pu_location_id</th><th>do_location_id</th><th>payment_type</th><th>fare_amount</th><th>extra</th><th>mta_tax</th><th>tip_amount</th><th>tolls_amount</th><th>improvement_surcharge</th><th>total_amount</th><th>congestion_surcharge</th><th>airport_fee</th><th>pu_borough</th><th>pu_zone</th><th>pu_service_zone</th><th>do_borough</th><th>do_zone</th><th>do_service_zone</th></tr><tr><td>i32</td><td>datetime[ns]</td><td>datetime[ns]</td><td>i64</td><td>f64</td><td>i64</td><td>str</td><td>i32</td><td>i32</td><td>i64</td><td>f64</td><td>f64</td><td>f64</td><td>f64</td><td>f64</td><td>f64</td><td>f64</td><td>f64</td><td>f64</td><td>str</td><td>str</td><td>str</td><td>str</td><td>str</td><td>str</td></tr></thead><tbody><tr><td>1</td><td>2024-03-02 11:30:00</td><td>2024-03-02 11:28:04</td><td>1</td><td>1.1</td><td>99</td><td>&quot;N&quot;</td><td>75</td><td>74</td><td>1</td><td>17.5</td><td>0.0</td><td>0.5</td><td>0.0</td><td>0.0</td><td>1.0</td><td>19.0</td><td>0.0</td><td>0.0</td><td>&quot;Manhattan&quot;</td><td>&quot;East Harlem South&quot;</td><td>&quot;Boro Zone&quot;</td><td>&quot;Manhattan&quot;</td><td>&quot;East Harlem North&quot;</td><td>&quot;Boro Zone&quot;</td></tr><tr><td>1</td><td>2024-03-12 18:00:00</td><td>2024-03-12 17:50:43</td><td>1</td><td>0.2</td><td>99</td><td>&quot;N&quot;</td><td>39</td><td>39</td><td>1</td><td>14.5</td><td>0.0</td><td>0.5</td><td>0.0</td><td>0.0</td><td>1.0</td><td>16.0</td><td>0.0</td><td>0.0</td><td>&quot;Brooklyn&quot;</td><td>&quot;Canarsie&quot;</td><td>&quot;Boro Zone&quot;</td><td>&quot;Brooklyn&quot;</td><td>&quot;Canarsie&quot;</td><td>&quot;Boro Zone&quot;</td></tr><tr><td>1</td><td>2024-03-13 11:15:00</td><td>2024-03-13 11:09:33</td><td>1</td><td>0.3</td><td>99</td><td>&quot;N&quot;</td><td>95</td><td>196</td><td>1</td><td>15.5</td><td>0.0</td><td>0.5</td><td>0.0</td><td>0.0</td><td>1.0</td><td>17.0</td><td>0.0</td><td>0.0</td><td>&quot;Queens&quot;</td><td>&quot;Forest Hills&quot;</td><td>&quot;Boro Zone&quot;</td><td>&quot;Queens&quot;</td><td>&quot;Rego Park&quot;</td><td>&quot;Boro Zone&quot;</td></tr><tr><td>1</td><td>2024-03-13 12:00:00</td><td>2024-03-13 11:46:19</td><td>1</td><td>3.2</td><td>99</td><td>&quot;N&quot;</td><td>95</td><td>216</td><td>1</td><td>22.5</td><td>0.0</td><td>0.5</td><td>0.0</td><td>0.0</td><td>1.0</td><td>24.0</td><td>0.0</td><td>0.0</td><td>&quot;Queens&quot;</td><td>&quot;Forest Hills&quot;</td><td>&quot;Boro Zone&quot;</td><td>&quot;Queens&quot;</td><td>&quot;South Ozone Park&quot;</td><td>&quot;Boro Zone&quot;</td></tr><tr><td>1</td><td>2024-03-21 13:15:20</td><td>2024-03-21 13:15:04</td><td>1</td><td>17.1</td><td>2</td><td>&quot;N&quot;</td><td>161</td><td>132</td><td>2</td><td>70.0</td><td>2.5</td><td>0.5</td><td>0.0</td><td>6.94</td><td>1.0</td><td>80.94</td><td>2.5</td><td>0.0</td><td>&quot;Manhattan&quot;</td><td>&quot;Midtown Center&quot;</td><td>&quot;Yellow Zone&quot;</td><td>&quot;Queens&quot;</td><td>&quot;JFK Airport&quot;</td><td>&quot;Airports&quot;</td></tr></tbody></table></div>"
      ],
      "text/plain": [
       "shape: (5, 25)\n",
       "┌───────────┬───────────┬───────────┬───────────┬───┬───────────┬───────────┬───────────┬──────────┐\n",
       "│ vendor_id ┆ tpep_pick ┆ tpep_drop ┆ passenger ┆ … ┆ pu_servic ┆ do_boroug ┆ do_zone   ┆ do_servi │\n",
       "│ ---       ┆ up_dateti ┆ off_datet ┆ _count    ┆   ┆ e_zone    ┆ h         ┆ ---       ┆ ce_zone  │\n",
       "│ i32       ┆ me        ┆ ime       ┆ ---       ┆   ┆ ---       ┆ ---       ┆ str       ┆ ---      │\n",
       "│           ┆ ---       ┆ ---       ┆ i64       ┆   ┆ str       ┆ str       ┆           ┆ str      │\n",
       "│           ┆ datetime[ ┆ datetime[ ┆           ┆   ┆           ┆           ┆           ┆          │\n",
       "│           ┆ ns]       ┆ ns]       ┆           ┆   ┆           ┆           ┆           ┆          │\n",
       "╞═══════════╪═══════════╪═══════════╪═══════════╪═══╪═══════════╪═══════════╪═══════════╪══════════╡\n",
       "│ 1         ┆ 2024-03-0 ┆ 2024-03-0 ┆ 1         ┆ … ┆ Boro Zone ┆ Manhattan ┆ East      ┆ Boro     │\n",
       "│           ┆ 2         ┆ 2         ┆           ┆   ┆           ┆           ┆ Harlem    ┆ Zone     │\n",
       "│           ┆ 11:30:00  ┆ 11:28:04  ┆           ┆   ┆           ┆           ┆ North     ┆          │\n",
       "│ 1         ┆ 2024-03-1 ┆ 2024-03-1 ┆ 1         ┆ … ┆ Boro Zone ┆ Brooklyn  ┆ Canarsie  ┆ Boro     │\n",
       "│           ┆ 2         ┆ 2         ┆           ┆   ┆           ┆           ┆           ┆ Zone     │\n",
       "│           ┆ 18:00:00  ┆ 17:50:43  ┆           ┆   ┆           ┆           ┆           ┆          │\n",
       "│ 1         ┆ 2024-03-1 ┆ 2024-03-1 ┆ 1         ┆ … ┆ Boro Zone ┆ Queens    ┆ Rego Park ┆ Boro     │\n",
       "│           ┆ 3         ┆ 3         ┆           ┆   ┆           ┆           ┆           ┆ Zone     │\n",
       "│           ┆ 11:15:00  ┆ 11:09:33  ┆           ┆   ┆           ┆           ┆           ┆          │\n",
       "│ 1         ┆ 2024-03-1 ┆ 2024-03-1 ┆ 1         ┆ … ┆ Boro Zone ┆ Queens    ┆ South     ┆ Boro     │\n",
       "│           ┆ 3         ┆ 3         ┆           ┆   ┆           ┆           ┆ Ozone     ┆ Zone     │\n",
       "│           ┆ 12:00:00  ┆ 11:46:19  ┆           ┆   ┆           ┆           ┆ Park      ┆          │\n",
       "│ 1         ┆ 2024-03-2 ┆ 2024-03-2 ┆ 1         ┆ … ┆ Yellow    ┆ Queens    ┆ JFK       ┆ Airports │\n",
       "│           ┆ 1         ┆ 1         ┆           ┆   ┆ Zone      ┆           ┆ Airport   ┆          │\n",
       "│           ┆ 13:15:20  ┆ 13:15:04  ┆           ┆   ┆           ┆           ┆           ┆          │\n",
       "└───────────┴───────────┴───────────┴───────────┴───┴───────────┴───────────┴───────────┴──────────┘"
      ]
     },
     "execution_count": 48,
     "metadata": {},
     "output_type": "execute_result"
    }
   ],
   "source": [
    "(\n",
    "    rides_df.filter(\n",
    "        pl.col(\"tpep_dropoff_datetime\").lt(pl.col(\"tpep_pickup_datetime\"))\n",
    "    ).head()\n",
    ")"
   ]
  },
  {
   "cell_type": "markdown",
   "id": "638b77a4",
   "metadata": {},
   "source": [
    "Well, there they are, the impossible rides! Let's quickly quantify exactly how big the problem is:"
   ]
  },
  {
   "cell_type": "code",
   "execution_count": 49,
   "id": "d95a429e",
   "metadata": {},
   "outputs": [
    {
     "data": {
      "text/html": [
       "<div><style>\n",
       ".dataframe > thead > tr,\n",
       ".dataframe > tbody > tr {\n",
       "  text-align: right;\n",
       "  white-space: pre-wrap;\n",
       "}\n",
       "</style>\n",
       "<small>shape: (1, 1)</small><table border=\"1\" class=\"dataframe\"><thead><tr><th>fraction_rides with_do_before_pu</th></tr><tr><td>f64</td></tr></thead><tbody><tr><td>0.000033</td></tr></tbody></table></div>"
      ],
      "text/plain": [
       "shape: (1, 1)\n",
       "┌─────────────────────────────────┐\n",
       "│ fraction_rides with_do_before_… │\n",
       "│ ---                             │\n",
       "│ f64                             │\n",
       "╞═════════════════════════════════╡\n",
       "│ 0.000033                        │\n",
       "└─────────────────────────────────┘"
      ]
     },
     "execution_count": 49,
     "metadata": {},
     "output_type": "execute_result"
    }
   ],
   "source": [
    "(\n",
    "    rides_df.select(\n",
    "        pl.col(\"tpep_dropoff_datetime\")\n",
    "        .lt(pl.col(\"tpep_pickup_datetime\"))\n",
    "        .mean()\n",
    "        .alias(\"fraction_rides with_do_before_pu\")\n",
    "    )\n",
    ")"
   ]
  },
  {
   "cell_type": "markdown",
   "id": "26ba729a",
   "metadata": {},
   "source": [
    "That's not so much. When it comes time for some machine learning model training, we'll remove these."
   ]
  },
  {
   "cell_type": "markdown",
   "id": "67920cbf",
   "metadata": {},
   "source": [
    "#### Example 2: Subtracting two `pl.Datetime`s to get a `pl.Duration`, and extracting information"
   ]
  },
  {
   "cell_type": "markdown",
   "id": "54f4b691",
   "metadata": {},
   "source": [
    "As we saw above, we can subtract two datetimes from one another to get a duration."
   ]
  },
  {
   "cell_type": "code",
   "execution_count": 50,
   "id": "5c25d0fb",
   "metadata": {},
   "outputs": [
    {
     "data": {
      "text/html": [
       "<div><style>\n",
       ".dataframe > thead > tr,\n",
       ".dataframe > tbody > tr {\n",
       "  text-align: right;\n",
       "  white-space: pre-wrap;\n",
       "}\n",
       "</style>\n",
       "<small>shape: (5, 3)</small><table border=\"1\" class=\"dataframe\"><thead><tr><th>tpep_pickup_datetime</th><th>tpep_dropoff_datetime</th><th>trip_duration</th></tr><tr><td>datetime[ns]</td><td>datetime[ns]</td><td>duration[ns]</td></tr></thead><tbody><tr><td>2024-03-01 00:18:51</td><td>2024-03-01 00:23:45</td><td>4m 54s</td></tr><tr><td>2024-03-01 00:26:00</td><td>2024-03-01 00:29:06</td><td>3m 6s</td></tr><tr><td>2024-03-01 00:09:22</td><td>2024-03-01 00:15:24</td><td>6m 2s</td></tr><tr><td>2024-03-01 00:33:45</td><td>2024-03-01 00:39:34</td><td>5m 49s</td></tr><tr><td>2024-03-01 00:05:43</td><td>2024-03-01 00:26:22</td><td>20m 39s</td></tr></tbody></table></div>"
      ],
      "text/plain": [
       "shape: (5, 3)\n",
       "┌──────────────────────┬───────────────────────┬───────────────┐\n",
       "│ tpep_pickup_datetime ┆ tpep_dropoff_datetime ┆ trip_duration │\n",
       "│ ---                  ┆ ---                   ┆ ---           │\n",
       "│ datetime[ns]         ┆ datetime[ns]          ┆ duration[ns]  │\n",
       "╞══════════════════════╪═══════════════════════╪═══════════════╡\n",
       "│ 2024-03-01 00:18:51  ┆ 2024-03-01 00:23:45   ┆ 4m 54s        │\n",
       "│ 2024-03-01 00:26:00  ┆ 2024-03-01 00:29:06   ┆ 3m 6s         │\n",
       "│ 2024-03-01 00:09:22  ┆ 2024-03-01 00:15:24   ┆ 6m 2s         │\n",
       "│ 2024-03-01 00:33:45  ┆ 2024-03-01 00:39:34   ┆ 5m 49s        │\n",
       "│ 2024-03-01 00:05:43  ┆ 2024-03-01 00:26:22   ┆ 20m 39s       │\n",
       "└──────────────────────┴───────────────────────┴───────────────┘"
      ]
     },
     "execution_count": 50,
     "metadata": {},
     "output_type": "execute_result"
    }
   ],
   "source": [
    "(\n",
    "    rides_df.select(\n",
    "        [\n",
    "            \"tpep_pickup_datetime\",\n",
    "            \"tpep_dropoff_datetime\",\n",
    "            (\n",
    "                pl.col(\"tpep_dropoff_datetime\")\n",
    "                - pl.col(\"tpep_pickup_datetime\")\n",
    "            ).alias(\"trip_duration\"),\n",
    "        ]\n",
    "    ).head()\n",
    ")"
   ]
  },
  {
   "cell_type": "markdown",
   "id": "7fd1a435",
   "metadata": {},
   "source": [
    "But what can we do with that `pl.Duration` object once we have it? What if we want to know e.g. the duration not as a `pl.Duration`, but as a number of some unit of time? Well, that's quite straightforward using functions readily available in the `dt` namespace:"
   ]
  },
  {
   "cell_type": "code",
   "execution_count": 52,
   "id": "b13f93dd",
   "metadata": {},
   "outputs": [
    {
     "data": {
      "text/html": [
       "<div><style>\n",
       ".dataframe > thead > tr,\n",
       ".dataframe > tbody > tr {\n",
       "  text-align: right;\n",
       "  white-space: pre-wrap;\n",
       "}\n",
       "</style>\n",
       "<small>shape: (5, 6)</small><table border=\"1\" class=\"dataframe\"><thead><tr><th>tpep_pickup_datetime</th><th>tpep_dropoff_datetime</th><th>trip_duration</th><th>trip_duration_in_minutes</th><th>trip_durationin__seconds</th><th>trip_duration_in_milliseconds</th></tr><tr><td>datetime[ns]</td><td>datetime[ns]</td><td>duration[ns]</td><td>i64</td><td>i64</td><td>i64</td></tr></thead><tbody><tr><td>2024-03-01 00:18:51</td><td>2024-03-01 00:23:45</td><td>4m 54s</td><td>4</td><td>294</td><td>294000</td></tr><tr><td>2024-03-01 00:26:00</td><td>2024-03-01 00:29:06</td><td>3m 6s</td><td>3</td><td>186</td><td>186000</td></tr><tr><td>2024-03-01 00:09:22</td><td>2024-03-01 00:15:24</td><td>6m 2s</td><td>6</td><td>362</td><td>362000</td></tr><tr><td>2024-03-01 00:33:45</td><td>2024-03-01 00:39:34</td><td>5m 49s</td><td>5</td><td>349</td><td>349000</td></tr><tr><td>2024-03-01 00:05:43</td><td>2024-03-01 00:26:22</td><td>20m 39s</td><td>20</td><td>1239</td><td>1239000</td></tr></tbody></table></div>"
      ],
      "text/plain": [
       "shape: (5, 6)\n",
       "┌────────────────┬────────────────┬───────────────┬────────────────┬───────────────┬───────────────┐\n",
       "│ tpep_pickup_da ┆ tpep_dropoff_d ┆ trip_duration ┆ trip_duration_ ┆ trip_duration ┆ trip_duration │\n",
       "│ tetime         ┆ atetime        ┆ ---           ┆ in_minutes     ┆ in__seconds   ┆ _in_milliseco │\n",
       "│ ---            ┆ ---            ┆ duration[ns]  ┆ ---            ┆ ---           ┆ nds           │\n",
       "│ datetime[ns]   ┆ datetime[ns]   ┆               ┆ i64            ┆ i64           ┆ ---           │\n",
       "│                ┆                ┆               ┆                ┆               ┆ i64           │\n",
       "╞════════════════╪════════════════╪═══════════════╪════════════════╪═══════════════╪═══════════════╡\n",
       "│ 2024-03-01     ┆ 2024-03-01     ┆ 4m 54s        ┆ 4              ┆ 294           ┆ 294000        │\n",
       "│ 00:18:51       ┆ 00:23:45       ┆               ┆                ┆               ┆               │\n",
       "│ 2024-03-01     ┆ 2024-03-01     ┆ 3m 6s         ┆ 3              ┆ 186           ┆ 186000        │\n",
       "│ 00:26:00       ┆ 00:29:06       ┆               ┆                ┆               ┆               │\n",
       "│ 2024-03-01     ┆ 2024-03-01     ┆ 6m 2s         ┆ 6              ┆ 362           ┆ 362000        │\n",
       "│ 00:09:22       ┆ 00:15:24       ┆               ┆                ┆               ┆               │\n",
       "│ 2024-03-01     ┆ 2024-03-01     ┆ 5m 49s        ┆ 5              ┆ 349           ┆ 349000        │\n",
       "│ 00:33:45       ┆ 00:39:34       ┆               ┆                ┆               ┆               │\n",
       "│ 2024-03-01     ┆ 2024-03-01     ┆ 20m 39s       ┆ 20             ┆ 1239          ┆ 1239000       │\n",
       "│ 00:05:43       ┆ 00:26:22       ┆               ┆                ┆               ┆               │\n",
       "└────────────────┴────────────────┴───────────────┴────────────────┴───────────────┴───────────────┘"
      ]
     },
     "execution_count": 52,
     "metadata": {},
     "output_type": "execute_result"
    }
   ],
   "source": [
    "(\n",
    "    rides_df.with_columns(\n",
    "        [\n",
    "            (\n",
    "                pl.col(\"tpep_dropoff_datetime\")\n",
    "                - pl.col(\"tpep_pickup_datetime\")\n",
    "            ).alias(\"trip_duration\")\n",
    "        ]\n",
    "    )\n",
    "    .select(\n",
    "        [\n",
    "            \"tpep_pickup_datetime\",\n",
    "            \"tpep_dropoff_datetime\",\n",
    "            \"trip_duration\",\n",
    "            pl.col(\"trip_duration\")\n",
    "            .dt.total_minutes()\n",
    "            .name.suffix(\"_in_minutes\"),\n",
    "            pl.col(\"trip_duration\")\n",
    "            .dt.total_seconds()\n",
    "            .name.suffix(\"in__seconds\"),\n",
    "            pl.col(\"trip_duration\")\n",
    "            .dt.total_milliseconds()\n",
    "            .name.suffix(\"_in_milliseconds\"),\n",
    "        ]\n",
    "    )\n",
    "    .head()\n",
    ")"
   ]
  },
  {
   "cell_type": "markdown",
   "id": "4e6fce12",
   "metadata": {},
   "source": [
    "That enables us to easily work with interger values rather than with durations, if we so prefer."
   ]
  },
  {
   "cell_type": "markdown",
   "id": "66897e10",
   "metadata": {},
   "source": [
    "#### Example 3: Extracting information from `pl.Datetime`s - checking for and understanding overnight taxi rides"
   ]
  },
  {
   "cell_type": "markdown",
   "id": "bd0de156",
   "metadata": {},
   "source": [
    "Just as we could extract information from a `pl.Duration` column, we can from a `pl.Datetime` object to get useful information in the form of different datatypes. For example, we can get a `pl.Date`:"
   ]
  },
  {
   "cell_type": "code",
   "execution_count": 53,
   "id": "21bcb9d7",
   "metadata": {},
   "outputs": [
    {
     "data": {
      "text/html": [
       "<div><style>\n",
       ".dataframe > thead > tr,\n",
       ".dataframe > tbody > tr {\n",
       "  text-align: right;\n",
       "  white-space: pre-wrap;\n",
       "}\n",
       "</style>\n",
       "<small>shape: (5, 4)</small><table border=\"1\" class=\"dataframe\"><thead><tr><th>tpep_pickup_datetime</th><th>tpep_dropoff_datetime</th><th>tpep_pickup_date</th><th>tpep_dropoff_date</th></tr><tr><td>datetime[ns]</td><td>datetime[ns]</td><td>date</td><td>date</td></tr></thead><tbody><tr><td>2024-03-01 00:18:51</td><td>2024-03-01 00:23:45</td><td>2024-03-01</td><td>2024-03-01</td></tr><tr><td>2024-03-01 00:26:00</td><td>2024-03-01 00:29:06</td><td>2024-03-01</td><td>2024-03-01</td></tr><tr><td>2024-03-01 00:09:22</td><td>2024-03-01 00:15:24</td><td>2024-03-01</td><td>2024-03-01</td></tr><tr><td>2024-03-01 00:33:45</td><td>2024-03-01 00:39:34</td><td>2024-03-01</td><td>2024-03-01</td></tr><tr><td>2024-03-01 00:05:43</td><td>2024-03-01 00:26:22</td><td>2024-03-01</td><td>2024-03-01</td></tr></tbody></table></div>"
      ],
      "text/plain": [
       "shape: (5, 4)\n",
       "┌──────────────────────┬───────────────────────┬──────────────────┬───────────────────┐\n",
       "│ tpep_pickup_datetime ┆ tpep_dropoff_datetime ┆ tpep_pickup_date ┆ tpep_dropoff_date │\n",
       "│ ---                  ┆ ---                   ┆ ---              ┆ ---               │\n",
       "│ datetime[ns]         ┆ datetime[ns]          ┆ date             ┆ date              │\n",
       "╞══════════════════════╪═══════════════════════╪══════════════════╪═══════════════════╡\n",
       "│ 2024-03-01 00:18:51  ┆ 2024-03-01 00:23:45   ┆ 2024-03-01       ┆ 2024-03-01        │\n",
       "│ 2024-03-01 00:26:00  ┆ 2024-03-01 00:29:06   ┆ 2024-03-01       ┆ 2024-03-01        │\n",
       "│ 2024-03-01 00:09:22  ┆ 2024-03-01 00:15:24   ┆ 2024-03-01       ┆ 2024-03-01        │\n",
       "│ 2024-03-01 00:33:45  ┆ 2024-03-01 00:39:34   ┆ 2024-03-01       ┆ 2024-03-01        │\n",
       "│ 2024-03-01 00:05:43  ┆ 2024-03-01 00:26:22   ┆ 2024-03-01       ┆ 2024-03-01        │\n",
       "└──────────────────────┴───────────────────────┴──────────────────┴───────────────────┘"
      ]
     },
     "execution_count": 53,
     "metadata": {},
     "output_type": "execute_result"
    }
   ],
   "source": [
    "(\n",
    "    rides_df.select(\n",
    "        [\n",
    "            \"tpep_pickup_datetime\",\n",
    "            \"tpep_dropoff_datetime\",\n",
    "            pl.col(\"tpep_pickup_datetime\").dt.date().alias(\"tpep_pickup_date\"),\n",
    "            pl.col(\"tpep_dropoff_datetime\")\n",
    "            .dt.date()\n",
    "            .alias(\"tpep_dropoff_date\"),\n",
    "        ]\n",
    "    ).head()\n",
    ")"
   ]
  },
  {
   "cell_type": "markdown",
   "id": "63050fdd",
   "metadata": {},
   "source": [
    "Or with this, we can check for overnight rides (i.e. rides that had a `\"tpep_dropoff_datetime\"` with a `.dt.date()` that was after the `.dt.date()` of `\"tpep_pickup_datetime\"`):"
   ]
  },
  {
   "cell_type": "code",
   "execution_count": 54,
   "id": "025a4994",
   "metadata": {},
   "outputs": [
    {
     "data": {
      "text/html": [
       "<div><style>\n",
       ".dataframe > thead > tr,\n",
       ".dataframe > tbody > tr {\n",
       "  text-align: right;\n",
       "  white-space: pre-wrap;\n",
       "}\n",
       "</style>\n",
       "<small>shape: (5, 25)</small><table border=\"1\" class=\"dataframe\"><thead><tr><th>vendor_id</th><th>tpep_pickup_datetime</th><th>tpep_dropoff_datetime</th><th>passenger_count</th><th>trip_distance</th><th>ratecode_id</th><th>store_and_fwd_flag</th><th>pu_location_id</th><th>do_location_id</th><th>payment_type</th><th>fare_amount</th><th>extra</th><th>mta_tax</th><th>tip_amount</th><th>tolls_amount</th><th>improvement_surcharge</th><th>total_amount</th><th>congestion_surcharge</th><th>airport_fee</th><th>pu_borough</th><th>pu_zone</th><th>pu_service_zone</th><th>do_borough</th><th>do_zone</th><th>do_service_zone</th></tr><tr><td>i32</td><td>datetime[ns]</td><td>datetime[ns]</td><td>i64</td><td>f64</td><td>i64</td><td>str</td><td>i32</td><td>i32</td><td>i64</td><td>f64</td><td>f64</td><td>f64</td><td>f64</td><td>f64</td><td>f64</td><td>f64</td><td>f64</td><td>f64</td><td>str</td><td>str</td><td>str</td><td>str</td><td>str</td><td>str</td></tr></thead><tbody><tr><td>2</td><td>2024-02-29 23:59:33</td><td>2024-03-01 00:18:39</td><td>2</td><td>3.43</td><td>1</td><td>&quot;N&quot;</td><td>68</td><td>148</td><td>1</td><td>19.8</td><td>1.0</td><td>0.5</td><td>3.0</td><td>0.0</td><td>1.0</td><td>27.8</td><td>2.5</td><td>0.0</td><td>&quot;Manhattan&quot;</td><td>&quot;East Chelsea&quot;</td><td>&quot;Yellow Zone&quot;</td><td>&quot;Manhattan&quot;</td><td>&quot;Lower East Side&quot;</td><td>&quot;Yellow Zone&quot;</td></tr><tr><td>2</td><td>2024-02-29 23:59:13</td><td>2024-03-01 00:13:55</td><td>1</td><td>8.92</td><td>1</td><td>&quot;N&quot;</td><td>132</td><td>39</td><td>1</td><td>34.5</td><td>1.0</td><td>0.5</td><td>0.0</td><td>0.0</td><td>1.0</td><td>38.75</td><td>0.0</td><td>1.75</td><td>&quot;Queens&quot;</td><td>&quot;JFK Airport&quot;</td><td>&quot;Airports&quot;</td><td>&quot;Brooklyn&quot;</td><td>&quot;Canarsie&quot;</td><td>&quot;Boro Zone&quot;</td></tr><tr><td>2</td><td>2024-02-29 23:55:56</td><td>2024-03-01 00:05:45</td><td>1</td><td>1.16</td><td>1</td><td>&quot;N&quot;</td><td>79</td><td>144</td><td>1</td><td>10.0</td><td>1.0</td><td>0.5</td><td>3.0</td><td>0.0</td><td>1.0</td><td>18.0</td><td>2.5</td><td>0.0</td><td>&quot;Manhattan&quot;</td><td>&quot;East Village&quot;</td><td>&quot;Yellow Zone&quot;</td><td>&quot;Manhattan&quot;</td><td>&quot;Little Italy/NoLiTa&quot;</td><td>&quot;Yellow Zone&quot;</td></tr><tr><td>2</td><td>2024-02-29 23:59:57</td><td>2024-03-01 00:05:54</td><td>1</td><td>0.91</td><td>1</td><td>&quot;N&quot;</td><td>79</td><td>234</td><td>2</td><td>7.9</td><td>1.0</td><td>0.5</td><td>0.0</td><td>0.0</td><td>1.0</td><td>12.9</td><td>2.5</td><td>0.0</td><td>&quot;Manhattan&quot;</td><td>&quot;East Village&quot;</td><td>&quot;Yellow Zone&quot;</td><td>&quot;Manhattan&quot;</td><td>&quot;Union Sq&quot;</td><td>&quot;Yellow Zone&quot;</td></tr><tr><td>2</td><td>2024-02-29 23:52:21</td><td>2024-03-01 00:02:16</td><td>1</td><td>2.03</td><td>1</td><td>&quot;N&quot;</td><td>161</td><td>137</td><td>1</td><td>12.1</td><td>1.0</td><td>0.5</td><td>3.42</td><td>0.0</td><td>1.0</td><td>20.52</td><td>2.5</td><td>0.0</td><td>&quot;Manhattan&quot;</td><td>&quot;Midtown Center&quot;</td><td>&quot;Yellow Zone&quot;</td><td>&quot;Manhattan&quot;</td><td>&quot;Kips Bay&quot;</td><td>&quot;Yellow Zone&quot;</td></tr></tbody></table></div>"
      ],
      "text/plain": [
       "shape: (5, 25)\n",
       "┌───────────┬───────────┬───────────┬───────────┬───┬───────────┬───────────┬───────────┬──────────┐\n",
       "│ vendor_id ┆ tpep_pick ┆ tpep_drop ┆ passenger ┆ … ┆ pu_servic ┆ do_boroug ┆ do_zone   ┆ do_servi │\n",
       "│ ---       ┆ up_dateti ┆ off_datet ┆ _count    ┆   ┆ e_zone    ┆ h         ┆ ---       ┆ ce_zone  │\n",
       "│ i32       ┆ me        ┆ ime       ┆ ---       ┆   ┆ ---       ┆ ---       ┆ str       ┆ ---      │\n",
       "│           ┆ ---       ┆ ---       ┆ i64       ┆   ┆ str       ┆ str       ┆           ┆ str      │\n",
       "│           ┆ datetime[ ┆ datetime[ ┆           ┆   ┆           ┆           ┆           ┆          │\n",
       "│           ┆ ns]       ┆ ns]       ┆           ┆   ┆           ┆           ┆           ┆          │\n",
       "╞═══════════╪═══════════╪═══════════╪═══════════╪═══╪═══════════╪═══════════╪═══════════╪══════════╡\n",
       "│ 2         ┆ 2024-02-2 ┆ 2024-03-0 ┆ 2         ┆ … ┆ Yellow    ┆ Manhattan ┆ Lower     ┆ Yellow   │\n",
       "│           ┆ 9         ┆ 1         ┆           ┆   ┆ Zone      ┆           ┆ East Side ┆ Zone     │\n",
       "│           ┆ 23:59:33  ┆ 00:18:39  ┆           ┆   ┆           ┆           ┆           ┆          │\n",
       "│ 2         ┆ 2024-02-2 ┆ 2024-03-0 ┆ 1         ┆ … ┆ Airports  ┆ Brooklyn  ┆ Canarsie  ┆ Boro     │\n",
       "│           ┆ 9         ┆ 1         ┆           ┆   ┆           ┆           ┆           ┆ Zone     │\n",
       "│           ┆ 23:59:13  ┆ 00:13:55  ┆           ┆   ┆           ┆           ┆           ┆          │\n",
       "│ 2         ┆ 2024-02-2 ┆ 2024-03-0 ┆ 1         ┆ … ┆ Yellow    ┆ Manhattan ┆ Little    ┆ Yellow   │\n",
       "│           ┆ 9         ┆ 1         ┆           ┆   ┆ Zone      ┆           ┆ Italy/NoL ┆ Zone     │\n",
       "│           ┆ 23:55:56  ┆ 00:05:45  ┆           ┆   ┆           ┆           ┆ iTa       ┆          │\n",
       "│ 2         ┆ 2024-02-2 ┆ 2024-03-0 ┆ 1         ┆ … ┆ Yellow    ┆ Manhattan ┆ Union Sq  ┆ Yellow   │\n",
       "│           ┆ 9         ┆ 1         ┆           ┆   ┆ Zone      ┆           ┆           ┆ Zone     │\n",
       "│           ┆ 23:59:57  ┆ 00:05:54  ┆           ┆   ┆           ┆           ┆           ┆          │\n",
       "│ 2         ┆ 2024-02-2 ┆ 2024-03-0 ┆ 1         ┆ … ┆ Yellow    ┆ Manhattan ┆ Kips Bay  ┆ Yellow   │\n",
       "│           ┆ 9         ┆ 1         ┆           ┆   ┆ Zone      ┆           ┆           ┆ Zone     │\n",
       "│           ┆ 23:52:21  ┆ 00:02:16  ┆           ┆   ┆           ┆           ┆           ┆          │\n",
       "└───────────┴───────────┴───────────┴───────────┴───┴───────────┴───────────┴───────────┴──────────┘"
      ]
     },
     "execution_count": 54,
     "metadata": {},
     "output_type": "execute_result"
    }
   ],
   "source": [
    "(\n",
    "    rides_df.filter(\n",
    "        pl.col(\"tpep_pickup_datetime\")\n",
    "        .dt.date()\n",
    "        .lt(pl.col(\"tpep_dropoff_datetime\").dt.date())\n",
    "        #         .alias(\"is_overnight_ride\")\n",
    "    ).head()\n",
    ")"
   ]
  },
  {
   "cell_type": "markdown",
   "id": "8f4599c7",
   "metadata": {},
   "source": [
    "And if we want to know which day of the week overnight rides usually happen on, especially in comparison with non-overnight rides, we can have a check by extracting the day of the week with `.dt.weekday()`:"
   ]
  },
  {
   "cell_type": "code",
   "execution_count": 55,
   "id": "f588d945",
   "metadata": {},
   "outputs": [
    {
     "data": {
      "text/html": [
       "<div><style>\n",
       ".dataframe > thead > tr,\n",
       ".dataframe > tbody > tr {\n",
       "  text-align: right;\n",
       "  white-space: pre-wrap;\n",
       "}\n",
       "</style>\n",
       "<small>shape: (7, 3)</small><table border=\"1\" class=\"dataframe\"><thead><tr><th>tpep_pickup_datetime_day_of_week</th><th>false</th><th>true</th></tr><tr><td>i8</td><td>f64</td><td>f64</td></tr></thead><tbody><tr><td>1</td><td>0.106651</td><td>0.074921</td></tr><tr><td>2</td><td>0.125901</td><td>0.074032</td></tr><tr><td>3</td><td>0.138011</td><td>0.092074</td></tr><tr><td>4</td><td>0.145888</td><td>0.147397</td></tr><tr><td>5</td><td>0.16737</td><td>0.252398</td></tr><tr><td>6</td><td>0.17467</td><td>0.264435</td></tr><tr><td>7</td><td>0.14151</td><td>0.094743</td></tr></tbody></table></div>"
      ],
      "text/plain": [
       "shape: (7, 3)\n",
       "┌─────────────────────────────────┬──────────┬──────────┐\n",
       "│ tpep_pickup_datetime_day_of_we… ┆ false    ┆ true     │\n",
       "│ ---                             ┆ ---      ┆ ---      │\n",
       "│ i8                              ┆ f64      ┆ f64      │\n",
       "╞═════════════════════════════════╪══════════╪══════════╡\n",
       "│ 1                               ┆ 0.106651 ┆ 0.074921 │\n",
       "│ 2                               ┆ 0.125901 ┆ 0.074032 │\n",
       "│ 3                               ┆ 0.138011 ┆ 0.092074 │\n",
       "│ 4                               ┆ 0.145888 ┆ 0.147397 │\n",
       "│ 5                               ┆ 0.16737  ┆ 0.252398 │\n",
       "│ 6                               ┆ 0.17467  ┆ 0.264435 │\n",
       "│ 7                               ┆ 0.14151  ┆ 0.094743 │\n",
       "└─────────────────────────────────┴──────────┴──────────┘"
      ]
     },
     "metadata": {},
     "output_type": "display_data"
    }
   ],
   "source": [
    "is_overnight_by_dow_pivot = (\n",
    "    rides_df.with_columns(\n",
    "        [\n",
    "            pl.col(\"tpep_pickup_datetime\")\n",
    "            .dt.date()\n",
    "            .lt(pl.col(\"tpep_dropoff_datetime\").dt.date())\n",
    "            .alias(\"is_overnight_ride\"),\n",
    "            pl.col(\"tpep_pickup_datetime\")\n",
    "            .dt.weekday()\n",
    "            .name.suffix(\"_day_of_week\"),\n",
    "        ]\n",
    "    )\n",
    "    .pivot(\n",
    "        on=\"is_overnight_ride\",\n",
    "        index=\"tpep_pickup_datetime_day_of_week\",\n",
    "        values=\"tpep_pickup_datetime\",\n",
    "        aggregate_function=\"len\",\n",
    "        sort_columns=True,\n",
    "    )\n",
    "    .with_columns(\n",
    "        [  # Normalize columns to sum to `1`.\n",
    "            pl.col(col) / pl.col(col).sum() for col in [\"false\", \"true\"]\n",
    "        ]\n",
    "    )\n",
    "    .sort(\"tpep_pickup_datetime_day_of_week\")\n",
    ")\n",
    "display(is_overnight_by_dow_pivot)"
   ]
  },
  {
   "cell_type": "markdown",
   "id": "97f3a660",
   "metadata": {},
   "source": [
    "In this table above, where each column sums to `1`, and `day_of_week=1` corresponds to `Monday` and `day_of_week=7` corresponds to `Sunday`, we can see that both non-overnight and overnight rides have a spike during the weekend, but the weekend spike for overnight rides is much more pronounced (`26%` of all overnight rides starting on a saturday, compared to `17%` of non-overnight rides starting on a saturday)."
   ]
  },
  {
   "cell_type": "markdown",
   "id": "6aa022d6",
   "metadata": {},
   "source": [
    "# 5.5. Adding Constant Values to the Dataframe."
   ]
  },
  {
   "cell_type": "markdown",
   "id": "63d4deb7",
   "metadata": {},
   "source": [
    "What if we wanted to add a column to our dataframe that has a constant value? For example, it might be nice to add a column to the dataframe that represents the date that the data was ingested; this can be a particularly responsible idea if we ever want to upload this data into some shared table as the NYC releases and publishes rides data for new months.\n",
    "\n",
    "`polars` offers us a way to do that with the `pl.lit()` function (\"lit\" here meaning \"literal\"):"
   ]
  },
  {
   "cell_type": "code",
   "execution_count": 56,
   "id": "9b2699ee",
   "metadata": {},
   "outputs": [
    {
     "data": {
      "text/html": [
       "<div><style>\n",
       ".dataframe > thead > tr,\n",
       ".dataframe > tbody > tr {\n",
       "  text-align: right;\n",
       "  white-space: pre-wrap;\n",
       "}\n",
       "</style>\n",
       "<small>shape: (5, 3)</small><table border=\"1\" class=\"dataframe\"><thead><tr><th>tpep_pickup_datetime</th><th>tpep_dropoff_datetime</th><th>data_ingested_at_datetime</th></tr><tr><td>datetime[ns]</td><td>datetime[ns]</td><td>datetime[μs]</td></tr></thead><tbody><tr><td>2024-03-01 00:18:51</td><td>2024-03-01 00:23:45</td><td>2025-01-05 16:20:54.905462</td></tr><tr><td>2024-03-01 00:26:00</td><td>2024-03-01 00:29:06</td><td>2025-01-05 16:20:54.905462</td></tr><tr><td>2024-03-01 00:09:22</td><td>2024-03-01 00:15:24</td><td>2025-01-05 16:20:54.905462</td></tr><tr><td>2024-03-01 00:33:45</td><td>2024-03-01 00:39:34</td><td>2025-01-05 16:20:54.905462</td></tr><tr><td>2024-03-01 00:05:43</td><td>2024-03-01 00:26:22</td><td>2025-01-05 16:20:54.905462</td></tr></tbody></table></div>"
      ],
      "text/plain": [
       "shape: (5, 3)\n",
       "┌──────────────────────┬───────────────────────┬────────────────────────────┐\n",
       "│ tpep_pickup_datetime ┆ tpep_dropoff_datetime ┆ data_ingested_at_datetime  │\n",
       "│ ---                  ┆ ---                   ┆ ---                        │\n",
       "│ datetime[ns]         ┆ datetime[ns]          ┆ datetime[μs]               │\n",
       "╞══════════════════════╪═══════════════════════╪════════════════════════════╡\n",
       "│ 2024-03-01 00:18:51  ┆ 2024-03-01 00:23:45   ┆ 2025-01-05 16:20:54.905462 │\n",
       "│ 2024-03-01 00:26:00  ┆ 2024-03-01 00:29:06   ┆ 2025-01-05 16:20:54.905462 │\n",
       "│ 2024-03-01 00:09:22  ┆ 2024-03-01 00:15:24   ┆ 2025-01-05 16:20:54.905462 │\n",
       "│ 2024-03-01 00:33:45  ┆ 2024-03-01 00:39:34   ┆ 2025-01-05 16:20:54.905462 │\n",
       "│ 2024-03-01 00:05:43  ┆ 2024-03-01 00:26:22   ┆ 2025-01-05 16:20:54.905462 │\n",
       "└──────────────────────┴───────────────────────┴────────────────────────────┘"
      ]
     },
     "execution_count": 56,
     "metadata": {},
     "output_type": "execute_result"
    }
   ],
   "source": [
    "import datetime as dt\n",
    "\n",
    "(\n",
    "    rides_df.with_columns(\n",
    "        [pl.lit(dt.datetime.now(tz=None)).alias(\"data_ingested_at_datetime\")]\n",
    "    )\n",
    "    .select(\n",
    "        [\n",
    "            \"tpep_pickup_datetime\",\n",
    "            \"tpep_dropoff_datetime\",\n",
    "            \"data_ingested_at_datetime\",\n",
    "        ]\n",
    "    )\n",
    "    .head()\n",
    ")"
   ]
  },
  {
   "cell_type": "markdown",
   "id": "1cda17cb",
   "metadata": {},
   "source": [
    "That's right--we can create `pl.Datetime` (or `pl.Date`) columns by simply using Python's built in `datetime` module. We can also do this by using `pl.date` (or `pl.datetime`):"
   ]
  },
  {
   "cell_type": "code",
   "execution_count": 59,
   "id": "28cd40f6",
   "metadata": {},
   "outputs": [
    {
     "data": {
      "text/html": [
       "<div><style>\n",
       ".dataframe > thead > tr,\n",
       ".dataframe > tbody > tr {\n",
       "  text-align: right;\n",
       "  white-space: pre-wrap;\n",
       "}\n",
       "</style>\n",
       "<small>shape: (5, 3)</small><table border=\"1\" class=\"dataframe\"><thead><tr><th>tpep_pickup_datetime</th><th>tpep_dropoff_datetime</th><th>data_ingested_at_date</th></tr><tr><td>datetime[ns]</td><td>datetime[ns]</td><td>date</td></tr></thead><tbody><tr><td>2024-03-01 00:18:51</td><td>2024-03-01 00:23:45</td><td>2024-06-01</td></tr><tr><td>2024-03-01 00:26:00</td><td>2024-03-01 00:29:06</td><td>2024-06-01</td></tr><tr><td>2024-03-01 00:09:22</td><td>2024-03-01 00:15:24</td><td>2024-06-01</td></tr><tr><td>2024-03-01 00:33:45</td><td>2024-03-01 00:39:34</td><td>2024-06-01</td></tr><tr><td>2024-03-01 00:05:43</td><td>2024-03-01 00:26:22</td><td>2024-06-01</td></tr></tbody></table></div>"
      ],
      "text/plain": [
       "shape: (5, 3)\n",
       "┌──────────────────────┬───────────────────────┬───────────────────────┐\n",
       "│ tpep_pickup_datetime ┆ tpep_dropoff_datetime ┆ data_ingested_at_date │\n",
       "│ ---                  ┆ ---                   ┆ ---                   │\n",
       "│ datetime[ns]         ┆ datetime[ns]          ┆ date                  │\n",
       "╞══════════════════════╪═══════════════════════╪═══════════════════════╡\n",
       "│ 2024-03-01 00:18:51  ┆ 2024-03-01 00:23:45   ┆ 2024-06-01            │\n",
       "│ 2024-03-01 00:26:00  ┆ 2024-03-01 00:29:06   ┆ 2024-06-01            │\n",
       "│ 2024-03-01 00:09:22  ┆ 2024-03-01 00:15:24   ┆ 2024-06-01            │\n",
       "│ 2024-03-01 00:33:45  ┆ 2024-03-01 00:39:34   ┆ 2024-06-01            │\n",
       "│ 2024-03-01 00:05:43  ┆ 2024-03-01 00:26:22   ┆ 2024-06-01            │\n",
       "└──────────────────────┴───────────────────────┴───────────────────────┘"
      ]
     },
     "execution_count": 59,
     "metadata": {},
     "output_type": "execute_result"
    }
   ],
   "source": [
    "(\n",
    "    rides_df.with_columns([pl.date(2024, 6, 1).alias(\"data_ingested_at_date\")])\n",
    "    .select(\n",
    "        [\n",
    "            \"tpep_pickup_datetime\",\n",
    "            \"tpep_dropoff_datetime\",\n",
    "            \"data_ingested_at_date\",\n",
    "        ]\n",
    "    )\n",
    "    .head()\n",
    ")"
   ]
  },
  {
   "cell_type": "markdown",
   "id": "029bcad1",
   "metadata": {},
   "source": [
    "And the same logic can be done for every datatype we've seen so far:"
   ]
  },
  {
   "cell_type": "code",
   "execution_count": 60,
   "id": "9949f131",
   "metadata": {},
   "outputs": [
    {
     "data": {
      "text/html": [
       "<div><style>\n",
       ".dataframe > thead > tr,\n",
       ".dataframe > tbody > tr {\n",
       "  text-align: right;\n",
       "  white-space: pre-wrap;\n",
       "}\n",
       "</style>\n",
       "<small>shape: (3, 5)</small><table border=\"1\" class=\"dataframe\"><thead><tr><th>a</th><th>string_lit</th><th>list_lit</th><th>int_lit</th><th>date_lit</th></tr><tr><td>i64</td><td>str</td><td>list[str]</td><td>i32</td><td>date</td></tr></thead><tbody><tr><td>1</td><td>&quot;b&quot;</td><td>[&quot;mama&quot;, &quot;dada&quot;]</td><td>5</td><td>2024-06-02</td></tr><tr><td>2</td><td>&quot;b&quot;</td><td>[&quot;mama&quot;, &quot;dada&quot;]</td><td>5</td><td>2024-06-02</td></tr><tr><td>3</td><td>&quot;b&quot;</td><td>[&quot;mama&quot;, &quot;dada&quot;]</td><td>5</td><td>2024-06-02</td></tr></tbody></table></div>"
      ],
      "text/plain": [
       "shape: (3, 5)\n",
       "┌─────┬────────────┬──────────────────┬─────────┬────────────┐\n",
       "│ a   ┆ string_lit ┆ list_lit         ┆ int_lit ┆ date_lit   │\n",
       "│ --- ┆ ---        ┆ ---              ┆ ---     ┆ ---        │\n",
       "│ i64 ┆ str        ┆ list[str]        ┆ i32     ┆ date       │\n",
       "╞═════╪════════════╪══════════════════╪═════════╪════════════╡\n",
       "│ 1   ┆ b          ┆ [\"mama\", \"dada\"] ┆ 5       ┆ 2024-06-02 │\n",
       "│ 2   ┆ b          ┆ [\"mama\", \"dada\"] ┆ 5       ┆ 2024-06-02 │\n",
       "│ 3   ┆ b          ┆ [\"mama\", \"dada\"] ┆ 5       ┆ 2024-06-02 │\n",
       "└─────┴────────────┴──────────────────┴─────────┴────────────┘"
      ]
     },
     "execution_count": 60,
     "metadata": {},
     "output_type": "execute_result"
    }
   ],
   "source": [
    "(\n",
    "    pl.DataFrame({\"a\": [1, 2, 3]}).with_columns(\n",
    "        [\n",
    "            pl.lit(\"b\").alias(\"string_lit\"),\n",
    "            pl.lit([\"mama\", \"dada\"]).alias(\"list_lit\"),\n",
    "            pl.lit(5).alias(\"int_lit\"),\n",
    "            pl.lit(dt.date(2024, 6, 2)).alias(\"date_lit\"),\n",
    "        ]\n",
    "    )\n",
    ")"
   ]
  },
  {
   "cell_type": "markdown",
   "id": "6e9f6c0c",
   "metadata": {},
   "source": [
    "# Conclusion"
   ]
  },
  {
   "cell_type": "markdown",
   "id": "1f1f0ecb",
   "metadata": {},
   "source": [
    "In this module, we learned how to work with different datatypes in `polars`, and how to create new columns using `pl.lit()`."
   ]
  }
 ],
 "metadata": {
  "kernelspec": {
   "display_name": "polars",
   "language": "python",
   "name": "python3"
  },
  "language_info": {
   "codemirror_mode": {
    "name": "ipython",
    "version": 3
   },
   "file_extension": ".py",
   "mimetype": "text/x-python",
   "name": "python",
   "nbconvert_exporter": "python",
   "pygments_lexer": "ipython3",
   "version": "3.10.14"
  }
 },
 "nbformat": 4,
 "nbformat_minor": 5
}
