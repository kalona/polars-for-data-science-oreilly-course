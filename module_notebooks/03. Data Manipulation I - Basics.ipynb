{
 "cells": [
  {
   "cell_type": "markdown",
   "id": "1653908d",
   "metadata": {},
   "source": [
    "# 3. Data Manipulation I: Basics"
   ]
  },
  {
   "cell_type": "markdown",
   "id": "97a37bab",
   "metadata": {},
   "source": [
    "The goal of this module is to become familiar with the Polars data manipulation API, and be able to perform sorting and filtering queries. We'll cover the three following topics:\n",
    "1. An overview of the `polars` Query API, and its two main components--Column Expressions and Query Statements;\n",
    "2. An introduction to Column Expressions with `polars.Expr` (\"Expr\" is short for \"Expression\");\n",
    "3. An introduction to some Query Statements beyond just `select`; namely, `filter` and `sort`."
   ]
  },
  {
   "cell_type": "code",
   "execution_count": 3,
   "id": "9f2da0ab",
   "metadata": {},
   "outputs": [
    {
     "name": "stdout",
     "output_type": "stream",
     "text": [
      "File /data/datasets/data/yellow_tripdata_2024-03.parquet already exists, skipping download.\n"
     ]
    }
   ],
   "source": [
    "import polars as pl\n",
    "\n",
    "%run setup.py"
   ]
  },
  {
   "cell_type": "code",
   "execution_count": 1,
   "id": "fcb5dcdc",
   "metadata": {},
   "outputs": [
    {
     "name": "stdout",
     "output_type": "stream",
     "text": [
      "Writing setup.py\n"
     ]
    }
   ],
   "source": [
    "%%writefile setup.py\n",
    "\n",
    "import requests\n",
    "import os\n",
    "\n",
    "url = \"https://d37ci6vzurychx.cloudfront.net/trip-data/yellow_tripdata_2024-03.parquet\"\n",
    "local_parquet = \"/data/datasets/data/yellow_tripdata_2024-03.parquet\"\n",
    "local_csv = \"/data/datasets/data/yellow_tripdata_2024-03.csv\"\n",
    "\n",
    "if not os.path.exists(local_parquet):\n",
    "    response = requests.get(url)\n",
    "    response.raise_for_status()  # Raise an exception for bad status codes (4xx or 5xx)\n",
    "\n",
    "    with open(local_parquet, \"wb\") as file:\n",
    "        file.write(response.content)\n",
    "    print(f\"Downloaded {local_parquet}\")\n",
    "else:\n",
    "    print(f\"File {local_parquet} already exists, skipping download.\")\n"
   ]
  },
  {
   "cell_type": "markdown",
   "id": "1109c3fe",
   "metadata": {},
   "source": [
    "## 3.0. The Three Types of Tools in the Polars Query API"
   ]
  },
  {
   "cell_type": "markdown",
   "id": "f09c6fba",
   "metadata": {},
   "source": [
    "Despite having many tools for plotting, IO, and more, the core of Polars is a query language for interacting with dataframes. And, like a spoken language has a grammar, so does Polars; more specifically, there are **three main types of tools in the `polars` query language**:\n",
    "\n",
    "1. **Column Expressions**: Anything that defines an operation (or chained operations) on a column (or combination of columns), such as adding, multiplying, subtracting, or renaming.\n",
    "2. **Query Statements**: Anything that defines the retrieval or interaction of data, such as `select`, `filter`, `sort`, `group_by`, `join`, `concat`, etc.\n",
    "3. **Miscellaneous Dataframe Operations**: Everything else, such as `value_counts` or `transpose`.\n",
    "\n",
    "Don't be mistaken! There are of course other functions in the `polars` API, such as the `collect` function we just learned in the prior section, or `polars` even has a `plot` function for generating quick plots. However, when it comes to data manipulation queries, these are the three main ingredients. Every `polars` query you'll write will be some combination of tools from these three boxes.\n",
    "\n",
    "Let's get started familiarizing ourselves with the `polars` API by learning a bit more about **Column Expressions**."
   ]
  },
  {
   "cell_type": "markdown",
   "id": "aecaa617",
   "metadata": {},
   "source": [
    "## 3.1. Introducing Query Tool \\#1 - Column Expressions"
   ]
  },
  {
   "cell_type": "markdown",
   "id": "e52b3c85",
   "metadata": {},
   "source": [
    "In the prior module, we saw how we could load some data to a `csv` and do a basic `select`:"
   ]
  },
  {
   "cell_type": "code",
   "execution_count": 6,
   "id": "37f2cb81",
   "metadata": {},
   "outputs": [],
   "source": [
    "df = pl.read_csv(\n",
    "    f\"{local_csv}\",\n",
    "    schema_overrides={\n",
    "        \"tpep_pickup_datetime\": pl.Datetime,\n",
    "        \"tpep_dropoff_datetime\": pl.Datetime,\n",
    "    },\n",
    ")"
   ]
  },
  {
   "cell_type": "code",
   "execution_count": 7,
   "id": "c84b5d06",
   "metadata": {},
   "outputs": [
    {
     "data": {
      "text/html": [
       "<div><style>\n",
       ".dataframe > thead > tr,\n",
       ".dataframe > tbody > tr {\n",
       "  text-align: right;\n",
       "  white-space: pre-wrap;\n",
       "}\n",
       "</style>\n",
       "<small>shape: (5, 2)</small><table border=\"1\" class=\"dataframe\"><thead><tr><th>tpep_pickup_datetime</th><th>tpep_dropoff_datetime</th></tr><tr><td>datetime[μs]</td><td>datetime[μs]</td></tr></thead><tbody><tr><td>2024-03-01 00:18:51</td><td>2024-03-01 00:23:45</td></tr><tr><td>2024-03-01 00:26:00</td><td>2024-03-01 00:29:06</td></tr><tr><td>2024-03-01 00:09:22</td><td>2024-03-01 00:15:24</td></tr><tr><td>2024-03-01 00:33:45</td><td>2024-03-01 00:39:34</td></tr><tr><td>2024-03-01 00:05:43</td><td>2024-03-01 00:26:22</td></tr></tbody></table></div>"
      ],
      "text/plain": [
       "shape: (5, 2)\n",
       "┌──────────────────────┬───────────────────────┐\n",
       "│ tpep_pickup_datetime ┆ tpep_dropoff_datetime │\n",
       "│ ---                  ┆ ---                   │\n",
       "│ datetime[μs]         ┆ datetime[μs]          │\n",
       "╞══════════════════════╪═══════════════════════╡\n",
       "│ 2024-03-01 00:18:51  ┆ 2024-03-01 00:23:45   │\n",
       "│ 2024-03-01 00:26:00  ┆ 2024-03-01 00:29:06   │\n",
       "│ 2024-03-01 00:09:22  ┆ 2024-03-01 00:15:24   │\n",
       "│ 2024-03-01 00:33:45  ┆ 2024-03-01 00:39:34   │\n",
       "│ 2024-03-01 00:05:43  ┆ 2024-03-01 00:26:22   │\n",
       "└──────────────────────┴───────────────────────┘"
      ]
     },
     "execution_count": 7,
     "metadata": {},
     "output_type": "execute_result"
    }
   ],
   "source": [
    "(df.select([\"tpep_pickup_datetime\", \"tpep_dropoff_datetime\"]).head())"
   ]
  },
  {
   "cell_type": "markdown",
   "id": "cf69286f",
   "metadata": {},
   "source": [
    "Well, what if we wanted to do something more interesting? Let's take the columns `\"total_amount\"` and `\"tip_amount\"`, for instance:"
   ]
  },
  {
   "cell_type": "code",
   "execution_count": 8,
   "id": "80183a89",
   "metadata": {},
   "outputs": [
    {
     "data": {
      "text/html": [
       "<div><style>\n",
       ".dataframe > thead > tr,\n",
       ".dataframe > tbody > tr {\n",
       "  text-align: right;\n",
       "  white-space: pre-wrap;\n",
       "}\n",
       "</style>\n",
       "<small>shape: (5, 2)</small><table border=\"1\" class=\"dataframe\"><thead><tr><th>total_amount</th><th>tip_amount</th></tr><tr><td>f64</td><td>f64</td></tr></thead><tbody><tr><td>16.3</td><td>2.7</td></tr><tr><td>15.2</td><td>3.0</td></tr><tr><td>10.4</td><td>0.0</td></tr><tr><td>14.19</td><td>1.29</td></tr><tr><td>30.4</td><td>0.0</td></tr></tbody></table></div>"
      ],
      "text/plain": [
       "shape: (5, 2)\n",
       "┌──────────────┬────────────┐\n",
       "│ total_amount ┆ tip_amount │\n",
       "│ ---          ┆ ---        │\n",
       "│ f64          ┆ f64        │\n",
       "╞══════════════╪════════════╡\n",
       "│ 16.3         ┆ 2.7        │\n",
       "│ 15.2         ┆ 3.0        │\n",
       "│ 10.4         ┆ 0.0        │\n",
       "│ 14.19        ┆ 1.29       │\n",
       "│ 30.4         ┆ 0.0        │\n",
       "└──────────────┴────────────┘"
      ]
     },
     "execution_count": 8,
     "metadata": {},
     "output_type": "execute_result"
    }
   ],
   "source": [
    "(df.select([\"total_amount\", \"tip_amount\"]).head())"
   ]
  },
  {
   "cell_type": "markdown",
   "id": "c837aea8",
   "metadata": {},
   "source": [
    "And, now we want to know, for each taxi trip, was there any tip paid at all? To do this, we have to crack open the **`polars` expression API**."
   ]
  },
  {
   "cell_type": "code",
   "execution_count": 9,
   "id": "11822e89",
   "metadata": {},
   "outputs": [
    {
     "data": {
      "text/html": [
       "<div><style>\n",
       ".dataframe > thead > tr,\n",
       ".dataframe > tbody > tr {\n",
       "  text-align: right;\n",
       "  white-space: pre-wrap;\n",
       "}\n",
       "</style>\n",
       "<small>shape: (5, 3)</small><table border=\"1\" class=\"dataframe\"><thead><tr><th>total_amount</th><th>tip_amount</th><th>tip_paid</th></tr><tr><td>f64</td><td>f64</td><td>bool</td></tr></thead><tbody><tr><td>16.3</td><td>2.7</td><td>true</td></tr><tr><td>15.2</td><td>3.0</td><td>true</td></tr><tr><td>10.4</td><td>0.0</td><td>false</td></tr><tr><td>14.19</td><td>1.29</td><td>true</td></tr><tr><td>30.4</td><td>0.0</td><td>false</td></tr></tbody></table></div>"
      ],
      "text/plain": [
       "shape: (5, 3)\n",
       "┌──────────────┬────────────┬──────────┐\n",
       "│ total_amount ┆ tip_amount ┆ tip_paid │\n",
       "│ ---          ┆ ---        ┆ ---      │\n",
       "│ f64          ┆ f64        ┆ bool     │\n",
       "╞══════════════╪════════════╪══════════╡\n",
       "│ 16.3         ┆ 2.7        ┆ true     │\n",
       "│ 15.2         ┆ 3.0        ┆ true     │\n",
       "│ 10.4         ┆ 0.0        ┆ false    │\n",
       "│ 14.19        ┆ 1.29       ┆ true     │\n",
       "│ 30.4         ┆ 0.0        ┆ false    │\n",
       "└──────────────┴────────────┴──────────┘"
      ]
     },
     "execution_count": 9,
     "metadata": {},
     "output_type": "execute_result"
    }
   ],
   "source": [
    "(\n",
    "    df.select(\n",
    "        [\n",
    "            \"total_amount\",\n",
    "            \"tip_amount\",\n",
    "            pl.col(\"tip_amount\").gt(0).alias(\"tip_paid\"),\n",
    "        ]\n",
    "    ).head()\n",
    ")"
   ]
  },
  {
   "cell_type": "markdown",
   "id": "bd9b7b1d",
   "metadata": {},
   "source": [
    "How did that work, `pl.col(\"tip_amount\").gt(0).alias(\"tip_paid\")`? Let's have a look."
   ]
  },
  {
   "cell_type": "markdown",
   "id": "ca10303a",
   "metadata": {},
   "source": [
    "While `polars` allows you to select columns by a simple string, such as `df.select([\"total_amount\"])`, anytime you need to do a computation on a column (i.e. more than just a simple select), you have to instantiate a `polars.Expr` object with `pl.col()`. Let's dissect a bit the expression we just saw, to see if any tip was paid:\n",
    "\n",
    "```python\n",
    "pl.col(\"tip_amount\").gt(0).alias(\"tip_paid\")\n",
    "```\n",
    "\n",
    "1. `pl.col(\"tip_amount\")` creates the column expression object;\n",
    "2. `.gt(0)` checks if the `\"tip_amount\"` was **g**reater **t**han 0;\n",
    "3. `.alias(\"tip_paid\")` renames the column.\n",
    "\n",
    "Step 3 is important! If we didn't do that, `polars` would just use the original name, `\"tip_amount\"`, and that can cause errors of duplicate names:"
   ]
  },
  {
   "cell_type": "code",
   "execution_count": null,
   "id": "88c8757c",
   "metadata": {},
   "outputs": [],
   "source": [
    "(\n",
    "    df.select(\n",
    "        [\n",
    "            \"total_amount\",\n",
    "            \"tip_amount\",\n",
    "            pl.col(\"tip_amount\").gt(0),  # .alias(\"tip_paid\")\n",
    "        ]\n",
    "    ).head()\n",
    ")"
   ]
  },
  {
   "cell_type": "markdown",
   "id": "d60c4619",
   "metadata": {},
   "source": [
    "See? Even the `polars` error message tell is to *\"try renaming the columns with `.alias(\"new_name\")` to avoid duplicate column names.\"*"
   ]
  },
  {
   "cell_type": "markdown",
   "id": "79925645",
   "metadata": {},
   "source": [
    "The Expression API is really the special sauce of `polars`; once you have the `pl.Expr` object created with `pl.col()`, you can do any kind of computation you might desire:\n",
    "- You can add or subtract two columns together.\n",
    "- Cast columns to different datatypes.\n",
    "- Multiply columns by a constant value\n",
    "- and much more.\n",
    "\n",
    "Let's go through some examples."
   ]
  },
  {
   "cell_type": "markdown",
   "id": "338e6174",
   "metadata": {},
   "source": [
    "#### Example 1: Running a boolean check with `eq` - checking for trips without passengers"
   ]
  },
  {
   "cell_type": "markdown",
   "id": "029456e2",
   "metadata": {},
   "source": [
    "Taxi rides without passengers? How is that possible? Let's have a look:"
   ]
  },
  {
   "cell_type": "code",
   "execution_count": 10,
   "id": "1f3d1784",
   "metadata": {},
   "outputs": [
    {
     "data": {
      "text/html": [
       "<div><style>\n",
       ".dataframe > thead > tr,\n",
       ".dataframe > tbody > tr {\n",
       "  text-align: right;\n",
       "  white-space: pre-wrap;\n",
       "}\n",
       "</style>\n",
       "<small>shape: (5, 2)</small><table border=\"1\" class=\"dataframe\"><thead><tr><th>passenger_count</th><th>had_zero_passengers</th></tr><tr><td>i64</td><td>bool</td></tr></thead><tbody><tr><td>0</td><td>true</td></tr><tr><td>0</td><td>true</td></tr><tr><td>1</td><td>false</td></tr><tr><td>1</td><td>false</td></tr><tr><td>0</td><td>true</td></tr></tbody></table></div>"
      ],
      "text/plain": [
       "shape: (5, 2)\n",
       "┌─────────────────┬─────────────────────┐\n",
       "│ passenger_count ┆ had_zero_passengers │\n",
       "│ ---             ┆ ---                 │\n",
       "│ i64             ┆ bool                │\n",
       "╞═════════════════╪═════════════════════╡\n",
       "│ 0               ┆ true                │\n",
       "│ 0               ┆ true                │\n",
       "│ 1               ┆ false               │\n",
       "│ 1               ┆ false               │\n",
       "│ 0               ┆ true                │\n",
       "└─────────────────┴─────────────────────┘"
      ]
     },
     "execution_count": 10,
     "metadata": {},
     "output_type": "execute_result"
    }
   ],
   "source": [
    "(\n",
    "    df.select(\n",
    "        [\n",
    "            \"passenger_count\",\n",
    "            pl.col(\"passenger_count\").eq(0).alias(\"had_zero_passengers\"),\n",
    "        ]\n",
    "    ).head()\n",
    ")"
   ]
  },
  {
   "cell_type": "markdown",
   "id": "90091eb3",
   "metadata": {},
   "source": [
    "#### Example 2: Subtracting two columns - measuring trip duration"
   ]
  },
  {
   "cell_type": "code",
   "execution_count": 11,
   "id": "9b7329d4",
   "metadata": {},
   "outputs": [
    {
     "data": {
      "text/html": [
       "<div><style>\n",
       ".dataframe > thead > tr,\n",
       ".dataframe > tbody > tr {\n",
       "  text-align: right;\n",
       "  white-space: pre-wrap;\n",
       "}\n",
       "</style>\n",
       "<small>shape: (5, 3)</small><table border=\"1\" class=\"dataframe\"><thead><tr><th>tpep_pickup_datetime</th><th>tpep_dropoff_datetime</th><th>trip_duration</th></tr><tr><td>datetime[μs]</td><td>datetime[μs]</td><td>duration[μs]</td></tr></thead><tbody><tr><td>2024-03-01 00:18:51</td><td>2024-03-01 00:23:45</td><td>4m 54s</td></tr><tr><td>2024-03-01 00:26:00</td><td>2024-03-01 00:29:06</td><td>3m 6s</td></tr><tr><td>2024-03-01 00:09:22</td><td>2024-03-01 00:15:24</td><td>6m 2s</td></tr><tr><td>2024-03-01 00:33:45</td><td>2024-03-01 00:39:34</td><td>5m 49s</td></tr><tr><td>2024-03-01 00:05:43</td><td>2024-03-01 00:26:22</td><td>20m 39s</td></tr></tbody></table></div>"
      ],
      "text/plain": [
       "shape: (5, 3)\n",
       "┌──────────────────────┬───────────────────────┬───────────────┐\n",
       "│ tpep_pickup_datetime ┆ tpep_dropoff_datetime ┆ trip_duration │\n",
       "│ ---                  ┆ ---                   ┆ ---           │\n",
       "│ datetime[μs]         ┆ datetime[μs]          ┆ duration[μs]  │\n",
       "╞══════════════════════╪═══════════════════════╪═══════════════╡\n",
       "│ 2024-03-01 00:18:51  ┆ 2024-03-01 00:23:45   ┆ 4m 54s        │\n",
       "│ 2024-03-01 00:26:00  ┆ 2024-03-01 00:29:06   ┆ 3m 6s         │\n",
       "│ 2024-03-01 00:09:22  ┆ 2024-03-01 00:15:24   ┆ 6m 2s         │\n",
       "│ 2024-03-01 00:33:45  ┆ 2024-03-01 00:39:34   ┆ 5m 49s        │\n",
       "│ 2024-03-01 00:05:43  ┆ 2024-03-01 00:26:22   ┆ 20m 39s       │\n",
       "└──────────────────────┴───────────────────────┴───────────────┘"
      ]
     },
     "execution_count": 11,
     "metadata": {},
     "output_type": "execute_result"
    }
   ],
   "source": [
    "(\n",
    "    df.select(\n",
    "        [\n",
    "            \"tpep_pickup_datetime\",\n",
    "            \"tpep_dropoff_datetime\",\n",
    "            (\n",
    "                pl.col(\"tpep_dropoff_datetime\")\n",
    "                - pl.col(\"tpep_pickup_datetime\")\n",
    "            ).alias(\"trip_duration\"),\n",
    "        ]\n",
    "    ).head()\n",
    ")"
   ]
  },
  {
   "cell_type": "markdown",
   "id": "9021c439",
   "metadata": {},
   "source": [
    "That's right--polars even has an easy to work with `pl.Duration` datatype. But more on that later 😉"
   ]
  },
  {
   "cell_type": "markdown",
   "id": "c7ff228b",
   "metadata": {},
   "source": [
    "#### Example 3: Multiplying a column by a constant - `\"trip_distance\"` in kilometers"
   ]
  },
  {
   "cell_type": "markdown",
   "id": "b6990eb6",
   "metadata": {},
   "source": [
    "If you check the [data schema](https://www.nyc.gov/assets/tlc/downloads/pdf/data_dictionary_trip_records_yellow.pdf), you'll see that the trip distance is measured in miles. Let's convert to the more universal kilometers."
   ]
  },
  {
   "cell_type": "code",
   "execution_count": 12,
   "id": "77f73896",
   "metadata": {},
   "outputs": [
    {
     "data": {
      "text/html": [
       "<div><style>\n",
       ".dataframe > thead > tr,\n",
       ".dataframe > tbody > tr {\n",
       "  text-align: right;\n",
       "  white-space: pre-wrap;\n",
       "}\n",
       "</style>\n",
       "<small>shape: (5, 2)</small><table border=\"1\" class=\"dataframe\"><thead><tr><th>trip_distance_miles</th><th>trip_distance_kilometers</th></tr><tr><td>f64</td><td>f64</td></tr></thead><tbody><tr><td>1.3</td><td>2.093</td></tr><tr><td>1.1</td><td>1.771</td></tr><tr><td>0.86</td><td>1.3846</td></tr><tr><td>0.82</td><td>1.3202</td></tr><tr><td>4.9</td><td>7.889</td></tr></tbody></table></div>"
      ],
      "text/plain": [
       "shape: (5, 2)\n",
       "┌─────────────────────┬──────────────────────────┐\n",
       "│ trip_distance_miles ┆ trip_distance_kilometers │\n",
       "│ ---                 ┆ ---                      │\n",
       "│ f64                 ┆ f64                      │\n",
       "╞═════════════════════╪══════════════════════════╡\n",
       "│ 1.3                 ┆ 2.093                    │\n",
       "│ 1.1                 ┆ 1.771                    │\n",
       "│ 0.86                ┆ 1.3846                   │\n",
       "│ 0.82                ┆ 1.3202                   │\n",
       "│ 4.9                 ┆ 7.889                    │\n",
       "└─────────────────────┴──────────────────────────┘"
      ]
     },
     "execution_count": 12,
     "metadata": {},
     "output_type": "execute_result"
    }
   ],
   "source": [
    "kilometers_per_mile = 1.61\n",
    "(\n",
    "    df.select(\n",
    "        [\n",
    "            pl.col(\"trip_distance\").name.suffix(\"_miles\"),\n",
    "            (pl.col(\"trip_distance\") * kilometers_per_mile).name.suffix(\n",
    "                \"_kilometers\"\n",
    "            ),\n",
    "        ]\n",
    "    ).head()\n",
    ")"
   ]
  },
  {
   "cell_type": "markdown",
   "id": "2f3650a3",
   "metadata": {},
   "source": [
    "As you can see, `alias` isn't the only way to rename a column--there are also a few name manipulation tools made accessible under the `.name` property of `pl.Expr`."
   ]
  },
  {
   "cell_type": "markdown",
   "id": "07e2f4fc",
   "metadata": {},
   "source": [
    "#### Example 4: Maximum and minimum - the shortest and longest trip distance"
   ]
  },
  {
   "cell_type": "markdown",
   "id": "c36592d4",
   "metadata": {},
   "source": [
    "With just column expressions and `select`, we can already do some basic aggregations, like checking the longest and shortest trip distances in the data:"
   ]
  },
  {
   "cell_type": "code",
   "execution_count": 13,
   "id": "20d16c29",
   "metadata": {},
   "outputs": [
    {
     "data": {
      "text/html": [
       "<div><style>\n",
       ".dataframe > thead > tr,\n",
       ".dataframe > tbody > tr {\n",
       "  text-align: right;\n",
       "  white-space: pre-wrap;\n",
       "}\n",
       "</style>\n",
       "<small>shape: (1, 2)</small><table border=\"1\" class=\"dataframe\"><thead><tr><th>trip_distance_min</th><th>trip_distance_max</th></tr><tr><td>f64</td><td>f64</td></tr></thead><tbody><tr><td>0.0</td><td>176836.3</td></tr></tbody></table></div>"
      ],
      "text/plain": [
       "shape: (1, 2)\n",
       "┌───────────────────┬───────────────────┐\n",
       "│ trip_distance_min ┆ trip_distance_max │\n",
       "│ ---               ┆ ---               │\n",
       "│ f64               ┆ f64               │\n",
       "╞═══════════════════╪═══════════════════╡\n",
       "│ 0.0               ┆ 176836.3          │\n",
       "└───────────────────┴───────────────────┘"
      ]
     },
     "execution_count": 13,
     "metadata": {},
     "output_type": "execute_result"
    }
   ],
   "source": [
    "(\n",
    "    df.select(\n",
    "        [\n",
    "            pl.col(\"trip_distance\").min().name.suffix(\"_min\"),\n",
    "            pl.col(\"trip_distance\").max().name.suffix(\"_max\"),\n",
    "        ]\n",
    "    )\n",
    ")"
   ]
  },
  {
   "cell_type": "markdown",
   "id": "99c96818",
   "metadata": {},
   "source": [
    "The shortest trip distance was `0` miles, which is certainly possible... but the longest trip distance was `176836` miles? That seems hard to believe! It might be nice to know the other top `trip_distance`s, but for that, we're going to need to jump into **Query Tool \\#2: Query Statments**."
   ]
  },
  {
   "cell_type": "markdown",
   "id": "0805c3ac",
   "metadata": {},
   "source": [
    "## 3.2. Introducing Query Tool \\#2: Query Statments"
   ]
  },
  {
   "cell_type": "markdown",
   "id": "ba23b1c5",
   "metadata": {},
   "source": [
    "So far, the only query tool we've used is `select`, but there's much more; in this module, we'll expand the Query Statement Toolbox with two more tools: `filter` and `sort`."
   ]
  },
  {
   "cell_type": "markdown",
   "id": "c4f5a7c4",
   "metadata": {},
   "source": [
    "### 3.2.1. The `filter` Query Statement"
   ]
  },
  {
   "cell_type": "markdown",
   "id": "fd2aa44f",
   "metadata": {},
   "source": [
    "In the previous examples, we saw the surprising occurence that some taxi trips had zero passengers. But how often did this happen? We can answer this using a simple aggregation that we just learned"
   ]
  },
  {
   "cell_type": "code",
   "execution_count": 14,
   "id": "51129617",
   "metadata": {},
   "outputs": [
    {
     "data": {
      "text/html": [
       "<div><style>\n",
       ".dataframe > thead > tr,\n",
       ".dataframe > tbody > tr {\n",
       "  text-align: right;\n",
       "  white-space: pre-wrap;\n",
       "}\n",
       "</style>\n",
       "<small>shape: (1, 4)</small><table border=\"1\" class=\"dataframe\"><thead><tr><th>num_trips_zero_passengers</th><th>num_trips</th><th>percentage_rides_zero_passengers</th><th>avg_passengers</th></tr><tr><td>u32</td><td>u32</td><td>f64</td><td>f64</td></tr></thead><tbody><tr><td>40372</td><td>3156438</td><td>1.279037</td><td>1.337625</td></tr></tbody></table></div>"
      ],
      "text/plain": [
       "shape: (1, 4)\n",
       "┌───────────────────────────┬───────────┬─────────────────────────────────┬────────────────┐\n",
       "│ num_trips_zero_passengers ┆ num_trips ┆ percentage_rides_zero_passenge… ┆ avg_passengers │\n",
       "│ ---                       ┆ ---       ┆ ---                             ┆ ---            │\n",
       "│ u32                       ┆ u32       ┆ f64                             ┆ f64            │\n",
       "╞═══════════════════════════╪═══════════╪═════════════════════════════════╪════════════════╡\n",
       "│ 40372                     ┆ 3156438   ┆ 1.279037                        ┆ 1.337625       │\n",
       "└───────────────────────────┴───────────┴─────────────────────────────────┴────────────────┘"
      ]
     },
     "execution_count": 14,
     "metadata": {},
     "output_type": "execute_result"
    }
   ],
   "source": [
    "(\n",
    "    df.select(\n",
    "        [\n",
    "            pl.col(\"passenger_count\")\n",
    "            .eq(0)\n",
    "            .sum()\n",
    "            .alias(\"num_trips_zero_passengers\"),\n",
    "            pl.col(\"passenger_count\").count().alias(\"num_trips\"),\n",
    "            (\n",
    "                (\n",
    "                    pl.col(\"passenger_count\").eq(0).sum()\n",
    "                    / pl.col(\"passenger_count\").count()\n",
    "                )\n",
    "                * 100\n",
    "            ).alias(\"percentage_rides_zero_passengers\"),\n",
    "            pl.col(\"passenger_count\").mean().alias(\"avg_passengers\"),\n",
    "        ]\n",
    "    )\n",
    ")"
   ]
  },
  {
   "cell_type": "markdown",
   "id": "66469a27",
   "metadata": {},
   "source": [
    "40,000 trips had zero passengers?! That seems like some bad data. Thankfully, it's only about 1% of the data, so we can get rid of them. We do that with `filter`, keeping only the rows where `\"passenger_count\"` is greater than `0`:"
   ]
  },
  {
   "cell_type": "code",
   "execution_count": 15,
   "id": "4eda2c16",
   "metadata": {},
   "outputs": [
    {
     "data": {
      "text/html": [
       "<div><style>\n",
       ".dataframe > thead > tr,\n",
       ".dataframe > tbody > tr {\n",
       "  text-align: right;\n",
       "  white-space: pre-wrap;\n",
       "}\n",
       "</style>\n",
       "<small>shape: (5, 2)</small><table border=\"1\" class=\"dataframe\"><thead><tr><th>trip_distance</th><th>passenger_count</th></tr><tr><td>f64</td><td>i64</td></tr></thead><tbody><tr><td>0.86</td><td>1</td></tr><tr><td>0.82</td><td>1</td></tr><tr><td>5.04</td><td>1</td></tr><tr><td>2.15</td><td>1</td></tr><tr><td>1.1</td><td>1</td></tr></tbody></table></div>"
      ],
      "text/plain": [
       "shape: (5, 2)\n",
       "┌───────────────┬─────────────────┐\n",
       "│ trip_distance ┆ passenger_count │\n",
       "│ ---           ┆ ---             │\n",
       "│ f64           ┆ i64             │\n",
       "╞═══════════════╪═════════════════╡\n",
       "│ 0.86          ┆ 1               │\n",
       "│ 0.82          ┆ 1               │\n",
       "│ 5.04          ┆ 1               │\n",
       "│ 2.15          ┆ 1               │\n",
       "│ 1.1           ┆ 1               │\n",
       "└───────────────┴─────────────────┘"
      ]
     },
     "execution_count": 15,
     "metadata": {},
     "output_type": "execute_result"
    }
   ],
   "source": [
    "(\n",
    "    df.filter(pl.col(\"passenger_count\").gt(0))\n",
    "    .select([\"trip_distance\", \"passenger_count\"])\n",
    "    .head()\n",
    ")"
   ]
  },
  {
   "cell_type": "markdown",
   "id": "4b74c9ee",
   "metadata": {},
   "source": [
    "We can also combine filters together with boolean operations. For example, if we want to check the trips that had at least 3 people, and had a `\"trip_distance\"` of more than 100 miles..."
   ]
  },
  {
   "cell_type": "code",
   "execution_count": 16,
   "id": "f17c6cd8",
   "metadata": {},
   "outputs": [
    {
     "data": {
      "text/html": [
       "<div><style>\n",
       ".dataframe > thead > tr,\n",
       ".dataframe > tbody > tr {\n",
       "  text-align: right;\n",
       "  white-space: pre-wrap;\n",
       "}\n",
       "</style>\n",
       "<small>shape: (3, 2)</small><table border=\"1\" class=\"dataframe\"><thead><tr><th>trip_distance</th><th>passenger_count</th></tr><tr><td>f64</td><td>i64</td></tr></thead><tbody><tr><td>102.85</td><td>4</td></tr><tr><td>119.02</td><td>5</td></tr><tr><td>141.43</td><td>4</td></tr></tbody></table></div>"
      ],
      "text/plain": [
       "shape: (3, 2)\n",
       "┌───────────────┬─────────────────┐\n",
       "│ trip_distance ┆ passenger_count │\n",
       "│ ---           ┆ ---             │\n",
       "│ f64           ┆ i64             │\n",
       "╞═══════════════╪═════════════════╡\n",
       "│ 102.85        ┆ 4               │\n",
       "│ 119.02        ┆ 5               │\n",
       "│ 141.43        ┆ 4               │\n",
       "└───────────────┴─────────────────┘"
      ]
     },
     "execution_count": 16,
     "metadata": {},
     "output_type": "execute_result"
    }
   ],
   "source": [
    "(\n",
    "    df.filter(\n",
    "        pl.col(\"passenger_count\").gt(3) & pl.col(\"trip_distance\").gt(100)\n",
    "    )\n",
    "    .select([\"trip_distance\", \"passenger_count\"])\n",
    "    .head()\n",
    ")"
   ]
  },
  {
   "cell_type": "markdown",
   "id": "d7776d52",
   "metadata": {},
   "source": [
    "It wasn't that many! We can also express the same thing without the `&` clause, but rather with the `polars` built-in `pl.Expr.and_()`:"
   ]
  },
  {
   "cell_type": "code",
   "execution_count": 19,
   "id": "b53e8efa",
   "metadata": {},
   "outputs": [
    {
     "data": {
      "text/html": [
       "<div><style>\n",
       ".dataframe > thead > tr,\n",
       ".dataframe > tbody > tr {\n",
       "  text-align: right;\n",
       "  white-space: pre-wrap;\n",
       "}\n",
       "</style>\n",
       "<small>shape: (3, 2)</small><table border=\"1\" class=\"dataframe\"><thead><tr><th>trip_distance</th><th>passenger_count</th></tr><tr><td>f64</td><td>i64</td></tr></thead><tbody><tr><td>102.85</td><td>4</td></tr><tr><td>119.02</td><td>5</td></tr><tr><td>141.43</td><td>4</td></tr></tbody></table></div>"
      ],
      "text/plain": [
       "shape: (3, 2)\n",
       "┌───────────────┬─────────────────┐\n",
       "│ trip_distance ┆ passenger_count │\n",
       "│ ---           ┆ ---             │\n",
       "│ f64           ┆ i64             │\n",
       "╞═══════════════╪═════════════════╡\n",
       "│ 102.85        ┆ 4               │\n",
       "│ 119.02        ┆ 5               │\n",
       "│ 141.43        ┆ 4               │\n",
       "└───────────────┴─────────────────┘"
      ]
     },
     "execution_count": 19,
     "metadata": {},
     "output_type": "execute_result"
    }
   ],
   "source": [
    "(\n",
    "    df.filter(\n",
    "        pl.col(\"passenger_count\").gt(3).and_(pl.col(\"trip_distance\").gt(100))\n",
    "    )\n",
    "    .select([\"trip_distance\", \"passenger_count\"])\n",
    "    .head()\n",
    ")"
   ]
  },
  {
   "cell_type": "markdown",
   "id": "e2971e8e",
   "metadata": {},
   "source": [
    "And the same behavior exists for `|` and `or_()`. For example, if we want to see the largest tip that was paid on a ride that was either more than 3 people or went to the airport:"
   ]
  },
  {
   "cell_type": "code",
   "execution_count": 20,
   "id": "a59ffa48",
   "metadata": {},
   "outputs": [
    {
     "data": {
      "text/html": [
       "<div><style>\n",
       ".dataframe > thead > tr,\n",
       ".dataframe > tbody > tr {\n",
       "  text-align: right;\n",
       "  white-space: pre-wrap;\n",
       "}\n",
       "</style>\n",
       "<small>shape: (1, 1)</small><table border=\"1\" class=\"dataframe\"><thead><tr><th>tip_amount</th></tr><tr><td>f64</td></tr></thead><tbody><tr><td>300.0</td></tr></tbody></table></div>"
      ],
      "text/plain": [
       "shape: (1, 1)\n",
       "┌────────────┐\n",
       "│ tip_amount │\n",
       "│ ---        │\n",
       "│ f64        │\n",
       "╞════════════╡\n",
       "│ 300.0      │\n",
       "└────────────┘"
      ]
     },
     "execution_count": 20,
     "metadata": {},
     "output_type": "execute_result"
    }
   ],
   "source": [
    "(\n",
    "    df.filter(pl.col(\"Airport_fee\").gt(0).or_(pl.col(\"passenger_count\").gt(3)))\n",
    "    .select(pl.col(\"tip_amount\").max())\n",
    "    .head()\n",
    ")"
   ]
  },
  {
   "cell_type": "markdown",
   "id": "8acdc78a",
   "metadata": {},
   "source": [
    "That's a high tip!"
   ]
  },
  {
   "cell_type": "markdown",
   "id": "b51ce534",
   "metadata": {},
   "source": [
    "### 3.2.2. The `sort` Query Statement"
   ]
  },
  {
   "cell_type": "markdown",
   "id": "b51aa833",
   "metadata": {},
   "source": [
    "Known as `ORDER BY` in SQL, the `sort` statement sorts values in the dataframe, just as its name implies.\n",
    "\n",
    "In the previous section, we saw how the maximum value of `\"trip_distance\"` was surprisingly high. Rather than seeing just the highest value of `\"trip_distance\"`, let's see a few more of the highest values by using `sort`. It'll also be curious to see the amount of money paid for those trips:"
   ]
  },
  {
   "cell_type": "code",
   "execution_count": 17,
   "id": "a69aa85e",
   "metadata": {},
   "outputs": [
    {
     "data": {
      "text/html": [
       "<div><style>\n",
       ".dataframe > thead > tr,\n",
       ".dataframe > tbody > tr {\n",
       "  text-align: right;\n",
       "  white-space: pre-wrap;\n",
       "}\n",
       "</style>\n",
       "<small>shape: (5, 2)</small><table border=\"1\" class=\"dataframe\"><thead><tr><th>trip_distance</th><th>total_amount</th></tr><tr><td>f64</td><td>f64</td></tr></thead><tbody><tr><td>176836.3</td><td>32.74</td></tr><tr><td>176744.79</td><td>114.68</td></tr><tr><td>176329.23</td><td>34.51</td></tr><tr><td>138097.21</td><td>108.4</td></tr><tr><td>136660.1</td><td>19.89</td></tr></tbody></table></div>"
      ],
      "text/plain": [
       "shape: (5, 2)\n",
       "┌───────────────┬──────────────┐\n",
       "│ trip_distance ┆ total_amount │\n",
       "│ ---           ┆ ---          │\n",
       "│ f64           ┆ f64          │\n",
       "╞═══════════════╪══════════════╡\n",
       "│ 176836.3      ┆ 32.74        │\n",
       "│ 176744.79     ┆ 114.68       │\n",
       "│ 176329.23     ┆ 34.51        │\n",
       "│ 138097.21     ┆ 108.4        │\n",
       "│ 136660.1      ┆ 19.89        │\n",
       "└───────────────┴──────────────┘"
      ]
     },
     "execution_count": 17,
     "metadata": {},
     "output_type": "execute_result"
    }
   ],
   "source": [
    "(\n",
    "    df.select([pl.col(\"trip_distance\"), pl.col(\"total_amount\")])\n",
    "    .sort(\"trip_distance\", descending=True)\n",
    "    .head(5)\n",
    ")"
   ]
  },
  {
   "cell_type": "markdown",
   "id": "0d712f81",
   "metadata": {},
   "source": [
    "We use the `descending` argument of the function to sort from highest to lowest. This is not the function's default however--by default, it sorts from lowest to highest (i.e. `descending=False`):"
   ]
  },
  {
   "cell_type": "code",
   "execution_count": 18,
   "id": "f72e6d8c",
   "metadata": {},
   "outputs": [
    {
     "data": {
      "text/html": [
       "<div><style>\n",
       ".dataframe > thead > tr,\n",
       ".dataframe > tbody > tr {\n",
       "  text-align: right;\n",
       "  white-space: pre-wrap;\n",
       "}\n",
       "</style>\n",
       "<small>shape: (5, 2)</small><table border=\"1\" class=\"dataframe\"><thead><tr><th>trip_distance</th><th>total_amount</th></tr><tr><td>f64</td><td>f64</td></tr></thead><tbody><tr><td>0.0</td><td>24.62</td></tr><tr><td>0.0</td><td>9.6</td></tr><tr><td>0.0</td><td>21.5</td></tr><tr><td>0.0</td><td>99.23</td></tr><tr><td>0.0</td><td>28.37</td></tr></tbody></table></div>"
      ],
      "text/plain": [
       "shape: (5, 2)\n",
       "┌───────────────┬──────────────┐\n",
       "│ trip_distance ┆ total_amount │\n",
       "│ ---           ┆ ---          │\n",
       "│ f64           ┆ f64          │\n",
       "╞═══════════════╪══════════════╡\n",
       "│ 0.0           ┆ 24.62        │\n",
       "│ 0.0           ┆ 9.6          │\n",
       "│ 0.0           ┆ 21.5         │\n",
       "│ 0.0           ┆ 99.23        │\n",
       "│ 0.0           ┆ 28.37        │\n",
       "└───────────────┴──────────────┘"
      ]
     },
     "execution_count": 18,
     "metadata": {},
     "output_type": "execute_result"
    }
   ],
   "source": [
    "(\n",
    "    df.select([pl.col(\"trip_distance\"), pl.col(\"total_amount\")])\n",
    "    .sort(\n",
    "        \"trip_distance\",\n",
    "        #         descending=True\n",
    "    )\n",
    "    .head(5)\n",
    ")"
   ]
  },
  {
   "cell_type": "markdown",
   "id": "1f160907",
   "metadata": {},
   "source": [
    "We can do more than just sort by a column, though--we can also sort by a combination of columns. For example, what if we don't just want to sort by `\"trip_distance\"`, nor by `\"total_amount\"`, but by the `\"total_amount\"` per mile? Let's have a look:"
   ]
  },
  {
   "cell_type": "code",
   "execution_count": 19,
   "id": "3a8905a9",
   "metadata": {},
   "outputs": [
    {
     "data": {
      "text/html": [
       "<div><style>\n",
       ".dataframe > thead > tr,\n",
       ".dataframe > tbody > tr {\n",
       "  text-align: right;\n",
       "  white-space: pre-wrap;\n",
       "}\n",
       "</style>\n",
       "<small>shape: (5, 2)</small><table border=\"1\" class=\"dataframe\"><thead><tr><th>total_amount</th><th>trip_distance</th></tr><tr><td>f64</td><td>f64</td></tr></thead><tbody><tr><td>0.0</td><td>0.0</td></tr><tr><td>0.0</td><td>0.0</td></tr><tr><td>0.0</td><td>0.0</td></tr><tr><td>0.0</td><td>0.0</td></tr><tr><td>0.0</td><td>0.0</td></tr></tbody></table></div>"
      ],
      "text/plain": [
       "shape: (5, 2)\n",
       "┌──────────────┬───────────────┐\n",
       "│ total_amount ┆ trip_distance │\n",
       "│ ---          ┆ ---           │\n",
       "│ f64          ┆ f64           │\n",
       "╞══════════════╪═══════════════╡\n",
       "│ 0.0          ┆ 0.0           │\n",
       "│ 0.0          ┆ 0.0           │\n",
       "│ 0.0          ┆ 0.0           │\n",
       "│ 0.0          ┆ 0.0           │\n",
       "│ 0.0          ┆ 0.0           │\n",
       "└──────────────┴───────────────┘"
      ]
     },
     "execution_count": 19,
     "metadata": {},
     "output_type": "execute_result"
    }
   ],
   "source": [
    "(\n",
    "    df.sort(pl.col(\"total_amount\") / pl.col(\"trip_distance\"), descending=True)\n",
    "    .select([\"total_amount\", \"trip_distance\"])\n",
    "    .head(5)\n",
    ")"
   ]
  },
  {
   "cell_type": "markdown",
   "id": "f64445b1",
   "metadata": {},
   "source": [
    "Hmm, why the zeroes? There must be some strangeness in the data; let's start rather by filtering out everything that's less than or equal to 0, and then running the query:"
   ]
  },
  {
   "cell_type": "code",
   "execution_count": 22,
   "id": "e5a41fec",
   "metadata": {},
   "outputs": [
    {
     "data": {
      "text/html": [
       "<div><style>\n",
       ".dataframe > thead > tr,\n",
       ".dataframe > tbody > tr {\n",
       "  text-align: right;\n",
       "  white-space: pre-wrap;\n",
       "}\n",
       "</style>\n",
       "<small>shape: (10, 2)</small><table border=\"1\" class=\"dataframe\"><thead><tr><th>total_amount</th><th>trip_distance</th></tr><tr><td>f64</td><td>f64</td></tr></thead><tbody><tr><td>331.0</td><td>0.01</td></tr><tr><td>229.2</td><td>0.01</td></tr><tr><td>201.0</td><td>0.01</td></tr><tr><td>163.2</td><td>0.01</td></tr><tr><td>324.0</td><td>0.02</td></tr><tr><td>160.55</td><td>0.01</td></tr><tr><td>149.94</td><td>0.01</td></tr><tr><td>145.2</td><td>0.01</td></tr><tr><td>283.2</td><td>0.02</td></tr><tr><td>141.0</td><td>0.01</td></tr></tbody></table></div>"
      ],
      "text/plain": [
       "shape: (10, 2)\n",
       "┌──────────────┬───────────────┐\n",
       "│ total_amount ┆ trip_distance │\n",
       "│ ---          ┆ ---           │\n",
       "│ f64          ┆ f64           │\n",
       "╞══════════════╪═══════════════╡\n",
       "│ 331.0        ┆ 0.01          │\n",
       "│ 229.2        ┆ 0.01          │\n",
       "│ 201.0        ┆ 0.01          │\n",
       "│ 163.2        ┆ 0.01          │\n",
       "│ 324.0        ┆ 0.02          │\n",
       "│ 160.55       ┆ 0.01          │\n",
       "│ 149.94       ┆ 0.01          │\n",
       "│ 145.2        ┆ 0.01          │\n",
       "│ 283.2        ┆ 0.02          │\n",
       "│ 141.0        ┆ 0.01          │\n",
       "└──────────────┴───────────────┘"
      ]
     },
     "execution_count": 22,
     "metadata": {},
     "output_type": "execute_result"
    }
   ],
   "source": [
    "(\n",
    "    df.filter(pl.col(\"total_amount\").gt(0).and_(pl.col(\"trip_distance\").gt(0)))\n",
    "    .sort(pl.col(\"total_amount\") / pl.col(\"trip_distance\"), descending=True)\n",
    "    .select([\"total_amount\", \"trip_distance\"])\n",
    "    .head(10)\n",
    ")"
   ]
  },
  {
   "cell_type": "code",
   "execution_count": 21,
   "id": "53277f45",
   "metadata": {},
   "outputs": [
    {
     "data": {
      "text/html": [
       "<div><style>\n",
       ".dataframe > thead > tr,\n",
       ".dataframe > tbody > tr {\n",
       "  text-align: right;\n",
       "  white-space: pre-wrap;\n",
       "}\n",
       "</style>\n",
       "<small>shape: (5, 3)</small><table border=\"1\" class=\"dataframe\"><thead><tr><th>total_amount</th><th>trip_distance</th><th>total_per_distance</th></tr><tr><td>f64</td><td>f64</td><td>f64</td></tr></thead><tbody><tr><td>331.0</td><td>0.01</td><td>33100.0</td></tr><tr><td>229.2</td><td>0.01</td><td>22920.0</td></tr><tr><td>201.0</td><td>0.01</td><td>20100.0</td></tr><tr><td>163.2</td><td>0.01</td><td>16320.0</td></tr><tr><td>324.0</td><td>0.02</td><td>16200.0</td></tr></tbody></table></div>"
      ],
      "text/plain": [
       "shape: (5, 3)\n",
       "┌──────────────┬───────────────┬────────────────────┐\n",
       "│ total_amount ┆ trip_distance ┆ total_per_distance │\n",
       "│ ---          ┆ ---           ┆ ---                │\n",
       "│ f64          ┆ f64           ┆ f64                │\n",
       "╞══════════════╪═══════════════╪════════════════════╡\n",
       "│ 331.0        ┆ 0.01          ┆ 33100.0            │\n",
       "│ 229.2        ┆ 0.01          ┆ 22920.0            │\n",
       "│ 201.0        ┆ 0.01          ┆ 20100.0            │\n",
       "│ 163.2        ┆ 0.01          ┆ 16320.0            │\n",
       "│ 324.0        ┆ 0.02          ┆ 16200.0            │\n",
       "└──────────────┴───────────────┴────────────────────┘"
      ]
     },
     "execution_count": 21,
     "metadata": {},
     "output_type": "execute_result"
    }
   ],
   "source": [
    "(\n",
    "    df.filter(pl.col(\"total_amount\").gt(0).and_(pl.col(\"trip_distance\").gt(0)))\n",
    "    .with_columns(\n",
    "        (pl.col(\"total_amount\") / pl.col(\"trip_distance\")).alias(\n",
    "            \"total_per_distance\"\n",
    "        )\n",
    "    )\n",
    "    .sort(pl.col(\"total_amount\") / pl.col(\"trip_distance\"), descending=True)\n",
    "    .select([\"total_amount\", \"trip_distance\", \"total_per_distance\"])\n",
    "    .head()\n",
    ")"
   ]
  },
  {
   "cell_type": "markdown",
   "id": "00e30cb6",
   "metadata": {},
   "source": [
    "Wow! Trips of less than `0.01` miles that cost as much as `$331.0`? Only in New York City 🤪"
   ]
  },
  {
   "cell_type": "markdown",
   "id": "0f0706b5",
   "metadata": {},
   "source": [
    "## Conclusion"
   ]
  },
  {
   "cell_type": "markdown",
   "id": "1b1f9e82",
   "metadata": {},
   "source": [
    "In this module, we got started learning how to work with the `polars.Expr` API, and built on our querying skills with `sort()` and `filter()`."
   ]
  }
 ],
 "metadata": {
  "kernelspec": {
   "display_name": "polars",
   "language": "python",
   "name": "python3"
  },
  "language_info": {
   "codemirror_mode": {
    "name": "ipython",
    "version": 3
   },
   "file_extension": ".py",
   "mimetype": "text/x-python",
   "name": "python",
   "nbconvert_exporter": "python",
   "pygments_lexer": "ipython3",
   "version": "3.10.14"
  }
 },
 "nbformat": 4,
 "nbformat_minor": 5
}
