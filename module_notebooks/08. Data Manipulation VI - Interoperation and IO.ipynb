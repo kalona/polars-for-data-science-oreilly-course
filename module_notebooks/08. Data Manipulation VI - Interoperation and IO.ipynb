{
 "cells": [
  {
   "cell_type": "markdown",
   "id": "1653908d",
   "metadata": {},
   "source": [
    "# 7. Data Manipulation VI - Interoperation and IO"
   ]
  },
  {
   "cell_type": "markdown",
   "id": "97a37bab",
   "metadata": {},
   "source": [
    "So far in this course, we've seen how to load data from a csv, load data from a parquet, and create a DataFrame from a dictionary of columns. However, there are so many more ways of storing tabular data, both in and out of Python: excel files, numpy arrays, Pandas dataframes, lists of dictionaries, dictionaries of lists, and still more. The goal of this module is to learn how to switch data seamlessly between Pandas, Numpy, and Polars, and be able to read and write data to numerous formats; we'll learn this by going through a few examples of common interoperation and IO use-cases."
   ]
  },
  {
   "cell_type": "markdown",
   "id": "f3a90b5b",
   "metadata": {},
   "source": [
    "But first we import `polars`..."
   ]
  },
  {
   "cell_type": "code",
   "execution_count": 2,
   "id": "9f2da0ab",
   "metadata": {},
   "outputs": [
    {
     "name": "stdout",
     "output_type": "stream",
     "text": [
      "/data/datasets/data/yellow_tripdata_2024-03.parquet already exists\n",
      "/data/datasets/data/taxi_zone_lookup.csv already exists\n",
      "\n",
      "local_parquet = /data/datasets/data/yellow_tripdata_2024-03.parquet\n",
      "local_csv = /data/datasets/data/yellow_tripdata_2024-03.csv\n",
      "taxi_zone_lookup_local = /data/datasets/data/taxi_zone_lookup.csv\n",
      "taxi_zone_lookup_parquet = /data/datasets/data/taxi_zone_lookup.parquet\n"
     ]
    }
   ],
   "source": [
    "import polars as pl\n",
    "\n",
    "%run setup.py"
   ]
  },
  {
   "cell_type": "markdown",
   "id": "f4452371",
   "metadata": {},
   "source": [
    "## 7.1. Creating Dataframes from dict of lists and lists of dicts"
   ]
  },
  {
   "cell_type": "markdown",
   "id": "1ba769c3",
   "metadata": {},
   "source": [
    "We've seen by now a few instances of creating a dataframe from a dictionary of columns:"
   ]
  },
  {
   "cell_type": "code",
   "execution_count": 3,
   "id": "e874f2ea",
   "metadata": {},
   "outputs": [
    {
     "data": {
      "text/html": [
       "<div><style>\n",
       ".dataframe > thead > tr,\n",
       ".dataframe > tbody > tr {\n",
       "  text-align: right;\n",
       "  white-space: pre-wrap;\n",
       "}\n",
       "</style>\n",
       "<small>shape: (4, 2)</small><table border=\"1\" class=\"dataframe\"><thead><tr><th>first_name</th><th>last_name</th></tr><tr><td>str</td><td>str</td></tr></thead><tbody><tr><td>&quot;dan&quot;</td><td>&quot;flanson&quot;</td></tr><tr><td>&quot;stan&quot;</td><td>&quot;cranson&quot;</td></tr><tr><td>&quot;ron&quot;</td><td>&quot;bronson&quot;</td></tr><tr><td>&quot;dawn&quot;</td><td>&quot;johnson&quot;</td></tr></tbody></table></div>"
      ],
      "text/plain": [
       "shape: (4, 2)\n",
       "┌────────────┬───────────┐\n",
       "│ first_name ┆ last_name │\n",
       "│ ---        ┆ ---       │\n",
       "│ str        ┆ str       │\n",
       "╞════════════╪═══════════╡\n",
       "│ dan        ┆ flanson   │\n",
       "│ stan       ┆ cranson   │\n",
       "│ ron        ┆ bronson   │\n",
       "│ dawn       ┆ johnson   │\n",
       "└────────────┴───────────┘"
      ]
     },
     "execution_count": 3,
     "metadata": {},
     "output_type": "execute_result"
    }
   ],
   "source": [
    "df = pl.DataFrame(\n",
    "    {\n",
    "        \"first_name\": [\"dan\", \"stan\", \"ron\", \"dawn\"],\n",
    "        \"last_name\": [\"flanson\", \"cranson\", \"bronson\", \"johnson\"],\n",
    "    }\n",
    ")\n",
    "df.head()"
   ]
  },
  {
   "cell_type": "markdown",
   "id": "7c35658b",
   "metadata": {},
   "source": [
    "But we can also create the same dataframe from a list of rows as dictionaries with `pl.from_dicts`:"
   ]
  },
  {
   "cell_type": "code",
   "execution_count": 4,
   "id": "4ad5fe7c",
   "metadata": {},
   "outputs": [
    {
     "data": {
      "text/html": [
       "<div><style>\n",
       ".dataframe > thead > tr,\n",
       ".dataframe > tbody > tr {\n",
       "  text-align: right;\n",
       "  white-space: pre-wrap;\n",
       "}\n",
       "</style>\n",
       "<small>shape: (4, 2)</small><table border=\"1\" class=\"dataframe\"><thead><tr><th>first_name</th><th>last_name</th></tr><tr><td>str</td><td>str</td></tr></thead><tbody><tr><td>&quot;dan&quot;</td><td>&quot;flanson&quot;</td></tr><tr><td>&quot;stan&quot;</td><td>&quot;cranson&quot;</td></tr><tr><td>&quot;ron&quot;</td><td>&quot;bronson&quot;</td></tr><tr><td>&quot;dawn&quot;</td><td>&quot;johnson&quot;</td></tr></tbody></table></div>"
      ],
      "text/plain": [
       "shape: (4, 2)\n",
       "┌────────────┬───────────┐\n",
       "│ first_name ┆ last_name │\n",
       "│ ---        ┆ ---       │\n",
       "│ str        ┆ str       │\n",
       "╞════════════╪═══════════╡\n",
       "│ dan        ┆ flanson   │\n",
       "│ stan       ┆ cranson   │\n",
       "│ ron        ┆ bronson   │\n",
       "│ dawn       ┆ johnson   │\n",
       "└────────────┴───────────┘"
      ]
     },
     "execution_count": 4,
     "metadata": {},
     "output_type": "execute_result"
    }
   ],
   "source": [
    "df = pl.from_dicts(\n",
    "    [\n",
    "        {\"first_name\": \"dan\", \"last_name\": \"flanson\"},\n",
    "        {\"first_name\": \"stan\", \"last_name\": \"cranson\"},\n",
    "        {\"first_name\": \"ron\", \"last_name\": \"bronson\"},\n",
    "        {\"first_name\": \"dawn\", \"last_name\": \"johnson\"},\n",
    "    ]\n",
    ")\n",
    "df.head()"
   ]
  },
  {
   "cell_type": "markdown",
   "id": "49bab7a6",
   "metadata": {},
   "source": [
    "And if passing the column names in the data dictionary itself becomes too verbose, we can also create a dataframe with `pl.from_records`, specifying the schema in a separate argument:"
   ]
  },
  {
   "cell_type": "code",
   "execution_count": 5,
   "id": "e15ed482",
   "metadata": {},
   "outputs": [
    {
     "data": {
      "text/html": [
       "<div><style>\n",
       ".dataframe > thead > tr,\n",
       ".dataframe > tbody > tr {\n",
       "  text-align: right;\n",
       "  white-space: pre-wrap;\n",
       "}\n",
       "</style>\n",
       "<small>shape: (4, 2)</small><table border=\"1\" class=\"dataframe\"><thead><tr><th>first_name</th><th>last_name</th></tr><tr><td>str</td><td>str</td></tr></thead><tbody><tr><td>&quot;dan&quot;</td><td>&quot;flanson&quot;</td></tr><tr><td>&quot;stan&quot;</td><td>&quot;cranson&quot;</td></tr><tr><td>&quot;ron&quot;</td><td>&quot;bronson&quot;</td></tr><tr><td>&quot;dawn&quot;</td><td>&quot;johnson&quot;</td></tr></tbody></table></div>"
      ],
      "text/plain": [
       "shape: (4, 2)\n",
       "┌────────────┬───────────┐\n",
       "│ first_name ┆ last_name │\n",
       "│ ---        ┆ ---       │\n",
       "│ str        ┆ str       │\n",
       "╞════════════╪═══════════╡\n",
       "│ dan        ┆ flanson   │\n",
       "│ stan       ┆ cranson   │\n",
       "│ ron        ┆ bronson   │\n",
       "│ dawn       ┆ johnson   │\n",
       "└────────────┴───────────┘"
      ]
     },
     "execution_count": 5,
     "metadata": {},
     "output_type": "execute_result"
    }
   ],
   "source": [
    "df = pl.from_records(\n",
    "    [\n",
    "        [\"dan\", \"flanson\"],\n",
    "        [\"stan\", \"cranson\"],\n",
    "        [\"ron\", \"bronson\"],\n",
    "        [\"dawn\", \"johnson\"],\n",
    "    ],\n",
    "    schema=[\"first_name\", \"last_name\"],\n",
    "    orient=\"row\",\n",
    ")\n",
    "df"
   ]
  },
  {
   "cell_type": "markdown",
   "id": "cdf8e873",
   "metadata": {},
   "source": [
    "And the same can be done from a columns orientation:"
   ]
  },
  {
   "cell_type": "code",
   "execution_count": 6,
   "id": "e56ce665",
   "metadata": {},
   "outputs": [
    {
     "data": {
      "text/html": [
       "<div><style>\n",
       ".dataframe > thead > tr,\n",
       ".dataframe > tbody > tr {\n",
       "  text-align: right;\n",
       "  white-space: pre-wrap;\n",
       "}\n",
       "</style>\n",
       "<small>shape: (4, 2)</small><table border=\"1\" class=\"dataframe\"><thead><tr><th>first_name</th><th>last_name</th></tr><tr><td>str</td><td>str</td></tr></thead><tbody><tr><td>&quot;dan&quot;</td><td>&quot;flanson&quot;</td></tr><tr><td>&quot;stan&quot;</td><td>&quot;cranson&quot;</td></tr><tr><td>&quot;ron&quot;</td><td>&quot;bronson&quot;</td></tr><tr><td>&quot;dawn&quot;</td><td>&quot;johnson&quot;</td></tr></tbody></table></div>"
      ],
      "text/plain": [
       "shape: (4, 2)\n",
       "┌────────────┬───────────┐\n",
       "│ first_name ┆ last_name │\n",
       "│ ---        ┆ ---       │\n",
       "│ str        ┆ str       │\n",
       "╞════════════╪═══════════╡\n",
       "│ dan        ┆ flanson   │\n",
       "│ stan       ┆ cranson   │\n",
       "│ ron        ┆ bronson   │\n",
       "│ dawn       ┆ johnson   │\n",
       "└────────────┴───────────┘"
      ]
     },
     "execution_count": 6,
     "metadata": {},
     "output_type": "execute_result"
    }
   ],
   "source": [
    "df = pl.from_records(\n",
    "    [\n",
    "        [\"dan\", \"stan\", \"ron\", \"dawn\"],\n",
    "        [\"flanson\", \"cranson\", \"bronson\", \"johnson\"],\n",
    "    ],\n",
    "    schema=[\"first_name\", \"last_name\"],\n",
    "    orient=\"col\",\n",
    ")\n",
    "df"
   ]
  },
  {
   "cell_type": "markdown",
   "id": "e7f90de2",
   "metadata": {},
   "source": [
    "Finally, we can easily return to either `pl.DataFrame.to_dict()` or `pl.DataFrame.to_dicts()`:"
   ]
  },
  {
   "cell_type": "code",
   "execution_count": 7,
   "id": "c0afc0f5-4026-4247-bb08-84d3b98286a3",
   "metadata": {},
   "outputs": [
    {
     "data": {
      "text/html": [
       "<div><style>\n",
       ".dataframe > thead > tr,\n",
       ".dataframe > tbody > tr {\n",
       "  text-align: right;\n",
       "  white-space: pre-wrap;\n",
       "}\n",
       "</style>\n",
       "<small>shape: (4, 2)</small><table border=\"1\" class=\"dataframe\"><thead><tr><th>first_name</th><th>last_name</th></tr><tr><td>str</td><td>str</td></tr></thead><tbody><tr><td>&quot;dan&quot;</td><td>&quot;flanson&quot;</td></tr><tr><td>&quot;stan&quot;</td><td>&quot;cranson&quot;</td></tr><tr><td>&quot;ron&quot;</td><td>&quot;bronson&quot;</td></tr><tr><td>&quot;dawn&quot;</td><td>&quot;johnson&quot;</td></tr></tbody></table></div>"
      ],
      "text/plain": [
       "shape: (4, 2)\n",
       "┌────────────┬───────────┐\n",
       "│ first_name ┆ last_name │\n",
       "│ ---        ┆ ---       │\n",
       "│ str        ┆ str       │\n",
       "╞════════════╪═══════════╡\n",
       "│ dan        ┆ flanson   │\n",
       "│ stan       ┆ cranson   │\n",
       "│ ron        ┆ bronson   │\n",
       "│ dawn       ┆ johnson   │\n",
       "└────────────┴───────────┘"
      ]
     },
     "execution_count": 7,
     "metadata": {},
     "output_type": "execute_result"
    }
   ],
   "source": [
    "df"
   ]
  },
  {
   "cell_type": "code",
   "execution_count": 8,
   "id": "e074318c",
   "metadata": {},
   "outputs": [
    {
     "data": {
      "text/plain": [
       "{'first_name': ['dan', 'stan', 'ron', 'dawn'],\n",
       " 'last_name': ['flanson', 'cranson', 'bronson', 'johnson']}"
      ]
     },
     "metadata": {},
     "output_type": "display_data"
    }
   ],
   "source": [
    "display(df.to_dict(as_series=False))"
   ]
  },
  {
   "cell_type": "code",
   "execution_count": 9,
   "id": "d2fc0713",
   "metadata": {},
   "outputs": [
    {
     "data": {
      "text/plain": [
       "[{'first_name': 'dan', 'last_name': 'flanson'},\n",
       " {'first_name': 'stan', 'last_name': 'cranson'},\n",
       " {'first_name': 'ron', 'last_name': 'bronson'},\n",
       " {'first_name': 'dawn', 'last_name': 'johnson'}]"
      ]
     },
     "metadata": {},
     "output_type": "display_data"
    }
   ],
   "source": [
    "display(df.to_dicts())"
   ]
  },
  {
   "cell_type": "markdown",
   "id": "fca3542d",
   "metadata": {},
   "source": [
    "## 7.2. Interoperating with `pl.Series`"
   ]
  },
  {
   "cell_type": "markdown",
   "id": "14eeeecf",
   "metadata": {},
   "source": [
    "You may have noticed in the call to `df.to_dict()` just now that we passed the argument `as_series=False`. But what if we had left the default there?"
   ]
  },
  {
   "cell_type": "code",
   "execution_count": 10,
   "id": "f905aa94",
   "metadata": {},
   "outputs": [
    {
     "data": {
      "text/plain": [
       "{'first_name': shape: (4,)\n",
       " Series: 'first_name' [str]\n",
       " [\n",
       " \t\"dan\"\n",
       " \t\"stan\"\n",
       " \t\"ron\"\n",
       " \t\"dawn\"\n",
       " ],\n",
       " 'last_name': shape: (4,)\n",
       " Series: 'last_name' [str]\n",
       " [\n",
       " \t\"flanson\"\n",
       " \t\"cranson\"\n",
       " \t\"bronson\"\n",
       " \t\"johnson\"\n",
       " ]}"
      ]
     },
     "metadata": {},
     "output_type": "display_data"
    }
   ],
   "source": [
    "display(df.to_dict())"
   ]
  },
  {
   "cell_type": "markdown",
   "id": "73fff625",
   "metadata": {},
   "source": [
    "That's right! Though we haven't discussed it until now, `polars` offers a `pl.Series` class alongside the `pl.DataFrame` option. You can create a `pl.Series` similar to how we've created a `pl.DataFrame` in the prior section:"
   ]
  },
  {
   "cell_type": "code",
   "execution_count": 11,
   "id": "f0824c48",
   "metadata": {},
   "outputs": [
    {
     "data": {
      "text/html": [
       "<div><style>\n",
       ".dataframe > thead > tr,\n",
       ".dataframe > tbody > tr {\n",
       "  text-align: right;\n",
       "  white-space: pre-wrap;\n",
       "}\n",
       "</style>\n",
       "<small>shape: (4,)</small><table border=\"1\" class=\"dataframe\"><thead><tr><th>first_name</th></tr><tr><td>str</td></tr></thead><tbody><tr><td>&quot;dan&quot;</td></tr><tr><td>&quot;stan&quot;</td></tr><tr><td>&quot;ron&quot;</td></tr><tr><td>&quot;dawn&quot;</td></tr></tbody></table></div>"
      ],
      "text/plain": [
       "shape: (4,)\n",
       "Series: 'first_name' [str]\n",
       "[\n",
       "\t\"dan\"\n",
       "\t\"stan\"\n",
       "\t\"ron\"\n",
       "\t\"dawn\"\n",
       "]"
      ]
     },
     "execution_count": 11,
     "metadata": {},
     "output_type": "execute_result"
    }
   ],
   "source": [
    "pl.Series(name=\"first_name\", values=[\"dan\", \"stan\", \"ron\", \"dawn\"])"
   ]
  },
  {
   "cell_type": "markdown",
   "id": "e9ed9d7b",
   "metadata": {},
   "source": [
    "Instead of creating it again, we could have also extracted this `pl.Series` from the dataframe above using bracket notation:"
   ]
  },
  {
   "cell_type": "code",
   "execution_count": 12,
   "id": "39108234",
   "metadata": {},
   "outputs": [
    {
     "data": {
      "text/html": [
       "<div><style>\n",
       ".dataframe > thead > tr,\n",
       ".dataframe > tbody > tr {\n",
       "  text-align: right;\n",
       "  white-space: pre-wrap;\n",
       "}\n",
       "</style>\n",
       "<small>shape: (4,)</small><table border=\"1\" class=\"dataframe\"><thead><tr><th>first_name</th></tr><tr><td>str</td></tr></thead><tbody><tr><td>&quot;dan&quot;</td></tr><tr><td>&quot;stan&quot;</td></tr><tr><td>&quot;ron&quot;</td></tr><tr><td>&quot;dawn&quot;</td></tr></tbody></table></div>"
      ],
      "text/plain": [
       "shape: (4,)\n",
       "Series: 'first_name' [str]\n",
       "[\n",
       "\t\"dan\"\n",
       "\t\"stan\"\n",
       "\t\"ron\"\n",
       "\t\"dawn\"\n",
       "]"
      ]
     },
     "execution_count": 12,
     "metadata": {},
     "output_type": "execute_result"
    }
   ],
   "source": [
    "df[\"first_name\"]"
   ]
  },
  {
   "cell_type": "markdown",
   "id": "072b2255",
   "metadata": {},
   "source": [
    "In fact, we can create a `pl.DataFrame` from a list of `pl.Series`s as well:"
   ]
  },
  {
   "cell_type": "code",
   "execution_count": 13,
   "id": "7956d9e1",
   "metadata": {},
   "outputs": [
    {
     "data": {
      "text/html": [
       "<div><style>\n",
       ".dataframe > thead > tr,\n",
       ".dataframe > tbody > tr {\n",
       "  text-align: right;\n",
       "  white-space: pre-wrap;\n",
       "}\n",
       "</style>\n",
       "<small>shape: (4, 2)</small><table border=\"1\" class=\"dataframe\"><thead><tr><th>first_name</th><th>last_name</th></tr><tr><td>str</td><td>str</td></tr></thead><tbody><tr><td>&quot;dan&quot;</td><td>&quot;flanson&quot;</td></tr><tr><td>&quot;stan&quot;</td><td>&quot;cranson&quot;</td></tr><tr><td>&quot;ron&quot;</td><td>&quot;bronson&quot;</td></tr><tr><td>&quot;dawn&quot;</td><td>&quot;johnson&quot;</td></tr></tbody></table></div>"
      ],
      "text/plain": [
       "shape: (4, 2)\n",
       "┌────────────┬───────────┐\n",
       "│ first_name ┆ last_name │\n",
       "│ ---        ┆ ---       │\n",
       "│ str        ┆ str       │\n",
       "╞════════════╪═══════════╡\n",
       "│ dan        ┆ flanson   │\n",
       "│ stan       ┆ cranson   │\n",
       "│ ron        ┆ bronson   │\n",
       "│ dawn       ┆ johnson   │\n",
       "└────────────┴───────────┘"
      ]
     },
     "metadata": {},
     "output_type": "display_data"
    }
   ],
   "source": [
    "df_from_series = pl.DataFrame(\n",
    "    [\n",
    "        pl.Series(name=\"first_name\", values=[\"dan\", \"stan\", \"ron\", \"dawn\"]),\n",
    "        pl.Series(\n",
    "            name=\"last_name\",\n",
    "            values=[\"flanson\", \"cranson\", \"bronson\", \"johnson\"],\n",
    "        ),\n",
    "    ]\n",
    ")\n",
    "display(df_from_series)"
   ]
  },
  {
   "cell_type": "markdown",
   "id": "2bc810d7",
   "metadata": {},
   "source": [
    "And if we ever want to convert one of the columns to a `pl.Series` object, it's easy to do with `.to_series()`, passing the index of the column you want to convert to a `pl.Series`:"
   ]
  },
  {
   "cell_type": "code",
   "execution_count": 14,
   "id": "66337e02",
   "metadata": {},
   "outputs": [
    {
     "data": {
      "text/html": [
       "<div><style>\n",
       ".dataframe > thead > tr,\n",
       ".dataframe > tbody > tr {\n",
       "  text-align: right;\n",
       "  white-space: pre-wrap;\n",
       "}\n",
       "</style>\n",
       "<small>shape: (4,)</small><table border=\"1\" class=\"dataframe\"><thead><tr><th>first_name</th></tr><tr><td>str</td></tr></thead><tbody><tr><td>&quot;dan&quot;</td></tr><tr><td>&quot;stan&quot;</td></tr><tr><td>&quot;ron&quot;</td></tr><tr><td>&quot;dawn&quot;</td></tr></tbody></table></div>"
      ],
      "text/plain": [
       "shape: (4,)\n",
       "Series: 'first_name' [str]\n",
       "[\n",
       "\t\"dan\"\n",
       "\t\"stan\"\n",
       "\t\"ron\"\n",
       "\t\"dawn\"\n",
       "]"
      ]
     },
     "metadata": {},
     "output_type": "display_data"
    }
   ],
   "source": [
    "series = df_from_series.to_series(0)\n",
    "display(series)"
   ]
  },
  {
   "cell_type": "markdown",
   "id": "4a17485c",
   "metadata": {},
   "source": [
    "And the reverse is also possible:"
   ]
  },
  {
   "cell_type": "code",
   "execution_count": 15,
   "id": "eff8ecde",
   "metadata": {},
   "outputs": [
    {
     "data": {
      "text/html": [
       "<div><style>\n",
       ".dataframe > thead > tr,\n",
       ".dataframe > tbody > tr {\n",
       "  text-align: right;\n",
       "  white-space: pre-wrap;\n",
       "}\n",
       "</style>\n",
       "<small>shape: (4, 1)</small><table border=\"1\" class=\"dataframe\"><thead><tr><th>first_name</th></tr><tr><td>str</td></tr></thead><tbody><tr><td>&quot;dan&quot;</td></tr><tr><td>&quot;stan&quot;</td></tr><tr><td>&quot;ron&quot;</td></tr><tr><td>&quot;dawn&quot;</td></tr></tbody></table></div>"
      ],
      "text/plain": [
       "shape: (4, 1)\n",
       "┌────────────┐\n",
       "│ first_name │\n",
       "│ ---        │\n",
       "│ str        │\n",
       "╞════════════╡\n",
       "│ dan        │\n",
       "│ stan       │\n",
       "│ ron        │\n",
       "│ dawn       │\n",
       "└────────────┘"
      ]
     },
     "execution_count": 15,
     "metadata": {},
     "output_type": "execute_result"
    }
   ],
   "source": [
    "series.to_frame()"
   ]
  },
  {
   "cell_type": "markdown",
   "id": "4f46aa9b",
   "metadata": {},
   "source": [
    "(Note the way that the `shape` changes from `(4,)` to `(4, 1)`.)"
   ]
  },
  {
   "cell_type": "markdown",
   "id": "3063b7db",
   "metadata": {},
   "source": [
    "## 7.3. Interoperating With Pandas dataframes"
   ]
  },
  {
   "cell_type": "markdown",
   "id": "c969e4fc",
   "metadata": {},
   "source": [
    "`polars` enables us to seamlessly switch between `polars` and `pandas` dataframes. Again using the same toy dataframe:"
   ]
  },
  {
   "cell_type": "code",
   "execution_count": 16,
   "id": "221e9871",
   "metadata": {},
   "outputs": [
    {
     "data": {
      "text/html": [
       "<div><style>\n",
       ".dataframe > thead > tr,\n",
       ".dataframe > tbody > tr {\n",
       "  text-align: right;\n",
       "  white-space: pre-wrap;\n",
       "}\n",
       "</style>\n",
       "<small>shape: (4, 2)</small><table border=\"1\" class=\"dataframe\"><thead><tr><th>first_name</th><th>last_name</th></tr><tr><td>str</td><td>str</td></tr></thead><tbody><tr><td>&quot;dan&quot;</td><td>&quot;flanson&quot;</td></tr><tr><td>&quot;stan&quot;</td><td>&quot;cranson&quot;</td></tr><tr><td>&quot;ron&quot;</td><td>&quot;bronson&quot;</td></tr><tr><td>&quot;dawn&quot;</td><td>&quot;johnson&quot;</td></tr></tbody></table></div>"
      ],
      "text/plain": [
       "shape: (4, 2)\n",
       "┌────────────┬───────────┐\n",
       "│ first_name ┆ last_name │\n",
       "│ ---        ┆ ---       │\n",
       "│ str        ┆ str       │\n",
       "╞════════════╪═══════════╡\n",
       "│ dan        ┆ flanson   │\n",
       "│ stan       ┆ cranson   │\n",
       "│ ron        ┆ bronson   │\n",
       "│ dawn       ┆ johnson   │\n",
       "└────────────┴───────────┘"
      ]
     },
     "execution_count": 16,
     "metadata": {},
     "output_type": "execute_result"
    }
   ],
   "source": [
    "df = pl.DataFrame(\n",
    "    {\n",
    "        \"first_name\": [\"dan\", \"stan\", \"ron\", \"dawn\"],\n",
    "        \"last_name\": [\"flanson\", \"cranson\", \"bronson\", \"johnson\"],\n",
    "    }\n",
    ")\n",
    "df.head()"
   ]
  },
  {
   "cell_type": "markdown",
   "id": "4ab6309b",
   "metadata": {},
   "source": [
    "It's just a simple call to `.to_pandas()`."
   ]
  },
  {
   "cell_type": "code",
   "execution_count": 17,
   "id": "d57e0966",
   "metadata": {},
   "outputs": [
    {
     "data": {
      "text/plain": [
       "pandas.core.frame.DataFrame"
      ]
     },
     "metadata": {},
     "output_type": "display_data"
    },
    {
     "data": {
      "text/html": [
       "<div>\n",
       "<style scoped>\n",
       "    .dataframe tbody tr th:only-of-type {\n",
       "        vertical-align: middle;\n",
       "    }\n",
       "\n",
       "    .dataframe tbody tr th {\n",
       "        vertical-align: top;\n",
       "    }\n",
       "\n",
       "    .dataframe thead th {\n",
       "        text-align: right;\n",
       "    }\n",
       "</style>\n",
       "<table border=\"1\" class=\"dataframe\">\n",
       "  <thead>\n",
       "    <tr style=\"text-align: right;\">\n",
       "      <th></th>\n",
       "      <th>first_name</th>\n",
       "      <th>last_name</th>\n",
       "    </tr>\n",
       "  </thead>\n",
       "  <tbody>\n",
       "    <tr>\n",
       "      <th>0</th>\n",
       "      <td>dan</td>\n",
       "      <td>flanson</td>\n",
       "    </tr>\n",
       "    <tr>\n",
       "      <th>1</th>\n",
       "      <td>stan</td>\n",
       "      <td>cranson</td>\n",
       "    </tr>\n",
       "    <tr>\n",
       "      <th>2</th>\n",
       "      <td>ron</td>\n",
       "      <td>bronson</td>\n",
       "    </tr>\n",
       "    <tr>\n",
       "      <th>3</th>\n",
       "      <td>dawn</td>\n",
       "      <td>johnson</td>\n",
       "    </tr>\n",
       "  </tbody>\n",
       "</table>\n",
       "</div>"
      ],
      "text/plain": [
       "  first_name last_name\n",
       "0        dan   flanson\n",
       "1       stan   cranson\n",
       "2        ron   bronson\n",
       "3       dawn   johnson"
      ]
     },
     "metadata": {},
     "output_type": "display_data"
    }
   ],
   "source": [
    "pandas_df = df.to_pandas()\n",
    "display(type(pandas_df))\n",
    "display(pandas_df)"
   ]
  },
  {
   "cell_type": "markdown",
   "id": "c5c80b41",
   "metadata": {},
   "source": [
    "And we can go back with `pl.from_pandas()`:"
   ]
  },
  {
   "cell_type": "code",
   "execution_count": 18,
   "id": "87bcb8e8",
   "metadata": {},
   "outputs": [
    {
     "data": {
      "text/plain": [
       "polars.dataframe.frame.DataFrame"
      ]
     },
     "metadata": {},
     "output_type": "display_data"
    },
    {
     "data": {
      "text/html": [
       "<div><style>\n",
       ".dataframe > thead > tr,\n",
       ".dataframe > tbody > tr {\n",
       "  text-align: right;\n",
       "  white-space: pre-wrap;\n",
       "}\n",
       "</style>\n",
       "<small>shape: (4, 2)</small><table border=\"1\" class=\"dataframe\"><thead><tr><th>first_name</th><th>last_name</th></tr><tr><td>str</td><td>str</td></tr></thead><tbody><tr><td>&quot;dan&quot;</td><td>&quot;flanson&quot;</td></tr><tr><td>&quot;stan&quot;</td><td>&quot;cranson&quot;</td></tr><tr><td>&quot;ron&quot;</td><td>&quot;bronson&quot;</td></tr><tr><td>&quot;dawn&quot;</td><td>&quot;johnson&quot;</td></tr></tbody></table></div>"
      ],
      "text/plain": [
       "shape: (4, 2)\n",
       "┌────────────┬───────────┐\n",
       "│ first_name ┆ last_name │\n",
       "│ ---        ┆ ---       │\n",
       "│ str        ┆ str       │\n",
       "╞════════════╪═══════════╡\n",
       "│ dan        ┆ flanson   │\n",
       "│ stan       ┆ cranson   │\n",
       "│ ron        ┆ bronson   │\n",
       "│ dawn       ┆ johnson   │\n",
       "└────────────┴───────────┘"
      ]
     },
     "metadata": {},
     "output_type": "display_data"
    }
   ],
   "source": [
    "polars_df = pl.from_pandas(pandas_df)\n",
    "display(type(polars_df))\n",
    "display(polars_df)"
   ]
  },
  {
   "cell_type": "markdown",
   "id": "68eb6868",
   "metadata": {},
   "source": [
    "## 7.4. Interoperating With Numpy Arrays"
   ]
  },
  {
   "cell_type": "markdown",
   "id": "eea24ec5",
   "metadata": {},
   "source": [
    "As with `pandas`, same with `numpy`:"
   ]
  },
  {
   "cell_type": "code",
   "execution_count": 19,
   "id": "d0a57104",
   "metadata": {},
   "outputs": [
    {
     "data": {
      "text/plain": [
       "array([['dan', 'flanson'],\n",
       "       ['stan', 'cranson'],\n",
       "       ['ron', 'bronson'],\n",
       "       ['dawn', 'johnson']], dtype=object)"
      ]
     },
     "metadata": {},
     "output_type": "display_data"
    }
   ],
   "source": [
    "numpy_array = df.to_numpy()\n",
    "display(numpy_array)"
   ]
  },
  {
   "cell_type": "markdown",
   "id": "f6be7a61",
   "metadata": {},
   "source": [
    "And we can just as easily switch back to `polars`:"
   ]
  },
  {
   "cell_type": "code",
   "execution_count": 20,
   "id": "9f8f7309",
   "metadata": {},
   "outputs": [
    {
     "data": {
      "text/html": [
       "<div><style>\n",
       ".dataframe > thead > tr,\n",
       ".dataframe > tbody > tr {\n",
       "  text-align: right;\n",
       "  white-space: pre-wrap;\n",
       "}\n",
       "</style>\n",
       "<small>shape: (4, 2)</small><table border=\"1\" class=\"dataframe\"><thead><tr><th>column_0</th><th>column_1</th></tr><tr><td>str</td><td>str</td></tr></thead><tbody><tr><td>&quot;dan&quot;</td><td>&quot;flanson&quot;</td></tr><tr><td>&quot;stan&quot;</td><td>&quot;cranson&quot;</td></tr><tr><td>&quot;ron&quot;</td><td>&quot;bronson&quot;</td></tr><tr><td>&quot;dawn&quot;</td><td>&quot;johnson&quot;</td></tr></tbody></table></div>"
      ],
      "text/plain": [
       "shape: (4, 2)\n",
       "┌──────────┬──────────┐\n",
       "│ column_0 ┆ column_1 │\n",
       "│ ---      ┆ ---      │\n",
       "│ str      ┆ str      │\n",
       "╞══════════╪══════════╡\n",
       "│ dan      ┆ flanson  │\n",
       "│ stan     ┆ cranson  │\n",
       "│ ron      ┆ bronson  │\n",
       "│ dawn     ┆ johnson  │\n",
       "└──────────┴──────────┘"
      ]
     },
     "metadata": {},
     "output_type": "display_data"
    }
   ],
   "source": [
    "df_from_numpy_array = pl.from_numpy(numpy_array)\n",
    "display(df_from_numpy_array)"
   ]
  },
  {
   "cell_type": "markdown",
   "id": "6a326367",
   "metadata": {},
   "source": [
    "However, since `numpy` isn't truly a library for working with dataframes (i.e. with columnar data that has column names etc), if we want to bring back the column names then we'll have to pass them explicitly, with an argument:"
   ]
  },
  {
   "cell_type": "code",
   "execution_count": 21,
   "id": "807bd23e",
   "metadata": {},
   "outputs": [
    {
     "data": {
      "text/html": [
       "<div><style>\n",
       ".dataframe > thead > tr,\n",
       ".dataframe > tbody > tr {\n",
       "  text-align: right;\n",
       "  white-space: pre-wrap;\n",
       "}\n",
       "</style>\n",
       "<small>shape: (4, 2)</small><table border=\"1\" class=\"dataframe\"><thead><tr><th>first_name</th><th>last_name</th></tr><tr><td>str</td><td>str</td></tr></thead><tbody><tr><td>&quot;dan&quot;</td><td>&quot;flanson&quot;</td></tr><tr><td>&quot;stan&quot;</td><td>&quot;cranson&quot;</td></tr><tr><td>&quot;ron&quot;</td><td>&quot;bronson&quot;</td></tr><tr><td>&quot;dawn&quot;</td><td>&quot;johnson&quot;</td></tr></tbody></table></div>"
      ],
      "text/plain": [
       "shape: (4, 2)\n",
       "┌────────────┬───────────┐\n",
       "│ first_name ┆ last_name │\n",
       "│ ---        ┆ ---       │\n",
       "│ str        ┆ str       │\n",
       "╞════════════╪═══════════╡\n",
       "│ dan        ┆ flanson   │\n",
       "│ stan       ┆ cranson   │\n",
       "│ ron        ┆ bronson   │\n",
       "│ dawn       ┆ johnson   │\n",
       "└────────────┴───────────┘"
      ]
     },
     "metadata": {},
     "output_type": "display_data"
    }
   ],
   "source": [
    "df_from_numpy_array = pl.from_numpy(\n",
    "    numpy_array, schema=[\"first_name\", \"last_name\"]\n",
    ")\n",
    "display(df_from_numpy_array)"
   ]
  },
  {
   "cell_type": "markdown",
   "id": "4e39470d",
   "metadata": {},
   "source": [
    "## 7.5. Dataframe Writing Rapid-Fire"
   ]
  },
  {
   "cell_type": "markdown",
   "id": "da9484a4",
   "metadata": {},
   "source": [
    "Let's look at some more of the different ways that `polars` can write out our toy dataframe to disk:"
   ]
  },
  {
   "cell_type": "code",
   "execution_count": 22,
   "id": "6e47daca",
   "metadata": {},
   "outputs": [
    {
     "data": {
      "text/html": [
       "<div><style>\n",
       ".dataframe > thead > tr,\n",
       ".dataframe > tbody > tr {\n",
       "  text-align: right;\n",
       "  white-space: pre-wrap;\n",
       "}\n",
       "</style>\n",
       "<small>shape: (4, 2)</small><table border=\"1\" class=\"dataframe\"><thead><tr><th>first_name</th><th>last_name</th></tr><tr><td>str</td><td>str</td></tr></thead><tbody><tr><td>&quot;dan&quot;</td><td>&quot;flanson&quot;</td></tr><tr><td>&quot;stan&quot;</td><td>&quot;cranson&quot;</td></tr><tr><td>&quot;ron&quot;</td><td>&quot;bronson&quot;</td></tr><tr><td>&quot;dawn&quot;</td><td>&quot;johnson&quot;</td></tr></tbody></table></div>"
      ],
      "text/plain": [
       "shape: (4, 2)\n",
       "┌────────────┬───────────┐\n",
       "│ first_name ┆ last_name │\n",
       "│ ---        ┆ ---       │\n",
       "│ str        ┆ str       │\n",
       "╞════════════╪═══════════╡\n",
       "│ dan        ┆ flanson   │\n",
       "│ stan       ┆ cranson   │\n",
       "│ ron        ┆ bronson   │\n",
       "│ dawn       ┆ johnson   │\n",
       "└────────────┴───────────┘"
      ]
     },
     "execution_count": 22,
     "metadata": {},
     "output_type": "execute_result"
    }
   ],
   "source": [
    "df"
   ]
  },
  {
   "cell_type": "markdown",
   "id": "35a00c40",
   "metadata": {},
   "source": [
    "#### Working with excel files"
   ]
  },
  {
   "cell_type": "markdown",
   "id": "30daaf9f",
   "metadata": {},
   "source": [
    "We can write data to an excel file..."
   ]
  },
  {
   "cell_type": "code",
   "execution_count": 23,
   "id": "aa77f211",
   "metadata": {},
   "outputs": [
    {
     "data": {
      "text/plain": [
       "<xlsxwriter.workbook.Workbook at 0xe9b00bc1ca00>"
      ]
     },
     "execution_count": 23,
     "metadata": {},
     "output_type": "execute_result"
    }
   ],
   "source": [
    "df.write_excel(\"../data/toy_df.xlsx\")"
   ]
  },
  {
   "cell_type": "markdown",
   "id": "6b14980b",
   "metadata": {},
   "source": [
    "...and load it back in from that file."
   ]
  },
  {
   "cell_type": "code",
   "execution_count": 24,
   "id": "9abed04d",
   "metadata": {},
   "outputs": [
    {
     "data": {
      "text/html": [
       "<div><style>\n",
       ".dataframe > thead > tr,\n",
       ".dataframe > tbody > tr {\n",
       "  text-align: right;\n",
       "  white-space: pre-wrap;\n",
       "}\n",
       "</style>\n",
       "<small>shape: (4, 2)</small><table border=\"1\" class=\"dataframe\"><thead><tr><th>first_name</th><th>last_name</th></tr><tr><td>str</td><td>str</td></tr></thead><tbody><tr><td>&quot;dan&quot;</td><td>&quot;flanson&quot;</td></tr><tr><td>&quot;stan&quot;</td><td>&quot;cranson&quot;</td></tr><tr><td>&quot;ron&quot;</td><td>&quot;bronson&quot;</td></tr><tr><td>&quot;dawn&quot;</td><td>&quot;johnson&quot;</td></tr></tbody></table></div>"
      ],
      "text/plain": [
       "shape: (4, 2)\n",
       "┌────────────┬───────────┐\n",
       "│ first_name ┆ last_name │\n",
       "│ ---        ┆ ---       │\n",
       "│ str        ┆ str       │\n",
       "╞════════════╪═══════════╡\n",
       "│ dan        ┆ flanson   │\n",
       "│ stan       ┆ cranson   │\n",
       "│ ron        ┆ bronson   │\n",
       "│ dawn       ┆ johnson   │\n",
       "└────────────┴───────────┘"
      ]
     },
     "execution_count": 24,
     "metadata": {},
     "output_type": "execute_result"
    }
   ],
   "source": [
    "pl.read_excel(\"../data/toy_df.xlsx\")"
   ]
  },
  {
   "cell_type": "markdown",
   "id": "59f6ee4c",
   "metadata": {},
   "source": [
    "#### Working with json files"
   ]
  },
  {
   "cell_type": "markdown",
   "id": "c21293c3",
   "metadata": {},
   "source": [
    "We can write data to a json file..."
   ]
  },
  {
   "cell_type": "code",
   "execution_count": 25,
   "id": "3f6aa5b7",
   "metadata": {},
   "outputs": [],
   "source": [
    "df.write_json(\"../data/toy_df.json\")"
   ]
  },
  {
   "cell_type": "markdown",
   "id": "b95e3458",
   "metadata": {},
   "source": [
    "... and load it back in from that file."
   ]
  },
  {
   "cell_type": "code",
   "execution_count": 26,
   "id": "210b79ec",
   "metadata": {},
   "outputs": [
    {
     "data": {
      "text/html": [
       "<div><style>\n",
       ".dataframe > thead > tr,\n",
       ".dataframe > tbody > tr {\n",
       "  text-align: right;\n",
       "  white-space: pre-wrap;\n",
       "}\n",
       "</style>\n",
       "<small>shape: (4, 2)</small><table border=\"1\" class=\"dataframe\"><thead><tr><th>first_name</th><th>last_name</th></tr><tr><td>str</td><td>str</td></tr></thead><tbody><tr><td>&quot;dan&quot;</td><td>&quot;flanson&quot;</td></tr><tr><td>&quot;stan&quot;</td><td>&quot;cranson&quot;</td></tr><tr><td>&quot;ron&quot;</td><td>&quot;bronson&quot;</td></tr><tr><td>&quot;dawn&quot;</td><td>&quot;johnson&quot;</td></tr></tbody></table></div>"
      ],
      "text/plain": [
       "shape: (4, 2)\n",
       "┌────────────┬───────────┐\n",
       "│ first_name ┆ last_name │\n",
       "│ ---        ┆ ---       │\n",
       "│ str        ┆ str       │\n",
       "╞════════════╪═══════════╡\n",
       "│ dan        ┆ flanson   │\n",
       "│ stan       ┆ cranson   │\n",
       "│ ron        ┆ bronson   │\n",
       "│ dawn       ┆ johnson   │\n",
       "└────────────┴───────────┘"
      ]
     },
     "execution_count": 26,
     "metadata": {},
     "output_type": "execute_result"
    }
   ],
   "source": [
    "pl.read_json(\"../data/toy_df.json\")"
   ]
  },
  {
   "cell_type": "markdown",
   "id": "8ce9cd98",
   "metadata": {},
   "source": [
    "#### Working with njson files"
   ]
  },
  {
   "cell_type": "markdown",
   "id": "6b933295",
   "metadata": {},
   "source": [
    "We can write data to a newline delimited json file..."
   ]
  },
  {
   "cell_type": "code",
   "execution_count": 27,
   "id": "d98d0bbf",
   "metadata": {},
   "outputs": [],
   "source": [
    "df.write_ndjson(\"../data/toy_df.njson\")"
   ]
  },
  {
   "cell_type": "markdown",
   "id": "f107768f",
   "metadata": {},
   "source": [
    "... and load it back in from that file."
   ]
  },
  {
   "cell_type": "code",
   "execution_count": 28,
   "id": "9f2391d0",
   "metadata": {},
   "outputs": [
    {
     "data": {
      "text/html": [
       "<div><style>\n",
       ".dataframe > thead > tr,\n",
       ".dataframe > tbody > tr {\n",
       "  text-align: right;\n",
       "  white-space: pre-wrap;\n",
       "}\n",
       "</style>\n",
       "<small>shape: (4, 2)</small><table border=\"1\" class=\"dataframe\"><thead><tr><th>first_name</th><th>last_name</th></tr><tr><td>str</td><td>str</td></tr></thead><tbody><tr><td>&quot;dan&quot;</td><td>&quot;flanson&quot;</td></tr><tr><td>&quot;stan&quot;</td><td>&quot;cranson&quot;</td></tr><tr><td>&quot;ron&quot;</td><td>&quot;bronson&quot;</td></tr><tr><td>&quot;dawn&quot;</td><td>&quot;johnson&quot;</td></tr></tbody></table></div>"
      ],
      "text/plain": [
       "shape: (4, 2)\n",
       "┌────────────┬───────────┐\n",
       "│ first_name ┆ last_name │\n",
       "│ ---        ┆ ---       │\n",
       "│ str        ┆ str       │\n",
       "╞════════════╪═══════════╡\n",
       "│ dan        ┆ flanson   │\n",
       "│ stan       ┆ cranson   │\n",
       "│ ron        ┆ bronson   │\n",
       "│ dawn       ┆ johnson   │\n",
       "└────────────┴───────────┘"
      ]
     },
     "execution_count": 28,
     "metadata": {},
     "output_type": "execute_result"
    }
   ],
   "source": [
    "pl.read_ndjson(\"../data/toy_df.njson\")"
   ]
  },
  {
   "cell_type": "markdown",
   "id": "80e92ad6",
   "metadata": {},
   "source": [
    "#### Working with partitioned pyarrow datasets"
   ]
  },
  {
   "cell_type": "markdown",
   "id": "ce42b319",
   "metadata": {},
   "source": [
    "We can also write data in partitions to disk, by leaning on `pyarrow` partition functionality. To show this, let's load in the taxi rides data, adding a `\"tpep_pickup_date\"` column for partitioning:"
   ]
  },
  {
   "cell_type": "code",
   "execution_count": 29,
   "id": "a9a1d3b0",
   "metadata": {},
   "outputs": [
    {
     "data": {
      "text/plain": [
       "(3582628, 20)"
      ]
     },
     "metadata": {},
     "output_type": "display_data"
    },
    {
     "data": {
      "text/html": [
       "<div><style>\n",
       ".dataframe > thead > tr,\n",
       ".dataframe > tbody > tr {\n",
       "  text-align: right;\n",
       "  white-space: pre-wrap;\n",
       "}\n",
       "</style>\n",
       "<small>shape: (5, 20)</small><table border=\"1\" class=\"dataframe\"><thead><tr><th>vendor_id</th><th>tpep_pickup_datetime</th><th>tpep_dropoff_datetime</th><th>passenger_count</th><th>trip_distance</th><th>ratecode_id</th><th>store_and_fwd_flag</th><th>pu_location_id</th><th>do_location_id</th><th>payment_type</th><th>fare_amount</th><th>extra</th><th>mta_tax</th><th>tip_amount</th><th>tolls_amount</th><th>improvement_surcharge</th><th>total_amount</th><th>congestion_surcharge</th><th>airport_fee</th><th>tpep_pickup_date</th></tr><tr><td>i32</td><td>datetime[ns]</td><td>datetime[ns]</td><td>i64</td><td>f64</td><td>i64</td><td>str</td><td>i32</td><td>i32</td><td>i64</td><td>f64</td><td>f64</td><td>f64</td><td>f64</td><td>f64</td><td>f64</td><td>f64</td><td>f64</td><td>f64</td><td>date</td></tr></thead><tbody><tr><td>1</td><td>2024-03-01 00:18:51</td><td>2024-03-01 00:23:45</td><td>0</td><td>1.3</td><td>1</td><td>&quot;N&quot;</td><td>142</td><td>239</td><td>1</td><td>8.6</td><td>3.5</td><td>0.5</td><td>2.7</td><td>0.0</td><td>1.0</td><td>16.3</td><td>2.5</td><td>0.0</td><td>2024-03-01</td></tr><tr><td>1</td><td>2024-03-01 00:26:00</td><td>2024-03-01 00:29:06</td><td>0</td><td>1.1</td><td>1</td><td>&quot;N&quot;</td><td>238</td><td>24</td><td>1</td><td>7.2</td><td>3.5</td><td>0.5</td><td>3.0</td><td>0.0</td><td>1.0</td><td>15.2</td><td>2.5</td><td>0.0</td><td>2024-03-01</td></tr><tr><td>2</td><td>2024-03-01 00:09:22</td><td>2024-03-01 00:15:24</td><td>1</td><td>0.86</td><td>1</td><td>&quot;N&quot;</td><td>263</td><td>75</td><td>2</td><td>7.9</td><td>1.0</td><td>0.5</td><td>0.0</td><td>0.0</td><td>1.0</td><td>10.4</td><td>0.0</td><td>0.0</td><td>2024-03-01</td></tr><tr><td>2</td><td>2024-03-01 00:33:45</td><td>2024-03-01 00:39:34</td><td>1</td><td>0.82</td><td>1</td><td>&quot;N&quot;</td><td>164</td><td>162</td><td>1</td><td>7.9</td><td>1.0</td><td>0.5</td><td>1.29</td><td>0.0</td><td>1.0</td><td>14.19</td><td>2.5</td><td>0.0</td><td>2024-03-01</td></tr><tr><td>1</td><td>2024-03-01 00:05:43</td><td>2024-03-01 00:26:22</td><td>0</td><td>4.9</td><td>1</td><td>&quot;N&quot;</td><td>263</td><td>7</td><td>2</td><td>25.4</td><td>3.5</td><td>0.5</td><td>0.0</td><td>0.0</td><td>1.0</td><td>30.4</td><td>2.5</td><td>0.0</td><td>2024-03-01</td></tr></tbody></table></div>"
      ],
      "text/plain": [
       "shape: (5, 20)\n",
       "┌───────────┬───────────┬───────────┬───────────┬───┬───────────┬───────────┬───────────┬──────────┐\n",
       "│ vendor_id ┆ tpep_pick ┆ tpep_drop ┆ passenger ┆ … ┆ total_amo ┆ congestio ┆ airport_f ┆ tpep_pic │\n",
       "│ ---       ┆ up_dateti ┆ off_datet ┆ _count    ┆   ┆ unt       ┆ n_surchar ┆ ee        ┆ kup_date │\n",
       "│ i32       ┆ me        ┆ ime       ┆ ---       ┆   ┆ ---       ┆ ge        ┆ ---       ┆ ---      │\n",
       "│           ┆ ---       ┆ ---       ┆ i64       ┆   ┆ f64       ┆ ---       ┆ f64       ┆ date     │\n",
       "│           ┆ datetime[ ┆ datetime[ ┆           ┆   ┆           ┆ f64       ┆           ┆          │\n",
       "│           ┆ ns]       ┆ ns]       ┆           ┆   ┆           ┆           ┆           ┆          │\n",
       "╞═══════════╪═══════════╪═══════════╪═══════════╪═══╪═══════════╪═══════════╪═══════════╪══════════╡\n",
       "│ 1         ┆ 2024-03-0 ┆ 2024-03-0 ┆ 0         ┆ … ┆ 16.3      ┆ 2.5       ┆ 0.0       ┆ 2024-03- │\n",
       "│           ┆ 1         ┆ 1         ┆           ┆   ┆           ┆           ┆           ┆ 01       │\n",
       "│           ┆ 00:18:51  ┆ 00:23:45  ┆           ┆   ┆           ┆           ┆           ┆          │\n",
       "│ 1         ┆ 2024-03-0 ┆ 2024-03-0 ┆ 0         ┆ … ┆ 15.2      ┆ 2.5       ┆ 0.0       ┆ 2024-03- │\n",
       "│           ┆ 1         ┆ 1         ┆           ┆   ┆           ┆           ┆           ┆ 01       │\n",
       "│           ┆ 00:26:00  ┆ 00:29:06  ┆           ┆   ┆           ┆           ┆           ┆          │\n",
       "│ 2         ┆ 2024-03-0 ┆ 2024-03-0 ┆ 1         ┆ … ┆ 10.4      ┆ 0.0       ┆ 0.0       ┆ 2024-03- │\n",
       "│           ┆ 1         ┆ 1         ┆           ┆   ┆           ┆           ┆           ┆ 01       │\n",
       "│           ┆ 00:09:22  ┆ 00:15:24  ┆           ┆   ┆           ┆           ┆           ┆          │\n",
       "│ 2         ┆ 2024-03-0 ┆ 2024-03-0 ┆ 1         ┆ … ┆ 14.19     ┆ 2.5       ┆ 0.0       ┆ 2024-03- │\n",
       "│           ┆ 1         ┆ 1         ┆           ┆   ┆           ┆           ┆           ┆ 01       │\n",
       "│           ┆ 00:33:45  ┆ 00:39:34  ┆           ┆   ┆           ┆           ┆           ┆          │\n",
       "│ 1         ┆ 2024-03-0 ┆ 2024-03-0 ┆ 0         ┆ … ┆ 30.4      ┆ 2.5       ┆ 0.0       ┆ 2024-03- │\n",
       "│           ┆ 1         ┆ 1         ┆           ┆   ┆           ┆           ┆           ┆ 01       │\n",
       "│           ┆ 00:05:43  ┆ 00:26:22  ┆           ┆   ┆           ┆           ┆           ┆          │\n",
       "└───────────┴───────────┴───────────┴───────────┴───┴───────────┴───────────┴───────────┴──────────┘"
      ]
     },
     "metadata": {},
     "output_type": "display_data"
    }
   ],
   "source": [
    "yellow_rides_column_rename_mapping = {\n",
    "    \"VendorID\": \"vendor_id\",\n",
    "    \"RatecodeID\": \"ratecode_id\",\n",
    "    \"PULocationID\": \"pu_location_id\",\n",
    "    \"DOLocationID\": \"do_location_id\",\n",
    "    \"Airport_fee\": \"airport_fee\",\n",
    "}\n",
    "march_yellow_rides_df = (\n",
    "    pl.read_parquet(local_parquet)\n",
    "    .rename(yellow_rides_column_rename_mapping)\n",
    "    .with_columns(\n",
    "        pl.col(\"tpep_pickup_datetime\").dt.date().alias(\"tpep_pickup_date\")\n",
    "    )\n",
    ")\n",
    "display(march_yellow_rides_df.shape)\n",
    "display(march_yellow_rides_df.head())"
   ]
  },
  {
   "cell_type": "markdown",
   "id": "56d10aaa",
   "metadata": {},
   "source": [
    "We can then save this dataframe, not to a single parquet file like we read from, but to a parquet file **pattern** (or simply directory)."
   ]
  },
  {
   "cell_type": "code",
   "execution_count": 30,
   "id": "694e5eda",
   "metadata": {},
   "outputs": [],
   "source": [
    "march_yellow_rides_df.write_parquet(\n",
    "    \"../data/partitioned_march_rides_2/\",\n",
    "    use_pyarrow=True,\n",
    "    pyarrow_options={\"partition_cols\": [\"tpep_pickup_date\"]},\n",
    ")"
   ]
  },
  {
   "cell_type": "markdown",
   "id": "0bf59b03",
   "metadata": {},
   "source": [
    "And we can load this back in with a regular `.read_parquet()`, pointing to the directory, again using `pyarrow`:"
   ]
  },
  {
   "cell_type": "code",
   "execution_count": 31,
   "id": "dc6c95a1",
   "metadata": {},
   "outputs": [
    {
     "data": {
      "text/plain": [
       "(3582628, 20)"
      ]
     },
     "metadata": {},
     "output_type": "display_data"
    },
    {
     "data": {
      "text/html": [
       "<div><style>\n",
       ".dataframe > thead > tr,\n",
       ".dataframe > tbody > tr {\n",
       "  text-align: right;\n",
       "  white-space: pre-wrap;\n",
       "}\n",
       "</style>\n",
       "<small>shape: (5, 20)</small><table border=\"1\" class=\"dataframe\"><thead><tr><th>vendor_id</th><th>tpep_pickup_datetime</th><th>tpep_dropoff_datetime</th><th>passenger_count</th><th>trip_distance</th><th>ratecode_id</th><th>store_and_fwd_flag</th><th>pu_location_id</th><th>do_location_id</th><th>payment_type</th><th>fare_amount</th><th>extra</th><th>mta_tax</th><th>tip_amount</th><th>tolls_amount</th><th>improvement_surcharge</th><th>total_amount</th><th>congestion_surcharge</th><th>airport_fee</th><th>tpep_pickup_date</th></tr><tr><td>i32</td><td>datetime[ns]</td><td>datetime[ns]</td><td>i64</td><td>f64</td><td>i64</td><td>str</td><td>i32</td><td>i32</td><td>i64</td><td>f64</td><td>f64</td><td>f64</td><td>f64</td><td>f64</td><td>f64</td><td>f64</td><td>f64</td><td>f64</td><td>cat</td></tr></thead><tbody><tr><td>2</td><td>2002-12-31 22:17:10</td><td>2002-12-31 22:42:24</td><td>1</td><td>1.4</td><td>1</td><td>&quot;N&quot;</td><td>50</td><td>162</td><td>1</td><td>10.0</td><td>1.0</td><td>0.5</td><td>3.0</td><td>0.0</td><td>1.0</td><td>18.0</td><td>2.5</td><td>0.0</td><td>&quot;2002-12-31&quot;</td></tr><tr><td>2</td><td>2002-12-31 23:08:30</td><td>2003-01-01 14:58:35</td><td>1</td><td>5.34</td><td>1</td><td>&quot;N&quot;</td><td>132</td><td>124</td><td>2</td><td>21.9</td><td>0.0</td><td>0.5</td><td>0.0</td><td>0.0</td><td>1.0</td><td>25.15</td><td>0.0</td><td>1.75</td><td>&quot;2002-12-31&quot;</td></tr><tr><td>2</td><td>2024-02-29 23:52:39</td><td>2024-02-29 23:57:31</td><td>2</td><td>0.69</td><td>1</td><td>&quot;N&quot;</td><td>234</td><td>113</td><td>1</td><td>6.5</td><td>1.0</td><td>0.5</td><td>2.3</td><td>0.0</td><td>1.0</td><td>13.8</td><td>2.5</td><td>0.0</td><td>&quot;2024-02-29&quot;</td></tr><tr><td>2</td><td>2024-02-29 23:59:33</td><td>2024-03-01 00:18:39</td><td>2</td><td>3.43</td><td>1</td><td>&quot;N&quot;</td><td>68</td><td>148</td><td>1</td><td>19.8</td><td>1.0</td><td>0.5</td><td>3.0</td><td>0.0</td><td>1.0</td><td>27.8</td><td>2.5</td><td>0.0</td><td>&quot;2024-02-29&quot;</td></tr><tr><td>2</td><td>2024-02-29 23:59:13</td><td>2024-03-01 00:13:55</td><td>1</td><td>8.92</td><td>1</td><td>&quot;N&quot;</td><td>132</td><td>39</td><td>1</td><td>34.5</td><td>1.0</td><td>0.5</td><td>0.0</td><td>0.0</td><td>1.0</td><td>38.75</td><td>0.0</td><td>1.75</td><td>&quot;2024-02-29&quot;</td></tr></tbody></table></div>"
      ],
      "text/plain": [
       "shape: (5, 20)\n",
       "┌───────────┬───────────┬───────────┬───────────┬───┬───────────┬───────────┬───────────┬──────────┐\n",
       "│ vendor_id ┆ tpep_pick ┆ tpep_drop ┆ passenger ┆ … ┆ total_amo ┆ congestio ┆ airport_f ┆ tpep_pic │\n",
       "│ ---       ┆ up_dateti ┆ off_datet ┆ _count    ┆   ┆ unt       ┆ n_surchar ┆ ee        ┆ kup_date │\n",
       "│ i32       ┆ me        ┆ ime       ┆ ---       ┆   ┆ ---       ┆ ge        ┆ ---       ┆ ---      │\n",
       "│           ┆ ---       ┆ ---       ┆ i64       ┆   ┆ f64       ┆ ---       ┆ f64       ┆ cat      │\n",
       "│           ┆ datetime[ ┆ datetime[ ┆           ┆   ┆           ┆ f64       ┆           ┆          │\n",
       "│           ┆ ns]       ┆ ns]       ┆           ┆   ┆           ┆           ┆           ┆          │\n",
       "╞═══════════╪═══════════╪═══════════╪═══════════╪═══╪═══════════╪═══════════╪═══════════╪══════════╡\n",
       "│ 2         ┆ 2002-12-3 ┆ 2002-12-3 ┆ 1         ┆ … ┆ 18.0      ┆ 2.5       ┆ 0.0       ┆ 2002-12- │\n",
       "│           ┆ 1         ┆ 1         ┆           ┆   ┆           ┆           ┆           ┆ 31       │\n",
       "│           ┆ 22:17:10  ┆ 22:42:24  ┆           ┆   ┆           ┆           ┆           ┆          │\n",
       "│ 2         ┆ 2002-12-3 ┆ 2003-01-0 ┆ 1         ┆ … ┆ 25.15     ┆ 0.0       ┆ 1.75      ┆ 2002-12- │\n",
       "│           ┆ 1         ┆ 1         ┆           ┆   ┆           ┆           ┆           ┆ 31       │\n",
       "│           ┆ 23:08:30  ┆ 14:58:35  ┆           ┆   ┆           ┆           ┆           ┆          │\n",
       "│ 2         ┆ 2024-02-2 ┆ 2024-02-2 ┆ 2         ┆ … ┆ 13.8      ┆ 2.5       ┆ 0.0       ┆ 2024-02- │\n",
       "│           ┆ 9         ┆ 9         ┆           ┆   ┆           ┆           ┆           ┆ 29       │\n",
       "│           ┆ 23:52:39  ┆ 23:57:31  ┆           ┆   ┆           ┆           ┆           ┆          │\n",
       "│ 2         ┆ 2024-02-2 ┆ 2024-03-0 ┆ 2         ┆ … ┆ 27.8      ┆ 2.5       ┆ 0.0       ┆ 2024-02- │\n",
       "│           ┆ 9         ┆ 1         ┆           ┆   ┆           ┆           ┆           ┆ 29       │\n",
       "│           ┆ 23:59:33  ┆ 00:18:39  ┆           ┆   ┆           ┆           ┆           ┆          │\n",
       "│ 2         ┆ 2024-02-2 ┆ 2024-03-0 ┆ 1         ┆ … ┆ 38.75     ┆ 0.0       ┆ 1.75      ┆ 2024-02- │\n",
       "│           ┆ 9         ┆ 1         ┆           ┆   ┆           ┆           ┆           ┆ 29       │\n",
       "│           ┆ 23:59:13  ┆ 00:13:55  ┆           ┆   ┆           ┆           ┆           ┆          │\n",
       "└───────────┴───────────┴───────────┴───────────┴───┴───────────┴───────────┴───────────┴──────────┘"
      ]
     },
     "metadata": {},
     "output_type": "display_data"
    }
   ],
   "source": [
    "loaded_df_all_partition = pl.read_parquet(\n",
    "    \"../data/partitioned_march_rides_2/\", use_pyarrow=True\n",
    ")\n",
    "display(loaded_df_all_partition.shape)\n",
    "display(loaded_df_all_partition.head())"
   ]
  },
  {
   "cell_type": "markdown",
   "id": "f0fb94c3",
   "metadata": {},
   "source": [
    "And all the data is there! If we'd wanted to, though, we could have loaded data from just one partition:"
   ]
  },
  {
   "cell_type": "code",
   "execution_count": 32,
   "id": "c0862b19",
   "metadata": {},
   "outputs": [
    {
     "data": {
      "text/plain": [
       "(132881, 19)"
      ]
     },
     "metadata": {},
     "output_type": "display_data"
    },
    {
     "data": {
      "text/html": [
       "<div><style>\n",
       ".dataframe > thead > tr,\n",
       ".dataframe > tbody > tr {\n",
       "  text-align: right;\n",
       "  white-space: pre-wrap;\n",
       "}\n",
       "</style>\n",
       "<small>shape: (5, 19)</small><table border=\"1\" class=\"dataframe\"><thead><tr><th>vendor_id</th><th>tpep_pickup_datetime</th><th>tpep_dropoff_datetime</th><th>passenger_count</th><th>trip_distance</th><th>ratecode_id</th><th>store_and_fwd_flag</th><th>pu_location_id</th><th>do_location_id</th><th>payment_type</th><th>fare_amount</th><th>extra</th><th>mta_tax</th><th>tip_amount</th><th>tolls_amount</th><th>improvement_surcharge</th><th>total_amount</th><th>congestion_surcharge</th><th>airport_fee</th></tr><tr><td>i32</td><td>datetime[ns]</td><td>datetime[ns]</td><td>i64</td><td>f64</td><td>i64</td><td>str</td><td>i32</td><td>i32</td><td>i64</td><td>f64</td><td>f64</td><td>f64</td><td>f64</td><td>f64</td><td>f64</td><td>f64</td><td>f64</td><td>f64</td></tr></thead><tbody><tr><td>2</td><td>2024-03-06 00:08:24</td><td>2024-03-06 00:14:45</td><td>null</td><td>2.59</td><td>null</td><td>null</td><td>140</td><td>224</td><td>0</td><td>11.87</td><td>0.0</td><td>0.5</td><td>3.17</td><td>0.0</td><td>1.0</td><td>19.04</td><td>null</td><td>null</td></tr><tr><td>1</td><td>2024-03-06 00:17:43</td><td>2024-03-06 00:32:26</td><td>null</td><td>4.1</td><td>null</td><td>null</td><td>234</td><td>262</td><td>0</td><td>20.09</td><td>0.0</td><td>0.5</td><td>0.0</td><td>0.0</td><td>1.0</td><td>24.09</td><td>null</td><td>null</td></tr><tr><td>2</td><td>2024-03-06 00:40:33</td><td>2024-03-06 00:54:56</td><td>null</td><td>6.84</td><td>null</td><td>null</td><td>137</td><td>40</td><td>0</td><td>24.13</td><td>0.0</td><td>0.5</td><td>4.43</td><td>0.0</td><td>1.0</td><td>32.56</td><td>null</td><td>null</td></tr><tr><td>2</td><td>2024-03-06 00:16:10</td><td>2024-03-06 00:24:43</td><td>null</td><td>4.52</td><td>null</td><td>null</td><td>137</td><td>88</td><td>0</td><td>16.54</td><td>0.0</td><td>0.5</td><td>3.06</td><td>0.0</td><td>1.0</td><td>23.6</td><td>null</td><td>null</td></tr><tr><td>2</td><td>2024-03-06 00:49:08</td><td>2024-03-06 00:57:56</td><td>null</td><td>1.91</td><td>null</td><td>null</td><td>230</td><td>246</td><td>0</td><td>11.56</td><td>0.0</td><td>0.5</td><td>0.0</td><td>0.0</td><td>1.0</td><td>15.56</td><td>null</td><td>null</td></tr></tbody></table></div>"
      ],
      "text/plain": [
       "shape: (5, 19)\n",
       "┌───────────┬───────────┬───────────┬───────────┬───┬───────────┬───────────┬───────────┬──────────┐\n",
       "│ vendor_id ┆ tpep_pick ┆ tpep_drop ┆ passenger ┆ … ┆ improveme ┆ total_amo ┆ congestio ┆ airport_ │\n",
       "│ ---       ┆ up_dateti ┆ off_datet ┆ _count    ┆   ┆ nt_surcha ┆ unt       ┆ n_surchar ┆ fee      │\n",
       "│ i32       ┆ me        ┆ ime       ┆ ---       ┆   ┆ rge       ┆ ---       ┆ ge        ┆ ---      │\n",
       "│           ┆ ---       ┆ ---       ┆ i64       ┆   ┆ ---       ┆ f64       ┆ ---       ┆ f64      │\n",
       "│           ┆ datetime[ ┆ datetime[ ┆           ┆   ┆ f64       ┆           ┆ f64       ┆          │\n",
       "│           ┆ ns]       ┆ ns]       ┆           ┆   ┆           ┆           ┆           ┆          │\n",
       "╞═══════════╪═══════════╪═══════════╪═══════════╪═══╪═══════════╪═══════════╪═══════════╪══════════╡\n",
       "│ 2         ┆ 2024-03-0 ┆ 2024-03-0 ┆ null      ┆ … ┆ 1.0       ┆ 19.04     ┆ null      ┆ null     │\n",
       "│           ┆ 6         ┆ 6         ┆           ┆   ┆           ┆           ┆           ┆          │\n",
       "│           ┆ 00:08:24  ┆ 00:14:45  ┆           ┆   ┆           ┆           ┆           ┆          │\n",
       "│ 1         ┆ 2024-03-0 ┆ 2024-03-0 ┆ null      ┆ … ┆ 1.0       ┆ 24.09     ┆ null      ┆ null     │\n",
       "│           ┆ 6         ┆ 6         ┆           ┆   ┆           ┆           ┆           ┆          │\n",
       "│           ┆ 00:17:43  ┆ 00:32:26  ┆           ┆   ┆           ┆           ┆           ┆          │\n",
       "│ 2         ┆ 2024-03-0 ┆ 2024-03-0 ┆ null      ┆ … ┆ 1.0       ┆ 32.56     ┆ null      ┆ null     │\n",
       "│           ┆ 6         ┆ 6         ┆           ┆   ┆           ┆           ┆           ┆          │\n",
       "│           ┆ 00:40:33  ┆ 00:54:56  ┆           ┆   ┆           ┆           ┆           ┆          │\n",
       "│ 2         ┆ 2024-03-0 ┆ 2024-03-0 ┆ null      ┆ … ┆ 1.0       ┆ 23.6      ┆ null      ┆ null     │\n",
       "│           ┆ 6         ┆ 6         ┆           ┆   ┆           ┆           ┆           ┆          │\n",
       "│           ┆ 00:16:10  ┆ 00:24:43  ┆           ┆   ┆           ┆           ┆           ┆          │\n",
       "│ 2         ┆ 2024-03-0 ┆ 2024-03-0 ┆ null      ┆ … ┆ 1.0       ┆ 15.56     ┆ null      ┆ null     │\n",
       "│           ┆ 6         ┆ 6         ┆           ┆   ┆           ┆           ┆           ┆          │\n",
       "│           ┆ 00:49:08  ┆ 00:57:56  ┆           ┆   ┆           ┆           ┆           ┆          │\n",
       "└───────────┴───────────┴───────────┴───────────┴───┴───────────┴───────────┴───────────┴──────────┘"
      ]
     },
     "metadata": {},
     "output_type": "display_data"
    }
   ],
   "source": [
    "loaded_df_one_partition = pl.read_parquet(\n",
    "    \"../data/partitioned_march_rides_2/tpep_pickup_date=2024-03-06/\",\n",
    "    use_pyarrow=True,\n",
    ")\n",
    "display(loaded_df_one_partition.shape)\n",
    "display(loaded_df_one_partition.head())"
   ]
  },
  {
   "cell_type": "markdown",
   "id": "b0a3814d",
   "metadata": {},
   "source": [
    "#### Notes on other IO options"
   ]
  },
  {
   "cell_type": "markdown",
   "id": "f980ff07",
   "metadata": {},
   "source": [
    "`polars` enables you to read from and write to still more file formats and locations than what we've gone through here, including, but not limited to, avro files, arbitrary database connections, Delta lake, and Apache Iceberg. Some of those can be read from, some of those can be scanned from (i.e. Lazy mode), while most of them can be both read and scanned from."
   ]
  },
  {
   "cell_type": "markdown",
   "id": "78b702ed",
   "metadata": {},
   "source": [
    "# Conclusion"
   ]
  },
  {
   "cell_type": "markdown",
   "id": "5833196e",
   "metadata": {},
   "source": [
    "In this module, we've learned how to perform interoperation between `polars`, `numpy`, and `pandas`, as well as with built in Python objects like lists and dicts. We've also broadened our options for reading and writing data."
   ]
  }
 ],
 "metadata": {
  "kernelspec": {
   "display_name": "polars",
   "language": "python",
   "name": "python3"
  },
  "language_info": {
   "codemirror_mode": {
    "name": "ipython",
    "version": 3
   },
   "file_extension": ".py",
   "mimetype": "text/x-python",
   "name": "python",
   "nbconvert_exporter": "python",
   "pygments_lexer": "ipython3",
   "version": "3.10.14"
  }
 },
 "nbformat": 4,
 "nbformat_minor": 5
}
